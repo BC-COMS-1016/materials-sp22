{
 "cells": [
  {
   "cell_type": "code",
   "execution_count": 2,
   "metadata": {},
   "outputs": [],
   "source": [
    "import numpy as np\n",
    "from datascience import *"
   ]
  },
  {
   "cell_type": "markdown",
   "metadata": {},
   "source": [
    "# Group"
   ]
  },
  {
   "cell_type": "code",
   "execution_count": 3,
   "metadata": {},
   "outputs": [
    {
     "data": {
      "text/html": [
       "<table border=\"1\" class=\"dataframe\">\n",
       "    <thead>\n",
       "        <tr>\n",
       "            <th>name</th> <th>material</th> <th>city</th> <th>height</th> <th>age</th>\n",
       "        </tr>\n",
       "    </thead>\n",
       "    <tbody>\n",
       "        <tr>\n",
       "            <td>One World Trade Center</td> <td>mixed/composite</td> <td>New York City</td> <td>541.3 </td> <td>6   </td>\n",
       "        </tr>\n",
       "        <tr>\n",
       "            <td>Willis Tower          </td> <td>steel          </td> <td>Chicago      </td> <td>442.14</td> <td>46  </td>\n",
       "        </tr>\n",
       "        <tr>\n",
       "            <td>432 Park Avenue       </td> <td>concrete       </td> <td>New York City</td> <td>425.5 </td> <td>5   </td>\n",
       "        </tr>\n",
       "    </tbody>\n",
       "</table>\n",
       "<p>... (1778 rows omitted)</p>"
      ],
      "text/plain": [
       "<IPython.core.display.HTML object>"
      ]
     },
     "metadata": {},
     "output_type": "display_data"
    }
   ],
   "source": [
    "sky = Table.read_table('skyscrapers_v2.csv')\n",
    "sky = (sky.with_column('age', 2020 - sky.column('completed'))\n",
    "          .drop('completed'))\n",
    "sky.show(3)"
   ]
  },
  {
   "cell_type": "code",
   "execution_count": 6,
   "metadata": {},
   "outputs": [],
   "source": [
    "#### 1. How many towers are in each city?\n"
   ]
  },
  {
   "cell_type": "code",
   "execution_count": null,
   "metadata": {},
   "outputs": [],
   "source": [
    "# skip"
   ]
  },
  {
   "cell_type": "code",
   "execution_count": null,
   "metadata": {},
   "outputs": [],
   "source": [
    "#skip"
   ]
  },
  {
   "cell_type": "code",
   "execution_count": null,
   "metadata": {},
   "outputs": [],
   "source": [
    "# skip"
   ]
  },
  {
   "cell_type": "code",
   "execution_count": null,
   "metadata": {},
   "outputs": [],
   "source": [
    "# skip"
   ]
  },
  {
   "cell_type": "code",
   "execution_count": null,
   "metadata": {},
   "outputs": [],
   "source": [
    "# skip"
   ]
  },
  {
   "cell_type": "code",
   "execution_count": null,
   "metadata": {},
   "outputs": [],
   "source": [
    "# skip"
   ]
  },
  {
   "cell_type": "code",
   "execution_count": null,
   "metadata": {},
   "outputs": [],
   "source": [
    "# skip"
   ]
  },
  {
   "cell_type": "code",
   "execution_count": 7,
   "metadata": {},
   "outputs": [
    {
     "data": {
      "text/html": [
       "<table border=\"1\" class=\"dataframe\">\n",
       "    <thead>\n",
       "        <tr>\n",
       "            <th>city</th> <th>count</th>\n",
       "        </tr>\n",
       "    </thead>\n",
       "    <tbody>\n",
       "        <tr>\n",
       "            <td>Atlanta   </td> <td>38   </td>\n",
       "        </tr>\n",
       "        <tr>\n",
       "            <td>Austin    </td> <td>17   </td>\n",
       "        </tr>\n",
       "        <tr>\n",
       "            <td>Baltimore </td> <td>14   </td>\n",
       "        </tr>\n",
       "        <tr>\n",
       "            <td>Boston    </td> <td>32   </td>\n",
       "        </tr>\n",
       "        <tr>\n",
       "            <td>Charlotte </td> <td>12   </td>\n",
       "        </tr>\n",
       "        <tr>\n",
       "            <td>Chicago   </td> <td>358  </td>\n",
       "        </tr>\n",
       "        <tr>\n",
       "            <td>Cincinnati</td> <td>13   </td>\n",
       "        </tr>\n",
       "        <tr>\n",
       "            <td>Cleveland </td> <td>16   </td>\n",
       "        </tr>\n",
       "        <tr>\n",
       "            <td>Columbus  </td> <td>13   </td>\n",
       "        </tr>\n",
       "        <tr>\n",
       "            <td>Dallas    </td> <td>20   </td>\n",
       "        </tr>\n",
       "    </tbody>\n",
       "</table>\n",
       "<p>... (25 rows omitted)</p>"
      ],
      "text/plain": [
       "city       | count\n",
       "Atlanta    | 38\n",
       "Austin     | 17\n",
       "Baltimore  | 14\n",
       "Boston     | 32\n",
       "Charlotte  | 12\n",
       "Chicago    | 358\n",
       "Cincinnati | 13\n",
       "Cleveland  | 16\n",
       "Columbus   | 13\n",
       "Dallas     | 20\n",
       "... (25 rows omitted)"
      ]
     },
     "execution_count": 7,
     "metadata": {},
     "output_type": "execute_result"
    }
   ],
   "source": [
    "sky.group('city')"
   ]
  },
  {
   "cell_type": "markdown",
   "metadata": {},
   "source": [
    "#### 2. For each city, what’s the tallest building?"
   ]
  },
  {
   "cell_type": "code",
   "execution_count": null,
   "metadata": {},
   "outputs": [],
   "source": [
    "# skip"
   ]
  },
  {
   "cell_type": "code",
   "execution_count": null,
   "metadata": {},
   "outputs": [],
   "source": [
    "#skip"
   ]
  },
  {
   "cell_type": "code",
   "execution_count": null,
   "metadata": {},
   "outputs": [],
   "source": [
    "#skip"
   ]
  },
  {
   "cell_type": "code",
   "execution_count": null,
   "metadata": {},
   "outputs": [],
   "source": [
    "#skip"
   ]
  },
  {
   "cell_type": "code",
   "execution_count": null,
   "metadata": {},
   "outputs": [],
   "source": [
    "#skip"
   ]
  },
  {
   "cell_type": "code",
   "execution_count": null,
   "metadata": {},
   "outputs": [],
   "source": [
    "#skip"
   ]
  },
  {
   "cell_type": "code",
   "execution_count": 8,
   "metadata": {},
   "outputs": [
    {
     "data": {
      "text/html": [
       "<table border=\"1\" class=\"dataframe\">\n",
       "    <thead>\n",
       "        <tr>\n",
       "            <th>city</th> <th>name max</th> <th>material max</th> <th>height max</th> <th>age max</th>\n",
       "        </tr>\n",
       "    </thead>\n",
       "    <tbody>\n",
       "        <tr>\n",
       "            <td>Atlanta   </td> <td>Westin Peachtree Plaza                 </td> <td>steel       </td> <td>311.8     </td> <td>123    </td>\n",
       "        </tr>\n",
       "        <tr>\n",
       "            <td>Austin    </td> <td>Windsor on the Lake                    </td> <td>steel       </td> <td>208.15    </td> <td>83     </td>\n",
       "        </tr>\n",
       "        <tr>\n",
       "            <td>Baltimore </td> <td>The John and Frances Angelos Law Center</td> <td>steel       </td> <td>161.24    </td> <td>109    </td>\n",
       "        </tr>\n",
       "        <tr>\n",
       "            <td>Boston    </td> <td>Two International Place                </td> <td>steel       </td> <td>240.79    </td> <td>105    </td>\n",
       "        </tr>\n",
       "        <tr>\n",
       "            <td>Charlotte </td> <td>TradeMark                              </td> <td>steel       </td> <td>265.48    </td> <td>96     </td>\n",
       "        </tr>\n",
       "        <tr>\n",
       "            <td>Chicago   </td> <td>theWit Hotel                           </td> <td>steel       </td> <td>442.14    </td> <td>132    </td>\n",
       "        </tr>\n",
       "        <tr>\n",
       "            <td>Cincinnati</td> <td>Scripps Center                         </td> <td>steel       </td> <td>202.69    </td> <td>107    </td>\n",
       "        </tr>\n",
       "        <tr>\n",
       "            <td>Cleveland </td> <td>Tower at Erieview                      </td> <td>steel       </td> <td>288.65    </td> <td>96     </td>\n",
       "        </tr>\n",
       "        <tr>\n",
       "            <td>Columbus  </td> <td>William Green Building                 </td> <td>steel       </td> <td>169.3     </td> <td>93     </td>\n",
       "        </tr>\n",
       "        <tr>\n",
       "            <td>Dallas    </td> <td>W Dallas Victory Hotel & Residences    </td> <td>steel       </td> <td>280.72    </td> <td>92     </td>\n",
       "        </tr>\n",
       "    </tbody>\n",
       "</table>\n",
       "<p>... (25 rows omitted)</p>"
      ],
      "text/plain": [
       "city       | name max                                | material max | height max | age max\n",
       "Atlanta    | Westin Peachtree Plaza                  | steel        | 311.8      | 123\n",
       "Austin     | Windsor on the Lake                     | steel        | 208.15     | 83\n",
       "Baltimore  | The John and Frances Angelos Law Center | steel        | 161.24     | 109\n",
       "Boston     | Two International Place                 | steel        | 240.79     | 105\n",
       "Charlotte  | TradeMark                               | steel        | 265.48     | 96\n",
       "Chicago    | theWit Hotel                            | steel        | 442.14     | 132\n",
       "Cincinnati | Scripps Center                          | steel        | 202.69     | 107\n",
       "Cleveland  | Tower at Erieview                       | steel        | 288.65     | 96\n",
       "Columbus   | William Green Building                  | steel        | 169.3      | 93\n",
       "Dallas     | W Dallas Victory Hotel & Residences     | steel        | 280.72     | 92\n",
       "... (25 rows omitted)"
      ]
     },
     "execution_count": 8,
     "metadata": {},
     "output_type": "execute_result"
    }
   ],
   "source": [
    "#skip\n",
    "sky.group('city', max)"
   ]
  },
  {
   "cell_type": "markdown",
   "metadata": {},
   "source": [
    "#### 3. For each city, what’s the tallest building for each material?\n",
    "(back to slides after asking this question)"
   ]
  },
  {
   "cell_type": "code",
   "execution_count": null,
   "metadata": {},
   "outputs": [],
   "source": [
    "# skip"
   ]
  },
  {
   "cell_type": "code",
   "execution_count": null,
   "metadata": {},
   "outputs": [],
   "source": [
    "# skip"
   ]
  },
  {
   "cell_type": "code",
   "execution_count": null,
   "metadata": {},
   "outputs": [],
   "source": [
    "#skip"
   ]
  },
  {
   "cell_type": "code",
   "execution_count": null,
   "metadata": {},
   "outputs": [],
   "source": [
    "# skip"
   ]
  },
  {
   "cell_type": "code",
   "execution_count": null,
   "metadata": {},
   "outputs": [],
   "source": [
    "# skip"
   ]
  },
  {
   "cell_type": "code",
   "execution_count": null,
   "metadata": {},
   "outputs": [],
   "source": [
    "# skip"
   ]
  },
  {
   "cell_type": "code",
   "execution_count": 13,
   "metadata": {},
   "outputs": [
    {
     "data": {
      "text/html": [
       "<table border=\"1\" class=\"dataframe\">\n",
       "    <thead>\n",
       "        <tr>\n",
       "            <th>city</th> <th>material</th> <th>name max</th> <th>height max</th> <th>age max</th>\n",
       "        </tr>\n",
       "    </thead>\n",
       "    <tbody>\n",
       "        <tr>\n",
       "            <td>Atlanta  </td> <td>concrete       </td> <td>Westin Peachtree Plaza                 </td> <td>264.25    </td> <td>44     </td>\n",
       "        </tr>\n",
       "        <tr>\n",
       "            <td>Atlanta  </td> <td>mixed/composite</td> <td>Two Alliance Center                    </td> <td>311.8     </td> <td>33     </td>\n",
       "        </tr>\n",
       "        <tr>\n",
       "            <td>Atlanta  </td> <td>steel          </td> <td>State of Georgia Building              </td> <td>169.47    </td> <td>123    </td>\n",
       "        </tr>\n",
       "        <tr>\n",
       "            <td>Austin   </td> <td>concrete       </td> <td>Windsor on the Lake                    </td> <td>208.15    </td> <td>36     </td>\n",
       "        </tr>\n",
       "        <tr>\n",
       "            <td>Austin   </td> <td>steel          </td> <td>University of Texas Tower              </td> <td>93.6      </td> <td>83     </td>\n",
       "        </tr>\n",
       "        <tr>\n",
       "            <td>Baltimore</td> <td>concrete       </td> <td>The John and Frances Angelos Law Center</td> <td>161.24    </td> <td>53     </td>\n",
       "        </tr>\n",
       "        <tr>\n",
       "            <td>Baltimore</td> <td>steel          </td> <td>Mercy Medical Center Inpatient Tower   </td> <td>155.15    </td> <td>109    </td>\n",
       "        </tr>\n",
       "        <tr>\n",
       "            <td>Boston   </td> <td>concrete       </td> <td>Harbor Towers II                       </td> <td>121.92    </td> <td>49     </td>\n",
       "        </tr>\n",
       "        <tr>\n",
       "            <td>Boston   </td> <td>mixed/composite</td> <td>Ellison Building                       </td> <td>139       </td> <td>28     </td>\n",
       "        </tr>\n",
       "        <tr>\n",
       "            <td>Boston   </td> <td>steel          </td> <td>Two International Place                </td> <td>240.79    </td> <td>105    </td>\n",
       "        </tr>\n",
       "    </tbody>\n",
       "</table>\n",
       "<p>... (81 rows omitted)</p>"
      ],
      "text/plain": [
       "city      | material        | name max                                | height max | age max\n",
       "Atlanta   | concrete        | Westin Peachtree Plaza                  | 264.25     | 44\n",
       "Atlanta   | mixed/composite | Two Alliance Center                     | 311.8      | 33\n",
       "Atlanta   | steel           | State of Georgia Building               | 169.47     | 123\n",
       "Austin    | concrete        | Windsor on the Lake                     | 208.15     | 36\n",
       "Austin    | steel           | University of Texas Tower               | 93.6       | 83\n",
       "Baltimore | concrete        | The John and Frances Angelos Law Center | 161.24     | 53\n",
       "Baltimore | steel           | Mercy Medical Center Inpatient Tower    | 155.15     | 109\n",
       "Boston    | concrete        | Harbor Towers II                        | 121.92     | 49\n",
       "Boston    | mixed/composite | Ellison Building                        | 139        | 28\n",
       "Boston    | steel           | Two International Place                 | 240.79     | 105\n",
       "... (81 rows omitted)"
      ]
     },
     "execution_count": 13,
     "metadata": {},
     "output_type": "execute_result"
    }
   ],
   "source": [
    "sky.group(['city', 'material'], max)"
   ]
  },
  {
   "cell_type": "markdown",
   "metadata": {},
   "source": [
    "#### 4. For each city, whats the combined hiehgt of all the buildings?\n"
   ]
  },
  {
   "cell_type": "code",
   "execution_count": null,
   "metadata": {},
   "outputs": [],
   "source": [
    "# skip"
   ]
  },
  {
   "cell_type": "code",
   "execution_count": null,
   "metadata": {},
   "outputs": [],
   "source": []
  },
  {
   "cell_type": "code",
   "execution_count": null,
   "metadata": {},
   "outputs": [],
   "source": []
  },
  {
   "cell_type": "code",
   "execution_count": null,
   "metadata": {},
   "outputs": [],
   "source": []
  },
  {
   "cell_type": "code",
   "execution_count": null,
   "metadata": {},
   "outputs": [],
   "source": []
  },
  {
   "cell_type": "code",
   "execution_count": null,
   "metadata": {},
   "outputs": [],
   "source": []
  },
  {
   "cell_type": "code",
   "execution_count": 12,
   "metadata": {},
   "outputs": [],
   "source": [
    "#### 4. For each city, whats the combined hiehgt of all the buildings for the different materials?\n"
   ]
  },
  {
   "cell_type": "code",
   "execution_count": null,
   "metadata": {},
   "outputs": [],
   "source": [
    "# skip"
   ]
  },
  {
   "cell_type": "code",
   "execution_count": null,
   "metadata": {},
   "outputs": [],
   "source": []
  },
  {
   "cell_type": "code",
   "execution_count": null,
   "metadata": {},
   "outputs": [],
   "source": []
  },
  {
   "cell_type": "code",
   "execution_count": null,
   "metadata": {},
   "outputs": [],
   "source": []
  },
  {
   "cell_type": "code",
   "execution_count": null,
   "metadata": {},
   "outputs": [],
   "source": []
  },
  {
   "cell_type": "code",
   "execution_count": null,
   "metadata": {},
   "outputs": [],
   "source": []
  },
  {
   "cell_type": "code",
   "execution_count": null,
   "metadata": {},
   "outputs": [],
   "source": []
  },
  {
   "cell_type": "code",
   "execution_count": null,
   "metadata": {},
   "outputs": [],
   "source": []
  },
  {
   "cell_type": "code",
   "execution_count": 5,
   "metadata": {},
   "outputs": [
    {
     "name": "stderr",
     "output_type": "stream",
     "text": [
      "/opt/conda/lib/python3.8/site-packages/datascience/tables.py:920: VisibleDeprecationWarning: Creating an ndarray from ragged nested sequences (which is a list-or-tuple of lists-or-tuples-or ndarrays with different lengths or shapes) is deprecated. If you meant to do this, you must specify 'dtype=object' when creating the ndarray.\n",
      "  values = np.array(tuple(values))\n"
     ]
    },
    {
     "data": {
      "text/html": [
       "<table border=\"1\" class=\"dataframe\">\n",
       "    <thead>\n",
       "        <tr>\n",
       "            <th>city</th> <th>material</th> <th>name max</th> <th>height max</th>\n",
       "        </tr>\n",
       "    </thead>\n",
       "    <tbody>\n",
       "        <tr>\n",
       "            <td>Atlanta  </td> <td>concrete       </td> <td>Westin Peachtree Plaza                 </td> <td>264.25    </td>\n",
       "        </tr>\n",
       "        <tr>\n",
       "            <td>Atlanta  </td> <td>mixed/composite</td> <td>Two Alliance Center                    </td> <td>311.8     </td>\n",
       "        </tr>\n",
       "        <tr>\n",
       "            <td>Atlanta  </td> <td>steel          </td> <td>State of Georgia Building              </td> <td>169.47    </td>\n",
       "        </tr>\n",
       "        <tr>\n",
       "            <td>Austin   </td> <td>concrete       </td> <td>Windsor on the Lake                    </td> <td>208.15    </td>\n",
       "        </tr>\n",
       "        <tr>\n",
       "            <td>Austin   </td> <td>steel          </td> <td>University of Texas Tower              </td> <td>93.6      </td>\n",
       "        </tr>\n",
       "        <tr>\n",
       "            <td>Baltimore</td> <td>concrete       </td> <td>The John and Frances Angelos Law Center</td> <td>161.24    </td>\n",
       "        </tr>\n",
       "        <tr>\n",
       "            <td>Baltimore</td> <td>steel          </td> <td>Mercy Medical Center Inpatient Tower   </td> <td>155.15    </td>\n",
       "        </tr>\n",
       "        <tr>\n",
       "            <td>Boston   </td> <td>concrete       </td> <td>Harbor Towers II                       </td> <td>121.92    </td>\n",
       "        </tr>\n",
       "        <tr>\n",
       "            <td>Boston   </td> <td>mixed/composite</td> <td>Ellison Building                       </td> <td>139       </td>\n",
       "        </tr>\n",
       "        <tr>\n",
       "            <td>Boston   </td> <td>steel          </td> <td>Two International Place                </td> <td>240.79    </td>\n",
       "        </tr>\n",
       "    </tbody>\n",
       "</table>\n",
       "<p>... (81 rows omitted)</p>"
      ],
      "text/plain": [
       "city      | material        | name max                                | height max\n",
       "Atlanta   | concrete        | Westin Peachtree Plaza                  | 264.25\n",
       "Atlanta   | mixed/composite | Two Alliance Center                     | 311.8\n",
       "Atlanta   | steel           | State of Georgia Building               | 169.47\n",
       "Austin    | concrete        | Windsor on the Lake                     | 208.15\n",
       "Austin    | steel           | University of Texas Tower               | 93.6\n",
       "Baltimore | concrete        | The John and Frances Angelos Law Center | 161.24\n",
       "Baltimore | steel           | Mercy Medical Center Inpatient Tower    | 155.15\n",
       "Boston    | concrete        | Harbor Towers II                        | 121.92\n",
       "Boston    | mixed/composite | Ellison Building                        | 139\n",
       "Boston    | steel           | Two International Place                 | 240.79\n",
       "... (81 rows omitted)"
      ]
     },
     "execution_count": 5,
     "metadata": {},
     "output_type": "execute_result"
    }
   ],
   "source": [
    "sky.drop('age').group(['city', 'material'], max)"
   ]
  },
  {
   "cell_type": "code",
   "execution_count": 10,
   "metadata": {},
   "outputs": [
    {
     "data": {
      "text/html": [
       "<table border=\"1\" class=\"dataframe\">\n",
       "    <thead>\n",
       "        <tr>\n",
       "            <th>city</th> <th>material</th> <th>name sum</th> <th>height sum</th>\n",
       "        </tr>\n",
       "    </thead>\n",
       "    <tbody>\n",
       "        <tr>\n",
       "            <td>Atlanta  </td> <td>concrete       </td> <td>        </td> <td>4016.93   </td>\n",
       "        </tr>\n",
       "        <tr>\n",
       "            <td>Atlanta  </td> <td>mixed/composite</td> <td>        </td> <td>916.96    </td>\n",
       "        </tr>\n",
       "        <tr>\n",
       "            <td>Atlanta  </td> <td>steel          </td> <td>        </td> <td>786.9     </td>\n",
       "        </tr>\n",
       "        <tr>\n",
       "            <td>Austin   </td> <td>concrete       </td> <td>        </td> <td>2043.43   </td>\n",
       "        </tr>\n",
       "        <tr>\n",
       "            <td>Austin   </td> <td>steel          </td> <td>        </td> <td>93.6      </td>\n",
       "        </tr>\n",
       "        <tr>\n",
       "            <td>Baltimore</td> <td>concrete       </td> <td>        </td> <td>902.66    </td>\n",
       "        </tr>\n",
       "        <tr>\n",
       "            <td>Baltimore</td> <td>steel          </td> <td>        </td> <td>665.12    </td>\n",
       "        </tr>\n",
       "        <tr>\n",
       "            <td>Boston   </td> <td>concrete       </td> <td>        </td> <td>423.06    </td>\n",
       "        </tr>\n",
       "        <tr>\n",
       "            <td>Boston   </td> <td>mixed/composite</td> <td>        </td> <td>243.2     </td>\n",
       "        </tr>\n",
       "        <tr>\n",
       "            <td>Boston   </td> <td>steel          </td> <td>        </td> <td>3728.53   </td>\n",
       "        </tr>\n",
       "    </tbody>\n",
       "</table>\n",
       "<p>... (81 rows omitted)</p>"
      ],
      "text/plain": [
       "city      | material        | name sum | height sum\n",
       "Atlanta   | concrete        |          | 4016.93\n",
       "Atlanta   | mixed/composite |          | 916.96\n",
       "Atlanta   | steel           |          | 786.9\n",
       "Austin    | concrete        |          | 2043.43\n",
       "Austin    | steel           |          | 93.6\n",
       "Baltimore | concrete        |          | 902.66\n",
       "Baltimore | steel           |          | 665.12\n",
       "Boston    | concrete        |          | 423.06\n",
       "Boston    | mixed/composite |          | 243.2\n",
       "Boston    | steel           |          | 3728.53\n",
       "... (81 rows omitted)"
      ]
     },
     "execution_count": 10,
     "metadata": {},
     "output_type": "execute_result"
    }
   ],
   "source": [
    "sky.drop('age').group(['city', 'material'], sum)"
   ]
  },
  {
   "cell_type": "markdown",
   "metadata": {},
   "source": [
    "(back to slides)\n",
    "# Pivot"
   ]
  },
  {
   "cell_type": "code",
   "execution_count": 2,
   "metadata": {},
   "outputs": [
    {
     "data": {
      "text/html": [
       "<table border=\"1\" class=\"dataframe\">\n",
       "    <thead>\n",
       "        <tr>\n",
       "            <th>name</th> <th>material</th> <th>city</th>\n",
       "        </tr>\n",
       "    </thead>\n",
       "    <tbody>\n",
       "        <tr>\n",
       "            <td>Willis Tower                     </td> <td>steel          </td> <td>Chicago    </td>\n",
       "        </tr>\n",
       "        <tr>\n",
       "            <td>Trump International Hotel & Tower</td> <td>concrete       </td> <td>Chicago    </td>\n",
       "        </tr>\n",
       "        <tr>\n",
       "            <td>Aon Center                       </td> <td>steel          </td> <td>Chicago    </td>\n",
       "        </tr>\n",
       "        <tr>\n",
       "            <td>John Hancock Center              </td> <td>steel          </td> <td>Chicago    </td>\n",
       "        </tr>\n",
       "        <tr>\n",
       "            <td>Bank of America Plaza            </td> <td>mixed/composite</td> <td>Atlanta    </td>\n",
       "        </tr>\n",
       "        <tr>\n",
       "            <td>U.S. Bank Tower                  </td> <td>steel          </td> <td>Los Angeles</td>\n",
       "        </tr>\n",
       "        <tr>\n",
       "            <td>The Franklin - North Tower       </td> <td>mixed/composite</td> <td>Chicago    </td>\n",
       "        </tr>\n",
       "        <tr>\n",
       "            <td>JPMorgan Chase Tower             </td> <td>mixed/composite</td> <td>Houston    </td>\n",
       "        </tr>\n",
       "        <tr>\n",
       "            <td>Two Prudential Plaza             </td> <td>concrete       </td> <td>Chicago    </td>\n",
       "        </tr>\n",
       "        <tr>\n",
       "            <td>Wells Fargo Plaza                </td> <td>steel          </td> <td>Houston    </td>\n",
       "        </tr>\n",
       "    </tbody>\n",
       "</table>\n",
       "<p>... (1196 rows omitted)</p>"
      ],
      "text/plain": [
       "<IPython.core.display.HTML object>"
      ]
     },
     "metadata": {},
     "output_type": "display_data"
    }
   ],
   "source": [
    "sky = Table.read_table('skyscrapers_v2.csv')\n",
    "sky = (sky.with_column('age', 2020 - sky.column('completed'))\n",
    "          .drop('completed'))\n",
    "sky.drop('height', 'age').where('city', are.not_equal_to('New York City')).where('city', are.not_equal_to('Las Vegas')).show(10)"
   ]
  },
  {
   "cell_type": "markdown",
   "metadata": {},
   "source": [
    "#### 1. In every city, how many towers are there of each material?"
   ]
  },
  {
   "cell_type": "code",
   "execution_count": 14,
   "metadata": {},
   "outputs": [
    {
     "data": {
      "text/html": [
       "<table border=\"1\" class=\"dataframe\">\n",
       "    <thead>\n",
       "        <tr>\n",
       "            <th>city</th> <th>concrete</th> <th>mixed/composite</th> <th>steel</th>\n",
       "        </tr>\n",
       "    </thead>\n",
       "    <tbody>\n",
       "        <tr>\n",
       "            <td>Atlanta   </td> <td>27      </td> <td>4              </td> <td>7    </td>\n",
       "        </tr>\n",
       "        <tr>\n",
       "            <td>Austin    </td> <td>16      </td> <td>0              </td> <td>1    </td>\n",
       "        </tr>\n",
       "        <tr>\n",
       "            <td>Baltimore </td> <td>8       </td> <td>0              </td> <td>6    </td>\n",
       "        </tr>\n",
       "        <tr>\n",
       "            <td>Boston    </td> <td>4       </td> <td>2              </td> <td>26   </td>\n",
       "        </tr>\n",
       "        <tr>\n",
       "            <td>Charlotte </td> <td>5       </td> <td>3              </td> <td>4    </td>\n",
       "        </tr>\n",
       "        <tr>\n",
       "            <td>Chicago   </td> <td>244     </td> <td>35             </td> <td>79   </td>\n",
       "        </tr>\n",
       "        <tr>\n",
       "            <td>Cincinnati</td> <td>5       </td> <td>1              </td> <td>7    </td>\n",
       "        </tr>\n",
       "        <tr>\n",
       "            <td>Cleveland </td> <td>2       </td> <td>3              </td> <td>11   </td>\n",
       "        </tr>\n",
       "        <tr>\n",
       "            <td>Columbus  </td> <td>4       </td> <td>0              </td> <td>9    </td>\n",
       "        </tr>\n",
       "        <tr>\n",
       "            <td>Dallas    </td> <td>7       </td> <td>2              </td> <td>11   </td>\n",
       "        </tr>\n",
       "    </tbody>\n",
       "</table>\n",
       "<p>... (25 rows omitted)</p>"
      ],
      "text/plain": [
       "city       | concrete | mixed/composite | steel\n",
       "Atlanta    | 27       | 4               | 7\n",
       "Austin     | 16       | 0               | 1\n",
       "Baltimore  | 8        | 0               | 6\n",
       "Boston     | 4        | 2               | 26\n",
       "Charlotte  | 5        | 3               | 4\n",
       "Chicago    | 244      | 35              | 79\n",
       "Cincinnati | 5        | 1               | 7\n",
       "Cleveland  | 2        | 3               | 11\n",
       "Columbus   | 4        | 0               | 9\n",
       "Dallas     | 7        | 2               | 11\n",
       "... (25 rows omitted)"
      ]
     },
     "execution_count": 14,
     "metadata": {},
     "output_type": "execute_result"
    }
   ],
   "source": [
    "sky.pivot('material', 'city')"
   ]
  },
  {
   "cell_type": "markdown",
   "metadata": {},
   "source": [
    "#### What just happened?\n",
    "(back to slides)"
   ]
  },
  {
   "cell_type": "code",
   "execution_count": 4,
   "metadata": {},
   "outputs": [
    {
     "name": "stderr",
     "output_type": "stream",
     "text": [
      "/home/jupyter-apoliak@barnard.ed-b8a88/.local/lib/python3.7/site-packages/datascience/tables.py:920: VisibleDeprecationWarning: Creating an ndarray from ragged nested sequences (which is a list-or-tuple of lists-or-tuples-or ndarrays with different lengths or shapes) is deprecated. If you meant to do this, you must specify 'dtype=object' when creating the ndarray\n",
      "  values = np.array(tuple(values))\n"
     ]
    },
    {
     "data": {
      "text/html": [
       "<table border=\"1\" class=\"dataframe\">\n",
       "    <thead>\n",
       "        <tr>\n",
       "            <th>city</th> <th>concrete</th> <th>mixed/composite</th> <th>steel</th>\n",
       "        </tr>\n",
       "    </thead>\n",
       "    <tbody>\n",
       "        <tr>\n",
       "            <td>Atlanta  </td> <td>27      </td> <td>4              </td> <td>7    </td>\n",
       "        </tr>\n",
       "        <tr>\n",
       "            <td>Austin   </td> <td>16      </td> <td>0              </td> <td>1    </td>\n",
       "        </tr>\n",
       "        <tr>\n",
       "            <td>Baltimore</td> <td>8       </td> <td>0              </td> <td>6    </td>\n",
       "        </tr>\n",
       "        <tr>\n",
       "            <td>Boston   </td> <td>4       </td> <td>2              </td> <td>26   </td>\n",
       "        </tr>\n",
       "        <tr>\n",
       "            <td>Charlotte</td> <td>5       </td> <td>3              </td> <td>4    </td>\n",
       "        </tr>\n",
       "    </tbody>\n",
       "</table>\n",
       "<p>... (30 rows omitted)</p>"
      ],
      "text/plain": [
       "<IPython.core.display.HTML object>"
      ]
     },
     "metadata": {},
     "output_type": "display_data"
    }
   ],
   "source": [
    "sky.pivot('material', 'city').show(5)"
   ]
  },
  {
   "cell_type": "code",
   "execution_count": 7,
   "metadata": {},
   "outputs": [
    {
     "name": "stderr",
     "output_type": "stream",
     "text": [
      "/home/jupyter-apoliak@barnard.ed-b8a88/.local/lib/python3.7/site-packages/datascience/tables.py:920: VisibleDeprecationWarning: Creating an ndarray from ragged nested sequences (which is a list-or-tuple of lists-or-tuples-or ndarrays with different lengths or shapes) is deprecated. If you meant to do this, you must specify 'dtype=object' when creating the ndarray\n",
      "  values = np.array(tuple(values))\n"
     ]
    },
    {
     "data": {
      "text/plain": [
       "35"
      ]
     },
     "execution_count": 7,
     "metadata": {},
     "output_type": "execute_result"
    }
   ],
   "source": [
    "sky.pivot('material', 'city').num_rows"
   ]
  },
  {
   "cell_type": "code",
   "execution_count": 9,
   "metadata": {},
   "outputs": [],
   "source": [
    "#sky.pivot('city', 'material').show(5)"
   ]
  },
  {
   "cell_type": "markdown",
   "metadata": {},
   "source": [
    "What happens if you run `group()` with these two columns?\n",
    "\n",
    "*Remember when grouping on multiple columns, we need to pass in a list of column names*"
   ]
  },
  {
   "cell_type": "code",
   "execution_count": 11,
   "metadata": {},
   "outputs": [
    {
     "name": "stderr",
     "output_type": "stream",
     "text": [
      "/home/jupyter-apoliak@barnard.ed-b8a88/.local/lib/python3.7/site-packages/datascience/tables.py:920: VisibleDeprecationWarning: Creating an ndarray from ragged nested sequences (which is a list-or-tuple of lists-or-tuples-or ndarrays with different lengths or shapes) is deprecated. If you meant to do this, you must specify 'dtype=object' when creating the ndarray\n",
      "  values = np.array(tuple(values))\n"
     ]
    },
    {
     "data": {
      "text/html": [
       "<table border=\"1\" class=\"dataframe\">\n",
       "    <thead>\n",
       "        <tr>\n",
       "            <th>city</th> <th>concrete</th> <th>mixed/composite</th> <th>steel</th>\n",
       "        </tr>\n",
       "    </thead>\n",
       "    <tbody>\n",
       "        <tr>\n",
       "            <td>Atlanta  </td> <td>27      </td> <td>4              </td> <td>7    </td>\n",
       "        </tr>\n",
       "        <tr>\n",
       "            <td>Austin   </td> <td>16      </td> <td>0              </td> <td>1    </td>\n",
       "        </tr>\n",
       "        <tr>\n",
       "            <td>Baltimore</td> <td>8       </td> <td>0              </td> <td>6    </td>\n",
       "        </tr>\n",
       "        <tr>\n",
       "            <td>Boston   </td> <td>4       </td> <td>2              </td> <td>26   </td>\n",
       "        </tr>\n",
       "        <tr>\n",
       "            <td>Charlotte</td> <td>5       </td> <td>3              </td> <td>4    </td>\n",
       "        </tr>\n",
       "    </tbody>\n",
       "</table>\n",
       "<p>... (30 rows omitted)</p>"
      ],
      "text/plain": [
       "<IPython.core.display.HTML object>"
      ]
     },
     "metadata": {},
     "output_type": "display_data"
    }
   ],
   "source": [
    "sky.pivot('material', 'city').show(5)"
   ]
  },
  {
   "cell_type": "code",
   "execution_count": 12,
   "metadata": {},
   "outputs": [
    {
     "name": "stderr",
     "output_type": "stream",
     "text": [
      "/home/jupyter-apoliak@barnard.ed-b8a88/.local/lib/python3.7/site-packages/datascience/tables.py:920: VisibleDeprecationWarning: Creating an ndarray from ragged nested sequences (which is a list-or-tuple of lists-or-tuples-or ndarrays with different lengths or shapes) is deprecated. If you meant to do this, you must specify 'dtype=object' when creating the ndarray\n",
      "  values = np.array(tuple(values))\n"
     ]
    },
    {
     "data": {
      "text/html": [
       "<table border=\"1\" class=\"dataframe\">\n",
       "    <thead>\n",
       "        <tr>\n",
       "            <th>material</th> <th>city</th> <th>count</th>\n",
       "        </tr>\n",
       "    </thead>\n",
       "    <tbody>\n",
       "        <tr>\n",
       "            <td>concrete</td> <td>Atlanta  </td> <td>27   </td>\n",
       "        </tr>\n",
       "        <tr>\n",
       "            <td>concrete</td> <td>Austin   </td> <td>16   </td>\n",
       "        </tr>\n",
       "        <tr>\n",
       "            <td>concrete</td> <td>Baltimore</td> <td>8    </td>\n",
       "        </tr>\n",
       "        <tr>\n",
       "            <td>concrete</td> <td>Boston   </td> <td>4    </td>\n",
       "        </tr>\n",
       "        <tr>\n",
       "            <td>concrete</td> <td>Charlotte</td> <td>5    </td>\n",
       "        </tr>\n",
       "    </tbody>\n",
       "</table>\n",
       "<p>... (86 rows omitted)</p>"
      ],
      "text/plain": [
       "<IPython.core.display.HTML object>"
      ]
     },
     "metadata": {},
     "output_type": "display_data"
    }
   ],
   "source": [
    "sky.group(['material', 'city']).show(5)"
   ]
  },
  {
   "cell_type": "code",
   "execution_count": 13,
   "metadata": {},
   "outputs": [
    {
     "name": "stderr",
     "output_type": "stream",
     "text": [
      "/home/jupyter-apoliak@barnard.ed-b8a88/.local/lib/python3.7/site-packages/datascience/tables.py:920: VisibleDeprecationWarning: Creating an ndarray from ragged nested sequences (which is a list-or-tuple of lists-or-tuples-or ndarrays with different lengths or shapes) is deprecated. If you meant to do this, you must specify 'dtype=object' when creating the ndarray\n",
      "  values = np.array(tuple(values))\n"
     ]
    },
    {
     "data": {
      "text/html": [
       "<table border=\"1\" class=\"dataframe\">\n",
       "    <thead>\n",
       "        <tr>\n",
       "            <th>city</th> <th>material</th> <th>count</th>\n",
       "        </tr>\n",
       "    </thead>\n",
       "    <tbody>\n",
       "        <tr>\n",
       "            <td>Atlanta</td> <td>concrete       </td> <td>27   </td>\n",
       "        </tr>\n",
       "        <tr>\n",
       "            <td>Atlanta</td> <td>mixed/composite</td> <td>4    </td>\n",
       "        </tr>\n",
       "        <tr>\n",
       "            <td>Atlanta</td> <td>steel          </td> <td>7    </td>\n",
       "        </tr>\n",
       "        <tr>\n",
       "            <td>Austin </td> <td>concrete       </td> <td>16   </td>\n",
       "        </tr>\n",
       "        <tr>\n",
       "            <td>Austin </td> <td>steel          </td> <td>1    </td>\n",
       "        </tr>\n",
       "    </tbody>\n",
       "</table>\n",
       "<p>... (86 rows omitted)</p>"
      ],
      "text/plain": [
       "<IPython.core.display.HTML object>"
      ]
     },
     "metadata": {},
     "output_type": "display_data"
    }
   ],
   "source": [
    "sky.group(['city', 'material']).show(5)"
   ]
  },
  {
   "cell_type": "markdown",
   "metadata": {},
   "source": [
    "Let's find the skyscrapers only with steel?"
   ]
  },
  {
   "cell_type": "code",
   "execution_count": 18,
   "metadata": {},
   "outputs": [
    {
     "name": "stderr",
     "output_type": "stream",
     "text": [
      "/home/jupyter-apoliak@barnard.ed-b8a88/.local/lib/python3.7/site-packages/datascience/tables.py:920: VisibleDeprecationWarning: Creating an ndarray from ragged nested sequences (which is a list-or-tuple of lists-or-tuples-or ndarrays with different lengths or shapes) is deprecated. If you meant to do this, you must specify 'dtype=object' when creating the ndarray\n",
      "  values = np.array(tuple(values))\n"
     ]
    },
    {
     "data": {
      "text/html": [
       "<table border=\"1\" class=\"dataframe\">\n",
       "    <thead>\n",
       "        <tr>\n",
       "            <th>city</th> <th>count</th>\n",
       "        </tr>\n",
       "    </thead>\n",
       "    <tbody>\n",
       "        <tr>\n",
       "            <td>Atlanta   </td> <td>7    </td>\n",
       "        </tr>\n",
       "        <tr>\n",
       "            <td>Austin    </td> <td>1    </td>\n",
       "        </tr>\n",
       "        <tr>\n",
       "            <td>Baltimore </td> <td>6    </td>\n",
       "        </tr>\n",
       "        <tr>\n",
       "            <td>Boston    </td> <td>26   </td>\n",
       "        </tr>\n",
       "        <tr>\n",
       "            <td>Charlotte </td> <td>4    </td>\n",
       "        </tr>\n",
       "        <tr>\n",
       "            <td>Chicago   </td> <td>79   </td>\n",
       "        </tr>\n",
       "        <tr>\n",
       "            <td>Cincinnati</td> <td>7    </td>\n",
       "        </tr>\n",
       "        <tr>\n",
       "            <td>Cleveland </td> <td>11   </td>\n",
       "        </tr>\n",
       "        <tr>\n",
       "            <td>Columbus  </td> <td>9    </td>\n",
       "        </tr>\n",
       "        <tr>\n",
       "            <td>Dallas    </td> <td>11   </td>\n",
       "        </tr>\n",
       "    </tbody>\n",
       "</table>\n",
       "<p>... (23 rows omitted)</p>"
      ],
      "text/plain": [
       "city       | count\n",
       "Atlanta    | 7\n",
       "Austin     | 1\n",
       "Baltimore  | 6\n",
       "Boston     | 26\n",
       "Charlotte  | 4\n",
       "Chicago    | 79\n",
       "Cincinnati | 7\n",
       "Cleveland  | 11\n",
       "Columbus   | 9\n",
       "Dallas     | 11\n",
       "... (23 rows omitted)"
      ]
     },
     "execution_count": 18,
     "metadata": {},
     "output_type": "execute_result"
    }
   ],
   "source": [
    "sky.group(['material', 'city']).where('material', are.equal_to('steel')).drop('material')"
   ]
  },
  {
   "cell_type": "markdown",
   "metadata": {},
   "source": [
    "### Let's find the average height of towers in each city by each material\n",
    "\n",
    "`tbl.pivot(col1, col2, values, collect)`"
   ]
  },
  {
   "cell_type": "code",
   "execution_count": 20,
   "metadata": {},
   "outputs": [
    {
     "name": "stderr",
     "output_type": "stream",
     "text": [
      "/home/jupyter-apoliak@barnard.ed-b8a88/.local/lib/python3.7/site-packages/datascience/tables.py:920: VisibleDeprecationWarning: Creating an ndarray from ragged nested sequences (which is a list-or-tuple of lists-or-tuples-or ndarrays with different lengths or shapes) is deprecated. If you meant to do this, you must specify 'dtype=object' when creating the ndarray\n",
      "  values = np.array(tuple(values))\n"
     ]
    },
    {
     "data": {
      "text/plain": [
       "('name', 'material', 'city', 'height', 'age')"
      ]
     },
     "execution_count": 20,
     "metadata": {},
     "output_type": "execute_result"
    }
   ],
   "source": [
    "sky.pivot('material', 'city')\n",
    "sky.labels"
   ]
  },
  {
   "cell_type": "code",
   "execution_count": 21,
   "metadata": {},
   "outputs": [
    {
     "name": "stderr",
     "output_type": "stream",
     "text": [
      "/home/jupyter-apoliak@barnard.ed-b8a88/.local/lib/python3.7/site-packages/datascience/tables.py:920: VisibleDeprecationWarning: Creating an ndarray from ragged nested sequences (which is a list-or-tuple of lists-or-tuples-or ndarrays with different lengths or shapes) is deprecated. If you meant to do this, you must specify 'dtype=object' when creating the ndarray\n",
      "  values = np.array(tuple(values))\n"
     ]
    },
    {
     "data": {
      "text/html": [
       "<table border=\"1\" class=\"dataframe\">\n",
       "    <thead>\n",
       "        <tr>\n",
       "            <th>city</th> <th>concrete</th> <th>mixed/composite</th> <th>steel</th>\n",
       "        </tr>\n",
       "    </thead>\n",
       "    <tbody>\n",
       "        <tr>\n",
       "            <td>Atlanta   </td> <td>148.775 </td> <td>229.24         </td> <td>112.414</td>\n",
       "        </tr>\n",
       "        <tr>\n",
       "            <td>Austin    </td> <td>127.714 </td> <td>0              </td> <td>93.6   </td>\n",
       "        </tr>\n",
       "        <tr>\n",
       "            <td>Baltimore </td> <td>112.833 </td> <td>0              </td> <td>110.853</td>\n",
       "        </tr>\n",
       "        <tr>\n",
       "            <td>Boston    </td> <td>105.765 </td> <td>121.6          </td> <td>143.405</td>\n",
       "        </tr>\n",
       "        <tr>\n",
       "            <td>Charlotte </td> <td>161.348 </td> <td>196.01         </td> <td>127.013</td>\n",
       "        </tr>\n",
       "        <tr>\n",
       "            <td>Chicago   </td> <td>128.285 </td> <td>160.217        </td> <td>130.985</td>\n",
       "        </tr>\n",
       "        <tr>\n",
       "            <td>Cincinnati</td> <td>102.808 </td> <td>202.69         </td> <td>120.991</td>\n",
       "        </tr>\n",
       "        <tr>\n",
       "            <td>Cleveland </td> <td>116.755 </td> <td>166.363        </td> <td>136.856</td>\n",
       "        </tr>\n",
       "        <tr>\n",
       "            <td>Columbus  </td> <td>77.825  </td> <td>0              </td> <td>120.902</td>\n",
       "        </tr>\n",
       "        <tr>\n",
       "            <td>Dallas    </td> <td>125.19  </td> <td>260.3          </td> <td>178.783</td>\n",
       "        </tr>\n",
       "    </tbody>\n",
       "</table>\n",
       "<p>... (25 rows omitted)</p>"
      ],
      "text/plain": [
       "city       | concrete | mixed/composite | steel\n",
       "Atlanta    | 148.775  | 229.24          | 112.414\n",
       "Austin     | 127.714  | 0               | 93.6\n",
       "Baltimore  | 112.833  | 0               | 110.853\n",
       "Boston     | 105.765  | 121.6           | 143.405\n",
       "Charlotte  | 161.348  | 196.01          | 127.013\n",
       "Chicago    | 128.285  | 160.217         | 130.985\n",
       "Cincinnati | 102.808  | 202.69          | 120.991\n",
       "Cleveland  | 116.755  | 166.363         | 136.856\n",
       "Columbus   | 77.825   | 0               | 120.902\n",
       "Dallas     | 125.19   | 260.3           | 178.783\n",
       "... (25 rows omitted)"
      ]
     },
     "execution_count": 21,
     "metadata": {},
     "output_type": "execute_result"
    }
   ],
   "source": [
    "sky.pivot('material', 'city', 'height', np.average)"
   ]
  },
  {
   "cell_type": "markdown",
   "metadata": {},
   "source": [
    "### Let's find the max height of towers in each city by each material\n"
   ]
  },
  {
   "cell_type": "code",
   "execution_count": 22,
   "metadata": {
    "scrolled": true
   },
   "outputs": [
    {
     "name": "stderr",
     "output_type": "stream",
     "text": [
      "/home/jupyter-apoliak@barnard.ed-b8a88/.local/lib/python3.7/site-packages/datascience/tables.py:920: VisibleDeprecationWarning: Creating an ndarray from ragged nested sequences (which is a list-or-tuple of lists-or-tuples-or ndarrays with different lengths or shapes) is deprecated. If you meant to do this, you must specify 'dtype=object' when creating the ndarray\n",
      "  values = np.array(tuple(values))\n"
     ]
    },
    {
     "data": {
      "text/html": [
       "<table border=\"1\" class=\"dataframe\">\n",
       "    <thead>\n",
       "        <tr>\n",
       "            <th>city</th> <th>concrete</th> <th>mixed/composite</th> <th>steel</th>\n",
       "        </tr>\n",
       "    </thead>\n",
       "    <tbody>\n",
       "        <tr>\n",
       "            <td>Atlanta   </td> <td>264.25  </td> <td>311.8          </td> <td>169.47</td>\n",
       "        </tr>\n",
       "        <tr>\n",
       "            <td>Austin    </td> <td>208.15  </td> <td>0              </td> <td>93.6  </td>\n",
       "        </tr>\n",
       "        <tr>\n",
       "            <td>Baltimore </td> <td>161.24  </td> <td>0              </td> <td>155.15</td>\n",
       "        </tr>\n",
       "        <tr>\n",
       "            <td>Boston    </td> <td>121.92  </td> <td>139            </td> <td>240.79</td>\n",
       "        </tr>\n",
       "        <tr>\n",
       "            <td>Charlotte </td> <td>265.48  </td> <td>239.7          </td> <td>179.23</td>\n",
       "        </tr>\n",
       "        <tr>\n",
       "            <td>Chicago   </td> <td>423.22  </td> <td>306.94         </td> <td>442.14</td>\n",
       "        </tr>\n",
       "        <tr>\n",
       "            <td>Cincinnati</td> <td>125     </td> <td>202.69         </td> <td>175   </td>\n",
       "        </tr>\n",
       "        <tr>\n",
       "            <td>Cleveland </td> <td>125     </td> <td>288.65         </td> <td>215.8 </td>\n",
       "        </tr>\n",
       "        <tr>\n",
       "            <td>Columbus  </td> <td>79.25   </td> <td>0              </td> <td>169.3 </td>\n",
       "        </tr>\n",
       "        <tr>\n",
       "            <td>Dallas    </td> <td>176.48  </td> <td>280.72         </td> <td>270.06</td>\n",
       "        </tr>\n",
       "    </tbody>\n",
       "</table>\n",
       "<p>... (25 rows omitted)</p>"
      ],
      "text/plain": [
       "city       | concrete | mixed/composite | steel\n",
       "Atlanta    | 264.25   | 311.8           | 169.47\n",
       "Austin     | 208.15   | 0               | 93.6\n",
       "Baltimore  | 161.24   | 0               | 155.15\n",
       "Boston     | 121.92   | 139             | 240.79\n",
       "Charlotte  | 265.48   | 239.7           | 179.23\n",
       "Chicago    | 423.22   | 306.94          | 442.14\n",
       "Cincinnati | 125      | 202.69          | 175\n",
       "Cleveland  | 125      | 288.65          | 215.8\n",
       "Columbus   | 79.25    | 0               | 169.3\n",
       "Dallas     | 176.48   | 280.72          | 270.06\n",
       "... (25 rows omitted)"
      ]
     },
     "execution_count": 22,
     "metadata": {},
     "output_type": "execute_result"
    }
   ],
   "source": [
    "sky.pivot('material', 'city', 'height', max)"
   ]
  },
  {
   "cell_type": "code",
   "execution_count": 23,
   "metadata": {},
   "outputs": [],
   "source": [
    "def max_min_difference(column):\n",
    "    \"\"\"\n",
    "    Find the difference between the maximum value and minimum value of a column\n",
    "    \"\"\"\n",
    "    return max(column) - min(column)"
   ]
  },
  {
   "cell_type": "code",
   "execution_count": 27,
   "metadata": {},
   "outputs": [
    {
     "data": {
      "text/plain": [
       "(98, 98)"
      ]
     },
     "execution_count": 27,
     "metadata": {},
     "output_type": "execute_result"
    }
   ],
   "source": [
    "np.arange(1,100)\n",
    "max(np.arange(1, 100)) - min(np.arange(1,100)), max_min_difference(np.arange(1,100))"
   ]
  },
  {
   "cell_type": "code",
   "execution_count": 28,
   "metadata": {},
   "outputs": [
    {
     "data": {
      "text/plain": [
       "function"
      ]
     },
     "execution_count": 28,
     "metadata": {},
     "output_type": "execute_result"
    }
   ],
   "source": [
    "type(max_min_difference)"
   ]
  },
  {
   "cell_type": "code",
   "execution_count": 29,
   "metadata": {},
   "outputs": [
    {
     "name": "stderr",
     "output_type": "stream",
     "text": [
      "/home/jupyter-apoliak@barnard.ed-b8a88/.local/lib/python3.7/site-packages/datascience/tables.py:920: VisibleDeprecationWarning: Creating an ndarray from ragged nested sequences (which is a list-or-tuple of lists-or-tuples-or ndarrays with different lengths or shapes) is deprecated. If you meant to do this, you must specify 'dtype=object' when creating the ndarray\n",
      "  values = np.array(tuple(values))\n"
     ]
    },
    {
     "data": {
      "text/html": [
       "<table border=\"1\" class=\"dataframe\">\n",
       "    <thead>\n",
       "        <tr>\n",
       "            <th>city</th> <th>concrete</th> <th>mixed/composite</th> <th>steel</th>\n",
       "        </tr>\n",
       "    </thead>\n",
       "    <tbody>\n",
       "        <tr>\n",
       "            <td>Atlanta   </td> <td>184.25  </td> <td>191.28         </td> <td>121.27</td>\n",
       "        </tr>\n",
       "        <tr>\n",
       "            <td>Austin    </td> <td>127.99  </td> <td>0              </td> <td>0     </td>\n",
       "        </tr>\n",
       "        <tr>\n",
       "            <td>Baltimore </td> <td>90.74   </td> <td>0              </td> <td>71.15 </td>\n",
       "        </tr>\n",
       "        <tr>\n",
       "            <td>Boston    </td> <td>53.34   </td> <td>34.8           </td> <td>166.39</td>\n",
       "        </tr>\n",
       "        <tr>\n",
       "            <td>Charlotte </td> <td>166.42  </td> <td>92.18          </td> <td>98.23 </td>\n",
       "        </tr>\n",
       "        <tr>\n",
       "            <td>Chicago   </td> <td>378.72  </td> <td>255.84         </td> <td>388.79</td>\n",
       "        </tr>\n",
       "        <tr>\n",
       "            <td>Cincinnati</td> <td>38.5    </td> <td>0              </td> <td>120.7 </td>\n",
       "        </tr>\n",
       "        <tr>\n",
       "            <td>Cleveland </td> <td>16.49   </td> <td>197.21         </td> <td>127.71</td>\n",
       "        </tr>\n",
       "        <tr>\n",
       "            <td>Columbus  </td> <td>3.45    </td> <td>0              </td> <td>125.41</td>\n",
       "        </tr>\n",
       "        <tr>\n",
       "            <td>Dallas    </td> <td>122.84  </td> <td>40.84          </td> <td>156.67</td>\n",
       "        </tr>\n",
       "    </tbody>\n",
       "</table>\n",
       "<p>... (25 rows omitted)</p>"
      ],
      "text/plain": [
       "city       | concrete | mixed/composite | steel\n",
       "Atlanta    | 184.25   | 191.28          | 121.27\n",
       "Austin     | 127.99   | 0               | 0\n",
       "Baltimore  | 90.74    | 0               | 71.15\n",
       "Boston     | 53.34    | 34.8            | 166.39\n",
       "Charlotte  | 166.42   | 92.18           | 98.23\n",
       "Chicago    | 378.72   | 255.84          | 388.79\n",
       "Cincinnati | 38.5     | 0               | 120.7\n",
       "Cleveland  | 16.49    | 197.21          | 127.71\n",
       "Columbus   | 3.45     | 0               | 125.41\n",
       "Dallas     | 122.84   | 40.84           | 156.67\n",
       "... (25 rows omitted)"
      ]
     },
     "execution_count": 29,
     "metadata": {},
     "output_type": "execute_result"
    }
   ],
   "source": [
    "sky.pivot('material', 'city', 'height', max_min_difference)"
   ]
  },
  {
   "cell_type": "code",
   "execution_count": 35,
   "metadata": {},
   "outputs": [
    {
     "data": {
      "text/plain": [
       "184.25"
      ]
     },
     "execution_count": 35,
     "metadata": {},
     "output_type": "execute_result"
    }
   ],
   "source": [
    "atlanta_heights = sky.where('city', 'Atlanta').where('material', 'concrete').column('height')\n",
    "max(atlanta_heights) - min(atlanta_heights)"
   ]
  },
  {
   "cell_type": "code",
   "execution_count": 37,
   "metadata": {},
   "outputs": [
    {
     "name": "stderr",
     "output_type": "stream",
     "text": [
      "/home/jupyter-apoliak@barnard.ed-b8a88/.local/lib/python3.7/site-packages/datascience/tables.py:920: VisibleDeprecationWarning: Creating an ndarray from ragged nested sequences (which is a list-or-tuple of lists-or-tuples-or ndarrays with different lengths or shapes) is deprecated. If you meant to do this, you must specify 'dtype=object' when creating the ndarray\n",
      "  values = np.array(tuple(values))\n"
     ]
    },
    {
     "data": {
      "text/html": [
       "<table border=\"1\" class=\"dataframe\">\n",
       "    <thead>\n",
       "        <tr>\n",
       "            <th>city</th> <th>material</th> <th>count</th>\n",
       "        </tr>\n",
       "    </thead>\n",
       "    <tbody>\n",
       "        <tr>\n",
       "            <td>Austin</td> <td>concrete</td> <td>16   </td>\n",
       "        </tr>\n",
       "        <tr>\n",
       "            <td>Austin</td> <td>steel   </td> <td>1    </td>\n",
       "        </tr>\n",
       "    </tbody>\n",
       "</table>"
      ],
      "text/plain": [
       "city   | material | count\n",
       "Austin | concrete | 16\n",
       "Austin | steel    | 1"
      ]
     },
     "execution_count": 37,
     "metadata": {},
     "output_type": "execute_result"
    }
   ],
   "source": [
    "sky.group(['city', 'material']).where('city', 'Austin')"
   ]
  },
  {
   "cell_type": "code",
   "execution_count": 39,
   "metadata": {},
   "outputs": [
    {
     "name": "stderr",
     "output_type": "stream",
     "text": [
      "/home/jupyter-apoliak@barnard.ed-b8a88/.local/lib/python3.7/site-packages/datascience/tables.py:920: VisibleDeprecationWarning: Creating an ndarray from ragged nested sequences (which is a list-or-tuple of lists-or-tuples-or ndarrays with different lengths or shapes) is deprecated. If you meant to do this, you must specify 'dtype=object' when creating the ndarray\n",
      "  values = np.array(tuple(values))\n"
     ]
    },
    {
     "data": {
      "text/html": [
       "<table border=\"1\" class=\"dataframe\">\n",
       "    <thead>\n",
       "        <tr>\n",
       "            <th>material</th> <th>Atlanta</th> <th>Austin</th> <th>Baltimore</th> <th>Boston</th> <th>Charlotte</th> <th>Chicago</th> <th>Cincinnati</th> <th>Cleveland</th> <th>Columbus</th> <th>Dallas</th> <th>Denver</th> <th>Detroit</th> <th>Honolulu</th> <th>Houston</th> <th>Indianapolis</th> <th>Jersey City</th> <th>Kansas City</th> <th>Las Vegas</th> <th>Los Angeles</th> <th>Miami</th> <th>Miami Beach</th> <th>Milwaukee</th> <th>Minneapolis</th> <th>New York City</th> <th>Philadelphia</th> <th>Phoenix</th> <th>Pittsburgh</th> <th>Portland</th> <th>Sacramento</th> <th>Salt Lake City</th> <th>San Diego</th> <th>San Francisco</th> <th>Seattle</th> <th>St. Louis</th> <th>Sunny Isles Beach</th>\n",
       "        </tr>\n",
       "    </thead>\n",
       "    <tbody>\n",
       "        <tr>\n",
       "            <td>concrete       </td> <td>27     </td> <td>16    </td> <td>8        </td> <td>4     </td> <td>5        </td> <td>244    </td> <td>5         </td> <td>2        </td> <td>4       </td> <td>7     </td> <td>5     </td> <td>6      </td> <td>47      </td> <td>27     </td> <td>9           </td> <td>14         </td> <td>3          </td> <td>33       </td> <td>9          </td> <td>78   </td> <td>19         </td> <td>9        </td> <td>18         </td> <td>249          </td> <td>14          </td> <td>7      </td> <td>2         </td> <td>4       </td> <td>3         </td> <td>6             </td> <td>11       </td> <td>10           </td> <td>14     </td> <td>6        </td> <td>22               </td>\n",
       "        </tr>\n",
       "        <tr>\n",
       "            <td>mixed/composite</td> <td>4      </td> <td>0     </td> <td>0        </td> <td>2     </td> <td>3        </td> <td>35     </td> <td>1         </td> <td>3        </td> <td>0       </td> <td>2     </td> <td>2     </td> <td>0      </td> <td>0       </td> <td>7      </td> <td>0           </td> <td>0          </td> <td>0          </td> <td>6        </td> <td>3          </td> <td>4    </td> <td>0          </td> <td>0        </td> <td>9          </td> <td>19           </td> <td>2           </td> <td>4      </td> <td>2         </td> <td>1       </td> <td>1         </td> <td>0             </td> <td>1        </td> <td>3            </td> <td>9      </td> <td>1        </td> <td>0                </td>\n",
       "        </tr>\n",
       "        <tr>\n",
       "            <td>steel          </td> <td>7      </td> <td>1     </td> <td>6        </td> <td>26    </td> <td>4        </td> <td>79     </td> <td>7         </td> <td>11       </td> <td>9       </td> <td>11    </td> <td>4     </td> <td>14     </td> <td>3       </td> <td>20     </td> <td>7           </td> <td>2          </td> <td>7          </td> <td>5        </td> <td>37         </td> <td>4    </td> <td>0          </td> <td>5        </td> <td>12         </td> <td>263          </td> <td>15          </td> <td>4      </td> <td>32        </td> <td>5       </td> <td>7         </td> <td>7             </td> <td>9        </td> <td>48           </td> <td>31     </td> <td>8        </td> <td>0                </td>\n",
       "        </tr>\n",
       "    </tbody>\n",
       "</table>"
      ],
      "text/plain": [
       "material        | Atlanta | Austin | Baltimore | Boston | Charlotte | Chicago | Cincinnati | Cleveland | Columbus | Dallas | Denver | Detroit | Honolulu | Houston | Indianapolis | Jersey City | Kansas City | Las Vegas | Los Angeles | Miami | Miami Beach | Milwaukee | Minneapolis | New York City | Philadelphia | Phoenix | Pittsburgh | Portland | Sacramento | Salt Lake City | San Diego | San Francisco | Seattle | St. Louis | Sunny Isles Beach\n",
       "concrete        | 27      | 16     | 8         | 4      | 5         | 244     | 5          | 2         | 4        | 7      | 5      | 6       | 47       | 27      | 9            | 14          | 3           | 33        | 9           | 78    | 19          | 9         | 18          | 249           | 14           | 7       | 2          | 4        | 3          | 6              | 11        | 10            | 14      | 6         | 22\n",
       "mixed/composite | 4       | 0      | 0         | 2      | 3         | 35      | 1          | 3         | 0        | 2      | 2      | 0       | 0        | 7       | 0            | 0           | 0           | 6         | 3           | 4     | 0           | 0         | 9           | 19            | 2            | 4       | 2          | 1        | 1          | 0              | 1         | 3             | 9       | 1         | 0\n",
       "steel           | 7       | 1      | 6         | 26     | 4         | 79      | 7          | 11        | 9        | 11     | 4      | 14      | 3        | 20      | 7            | 2           | 7           | 5         | 37          | 4     | 0           | 5         | 12          | 263           | 15           | 4       | 32         | 5        | 7          | 7              | 9         | 48            | 31      | 8         | 0"
      ]
     },
     "execution_count": 39,
     "metadata": {},
     "output_type": "execute_result"
    }
   ],
   "source": [
    "sky.pivot('city', 'material')"
   ]
  },
  {
   "cell_type": "markdown",
   "metadata": {},
   "source": [
    "(back to slides)\n",
    "# Join"
   ]
  },
  {
   "cell_type": "code",
   "execution_count": 40,
   "metadata": {},
   "outputs": [
    {
     "data": {
      "text/html": [
       "<table border=\"1\" class=\"dataframe\">\n",
       "    <thead>\n",
       "        <tr>\n",
       "            <th>name</th> <th>net worth</th> <th>citizenship</th> <th>industry</th>\n",
       "        </tr>\n",
       "    </thead>\n",
       "    <tbody>\n",
       "        <tr>\n",
       "            <td>Jeff Bezos     </td> <td>115739645754</td> <td>United States</td> <td>Technology </td>\n",
       "        </tr>\n",
       "        <tr>\n",
       "            <td>Bill Gates     </td> <td>115488591742</td> <td>United States</td> <td>Technology </td>\n",
       "        </tr>\n",
       "        <tr>\n",
       "            <td>Bernard Arnault</td> <td>102244728472</td> <td>France       </td> <td>Consumer   </td>\n",
       "        </tr>\n",
       "        <tr>\n",
       "            <td>Warren Buffett </td> <td>89408278188 </td> <td>United States</td> <td>Diversified</td>\n",
       "        </tr>\n",
       "        <tr>\n",
       "            <td>Mark Zuckerberg</td> <td>83053011017 </td> <td>United States</td> <td>Technology </td>\n",
       "        </tr>\n",
       "        <tr>\n",
       "            <td>Amancio Ortega </td> <td>73839366133 </td> <td>Spain        </td> <td>Retail     </td>\n",
       "        </tr>\n",
       "        <tr>\n",
       "            <td>Larry Page     </td> <td>69933009751 </td> <td>United States</td> <td>Technology </td>\n",
       "        </tr>\n",
       "        <tr>\n",
       "            <td>Sergey Brin    </td> <td>67825250468 </td> <td>United States</td> <td>Technology </td>\n",
       "        </tr>\n",
       "        <tr>\n",
       "            <td>Carlos Slim    </td> <td>62527178289 </td> <td>Mexico       </td> <td>Diversified</td>\n",
       "        </tr>\n",
       "        <tr>\n",
       "            <td>Charles Koch   </td> <td>61046822719 </td> <td>United States</td> <td>Industrial </td>\n",
       "        </tr>\n",
       "    </tbody>\n",
       "</table>\n",
       "<p>... (490 rows omitted)</p>"
      ],
      "text/plain": [
       "<IPython.core.display.HTML object>"
      ]
     },
     "metadata": {},
     "output_type": "display_data"
    },
    {
     "data": {
      "text/html": [
       "<table border=\"1\" class=\"dataframe\">\n",
       "    <thead>\n",
       "        <tr>\n",
       "            <th>Continent</th> <th>Country</th>\n",
       "        </tr>\n",
       "    </thead>\n",
       "    <tbody>\n",
       "        <tr>\n",
       "            <td>Africa   </td> <td>Algeria                 </td>\n",
       "        </tr>\n",
       "        <tr>\n",
       "            <td>Africa   </td> <td>Angola                  </td>\n",
       "        </tr>\n",
       "        <tr>\n",
       "            <td>Africa   </td> <td>Benin                   </td>\n",
       "        </tr>\n",
       "        <tr>\n",
       "            <td>Africa   </td> <td>Botswana                </td>\n",
       "        </tr>\n",
       "        <tr>\n",
       "            <td>Africa   </td> <td>Burkina                 </td>\n",
       "        </tr>\n",
       "        <tr>\n",
       "            <td>Africa   </td> <td>Burundi                 </td>\n",
       "        </tr>\n",
       "        <tr>\n",
       "            <td>Africa   </td> <td>Cameroon                </td>\n",
       "        </tr>\n",
       "        <tr>\n",
       "            <td>Africa   </td> <td>Cape Verde              </td>\n",
       "        </tr>\n",
       "        <tr>\n",
       "            <td>Africa   </td> <td>Central African Republic</td>\n",
       "        </tr>\n",
       "        <tr>\n",
       "            <td>Africa   </td> <td>Chad                    </td>\n",
       "        </tr>\n",
       "    </tbody>\n",
       "</table>\n",
       "<p>... (188 rows omitted)</p>"
      ],
      "text/plain": [
       "<IPython.core.display.HTML object>"
      ]
     },
     "metadata": {},
     "output_type": "display_data"
    }
   ],
   "source": [
    "billionaires = Table.read_table('billionaires.csv')\n",
    "billionaires.show(10)\n",
    "\n",
    "countries = Table.read_table('countries.csv')\n",
    "countries.show(10)"
   ]
  },
  {
   "cell_type": "markdown",
   "metadata": {},
   "source": [
    "### What can we join these two tables on?\n",
    "In other words, which columns will have similar values?\n"
   ]
  },
  {
   "cell_type": "code",
   "execution_count": null,
   "metadata": {},
   "outputs": [],
   "source": [
    "# answer below"
   ]
  },
  {
   "cell_type": "code",
   "execution_count": null,
   "metadata": {},
   "outputs": [],
   "source": []
  },
  {
   "cell_type": "code",
   "execution_count": null,
   "metadata": {},
   "outputs": [],
   "source": []
  },
  {
   "cell_type": "code",
   "execution_count": null,
   "metadata": {},
   "outputs": [],
   "source": []
  },
  {
   "cell_type": "code",
   "execution_count": null,
   "metadata": {},
   "outputs": [],
   "source": []
  },
  {
   "cell_type": "code",
   "execution_count": null,
   "metadata": {},
   "outputs": [],
   "source": []
  },
  {
   "cell_type": "code",
   "execution_count": null,
   "metadata": {},
   "outputs": [],
   "source": []
  },
  {
   "cell_type": "code",
   "execution_count": null,
   "metadata": {},
   "outputs": [],
   "source": []
  },
  {
   "cell_type": "code",
   "execution_count": null,
   "metadata": {},
   "outputs": [],
   "source": []
  },
  {
   "cell_type": "code",
   "execution_count": 42,
   "metadata": {},
   "outputs": [
    {
     "data": {
      "text/html": [
       "<table border=\"1\" class=\"dataframe\">\n",
       "    <thead>\n",
       "        <tr>\n",
       "            <th>citizenship</th> <th>name</th> <th>net worth</th> <th>industry</th> <th>Continent</th>\n",
       "        </tr>\n",
       "    </thead>\n",
       "    <tbody>\n",
       "        <tr>\n",
       "            <td>Australia  </td> <td>Gina Rinehart      </td> <td>19984845036</td> <td>Commodities    </td> <td>Oceania      </td>\n",
       "        </tr>\n",
       "        <tr>\n",
       "            <td>Australia  </td> <td>Andrew Forrest     </td> <td>10221458789</td> <td>Commodities    </td> <td>Oceania      </td>\n",
       "        </tr>\n",
       "        <tr>\n",
       "            <td>Australia  </td> <td>Harry Triguboff    </td> <td>9467000000 </td> <td>Real Estate    </td> <td>Oceania      </td>\n",
       "        </tr>\n",
       "        <tr>\n",
       "            <td>Australia  </td> <td>Scott Farquhar     </td> <td>9335988154 </td> <td>Technology     </td> <td>Oceania      </td>\n",
       "        </tr>\n",
       "        <tr>\n",
       "            <td>Australia  </td> <td>Mike Cannon-Brookes</td> <td>9335988154 </td> <td>Technology     </td> <td>Oceania      </td>\n",
       "        </tr>\n",
       "        <tr>\n",
       "            <td>Australia  </td> <td>Frank Lowy         </td> <td>6655432824 </td> <td>Real Estate    </td> <td>Oceania      </td>\n",
       "        </tr>\n",
       "        <tr>\n",
       "            <td>Australia  </td> <td>Anthony Pratt      </td> <td>6566000000 </td> <td>Industrial     </td> <td>Oceania      </td>\n",
       "        </tr>\n",
       "        <tr>\n",
       "            <td>Austria    </td> <td>Dietrich Mateschitz</td> <td>12251315379</td> <td>Food & Beverage</td> <td>Europe       </td>\n",
       "        </tr>\n",
       "        <tr>\n",
       "            <td>Austria    </td> <td>Johann Graf        </td> <td>6509183360 </td> <td>Entertainment  </td> <td>Europe       </td>\n",
       "        </tr>\n",
       "        <tr>\n",
       "            <td>Brazil     </td> <td>Jorge Paulo Lemann </td> <td>23056345424</td> <td>Food & Beverage</td> <td>South America</td>\n",
       "        </tr>\n",
       "    </tbody>\n",
       "</table>\n",
       "<p>... (490 rows omitted)</p>"
      ],
      "text/plain": [
       "citizenship | name                | net worth   | industry        | Continent\n",
       "Australia   | Gina Rinehart       | 19984845036 | Commodities     | Oceania\n",
       "Australia   | Andrew Forrest      | 10221458789 | Commodities     | Oceania\n",
       "Australia   | Harry Triguboff     | 9467000000  | Real Estate     | Oceania\n",
       "Australia   | Scott Farquhar      | 9335988154  | Technology      | Oceania\n",
       "Australia   | Mike Cannon-Brookes | 9335988154  | Technology      | Oceania\n",
       "Australia   | Frank Lowy          | 6655432824  | Real Estate     | Oceania\n",
       "Australia   | Anthony Pratt       | 6566000000  | Industrial      | Oceania\n",
       "Austria     | Dietrich Mateschitz | 12251315379 | Food & Beverage | Europe\n",
       "Austria     | Johann Graf         | 6509183360  | Entertainment   | Europe\n",
       "Brazil      | Jorge Paulo Lemann  | 23056345424 | Food & Beverage | South America\n",
       "... (490 rows omitted)"
      ]
     },
     "execution_count": 42,
     "metadata": {},
     "output_type": "execute_result"
    }
   ],
   "source": [
    "#tblA.join(colA, tblB, colB)\n",
    "billionaires.join('citizenship', countries, 'Country')"
   ]
  },
  {
   "cell_type": "code",
   "execution_count": 44,
   "metadata": {},
   "outputs": [
    {
     "data": {
      "text/plain": [
       "(500, 198, 500)"
      ]
     },
     "execution_count": 44,
     "metadata": {},
     "output_type": "execute_result"
    }
   ],
   "source": [
    "billionaires.num_rows, countries.num_rows, billionaires.join('citizenship', countries, 'Country').num_rows"
   ]
  },
  {
   "cell_type": "code",
   "execution_count": 45,
   "metadata": {},
   "outputs": [
    {
     "data": {
      "text/html": [
       "<table border=\"1\" class=\"dataframe\">\n",
       "    <thead>\n",
       "        <tr>\n",
       "            <th>Country</th> <th>Continent</th> <th>name</th> <th>net worth</th> <th>industry</th>\n",
       "        </tr>\n",
       "    </thead>\n",
       "    <tbody>\n",
       "        <tr>\n",
       "            <td>Australia</td> <td>Oceania      </td> <td>Gina Rinehart      </td> <td>19984845036</td> <td>Commodities    </td>\n",
       "        </tr>\n",
       "        <tr>\n",
       "            <td>Australia</td> <td>Oceania      </td> <td>Andrew Forrest     </td> <td>10221458789</td> <td>Commodities    </td>\n",
       "        </tr>\n",
       "        <tr>\n",
       "            <td>Australia</td> <td>Oceania      </td> <td>Harry Triguboff    </td> <td>9467000000 </td> <td>Real Estate    </td>\n",
       "        </tr>\n",
       "        <tr>\n",
       "            <td>Australia</td> <td>Oceania      </td> <td>Scott Farquhar     </td> <td>9335988154 </td> <td>Technology     </td>\n",
       "        </tr>\n",
       "        <tr>\n",
       "            <td>Australia</td> <td>Oceania      </td> <td>Mike Cannon-Brookes</td> <td>9335988154 </td> <td>Technology     </td>\n",
       "        </tr>\n",
       "        <tr>\n",
       "            <td>Australia</td> <td>Oceania      </td> <td>Frank Lowy         </td> <td>6655432824 </td> <td>Real Estate    </td>\n",
       "        </tr>\n",
       "        <tr>\n",
       "            <td>Australia</td> <td>Oceania      </td> <td>Anthony Pratt      </td> <td>6566000000 </td> <td>Industrial     </td>\n",
       "        </tr>\n",
       "        <tr>\n",
       "            <td>Austria  </td> <td>Europe       </td> <td>Dietrich Mateschitz</td> <td>12251315379</td> <td>Food & Beverage</td>\n",
       "        </tr>\n",
       "        <tr>\n",
       "            <td>Austria  </td> <td>Europe       </td> <td>Johann Graf        </td> <td>6509183360 </td> <td>Entertainment  </td>\n",
       "        </tr>\n",
       "        <tr>\n",
       "            <td>Brazil   </td> <td>South America</td> <td>Jorge Paulo Lemann </td> <td>23056345424</td> <td>Food & Beverage</td>\n",
       "        </tr>\n",
       "    </tbody>\n",
       "</table>\n",
       "<p>... (490 rows omitted)</p>"
      ],
      "text/plain": [
       "Country   | Continent     | name                | net worth   | industry\n",
       "Australia | Oceania       | Gina Rinehart       | 19984845036 | Commodities\n",
       "Australia | Oceania       | Andrew Forrest      | 10221458789 | Commodities\n",
       "Australia | Oceania       | Harry Triguboff     | 9467000000  | Real Estate\n",
       "Australia | Oceania       | Scott Farquhar      | 9335988154  | Technology\n",
       "Australia | Oceania       | Mike Cannon-Brookes | 9335988154  | Technology\n",
       "Australia | Oceania       | Frank Lowy          | 6655432824  | Real Estate\n",
       "Australia | Oceania       | Anthony Pratt       | 6566000000  | Industrial\n",
       "Austria   | Europe        | Dietrich Mateschitz | 12251315379 | Food & Beverage\n",
       "Austria   | Europe        | Johann Graf         | 6509183360  | Entertainment\n",
       "Brazil    | South America | Jorge Paulo Lemann  | 23056345424 | Food & Beverage\n",
       "... (490 rows omitted)"
      ]
     },
     "execution_count": 45,
     "metadata": {},
     "output_type": "execute_result"
    }
   ],
   "source": [
    "countries.join('Country', billionaires, 'citizenship')"
   ]
  },
  {
   "cell_type": "markdown",
   "metadata": {},
   "source": [
    "##### How many billionaries are in a specific industry and Continent?\n"
   ]
  },
  {
   "cell_type": "code",
   "execution_count": null,
   "metadata": {},
   "outputs": [],
   "source": [
    "# answer below"
   ]
  },
  {
   "cell_type": "code",
   "execution_count": null,
   "metadata": {},
   "outputs": [],
   "source": []
  },
  {
   "cell_type": "code",
   "execution_count": null,
   "metadata": {},
   "outputs": [],
   "source": []
  },
  {
   "cell_type": "code",
   "execution_count": null,
   "metadata": {},
   "outputs": [],
   "source": []
  },
  {
   "cell_type": "code",
   "execution_count": null,
   "metadata": {},
   "outputs": [],
   "source": []
  },
  {
   "cell_type": "code",
   "execution_count": null,
   "metadata": {},
   "outputs": [],
   "source": []
  },
  {
   "cell_type": "code",
   "execution_count": null,
   "metadata": {},
   "outputs": [],
   "source": []
  },
  {
   "cell_type": "code",
   "execution_count": null,
   "metadata": {},
   "outputs": [],
   "source": []
  },
  {
   "cell_type": "code",
   "execution_count": null,
   "metadata": {},
   "outputs": [],
   "source": []
  },
  {
   "cell_type": "code",
   "execution_count": null,
   "metadata": {},
   "outputs": [],
   "source": []
  },
  {
   "cell_type": "code",
   "execution_count": null,
   "metadata": {},
   "outputs": [],
   "source": []
  },
  {
   "cell_type": "code",
   "execution_count": 46,
   "metadata": {},
   "outputs": [
    {
     "data": {
      "text/html": [
       "<table border=\"1\" class=\"dataframe\">\n",
       "    <thead>\n",
       "        <tr>\n",
       "            <th>citizenship</th> <th>name</th> <th>net worth</th> <th>industry</th> <th>Continent</th>\n",
       "        </tr>\n",
       "    </thead>\n",
       "    <tbody>\n",
       "        <tr>\n",
       "            <td>Australia  </td> <td>Gina Rinehart      </td> <td>19984845036</td> <td>Commodities    </td> <td>Oceania      </td>\n",
       "        </tr>\n",
       "        <tr>\n",
       "            <td>Australia  </td> <td>Andrew Forrest     </td> <td>10221458789</td> <td>Commodities    </td> <td>Oceania      </td>\n",
       "        </tr>\n",
       "        <tr>\n",
       "            <td>Australia  </td> <td>Harry Triguboff    </td> <td>9467000000 </td> <td>Real Estate    </td> <td>Oceania      </td>\n",
       "        </tr>\n",
       "        <tr>\n",
       "            <td>Australia  </td> <td>Scott Farquhar     </td> <td>9335988154 </td> <td>Technology     </td> <td>Oceania      </td>\n",
       "        </tr>\n",
       "        <tr>\n",
       "            <td>Australia  </td> <td>Mike Cannon-Brookes</td> <td>9335988154 </td> <td>Technology     </td> <td>Oceania      </td>\n",
       "        </tr>\n",
       "        <tr>\n",
       "            <td>Australia  </td> <td>Frank Lowy         </td> <td>6655432824 </td> <td>Real Estate    </td> <td>Oceania      </td>\n",
       "        </tr>\n",
       "        <tr>\n",
       "            <td>Australia  </td> <td>Anthony Pratt      </td> <td>6566000000 </td> <td>Industrial     </td> <td>Oceania      </td>\n",
       "        </tr>\n",
       "        <tr>\n",
       "            <td>Austria    </td> <td>Dietrich Mateschitz</td> <td>12251315379</td> <td>Food & Beverage</td> <td>Europe       </td>\n",
       "        </tr>\n",
       "        <tr>\n",
       "            <td>Austria    </td> <td>Johann Graf        </td> <td>6509183360 </td> <td>Entertainment  </td> <td>Europe       </td>\n",
       "        </tr>\n",
       "        <tr>\n",
       "            <td>Brazil     </td> <td>Jorge Paulo Lemann </td> <td>23056345424</td> <td>Food & Beverage</td> <td>South America</td>\n",
       "        </tr>\n",
       "    </tbody>\n",
       "</table>\n",
       "<p>... (490 rows omitted)</p>"
      ],
      "text/plain": [
       "citizenship | name                | net worth   | industry        | Continent\n",
       "Australia   | Gina Rinehart       | 19984845036 | Commodities     | Oceania\n",
       "Australia   | Andrew Forrest      | 10221458789 | Commodities     | Oceania\n",
       "Australia   | Harry Triguboff     | 9467000000  | Real Estate     | Oceania\n",
       "Australia   | Scott Farquhar      | 9335988154  | Technology      | Oceania\n",
       "Australia   | Mike Cannon-Brookes | 9335988154  | Technology      | Oceania\n",
       "Australia   | Frank Lowy          | 6655432824  | Real Estate     | Oceania\n",
       "Australia   | Anthony Pratt       | 6566000000  | Industrial      | Oceania\n",
       "Austria     | Dietrich Mateschitz | 12251315379 | Food & Beverage | Europe\n",
       "Austria     | Johann Graf         | 6509183360  | Entertainment   | Europe\n",
       "Brazil      | Jorge Paulo Lemann  | 23056345424 | Food & Beverage | South America\n",
       "... (490 rows omitted)"
      ]
     },
     "execution_count": 46,
     "metadata": {},
     "output_type": "execute_result"
    }
   ],
   "source": [
    "b_and_c = billionaires.join('citizenship', countries, 'Country')\n",
    "b_and_c"
   ]
  },
  {
   "cell_type": "code",
   "execution_count": 48,
   "metadata": {},
   "outputs": [
    {
     "name": "stderr",
     "output_type": "stream",
     "text": [
      "/home/jupyter-apoliak@barnard.ed-b8a88/.local/lib/python3.7/site-packages/datascience/tables.py:920: VisibleDeprecationWarning: Creating an ndarray from ragged nested sequences (which is a list-or-tuple of lists-or-tuples-or ndarrays with different lengths or shapes) is deprecated. If you meant to do this, you must specify 'dtype=object' when creating the ndarray\n",
      "  values = np.array(tuple(values))\n"
     ]
    },
    {
     "data": {
      "text/html": [
       "<table border=\"1\" class=\"dataframe\">\n",
       "    <thead>\n",
       "        <tr>\n",
       "            <th>industry</th> <th>Africa</th> <th>Asia</th> <th>Europe</th> <th>North America</th> <th>Oceania</th> <th>South America</th>\n",
       "        </tr>\n",
       "    </thead>\n",
       "    <tbody>\n",
       "        <tr>\n",
       "            <td>Commodities    </td> <td>0     </td> <td>7   </td> <td>1     </td> <td>6            </td> <td>2      </td> <td>2            </td>\n",
       "        </tr>\n",
       "        <tr>\n",
       "            <td>Consumer       </td> <td>0     </td> <td>10  </td> <td>17    </td> <td>14           </td> <td>0      </td> <td>0            </td>\n",
       "        </tr>\n",
       "        <tr>\n",
       "            <td>Diversified    </td> <td>2     </td> <td>27  </td> <td>13    </td> <td>10           </td> <td>0      </td> <td>0            </td>\n",
       "        </tr>\n",
       "        <tr>\n",
       "            <td>Energy         </td> <td>0     </td> <td>12  </td> <td>1     </td> <td>17           </td> <td>0      </td> <td>0            </td>\n",
       "        </tr>\n",
       "        <tr>\n",
       "            <td>Entertainment  </td> <td>0     </td> <td>4   </td> <td>4     </td> <td>9            </td> <td>0      </td> <td>0            </td>\n",
       "        </tr>\n",
       "        <tr>\n",
       "            <td>Finance        </td> <td>0     </td> <td>4   </td> <td>1     </td> <td>29           </td> <td>1      </td> <td>6            </td>\n",
       "        </tr>\n",
       "        <tr>\n",
       "            <td>Food & Beverage</td> <td>1     </td> <td>11  </td> <td>9     </td> <td>14           </td> <td>0      </td> <td>4            </td>\n",
       "        </tr>\n",
       "        <tr>\n",
       "            <td>Health Care    </td> <td>0     </td> <td>11  </td> <td>10    </td> <td>6            </td> <td>0      </td> <td>0            </td>\n",
       "        </tr>\n",
       "        <tr>\n",
       "            <td>Industrial     </td> <td>2     </td> <td>21  </td> <td>21    </td> <td>4            </td> <td>1      </td> <td>1            </td>\n",
       "        </tr>\n",
       "        <tr>\n",
       "            <td>Media & Telecom</td> <td>2     </td> <td>3   </td> <td>4     </td> <td>19           </td> <td>0      </td> <td>0            </td>\n",
       "        </tr>\n",
       "    </tbody>\n",
       "</table>\n",
       "<p>... (4 rows omitted)</p>"
      ],
      "text/plain": [
       "industry        | Africa | Asia | Europe | North America | Oceania | South America\n",
       "Commodities     | 0      | 7    | 1      | 6             | 2       | 2\n",
       "Consumer        | 0      | 10   | 17     | 14            | 0       | 0\n",
       "Diversified     | 2      | 27   | 13     | 10            | 0       | 0\n",
       "Energy          | 0      | 12   | 1      | 17            | 0       | 0\n",
       "Entertainment   | 0      | 4    | 4      | 9             | 0       | 0\n",
       "Finance         | 0      | 4    | 1      | 29            | 1       | 6\n",
       "Food & Beverage | 1      | 11   | 9      | 14            | 0       | 4\n",
       "Health Care     | 0      | 11   | 10     | 6             | 0       | 0\n",
       "Industrial      | 2      | 21   | 21     | 4             | 1       | 1\n",
       "Media & Telecom | 2      | 3    | 4      | 19            | 0       | 0\n",
       "... (4 rows omitted)"
      ]
     },
     "execution_count": 48,
     "metadata": {},
     "output_type": "execute_result"
    }
   ],
   "source": [
    "b_and_c.pivot('Continent', 'industry')"
   ]
  },
  {
   "cell_type": "code",
   "execution_count": 49,
   "metadata": {},
   "outputs": [
    {
     "name": "stderr",
     "output_type": "stream",
     "text": [
      "/home/jupyter-apoliak@barnard.ed-b8a88/.local/lib/python3.7/site-packages/datascience/tables.py:920: VisibleDeprecationWarning: Creating an ndarray from ragged nested sequences (which is a list-or-tuple of lists-or-tuples-or ndarrays with different lengths or shapes) is deprecated. If you meant to do this, you must specify 'dtype=object' when creating the ndarray\n",
      "  values = np.array(tuple(values))\n"
     ]
    },
    {
     "data": {
      "text/html": [
       "<table border=\"1\" class=\"dataframe\">\n",
       "    <thead>\n",
       "        <tr>\n",
       "            <th>Continent</th> <th>industry</th> <th>count</th>\n",
       "        </tr>\n",
       "    </thead>\n",
       "    <tbody>\n",
       "        <tr>\n",
       "            <td>Africa   </td> <td>Diversified    </td> <td>2    </td>\n",
       "        </tr>\n",
       "        <tr>\n",
       "            <td>Africa   </td> <td>Food & Beverage</td> <td>1    </td>\n",
       "        </tr>\n",
       "        <tr>\n",
       "            <td>Africa   </td> <td>Industrial     </td> <td>2    </td>\n",
       "        </tr>\n",
       "        <tr>\n",
       "            <td>Africa   </td> <td>Media & Telecom</td> <td>2    </td>\n",
       "        </tr>\n",
       "        <tr>\n",
       "            <td>Asia     </td> <td>Commodities    </td> <td>7    </td>\n",
       "        </tr>\n",
       "        <tr>\n",
       "            <td>Asia     </td> <td>Consumer       </td> <td>10   </td>\n",
       "        </tr>\n",
       "        <tr>\n",
       "            <td>Asia     </td> <td>Diversified    </td> <td>27   </td>\n",
       "        </tr>\n",
       "        <tr>\n",
       "            <td>Asia     </td> <td>Energy         </td> <td>12   </td>\n",
       "        </tr>\n",
       "        <tr>\n",
       "            <td>Asia     </td> <td>Entertainment  </td> <td>4    </td>\n",
       "        </tr>\n",
       "        <tr>\n",
       "            <td>Asia     </td> <td>Finance        </td> <td>4    </td>\n",
       "        </tr>\n",
       "    </tbody>\n",
       "</table>\n",
       "<p>... (46 rows omitted)</p>"
      ],
      "text/plain": [
       "Continent | industry        | count\n",
       "Africa    | Diversified     | 2\n",
       "Africa    | Food & Beverage | 1\n",
       "Africa    | Industrial      | 2\n",
       "Africa    | Media & Telecom | 2\n",
       "Asia      | Commodities     | 7\n",
       "Asia      | Consumer        | 10\n",
       "Asia      | Diversified     | 27\n",
       "Asia      | Energy          | 12\n",
       "Asia      | Entertainment   | 4\n",
       "Asia      | Finance         | 4\n",
       "... (46 rows omitted)"
      ]
     },
     "execution_count": 49,
     "metadata": {},
     "output_type": "execute_result"
    }
   ],
   "source": [
    "b_and_c.group(['Continent', 'industry'])"
   ]
  },
  {
   "cell_type": "markdown",
   "metadata": {},
   "source": [
    "##### What is the average net worth of the billionaries in each specific industry and Continent?\n"
   ]
  },
  {
   "cell_type": "code",
   "execution_count": 51,
   "metadata": {},
   "outputs": [
    {
     "data": {
      "text/plain": [
       "('citizenship', 'name', 'net worth', 'industry', 'Continent')"
      ]
     },
     "execution_count": 51,
     "metadata": {},
     "output_type": "execute_result"
    }
   ],
   "source": [
    "b_and_c.labels"
   ]
  },
  {
   "cell_type": "code",
   "execution_count": 52,
   "metadata": {},
   "outputs": [
    {
     "name": "stderr",
     "output_type": "stream",
     "text": [
      "/home/jupyter-apoliak@barnard.ed-b8a88/.local/lib/python3.7/site-packages/datascience/tables.py:920: VisibleDeprecationWarning: Creating an ndarray from ragged nested sequences (which is a list-or-tuple of lists-or-tuples-or ndarrays with different lengths or shapes) is deprecated. If you meant to do this, you must specify 'dtype=object' when creating the ndarray\n",
      "  values = np.array(tuple(values))\n"
     ]
    },
    {
     "data": {
      "text/html": [
       "<table border=\"1\" class=\"dataframe\">\n",
       "    <thead>\n",
       "        <tr>\n",
       "            <th>industry</th> <th>Africa</th> <th>Asia</th> <th>Europe</th> <th>North America</th> <th>Oceania</th> <th>South America</th>\n",
       "        </tr>\n",
       "    </thead>\n",
       "    <tbody>\n",
       "        <tr>\n",
       "            <td>Commodities    </td> <td>0          </td> <td>1.03705e+10</td> <td>9.09765e+09</td> <td>6.89452e+09  </td> <td>1.51032e+10</td> <td>1.00079e+10  </td>\n",
       "        </tr>\n",
       "        <tr>\n",
       "            <td>Consumer       </td> <td>0          </td> <td>8.03002e+09</td> <td>2.10536e+10</td> <td>9.61956e+09  </td> <td>0          </td> <td>0            </td>\n",
       "        </tr>\n",
       "        <tr>\n",
       "            <td>Diversified    </td> <td>7.29722e+09</td> <td>1.01818e+10</td> <td>8.05679e+09</td> <td>2.51075e+10  </td> <td>0          </td> <td>0            </td>\n",
       "        </tr>\n",
       "        <tr>\n",
       "            <td>Energy         </td> <td>0          </td> <td>1.50254e+10</td> <td>7.09577e+09</td> <td>6.72667e+09  </td> <td>0          </td> <td>0            </td>\n",
       "        </tr>\n",
       "        <tr>\n",
       "            <td>Entertainment  </td> <td>0          </td> <td>7.96645e+09</td> <td>5.39832e+09</td> <td>1.05302e+10  </td> <td>0          </td> <td>0            </td>\n",
       "        </tr>\n",
       "        <tr>\n",
       "            <td>Finance        </td> <td>0          </td> <td>8.79806e+09</td> <td>8.31946e+09</td> <td>8.92508e+09  </td> <td>7.07147e+09</td> <td>9.0227e+09   </td>\n",
       "        </tr>\n",
       "        <tr>\n",
       "            <td>Food & Beverage</td> <td>6.15496e+09</td> <td>9.40541e+09</td> <td>1.04686e+10</td> <td>1.27264e+10  </td> <td>0          </td> <td>1.41998e+10  </td>\n",
       "        </tr>\n",
       "        <tr>\n",
       "            <td>Health Care    </td> <td>0          </td> <td>8.79122e+09</td> <td>5.72663e+09</td> <td>1.00891e+10  </td> <td>0          </td> <td>0            </td>\n",
       "        </tr>\n",
       "        <tr>\n",
       "            <td>Industrial     </td> <td>1.16792e+10</td> <td>9.31591e+09</td> <td>1.01403e+10</td> <td>3.71755e+10  </td> <td>6.566e+09  </td> <td>5.36317e+09  </td>\n",
       "        </tr>\n",
       "        <tr>\n",
       "            <td>Media & Telecom</td> <td>4.91348e+09</td> <td>7.12921e+09</td> <td>7.5358e+09 </td> <td>8.63351e+09  </td> <td>0          </td> <td>0            </td>\n",
       "        </tr>\n",
       "    </tbody>\n",
       "</table>\n",
       "<p>... (4 rows omitted)</p>"
      ],
      "text/plain": [
       "industry        | Africa      | Asia        | Europe      | North America | Oceania     | South America\n",
       "Commodities     | 0           | 1.03705e+10 | 9.09765e+09 | 6.89452e+09   | 1.51032e+10 | 1.00079e+10\n",
       "Consumer        | 0           | 8.03002e+09 | 2.10536e+10 | 9.61956e+09   | 0           | 0\n",
       "Diversified     | 7.29722e+09 | 1.01818e+10 | 8.05679e+09 | 2.51075e+10   | 0           | 0\n",
       "Energy          | 0           | 1.50254e+10 | 7.09577e+09 | 6.72667e+09   | 0           | 0\n",
       "Entertainment   | 0           | 7.96645e+09 | 5.39832e+09 | 1.05302e+10   | 0           | 0\n",
       "Finance         | 0           | 8.79806e+09 | 8.31946e+09 | 8.92508e+09   | 7.07147e+09 | 9.0227e+09\n",
       "Food & Beverage | 6.15496e+09 | 9.40541e+09 | 1.04686e+10 | 1.27264e+10   | 0           | 1.41998e+10\n",
       "Health Care     | 0           | 8.79122e+09 | 5.72663e+09 | 1.00891e+10   | 0           | 0\n",
       "Industrial      | 1.16792e+10 | 9.31591e+09 | 1.01403e+10 | 3.71755e+10   | 6.566e+09   | 5.36317e+09\n",
       "Media & Telecom | 4.91348e+09 | 7.12921e+09 | 7.5358e+09  | 8.63351e+09   | 0           | 0\n",
       "... (4 rows omitted)"
      ]
     },
     "execution_count": 52,
     "metadata": {},
     "output_type": "execute_result"
    }
   ],
   "source": [
    "# tbl.pivot(col1, col2, values, collect)\n",
    "b_and_c.pivot('Continent', 'industry', 'net worth', np.average)"
   ]
  },
  {
   "cell_type": "markdown",
   "metadata": {},
   "source": [
    "##### What is the range of net worths of the billionaries in each specific industry and Continent?\n"
   ]
  },
  {
   "cell_type": "code",
   "execution_count": null,
   "metadata": {},
   "outputs": [],
   "source": [
    "def range(x):\n",
    "    return ..."
   ]
  },
  {
   "cell_type": "code",
   "execution_count": null,
   "metadata": {},
   "outputs": [],
   "source": []
  },
  {
   "cell_type": "markdown",
   "metadata": {},
   "source": [
    "# Comparison"
   ]
  },
  {
   "cell_type": "code",
   "execution_count": 53,
   "metadata": {},
   "outputs": [
    {
     "data": {
      "text/plain": [
       "(2, 3)"
      ]
     },
     "execution_count": 53,
     "metadata": {},
     "output_type": "execute_result"
    }
   ],
   "source": [
    "x = 2\n",
    "y = 3\n",
    "x, y"
   ]
  },
  {
   "cell_type": "code",
   "execution_count": 54,
   "metadata": {},
   "outputs": [
    {
     "data": {
      "text/plain": [
       "True"
      ]
     },
     "execution_count": 54,
     "metadata": {},
     "output_type": "execute_result"
    }
   ],
   "source": [
    "x > 1"
   ]
  },
  {
   "cell_type": "code",
   "execution_count": 55,
   "metadata": {},
   "outputs": [
    {
     "data": {
      "text/plain": [
       "True"
      ]
     },
     "execution_count": 55,
     "metadata": {},
     "output_type": "execute_result"
    }
   ],
   "source": [
    "2 > 1"
   ]
  },
  {
   "cell_type": "code",
   "execution_count": 56,
   "metadata": {},
   "outputs": [
    {
     "data": {
      "text/plain": [
       "False"
      ]
     },
     "execution_count": 56,
     "metadata": {},
     "output_type": "execute_result"
    }
   ],
   "source": [
    "x > y"
   ]
  },
  {
   "cell_type": "code",
   "execution_count": 57,
   "metadata": {},
   "outputs": [
    {
     "data": {
      "text/plain": [
       "True"
      ]
     },
     "execution_count": 57,
     "metadata": {},
     "output_type": "execute_result"
    }
   ],
   "source": [
    "y >= 3"
   ]
  },
  {
   "cell_type": "code",
   "execution_count": 58,
   "metadata": {},
   "outputs": [
    {
     "data": {
      "text/plain": [
       "False"
      ]
     },
     "execution_count": 58,
     "metadata": {},
     "output_type": "execute_result"
    }
   ],
   "source": [
    "x == y"
   ]
  },
  {
   "cell_type": "code",
   "execution_count": 60,
   "metadata": {},
   "outputs": [
    {
     "data": {
      "text/plain": [
       "False"
      ]
     },
     "execution_count": 60,
     "metadata": {},
     "output_type": "execute_result"
    }
   ],
   "source": [
    "x != 2"
   ]
  },
  {
   "cell_type": "code",
   "execution_count": 59,
   "metadata": {},
   "outputs": [
    {
     "data": {
      "text/plain": [
       "False"
      ]
     },
     "execution_count": 59,
     "metadata": {},
     "output_type": "execute_result"
    }
   ],
   "source": [
    "2 != 2"
   ]
  },
  {
   "cell_type": "code",
   "execution_count": 65,
   "metadata": {},
   "outputs": [
    {
     "data": {
      "text/plain": [
       "False"
      ]
     },
     "execution_count": 65,
     "metadata": {},
     "output_type": "execute_result"
    }
   ],
   "source": [
    "2 < x < 5"
   ]
  },
  {
   "cell_type": "code",
   "execution_count": 66,
   "metadata": {},
   "outputs": [
    {
     "data": {
      "text/plain": [
       "False"
      ]
     },
     "execution_count": 66,
     "metadata": {},
     "output_type": "execute_result"
    }
   ],
   "source": [
    "-1 * x < -1 * y"
   ]
  },
  {
   "cell_type": "markdown",
   "metadata": {},
   "source": [
    "### Comparing strings\n",
    "\n",
    "What do we think `\"dog\" > \"cat\"` will return?"
   ]
  },
  {
   "cell_type": "code",
   "execution_count": 67,
   "metadata": {},
   "outputs": [
    {
     "data": {
      "text/plain": [
       "True"
      ]
     },
     "execution_count": 67,
     "metadata": {},
     "output_type": "execute_result"
    }
   ],
   "source": [
    "\"dog\" > \"cat\""
   ]
  },
  {
   "cell_type": "code",
   "execution_count": 69,
   "metadata": {},
   "outputs": [
    {
     "data": {
      "text/plain": [
       "True"
      ]
     },
     "execution_count": 69,
     "metadata": {},
     "output_type": "execute_result"
    }
   ],
   "source": [
    "\"zack\" > \"adam\""
   ]
  },
  {
   "cell_type": "code",
   "execution_count": 70,
   "metadata": {},
   "outputs": [
    {
     "data": {
      "text/plain": [
       "True"
      ]
     },
     "execution_count": 70,
     "metadata": {},
     "output_type": "execute_result"
    }
   ],
   "source": [
    "\"cat\" < \"dog\""
   ]
  },
  {
   "cell_type": "markdown",
   "metadata": {},
   "source": [
    "Why is this the case?\n",
    "\n",
    "What about strings that start the same?"
   ]
  },
  {
   "cell_type": "code",
   "execution_count": 71,
   "metadata": {},
   "outputs": [
    {
     "data": {
      "text/plain": [
       "True"
      ]
     },
     "execution_count": 71,
     "metadata": {},
     "output_type": "execute_result"
    }
   ],
   "source": [
    "\"dogma\" > \"dog\""
   ]
  },
  {
   "cell_type": "markdown",
   "metadata": {},
   "source": [
    "### Comparisions to arrays"
   ]
  },
  {
   "cell_type": "code",
   "execution_count": 72,
   "metadata": {},
   "outputs": [
    {
     "data": {
      "text/plain": [
       "array([ 1,  2,  3,  4,  5,  6,  7,  8,  9, 10, 11, 12, 13, 14, 15, 16, 17,\n",
       "       18, 19])"
      ]
     },
     "execution_count": 72,
     "metadata": {},
     "output_type": "execute_result"
    }
   ],
   "source": [
    "range_between_one_twenty = np.arange(1, 20)\n",
    "range_between_one_twenty"
   ]
  },
  {
   "cell_type": "code",
   "execution_count": 73,
   "metadata": {},
   "outputs": [
    {
     "data": {
      "text/plain": [
       "array([ 2,  4,  6,  8, 10, 12, 14, 16, 18, 20, 22, 24, 26, 28, 30, 32, 34,\n",
       "       36, 38])"
      ]
     },
     "execution_count": 73,
     "metadata": {},
     "output_type": "execute_result"
    }
   ],
   "source": [
    "range_between_one_twenty * 2"
   ]
  },
  {
   "cell_type": "code",
   "execution_count": 74,
   "metadata": {},
   "outputs": [
    {
     "data": {
      "text/plain": [
       "array([False, False,  True,  True,  True,  True,  True,  True,  True,\n",
       "        True,  True,  True,  True,  True,  True,  True,  True,  True,\n",
       "        True])"
      ]
     },
     "execution_count": 74,
     "metadata": {},
     "output_type": "execute_result"
    }
   ],
   "source": [
    "range_between_one_twenty > 2"
   ]
  },
  {
   "cell_type": "markdown",
   "metadata": {},
   "source": [
    "back to slides\n",
    "\n",
    "### Combining comparisons\n"
   ]
  },
  {
   "cell_type": "code",
   "execution_count": 80,
   "metadata": {},
   "outputs": [
    {
     "data": {
      "text/plain": [
       "(True, False)"
      ]
     },
     "execution_count": 80,
     "metadata": {},
     "output_type": "execute_result"
    }
   ],
   "source": [
    "a = True\n",
    "b = False\n",
    "a, b"
   ]
  },
  {
   "cell_type": "code",
   "execution_count": 81,
   "metadata": {},
   "outputs": [
    {
     "data": {
      "text/plain": [
       "True"
      ]
     },
     "execution_count": 81,
     "metadata": {},
     "output_type": "execute_result"
    }
   ],
   "source": [
    "a or b"
   ]
  },
  {
   "cell_type": "code",
   "execution_count": 82,
   "metadata": {},
   "outputs": [
    {
     "data": {
      "text/plain": [
       "(False, True)"
      ]
     },
     "execution_count": 82,
     "metadata": {},
     "output_type": "execute_result"
    }
   ],
   "source": [
    "not a, not b"
   ]
  },
  {
   "cell_type": "code",
   "execution_count": 84,
   "metadata": {},
   "outputs": [
    {
     "data": {
      "text/plain": [
       "True"
      ]
     },
     "execution_count": 84,
     "metadata": {},
     "output_type": "execute_result"
    }
   ],
   "source": [
    "\n",
    "#True and (not False)\n",
    "#True and True\n",
    "a and not b"
   ]
  },
  {
   "cell_type": "code",
   "execution_count": null,
   "metadata": {},
   "outputs": [],
   "source": []
  },
  {
   "cell_type": "code",
   "execution_count": 85,
   "metadata": {},
   "outputs": [
    {
     "data": {
      "text/plain": [
       "(2, 3)"
      ]
     },
     "execution_count": 85,
     "metadata": {},
     "output_type": "execute_result"
    }
   ],
   "source": [
    "x, y"
   ]
  },
  {
   "cell_type": "code",
   "execution_count": 86,
   "metadata": {},
   "outputs": [
    {
     "data": {
      "text/plain": [
       "True"
      ]
     },
     "execution_count": 86,
     "metadata": {},
     "output_type": "execute_result"
    }
   ],
   "source": [
    "x > 2 or y > 2"
   ]
  },
  {
   "cell_type": "code",
   "execution_count": 87,
   "metadata": {},
   "outputs": [
    {
     "data": {
      "text/plain": [
       "False"
      ]
     },
     "execution_count": 87,
     "metadata": {},
     "output_type": "execute_result"
    }
   ],
   "source": [
    "x > 2 and y > 2"
   ]
  },
  {
   "cell_type": "code",
   "execution_count": 88,
   "metadata": {},
   "outputs": [
    {
     "data": {
      "text/plain": [
       "False"
      ]
     },
     "execution_count": 88,
     "metadata": {},
     "output_type": "execute_result"
    }
   ],
   "source": [
    "not (x > 2 or y > 2)"
   ]
  },
  {
   "cell_type": "markdown",
   "metadata": {},
   "source": [
    "back to slides\n",
    "### Aggregating Comparisons"
   ]
  },
  {
   "cell_type": "code",
   "execution_count": 89,
   "metadata": {},
   "outputs": [
    {
     "data": {
      "text/plain": [
       "array([ 1,  2,  3,  4,  5,  6,  7,  8,  9, 10, 11, 12, 13, 14, 15, 16, 17,\n",
       "       18, 19])"
      ]
     },
     "execution_count": 89,
     "metadata": {},
     "output_type": "execute_result"
    }
   ],
   "source": [
    "range_between_one_twenty"
   ]
  },
  {
   "cell_type": "code",
   "execution_count": 95,
   "metadata": {},
   "outputs": [
    {
     "data": {
      "text/plain": [
       "True"
      ]
     },
     "execution_count": 95,
     "metadata": {},
     "output_type": "execute_result"
    }
   ],
   "source": [
    "6 % 2 == 0"
   ]
  },
  {
   "cell_type": "markdown",
   "metadata": {},
   "source": [
    "Lets find the number of values that are even"
   ]
  },
  {
   "cell_type": "code",
   "execution_count": 96,
   "metadata": {},
   "outputs": [],
   "source": [
    "# Lets first make a function that tells us if a number is even\n",
    "def is_even(x):\n",
    "    \"\"\" Converts numbers into bool based on whether the number is even or odd\n",
    "    \"\"\"\n",
    "    return x % 2 == 0"
   ]
  },
  {
   "cell_type": "markdown",
   "metadata": {},
   "source": [
    "Let's test if this function works:"
   ]
  },
  {
   "cell_type": "code",
   "execution_count": 97,
   "metadata": {},
   "outputs": [
    {
     "data": {
      "text/plain": [
       "(True, False, True)"
      ]
     },
     "execution_count": 97,
     "metadata": {},
     "output_type": "execute_result"
    }
   ],
   "source": [
    "is_even(2), is_even(5), is_even(-4)"
   ]
  },
  {
   "cell_type": "markdown",
   "metadata": {},
   "source": [
    "Now let's apply this function to our array (either make a new table and use `apply` or pass it to our function)\n"
   ]
  },
  {
   "cell_type": "code",
   "execution_count": 101,
   "metadata": {},
   "outputs": [
    {
     "data": {
      "text/html": [
       "<table border=\"1\" class=\"dataframe\">\n",
       "    <thead>\n",
       "        <tr>\n",
       "            <th>number</th> <th>is_even</th>\n",
       "        </tr>\n",
       "    </thead>\n",
       "    <tbody>\n",
       "        <tr>\n",
       "            <td>1     </td> <td>False  </td>\n",
       "        </tr>\n",
       "        <tr>\n",
       "            <td>2     </td> <td>True   </td>\n",
       "        </tr>\n",
       "        <tr>\n",
       "            <td>3     </td> <td>False  </td>\n",
       "        </tr>\n",
       "        <tr>\n",
       "            <td>4     </td> <td>True   </td>\n",
       "        </tr>\n",
       "        <tr>\n",
       "            <td>5     </td> <td>False  </td>\n",
       "        </tr>\n",
       "        <tr>\n",
       "            <td>6     </td> <td>True   </td>\n",
       "        </tr>\n",
       "        <tr>\n",
       "            <td>7     </td> <td>False  </td>\n",
       "        </tr>\n",
       "        <tr>\n",
       "            <td>8     </td> <td>True   </td>\n",
       "        </tr>\n",
       "        <tr>\n",
       "            <td>9     </td> <td>False  </td>\n",
       "        </tr>\n",
       "        <tr>\n",
       "            <td>10    </td> <td>True   </td>\n",
       "        </tr>\n",
       "    </tbody>\n",
       "</table>\n",
       "<p>... (9 rows omitted)</p>"
      ],
      "text/plain": [
       "number | is_even\n",
       "1      | False\n",
       "2      | True\n",
       "3      | False\n",
       "4      | True\n",
       "5      | False\n",
       "6      | True\n",
       "7      | False\n",
       "8      | True\n",
       "9      | False\n",
       "10     | True\n",
       "... (9 rows omitted)"
      ]
     },
     "execution_count": 101,
     "metadata": {},
     "output_type": "execute_result"
    }
   ],
   "source": [
    "t = Table().with_columns('number', range_between_one_twenty)\n",
    "t = t.with_columns('is_even', t.apply(is_even, 'number'))\n",
    "t"
   ]
  },
  {
   "cell_type": "markdown",
   "metadata": {},
   "source": [
    "Now how many of these numbers are even?"
   ]
  },
  {
   "cell_type": "code",
   "execution_count": 102,
   "metadata": {},
   "outputs": [
    {
     "data": {
      "text/plain": [
       "9"
      ]
     },
     "execution_count": 102,
     "metadata": {},
     "output_type": "execute_result"
    }
   ],
   "source": [
    "sum(t.column('is_even'))"
   ]
  },
  {
   "cell_type": "markdown",
   "metadata": {},
   "source": [
    "back to slides\n",
    "\n",
    "# Control Statements"
   ]
  },
  {
   "cell_type": "code",
   "execution_count": null,
   "metadata": {},
   "outputs": [],
   "source": [
    "def sign(x):\n",
    "    '''\n",
    "    Returns \"positive\", \"negative\", \"zero\" depending on the value of x\n",
    "    Adam: only use if's\n",
    "    '''\n",
    "    return_string = \"\"\n",
    "    ...\n",
    "    return return_string"
   ]
  },
  {
   "cell_type": "code",
   "execution_count": null,
   "metadata": {},
   "outputs": [],
   "source": [
    "sign(10), sign(-10), sign(0)"
   ]
  },
  {
   "cell_type": "markdown",
   "metadata": {},
   "source": [
    "### `if`, `elif`, and `else`"
   ]
  },
  {
   "cell_type": "code",
   "execution_count": null,
   "metadata": {},
   "outputs": [],
   "source": [
    "def sign(x):\n",
    "    '''\n",
    "    Returns \"positive\", \"negative\", \"zero\" depending on the value of x\n",
    "    '''"
   ]
  },
  {
   "cell_type": "markdown",
   "metadata": {},
   "source": [
    "### `abs()`\n",
    "Now try implementing the `abs()` function"
   ]
  },
  {
   "cell_type": "code",
   "execution_count": null,
   "metadata": {},
   "outputs": [],
   "source": [
    "help(abs)"
   ]
  },
  {
   "cell_type": "code",
   "execution_count": null,
   "metadata": {},
   "outputs": [],
   "source": [
    "def abs(x):\n",
    "    ...\n",
    "    "
   ]
  },
  {
   "cell_type": "markdown",
   "metadata": {},
   "source": [
    "# Random Selection"
   ]
  },
  {
   "cell_type": "code",
   "execution_count": null,
   "metadata": {},
   "outputs": [],
   "source": [
    "groups = make_array('treatment', 'control')\n",
    "groups"
   ]
  },
  {
   "cell_type": "markdown",
   "metadata": {},
   "source": [
    "Let's randomly assign 1 individual to each group"
   ]
  },
  {
   "cell_type": "code",
   "execution_count": null,
   "metadata": {},
   "outputs": [],
   "source": []
  },
  {
   "cell_type": "markdown",
   "metadata": {},
   "source": [
    "Let's randomly assign 5 individuals to each group"
   ]
  },
  {
   "cell_type": "code",
   "execution_count": null,
   "metadata": {},
   "outputs": [],
   "source": []
  },
  {
   "cell_type": "markdown",
   "metadata": {},
   "source": [
    "Let's repeat this"
   ]
  },
  {
   "cell_type": "code",
   "execution_count": null,
   "metadata": {},
   "outputs": [],
   "source": []
  },
  {
   "cell_type": "markdown",
   "metadata": {},
   "source": [
    "Do we see any differences?"
   ]
  },
  {
   "cell_type": "code",
   "execution_count": null,
   "metadata": {},
   "outputs": [],
   "source": []
  },
  {
   "cell_type": "markdown",
   "metadata": {},
   "source": [
    "So now let's store the outcome"
   ]
  },
  {
   "cell_type": "code",
   "execution_count": null,
   "metadata": {},
   "outputs": [],
   "source": []
  },
  {
   "cell_type": "markdown",
   "metadata": {},
   "source": [
    "back to slides\n",
    "# `np.append()`\n",
    "Manually grow an empty array to [0,...,8] one element at a time "
   ]
  },
  {
   "cell_type": "code",
   "execution_count": null,
   "metadata": {},
   "outputs": [],
   "source": []
  },
  {
   "cell_type": "markdown",
   "metadata": {},
   "source": [
    "back to slides\n",
    "# `For` Statements"
   ]
  },
  {
   "cell_type": "code",
   "execution_count": null,
   "metadata": {},
   "outputs": [],
   "source": [
    "for i in np.arange(4):\n",
    "    print('iteration', i)"
   ]
  },
  {
   "cell_type": "markdown",
   "metadata": {},
   "source": [
    "Use a for loop to grow the array `t`"
   ]
  },
  {
   "cell_type": "code",
   "execution_count": null,
   "metadata": {},
   "outputs": [],
   "source": []
  },
  {
   "cell_type": "code",
   "execution_count": null,
   "metadata": {},
   "outputs": [],
   "source": [
    "# Initialize Otter\n",
    "import otter\n",
    "grader = otter.Notebook()\n",
    "grader.export(\"Lecture_8_completed.ipynb\", pdf=False)"
   ]
  }
 ],
 "metadata": {
  "kernelspec": {
   "display_name": "Python 3",
   "language": "python",
   "name": "python3"
  },
  "language_info": {
   "codemirror_mode": {
    "name": "ipython",
    "version": 3
   },
   "file_extension": ".py",
   "mimetype": "text/x-python",
   "name": "python",
   "nbconvert_exporter": "python",
   "pygments_lexer": "ipython3",
   "version": "3.8.8"
  }
 },
 "nbformat": 4,
 "nbformat_minor": 4
}
