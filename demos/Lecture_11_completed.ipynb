{
 "cells": [
  {
   "cell_type": "code",
   "execution_count": 2,
   "metadata": {},
   "outputs": [],
   "source": [
    "import numpy as np\n",
    "from datascience import *\n",
    "\n",
    "%matplotlib inline\n",
    "import matplotlib.pyplot as plots\n",
    "plots.style.use('fivethirtyeight')"
   ]
  },
  {
   "cell_type": "markdown",
   "metadata": {},
   "source": [
    "# Heads or Tails Experiment - nope\n",
    "# Baby sleeping experiment\n",
    "\n",
    "Let's run 10 experiments where we flip a coin 100 times and see how many times we get heads.\n",
    "\n",
    "Lets see if footsies pj's help baby boy sleep."
   ]
  },
  {
   "cell_type": "markdown",
   "metadata": {},
   "source": [
    "Before we begin, let's write out all the steps we need to do\n",
    "\n",
    "*Hint: Lets work inside out, i.e. lets first write code for one experiment*"
   ]
  },
  {
   "cell_type": "markdown",
   "metadata": {},
   "source": [
    "1. make an array of heads and tails\n",
    "2. flip a coin randomly (select head or tails at random) \n",
    "3. keep track of whether we got heads our tails"
   ]
  },
  {
   "cell_type": "markdown",
   "metadata": {},
   "source": [
    "1. make an array of heads and tails"
   ]
  },
  {
   "cell_type": "code",
   "execution_count": 3,
   "metadata": {},
   "outputs": [
    {
     "data": {
      "text/plain": [
       "array(['sleeping good', 'bad sleeping'], dtype='<U13')"
      ]
     },
     "execution_count": 3,
     "metadata": {},
     "output_type": "execute_result"
    }
   ],
   "source": [
    "good_night_bad_night = make_array('sleeping good', 'bad sleeping')\n",
    "good_night_bad_night"
   ]
  },
  {
   "cell_type": "markdown",
   "metadata": {},
   "source": [
    "\n",
    "2. flip a coin randomly (select head or tails at random) \n"
   ]
  },
  {
   "cell_type": "code",
   "execution_count": 4,
   "metadata": {},
   "outputs": [
    {
     "data": {
      "text/plain": [
       "array(['bad sleeping', 'bad sleeping', 'sleeping good', 'bad sleeping',\n",
       "       'sleeping good', 'sleeping good', 'sleeping good', 'sleeping good',\n",
       "       'sleeping good', 'sleeping good', 'sleeping good', 'sleeping good',\n",
       "       'sleeping good', 'bad sleeping', 'sleeping good', 'bad sleeping',\n",
       "       'bad sleeping', 'bad sleeping', 'sleeping good', 'bad sleeping',\n",
       "       'sleeping good', 'bad sleeping', 'bad sleeping', 'sleeping good',\n",
       "       'sleeping good', 'sleeping good', 'bad sleeping', 'bad sleeping',\n",
       "       'bad sleeping', 'bad sleeping', 'bad sleeping', 'sleeping good',\n",
       "       'bad sleeping', 'sleeping good', 'bad sleeping', 'sleeping good',\n",
       "       'sleeping good', 'bad sleeping', 'sleeping good', 'bad sleeping',\n",
       "       'sleeping good', 'bad sleeping', 'sleeping good', 'bad sleeping',\n",
       "       'bad sleeping', 'sleeping good', 'sleeping good', 'sleeping good',\n",
       "       'bad sleeping', 'sleeping good', 'bad sleeping', 'sleeping good',\n",
       "       'sleeping good', 'sleeping good', 'sleeping good', 'bad sleeping',\n",
       "       'sleeping good', 'bad sleeping', 'bad sleeping', 'sleeping good',\n",
       "       'bad sleeping', 'sleeping good', 'bad sleeping', 'sleeping good',\n",
       "       'bad sleeping', 'sleeping good', 'sleeping good', 'bad sleeping',\n",
       "       'sleeping good', 'bad sleeping', 'sleeping good', 'sleeping good',\n",
       "       'sleeping good', 'bad sleeping', 'bad sleeping', 'bad sleeping',\n",
       "       'sleeping good', 'sleeping good', 'sleeping good', 'bad sleeping',\n",
       "       'sleeping good', 'bad sleeping', 'bad sleeping', 'bad sleeping',\n",
       "       'sleeping good', 'bad sleeping', 'bad sleeping', 'sleeping good',\n",
       "       'sleeping good', 'sleeping good', 'bad sleeping', 'sleeping good',\n",
       "       'bad sleeping', 'bad sleeping', 'sleeping good', 'sleeping good',\n",
       "       'sleeping good', 'bad sleeping', 'sleeping good', 'sleeping good'],\n",
       "      dtype='<U13')"
      ]
     },
     "execution_count": 4,
     "metadata": {},
     "output_type": "execute_result"
    }
   ],
   "source": [
    "np.random.choice(good_night_bad_night, 100) "
   ]
  },
  {
   "cell_type": "code",
   "execution_count": null,
   "metadata": {},
   "outputs": [],
   "source": [
    "# Step 1: define the statistic:\n",
    "# how many babies slept well ona given night"
   ]
  },
  {
   "cell_type": "code",
   "execution_count": 7,
   "metadata": {},
   "outputs": [
    {
     "data": {
      "text/plain": [
       "40"
      ]
     },
     "execution_count": 7,
     "metadata": {},
     "output_type": "execute_result"
    }
   ],
   "source": [
    "# approach 1: iterate through the rsults from the night and keep a counter\n",
    "\n",
    "one_night_results = np.random.choice(good_night_bad_night, 100) \n",
    "\n",
    "number_of_good_sleeping_babies = 0\n",
    "\n",
    "for night in np.arange(7):\n",
    "    for baby_sleep in one_night_results:\n",
    "        #if baby_sleep == 'sleeping good':\n",
    "\n",
    "        #if baby_sleep.contains(\"good\")\n",
    "\n",
    "        if good_night_bad_night.item(0) == baby_sleep:\n",
    "            number_of_good_sleeping_babies = number_of_good_sleeping_babies + 1\n",
    "\n",
    "    number_of_good_sleeping_babies"
   ]
  },
  {
   "cell_type": "markdown",
   "metadata": {},
   "source": [
    "Put code to compute statistic into a function"
   ]
  },
  {
   "cell_type": "code",
   "execution_count": 15,
   "metadata": {},
   "outputs": [],
   "source": [
    "def simulate_statistic():\n",
    "    \n",
    "    one_night_results = np.random.choice(good_night_bad_night, 100) \n",
    "\n",
    "    number_of_good_sleeping_babies = 0\n",
    "    \n",
    "    for baby_sleep in one_night_results:\n",
    "        #if baby_sleep == 'sleeping good':\n",
    "\n",
    "        #if baby_sleep.contains(\"good\")\n",
    "\n",
    "        if good_night_bad_night.item(0) == baby_sleep:\n",
    "            number_of_good_sleeping_babies = number_of_good_sleeping_babies + 1\n",
    "\n",
    "    return number_of_good_sleeping_babies"
   ]
  },
  {
   "cell_type": "code",
   "execution_count": 12,
   "metadata": {},
   "outputs": [
    {
     "data": {
      "text/plain": [
       "38"
      ]
     },
     "execution_count": 12,
     "metadata": {},
     "output_type": "execute_result"
    }
   ],
   "source": [
    "simulate_statistic()"
   ]
  },
  {
   "cell_type": "code",
   "execution_count": null,
   "metadata": {},
   "outputs": [],
   "source": [
    "# make empty array to store the results"
   ]
  },
  {
   "cell_type": "code",
   "execution_count": 21,
   "metadata": {},
   "outputs": [
    {
     "data": {
      "text/plain": [
       "array([49., 51., 49., 52., 47., 54., 50., 55., 53., 45., 46., 60., 45.,\n",
       "       48., 55., 55., 56., 42., 53., 51., 57., 51., 51., 49., 41., 52.,\n",
       "       47., 53., 52., 52., 55., 49., 44., 52., 50., 53., 50., 50., 49.,\n",
       "       52., 38., 61., 53., 51., 44., 57., 57., 52., 56., 42., 53., 50.,\n",
       "       47., 56., 51., 51., 57., 44., 46., 46., 50., 46., 49., 50., 54.,\n",
       "       57., 49., 46., 51., 47., 49., 54., 44., 51., 55., 46., 51., 50.,\n",
       "       49., 45., 57., 42., 54., 60., 45., 52., 51., 52., 47., 50., 44.,\n",
       "       55., 54., 52., 47., 49., 53., 45., 47., 52., 51., 53., 42., 55.,\n",
       "       45., 51., 42., 50., 47., 45., 47., 57., 49., 44., 47., 47., 53.,\n",
       "       51., 52., 49., 50., 54., 47., 55., 52., 50., 53., 58., 47., 54.,\n",
       "       51., 52., 51., 54., 53., 53., 47., 36., 47., 47., 56., 56., 52.,\n",
       "       53., 43., 47., 52., 60., 54., 41., 44., 38., 52., 48., 49., 50.,\n",
       "       46., 49., 53., 59., 52., 41., 45., 53., 39., 46., 44., 52., 50.,\n",
       "       47., 43., 40., 46., 51., 59., 52., 41., 40., 67., 49., 52., 46.,\n",
       "       49., 49., 44., 48., 47., 49., 52., 55., 45., 51., 55., 48., 45.,\n",
       "       55., 58., 52., 51., 44., 55., 44., 50., 51., 51., 52., 46., 50.,\n",
       "       48., 47., 54., 43., 49., 49., 38., 47., 51., 46., 52., 50., 48.,\n",
       "       45., 51., 46., 46., 63., 47., 44., 44., 42., 46., 55., 46., 51.,\n",
       "       49., 48., 44., 49., 48., 56., 53., 45., 54., 56., 52., 54., 56.,\n",
       "       52., 46., 39., 45., 54., 48., 45., 40., 50., 51., 52., 45., 47.,\n",
       "       51., 50., 40., 44., 48., 48., 60., 50., 47., 47., 52., 49., 56.,\n",
       "       50., 57., 54., 37., 51., 51., 58., 51., 56., 45., 52., 44., 52.,\n",
       "       54., 51., 54., 46., 56., 54., 50., 42., 54., 44., 61., 52., 59.,\n",
       "       51., 48., 51., 49., 51., 44., 57., 50., 51., 51., 51., 51., 60.,\n",
       "       44., 55., 53., 46., 52., 48., 45., 46., 42., 58., 49., 50., 53.,\n",
       "       58., 44., 54., 47., 55., 48., 43., 56., 44., 40., 55., 55., 46.,\n",
       "       53., 47., 57., 60., 52., 48., 55., 41., 55., 49., 50., 49., 51.,\n",
       "       47., 47., 48., 43., 46., 49., 48., 55., 54., 47., 57., 46., 54.,\n",
       "       50., 48., 51., 52., 43., 48., 47., 64., 53., 51., 43., 55., 55.,\n",
       "       53., 50., 52., 49., 59., 48., 48., 45., 43., 50., 57., 50., 55.,\n",
       "       45., 45., 50., 50., 49., 43., 48., 47., 54., 52., 41., 48., 54.,\n",
       "       49., 54., 54., 51., 53., 48., 54., 44., 50., 45., 39., 52., 54.,\n",
       "       53., 46., 43., 52., 42., 51., 47., 47., 56., 43., 55., 52., 50.,\n",
       "       48., 54., 60., 55., 43., 42., 50., 53., 48., 53., 51., 51., 50.,\n",
       "       46., 47., 46., 51., 52., 48., 52., 42., 52., 60., 47., 49., 53.,\n",
       "       52., 52., 47., 51., 57., 52., 42., 50., 43., 53., 53., 44., 41.,\n",
       "       47., 44., 51., 61., 43., 54., 59., 52., 57., 59., 53., 51., 53.,\n",
       "       53., 52., 53., 54., 49., 53., 54., 53., 47., 43., 48., 56., 50.,\n",
       "       53., 45., 47., 55., 49., 46., 51., 44., 50., 53., 45., 53., 54.,\n",
       "       57., 52., 41., 45., 55., 50., 50., 53., 55., 51., 45., 42., 49.,\n",
       "       46., 47., 49., 55., 49., 44., 44., 55., 45., 56., 45., 58., 48.,\n",
       "       44., 48., 50., 46., 50., 40., 51., 47., 63., 41., 52., 56., 55.,\n",
       "       51., 44., 44., 52., 45., 39., 49., 48., 39., 43., 42., 47., 51.,\n",
       "       54., 36., 46., 53., 41., 57., 50., 43., 54., 40., 58., 56., 48.,\n",
       "       49., 51., 51., 51., 48., 48., 52., 53., 55., 47., 52., 52., 44.,\n",
       "       52., 45., 50., 42., 48., 62., 48., 42., 58., 51., 45., 53., 58.,\n",
       "       61., 49., 45., 54., 51., 57., 50., 49., 49., 49., 58., 55., 50.,\n",
       "       41., 44., 43., 53., 53., 47., 61., 50., 50., 58., 57., 44., 54.,\n",
       "       61., 53., 44., 46., 33., 54., 49., 52., 55., 54., 51., 53., 47.,\n",
       "       56., 53., 59., 50., 46., 53., 46., 52., 54., 51., 49., 52., 44.,\n",
       "       51., 47., 54., 45., 56., 49., 44., 46., 49., 55., 44., 47., 48.,\n",
       "       48., 46., 55., 52., 43., 60., 43., 46., 50., 47., 46., 46., 38.,\n",
       "       56., 49., 55., 46., 44., 55., 64., 50., 48., 47., 49., 47., 51.,\n",
       "       46., 54., 56., 49., 61., 57., 45., 50., 50., 53., 44., 49., 49.,\n",
       "       52., 53., 57., 53., 49., 56., 55., 53., 55., 46., 58., 49., 52.,\n",
       "       43., 58., 52., 51., 53., 55., 59., 46., 43., 51., 66., 51., 60.,\n",
       "       41., 53., 46., 52., 46., 51., 51., 44., 51., 42., 49., 53., 57.,\n",
       "       44., 56., 52., 48., 41., 45., 44., 52., 48., 41., 44., 55., 69.,\n",
       "       53., 53., 54., 50., 53., 51., 53., 48., 50., 52., 51., 47., 42.,\n",
       "       50., 49., 54., 45., 46., 53., 49., 54., 57., 48., 48., 46., 60.,\n",
       "       55., 51., 41., 52., 49., 54., 52., 49., 53., 46., 56., 57., 55.,\n",
       "       50., 36., 43., 53., 48., 52., 58., 52., 52., 54., 55., 50., 48.,\n",
       "       57., 54., 54., 46., 58., 45., 44., 54., 54., 52., 49., 48., 59.,\n",
       "       47., 45., 53., 60., 53., 52., 45., 56., 49., 56., 53., 47., 47.,\n",
       "       44., 44., 50., 51., 51., 55., 50., 53., 54., 50., 46., 54., 52.,\n",
       "       52., 50., 49., 52., 60., 56., 51., 52., 48., 51., 50., 49., 34.,\n",
       "       47., 58., 53., 49., 36., 50., 59., 52., 52., 49., 48., 55., 54.,\n",
       "       46., 42., 61., 48., 47., 46., 46., 55., 54., 49., 59., 54., 43.,\n",
       "       61., 54., 52., 50., 54., 48., 54., 50., 38., 60., 59., 52., 40.,\n",
       "       47., 58., 43., 51., 52., 51., 51., 55., 47., 48., 43., 51., 51.,\n",
       "       53., 46., 60., 50., 53., 45., 46., 46., 46., 48., 55., 53., 47.,\n",
       "       63., 57., 53., 41., 54., 50., 53., 50., 48., 55., 55., 45., 56.,\n",
       "       45., 52., 47., 52., 49., 49., 48., 48., 50., 47., 52., 47., 53.,\n",
       "       54., 52., 45., 41., 51., 50., 49., 55., 55., 51., 48., 47., 45.,\n",
       "       48., 48., 52., 52., 55., 51., 55., 52., 43., 40., 46., 57., 45.,\n",
       "       56., 51., 44., 52., 54., 48., 56., 56., 55., 52., 56., 48., 44.,\n",
       "       52., 54., 38., 51., 47., 45., 54., 51., 44., 53., 54., 47.])"
      ]
     },
     "execution_count": 21,
     "metadata": {},
     "output_type": "execute_result"
    }
   ],
   "source": [
    "results = make_array()\n",
    "results\n",
    "\n",
    "for day in np.arange(1000):\n",
    "    # how many babies slept well each night\n",
    "    simulated_statistic = simulate_statistic()\n",
    "    \n",
    "    results = np.append(results, simulated_statistic)\n",
    "results"
   ]
  },
  {
   "cell_type": "code",
   "execution_count": null,
   "metadata": {},
   "outputs": [],
   "source": []
  },
  {
   "cell_type": "code",
   "execution_count": 14,
   "metadata": {},
   "outputs": [
    {
     "data": {
      "text/plain": [
       "0"
      ]
     },
     "execution_count": 14,
     "metadata": {},
     "output_type": "execute_result"
    }
   ],
   "source": [
    "len(results)"
   ]
  },
  {
   "cell_type": "code",
   "execution_count": null,
   "metadata": {},
   "outputs": [],
   "source": [
    "for day in np.arange(7)"
   ]
  },
  {
   "cell_type": "code",
   "execution_count": 5,
   "metadata": {},
   "outputs": [
    {
     "data": {
      "text/plain": [
       "'sleeping good'"
      ]
     },
     "execution_count": 5,
     "metadata": {},
     "output_type": "execute_result"
    }
   ],
   "source": [
    "    good_night_bad_night.item(0) == baby_sleep"
   ]
  },
  {
   "cell_type": "code",
   "execution_count": null,
   "metadata": {},
   "outputs": [],
   "source": []
  },
  {
   "cell_type": "markdown",
   "metadata": {},
   "source": [
    " \n",
    "3. keep track of how many bablies slept well"
   ]
  },
  {
   "cell_type": "code",
   "execution_count": null,
   "metadata": {},
   "outputs": [],
   "source": [
    "sum(np.random.choice(coins, 100) == 'heads')"
   ]
  },
  {
   "cell_type": "markdown",
   "metadata": {},
   "source": [
    "Repeat this 1000 times and keep track of each run of our experiment"
   ]
  },
  {
   "cell_type": "code",
   "execution_count": null,
   "metadata": {},
   "outputs": [],
   "source": [
    "num_heads = make_array()\n",
    "for i in np.arange(1000):\n",
    "    num_heads = np.append(num_heads, sum(np.random.choice(coins, 100) == 'heads'))\n",
    "num_heads"
   ]
  },
  {
   "cell_type": "markdown",
   "metadata": {},
   "source": [
    "Let's plot the results from the experiments. What type of plot should we use?"
   ]
  },
  {
   "cell_type": "code",
   "execution_count": 22,
   "metadata": {
    "scrolled": true
   },
   "outputs": [
    {
     "data": {
      "text/plain": [
       "array([49., 51., 49., 52., 47., 54., 50., 55., 53., 45., 46., 60., 45.,\n",
       "       48., 55., 55., 56., 42., 53., 51., 57., 51., 51., 49., 41., 52.,\n",
       "       47., 53., 52., 52., 55., 49., 44., 52., 50., 53., 50., 50., 49.,\n",
       "       52., 38., 61., 53., 51., 44., 57., 57., 52., 56., 42., 53., 50.,\n",
       "       47., 56., 51., 51., 57., 44., 46., 46., 50., 46., 49., 50., 54.,\n",
       "       57., 49., 46., 51., 47., 49., 54., 44., 51., 55., 46., 51., 50.,\n",
       "       49., 45., 57., 42., 54., 60., 45., 52., 51., 52., 47., 50., 44.,\n",
       "       55., 54., 52., 47., 49., 53., 45., 47., 52., 51., 53., 42., 55.,\n",
       "       45., 51., 42., 50., 47., 45., 47., 57., 49., 44., 47., 47., 53.,\n",
       "       51., 52., 49., 50., 54., 47., 55., 52., 50., 53., 58., 47., 54.,\n",
       "       51., 52., 51., 54., 53., 53., 47., 36., 47., 47., 56., 56., 52.,\n",
       "       53., 43., 47., 52., 60., 54., 41., 44., 38., 52., 48., 49., 50.,\n",
       "       46., 49., 53., 59., 52., 41., 45., 53., 39., 46., 44., 52., 50.,\n",
       "       47., 43., 40., 46., 51., 59., 52., 41., 40., 67., 49., 52., 46.,\n",
       "       49., 49., 44., 48., 47., 49., 52., 55., 45., 51., 55., 48., 45.,\n",
       "       55., 58., 52., 51., 44., 55., 44., 50., 51., 51., 52., 46., 50.,\n",
       "       48., 47., 54., 43., 49., 49., 38., 47., 51., 46., 52., 50., 48.,\n",
       "       45., 51., 46., 46., 63., 47., 44., 44., 42., 46., 55., 46., 51.,\n",
       "       49., 48., 44., 49., 48., 56., 53., 45., 54., 56., 52., 54., 56.,\n",
       "       52., 46., 39., 45., 54., 48., 45., 40., 50., 51., 52., 45., 47.,\n",
       "       51., 50., 40., 44., 48., 48., 60., 50., 47., 47., 52., 49., 56.,\n",
       "       50., 57., 54., 37., 51., 51., 58., 51., 56., 45., 52., 44., 52.,\n",
       "       54., 51., 54., 46., 56., 54., 50., 42., 54., 44., 61., 52., 59.,\n",
       "       51., 48., 51., 49., 51., 44., 57., 50., 51., 51., 51., 51., 60.,\n",
       "       44., 55., 53., 46., 52., 48., 45., 46., 42., 58., 49., 50., 53.,\n",
       "       58., 44., 54., 47., 55., 48., 43., 56., 44., 40., 55., 55., 46.,\n",
       "       53., 47., 57., 60., 52., 48., 55., 41., 55., 49., 50., 49., 51.,\n",
       "       47., 47., 48., 43., 46., 49., 48., 55., 54., 47., 57., 46., 54.,\n",
       "       50., 48., 51., 52., 43., 48., 47., 64., 53., 51., 43., 55., 55.,\n",
       "       53., 50., 52., 49., 59., 48., 48., 45., 43., 50., 57., 50., 55.,\n",
       "       45., 45., 50., 50., 49., 43., 48., 47., 54., 52., 41., 48., 54.,\n",
       "       49., 54., 54., 51., 53., 48., 54., 44., 50., 45., 39., 52., 54.,\n",
       "       53., 46., 43., 52., 42., 51., 47., 47., 56., 43., 55., 52., 50.,\n",
       "       48., 54., 60., 55., 43., 42., 50., 53., 48., 53., 51., 51., 50.,\n",
       "       46., 47., 46., 51., 52., 48., 52., 42., 52., 60., 47., 49., 53.,\n",
       "       52., 52., 47., 51., 57., 52., 42., 50., 43., 53., 53., 44., 41.,\n",
       "       47., 44., 51., 61., 43., 54., 59., 52., 57., 59., 53., 51., 53.,\n",
       "       53., 52., 53., 54., 49., 53., 54., 53., 47., 43., 48., 56., 50.,\n",
       "       53., 45., 47., 55., 49., 46., 51., 44., 50., 53., 45., 53., 54.,\n",
       "       57., 52., 41., 45., 55., 50., 50., 53., 55., 51., 45., 42., 49.,\n",
       "       46., 47., 49., 55., 49., 44., 44., 55., 45., 56., 45., 58., 48.,\n",
       "       44., 48., 50., 46., 50., 40., 51., 47., 63., 41., 52., 56., 55.,\n",
       "       51., 44., 44., 52., 45., 39., 49., 48., 39., 43., 42., 47., 51.,\n",
       "       54., 36., 46., 53., 41., 57., 50., 43., 54., 40., 58., 56., 48.,\n",
       "       49., 51., 51., 51., 48., 48., 52., 53., 55., 47., 52., 52., 44.,\n",
       "       52., 45., 50., 42., 48., 62., 48., 42., 58., 51., 45., 53., 58.,\n",
       "       61., 49., 45., 54., 51., 57., 50., 49., 49., 49., 58., 55., 50.,\n",
       "       41., 44., 43., 53., 53., 47., 61., 50., 50., 58., 57., 44., 54.,\n",
       "       61., 53., 44., 46., 33., 54., 49., 52., 55., 54., 51., 53., 47.,\n",
       "       56., 53., 59., 50., 46., 53., 46., 52., 54., 51., 49., 52., 44.,\n",
       "       51., 47., 54., 45., 56., 49., 44., 46., 49., 55., 44., 47., 48.,\n",
       "       48., 46., 55., 52., 43., 60., 43., 46., 50., 47., 46., 46., 38.,\n",
       "       56., 49., 55., 46., 44., 55., 64., 50., 48., 47., 49., 47., 51.,\n",
       "       46., 54., 56., 49., 61., 57., 45., 50., 50., 53., 44., 49., 49.,\n",
       "       52., 53., 57., 53., 49., 56., 55., 53., 55., 46., 58., 49., 52.,\n",
       "       43., 58., 52., 51., 53., 55., 59., 46., 43., 51., 66., 51., 60.,\n",
       "       41., 53., 46., 52., 46., 51., 51., 44., 51., 42., 49., 53., 57.,\n",
       "       44., 56., 52., 48., 41., 45., 44., 52., 48., 41., 44., 55., 69.,\n",
       "       53., 53., 54., 50., 53., 51., 53., 48., 50., 52., 51., 47., 42.,\n",
       "       50., 49., 54., 45., 46., 53., 49., 54., 57., 48., 48., 46., 60.,\n",
       "       55., 51., 41., 52., 49., 54., 52., 49., 53., 46., 56., 57., 55.,\n",
       "       50., 36., 43., 53., 48., 52., 58., 52., 52., 54., 55., 50., 48.,\n",
       "       57., 54., 54., 46., 58., 45., 44., 54., 54., 52., 49., 48., 59.,\n",
       "       47., 45., 53., 60., 53., 52., 45., 56., 49., 56., 53., 47., 47.,\n",
       "       44., 44., 50., 51., 51., 55., 50., 53., 54., 50., 46., 54., 52.,\n",
       "       52., 50., 49., 52., 60., 56., 51., 52., 48., 51., 50., 49., 34.,\n",
       "       47., 58., 53., 49., 36., 50., 59., 52., 52., 49., 48., 55., 54.,\n",
       "       46., 42., 61., 48., 47., 46., 46., 55., 54., 49., 59., 54., 43.,\n",
       "       61., 54., 52., 50., 54., 48., 54., 50., 38., 60., 59., 52., 40.,\n",
       "       47., 58., 43., 51., 52., 51., 51., 55., 47., 48., 43., 51., 51.,\n",
       "       53., 46., 60., 50., 53., 45., 46., 46., 46., 48., 55., 53., 47.,\n",
       "       63., 57., 53., 41., 54., 50., 53., 50., 48., 55., 55., 45., 56.,\n",
       "       45., 52., 47., 52., 49., 49., 48., 48., 50., 47., 52., 47., 53.,\n",
       "       54., 52., 45., 41., 51., 50., 49., 55., 55., 51., 48., 47., 45.,\n",
       "       48., 48., 52., 52., 55., 51., 55., 52., 43., 40., 46., 57., 45.,\n",
       "       56., 51., 44., 52., 54., 48., 56., 56., 55., 52., 56., 48., 44.,\n",
       "       52., 54., 38., 51., 47., 45., 54., 51., 44., 53., 54., 47.])"
      ]
     },
     "execution_count": 22,
     "metadata": {},
     "output_type": "execute_result"
    }
   ],
   "source": [
    "results"
   ]
  },
  {
   "cell_type": "code",
   "execution_count": 34,
   "metadata": {},
   "outputs": [
    {
     "data": {
      "image/png": "[encoded data removed]",
      "text/plain": [
       "<Figure size 432x288 with 1 Axes>"
      ]
     },
     "metadata": {},
     "output_type": "display_data"
    }
   ],
   "source": [
    "results = make_array()\n",
    "results\n",
    "\n",
    "for day in np.arange(1000):\n",
    "    # how many babies slept well each night\n",
    "    simulated_statistic = simulate_statistic()\n",
    "    \n",
    "    results = np.append(results, simulated_statistic)\n",
    "results\n",
    "\n",
    "results_tbl = Table().with_columns(\"results\", results)\n",
    "results_tbl.hist(bins=np.arange(30, 70, 5))"
   ]
  },
  {
   "cell_type": "markdown",
   "metadata": {},
   "source": [
    "How many times did we get 40 through 60 babies sleeping well? What percentage of our simulations do these represent?"
   ]
  },
  {
   "cell_type": "code",
   "execution_count": 35,
   "metadata": {},
   "outputs": [
    {
     "data": {
      "text/plain": [
       "949"
      ]
     },
     "execution_count": 35,
     "metadata": {},
     "output_type": "execute_result"
    }
   ],
   "source": [
    "results_tbl.where(0, are.between(40,60)).num_rows"
   ]
  },
  {
   "cell_type": "code",
   "execution_count": null,
   "metadata": {},
   "outputs": [],
   "source": []
  },
  {
   "cell_type": "code",
   "execution_count": null,
   "metadata": {},
   "outputs": [],
   "source": []
  },
  {
   "cell_type": "code",
   "execution_count": null,
   "metadata": {},
   "outputs": [],
   "source": []
  },
  {
   "cell_type": "code",
   "execution_count": null,
   "metadata": {},
   "outputs": [],
   "source": []
  },
  {
   "cell_type": "code",
   "execution_count": null,
   "metadata": {},
   "outputs": [],
   "source": []
  },
  {
   "cell_type": "markdown",
   "metadata": {},
   "source": [
    "(back to slides)\n",
    "\n",
    "# Monty Hall Simulation"
   ]
  },
  {
   "cell_type": "markdown",
   "metadata": {},
   "source": [
    "Lets make an array of what can be behind each door"
   ]
  },
  {
   "cell_type": "code",
   "execution_count": null,
   "metadata": {},
   "outputs": [],
   "source": [
    "goats = make_array('first goat', 'second goat')\n",
    "hidden_behind_door = np.append(goats, 'car') # Lets add the car "
   ]
  },
  {
   "cell_type": "markdown",
   "metadata": {},
   "source": [
    "Let's make a choice. We won't choose a door but rather whats behind the door"
   ]
  },
  {
   "cell_type": "code",
   "execution_count": null,
   "metadata": {},
   "outputs": [],
   "source": [
    "# Remember np.random.choice\n",
    "contestant_choice = ...\n",
    "contestant_choice"
   ]
  },
  {
   "cell_type": "code",
   "execution_count": null,
   "metadata": {},
   "outputs": [],
   "source": [
    "def other_goat(a_goat):\n",
    "    ''' Returns the other goat that wasn't chosen\n",
    "    if first goat, then return something\n",
    "    elif second goat, then return something\n",
    "    '''\n",
    "    ...\n",
    "    return ..."
   ]
  },
  {
   "cell_type": "markdown",
   "metadata": {},
   "source": [
    "Let's test `other_goat()`"
   ]
  },
  {
   "cell_type": "code",
   "execution_count": null,
   "metadata": {},
   "outputs": [],
   "source": []
  },
  {
   "cell_type": "code",
   "execution_count": null,
   "metadata": {},
   "outputs": [],
   "source": []
  },
  {
   "cell_type": "markdown",
   "metadata": {},
   "source": [
    "What happens next? \n",
    "Monty chooses the door to show and we have a remaining door"
   ]
  },
  {
   "cell_type": "code",
   "execution_count": null,
   "metadata": {},
   "outputs": [],
   "source": [
    "monty_choice = ...\n",
    "remaining_door = ..."
   ]
  },
  {
   "cell_type": "markdown",
   "metadata": {},
   "source": [
    "But remember, these choices are conditioned on what the contestant chose"
   ]
  },
  {
   "cell_type": "code",
   "execution_count": null,
   "metadata": {},
   "outputs": [],
   "source": [
    "if ...: # one option for contest's choice\n",
    "    ...\n",
    "elif ...: # second option for contests's choice\n",
    "    ...\n",
    "elif ...: # third option for contestants choice\n",
    "    ...\n",
    "    \n",
    "contestant_choice, monty_choice, remaining_door"
   ]
  },
  {
   "cell_type": "markdown",
   "metadata": {},
   "source": [
    "Let's add this to a function so that we can run many simulations of the game"
   ]
  },
  {
   "cell_type": "code",
   "execution_count": null,
   "metadata": {},
   "outputs": [],
   "source": [
    "def monty_hall():\n",
    "    '''\n",
    "    Simulates one run of monty hall.\n",
    "    Returns values behind contestant_choice, monty_choice, remaining_door\n",
    "    '''\n",
    "    ...\n",
    "    return "
   ]
  },
  {
   "cell_type": "markdown",
   "metadata": {},
   "source": [
    "Now let's play this game once"
   ]
  },
  {
   "cell_type": "code",
   "execution_count": null,
   "metadata": {},
   "outputs": [],
   "source": []
  },
  {
   "cell_type": "markdown",
   "metadata": {},
   "source": [
    "Let's play it another time"
   ]
  },
  {
   "cell_type": "code",
   "execution_count": null,
   "metadata": {},
   "outputs": [],
   "source": []
  },
  {
   "cell_type": "markdown",
   "metadata": {},
   "source": [
    "#### Let's play this game multiple times\n",
    "How could we do that based on what we learned in today's lecture?"
   ]
  },
  {
   "cell_type": "code",
   "execution_count": null,
   "metadata": {},
   "outputs": [],
   "source": []
  },
  {
   "cell_type": "markdown",
   "metadata": {},
   "source": [
    "### Simulations\n",
    "\n",
    "Let's make a table where we will keep simulations\n",
    "We want to keep track of the original guess, what was revealed, and what is remaining in the other hidden door"
   ]
  },
  {
   "cell_type": "code",
   "execution_count": null,
   "metadata": {},
   "outputs": [],
   "source": [
    "games = Table(['Guess', 'Revealed', 'Remaining'])"
   ]
  },
  {
   "cell_type": "code",
   "execution_count": null,
   "metadata": {},
   "outputs": [],
   "source": []
  },
  {
   "cell_type": "markdown",
   "metadata": {},
   "source": [
    "### How could we see what remains for each guess?\n",
    "what metho dshould we call on the table?"
   ]
  },
  {
   "cell_type": "code",
   "execution_count": null,
   "metadata": {},
   "outputs": [],
   "source": []
  },
  {
   "cell_type": "markdown",
   "metadata": {},
   "source": [
    "Let's group on the remaining to decide if we should change?"
   ]
  },
  {
   "cell_type": "code",
   "execution_count": null,
   "metadata": {},
   "outputs": [],
   "source": []
  },
  {
   "cell_type": "code",
   "execution_count": null,
   "metadata": {},
   "outputs": [],
   "source": [
    "# Initialize Otter\n",
    "import otter\n",
    "grader = otter.Notebook()\n",
    "grader.export(\"Lecture_9_completed.ipynb\", pdf=False)"
   ]
  }
 ],
 "metadata": {
  "kernelspec": {
   "display_name": "Python 3",
   "language": "python",
   "name": "python3"
  },
  "language_info": {
   "codemirror_mode": {
    "name": "ipython",
    "version": 3
   },
   "file_extension": ".py",
   "mimetype": "text/x-python",
   "name": "python",
   "nbconvert_exporter": "python",
   "pygments_lexer": "ipython3",
   "version": "3.8.8"
  }
 },
 "nbformat": 4,
 "nbformat_minor": 4
}
