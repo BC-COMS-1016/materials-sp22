{
 "cells": [
  {
   "cell_type": "code",
   "execution_count": 1,
   "id": "speaking-metropolitan",
   "metadata": {},
   "outputs": [],
   "source": [
    "from datascience import *\n",
    "import numpy as np\n",
    "\n",
    "%matplotlib inline\n",
    "import matplotlib.pyplot as plots\n",
    "plots.style.use('fivethirtyeight')"
   ]
  },
  {
   "cell_type": "markdown",
   "id": "unlikely-comedy",
   "metadata": {},
   "source": [
    "# Comparing Two Samples\n",
    "Let's walk through these two functions together"
   ]
  },
  {
   "cell_type": "code",
   "execution_count": null,
   "id": "rough-range",
   "metadata": {},
   "outputs": [],
   "source": [
    "def difference_of_means(table, numeric_label, group_label):\n",
    "    \"\"\"\n",
    "    Takes: name of table, column label of numerical variable,\n",
    "    column label of group-label variable\n",
    "    \n",
    "    Returns: Difference of means of the two groups\n",
    "    \"\"\"\n",
    "    \n",
    "    #table with the two relevant columns\n",
    "    reduced = table.select(numeric_label, group_label)  \n",
    "    \n",
    "    # table containing group means\n",
    "    means_table = reduced.group(group_label, np.average)\n",
    "    \n",
    "    # array of group means\n",
    "    means = means_table.column(1)\n",
    "    \n",
    "    return means.item(1) - means.item(0)"
   ]
  },
  {
   "cell_type": "code",
   "execution_count": null,
   "id": "resistant-moscow",
   "metadata": {},
   "outputs": [],
   "source": [
    "def one_simulated_difference(table, numeric_label, group_label):\n",
    "    \"\"\"\n",
    "    Takes: name of table, column label of numerical variable,\n",
    "    column label of group-label variable\n",
    "    \n",
    "    Returns: Difference of means of the two groups after shuffling labels\n",
    "    \"\"\"\n",
    "    \n",
    "    # array of shuffled labels\n",
    "    shuffled_labels = table.sample(\n",
    "        with_replacement = False).column(group_label)\n",
    "    \n",
    "    # table of numerical variable and shuffled labels\n",
    "    shuffled_table = table.select(numeric_label).with_column(\n",
    "        'Shuffled Label', shuffled_labels)\n",
    "    \n",
    "    return difference_of_means(\n",
    "        shuffled_table, numeric_label, 'Shuffled Label')"
   ]
  },
  {
   "cell_type": "markdown",
   "id": "monthly-leonard",
   "metadata": {},
   "source": [
    "(back to slides)\n",
    "# Randomized Control Trial\n",
    "Let's look at the example from the textbook the discusses whether\n",
    "botulinum toxin A causes pain relief"
   ]
  },
  {
   "cell_type": "markdown",
   "id": "handed-struggle",
   "metadata": {},
   "source": [
    "The data is stored in a csv file named `bta.csv`.\n",
    "How can we load in the data?"
   ]
  },
  {
   "cell_type": "code",
   "execution_count": null,
   "id": "spatial-following",
   "metadata": {},
   "outputs": [],
   "source": [
    "bta = ...\n",
    "bta.show()"
   ]
  },
  {
   "cell_type": "markdown",
   "id": "assisted-parameter",
   "metadata": {},
   "source": [
    "**QUESTION:** What do the columns and values represent?\n",
    "\n",
    "What table function can we use to help us figure this out? \n",
    "\n",
    "*Hint: what function shows us the statistics about the values a column has?*\n",
    "\n",
    "<details>\n",
    "<summary>Solution</summary>\n",
    "  botox.pivot('Result', 'Group')\n",
    "</details>"
   ]
  },
  {
   "cell_type": "code",
   "execution_count": null,
   "id": "brief-gabriel",
   "metadata": {},
   "outputs": [],
   "source": [
    "bta.pivot(\"Result\", \"Group\")"
   ]
  },
  {
   "cell_type": "markdown",
   "id": "bright-render",
   "metadata": {},
   "source": [
    "**QUESTION:** What statistic should we use here to see a difference between the groups?"
   ]
  },
  {
   "cell_type": "markdown",
   "id": "absolute-volume",
   "metadata": {},
   "source": [
    "<details>\n",
    "<summary>Review</summary>\n",
    "  Copy the following in markdown below <br>\n",
    "    ![title](hypothesis_testing_stat_review.png)\n",
    "</details>"
   ]
  },
  {
   "cell_type": "code",
   "execution_count": null,
   "id": "viral-memorial",
   "metadata": {},
   "outputs": [],
   "source": []
  },
  {
   "cell_type": "markdown",
   "id": "dimensional-right",
   "metadata": {},
   "source": [
    "<details>\n",
    "<summary>Solution</summary>\n",
    "  difference of means\n",
    "</details>"
   ]
  },
  {
   "cell_type": "markdown",
   "id": "prompt-devil",
   "metadata": {},
   "source": [
    "**QUESTION:** How do we compute that difference?\n",
    "\n",
    "<details>\n",
    "<summary>Solution</summary>\n",
    "  botox.group('Group', np.average)\n",
    "    <br><br>\n",
    "  tmp_tbl = botox.group('Group', np.average)\n",
    "   <br><br>\n",
    "    observed_stat = bta_means_tbl.column(1).item(1) - bta_means_tbl.column(1).item(0)\n",
    "observed_stat\n",
    "</details>\n"
   ]
  },
  {
   "cell_type": "code",
   "execution_count": null,
   "id": "eleven-heritage",
   "metadata": {},
   "outputs": [],
   "source": [
    "bta_means_tbl = bta.group(\"Group\", np.average)\n",
    "bta_means_tbl"
   ]
  },
  {
   "cell_type": "code",
   "execution_count": null,
   "id": "laughing-standing",
   "metadata": {},
   "outputs": [],
   "source": [
    "observed_stat = bta_means_tbl.column(1).item(1) - bta_means_tbl.column(1).item(0)\n",
    "observed_stat"
   ]
  },
  {
   "cell_type": "markdown",
   "id": "reported-internship",
   "metadata": {},
   "source": [
    "##  Testing the Hypothesis"
   ]
  },
  {
   "cell_type": "markdown",
   "id": "sustainable-satisfaction",
   "metadata": {},
   "source": [
    "**Question:** How can we use the functions from the top?\n",
    "<details>\n",
    "<summary>Solution</summary>\n",
    "  difference of means(botox, 'Result', 'Group')\n",
    "</details>  "
   ]
  },
  {
   "cell_type": "code",
   "execution_count": null,
   "id": "minor-charleston",
   "metadata": {},
   "outputs": [],
   "source": [
    "observed_diff = ...\n",
    "observed_diff"
   ]
  },
  {
   "cell_type": "markdown",
   "id": "buried-circus",
   "metadata": {},
   "source": [
    "**Question:** How can we simulate this statistic once?\n",
    "<details>\n",
    "<summary>Solution</summary>\n",
    "  one_simulated_difference(botox, 'Result', 'Group')\n",
    "</details> "
   ]
  },
  {
   "cell_type": "code",
   "execution_count": null,
   "id": "instructional-pension",
   "metadata": {},
   "outputs": [],
   "source": [
    "one_simulated_difference(bta, 'Result', 'Group')"
   ]
  },
  {
   "cell_type": "markdown",
   "id": "latin-newfoundland",
   "metadata": {},
   "source": [
    "Now let's simulate that 10k times"
   ]
  },
  {
   "cell_type": "code",
   "execution_count": null,
   "id": "unusual-identification",
   "metadata": {},
   "outputs": [],
   "source": [
    "# answer is below\n",
    "all_simulated_stats = make_array()\n",
    "for i in np.arange(1e4):\n",
    "    simulated_stat = one_simulated_difference(bta, 'Result', 'Group')\n",
    "    all_simulated_stats = np.append(all_simulated_stats, simulated_stat)\n",
    "\n",
    "len(all_simulated_stats) == 1e4"
   ]
  },
  {
   "cell_type": "code",
   "execution_count": null,
   "id": "primary-plaza",
   "metadata": {},
   "outputs": [],
   "source": [
    "Table().with_column('Mean difference of Treatment - Control outcomes', all_simulated_stats).hist() #bins=np.arange(-0.6, 0.6, 0.01))"
   ]
  },
  {
   "cell_type": "markdown",
   "id": "substantial-history",
   "metadata": {},
   "source": [
    "**Question:** Is the observed statistic statistically significant?"
   ]
  },
  {
   "cell_type": "code",
   "execution_count": null,
   "id": "baking-receptor",
   "metadata": {},
   "outputs": [],
   "source": [
    "observed_stat"
   ]
  },
  {
   "cell_type": "markdown",
   "id": "nutritional-correlation",
   "metadata": {},
   "source": [
    "**Question:** Which of the following is our p-value? \n",
    "\n",
    "Hint: Which tail should we use?"
   ]
  },
  {
   "cell_type": "code",
   "execution_count": null,
   "id": "leading-binding",
   "metadata": {},
   "outputs": [],
   "source": [
    "# p-value1\n",
    "p_1 = sum(all_simulated_stats >= observed_stat)/len(all_simulated_stats)\n",
    "\n",
    "# p-value2\n",
    "p_2 = sum(all_simulated_stats <= observed_stat)/len(all_simulated_stats)\n",
    "\n",
    "p_1, p_2"
   ]
  },
  {
   "cell_type": "markdown",
   "id": "voluntary-pharmacology",
   "metadata": {},
   "source": [
    "**Question:** Is this statistically significant?"
   ]
  },
  {
   "cell_type": "markdown",
   "id": "supported-catholic",
   "metadata": {},
   "source": [
    "(back to slides)\n",
    "# Percentiles"
   ]
  },
  {
   "cell_type": "code",
   "execution_count": null,
   "id": "micro-macintosh",
   "metadata": {},
   "outputs": [],
   "source": [
    "# Manually compute the 55th percentile.\n",
    "x = make_array(43, 20, 51, 7, 28, 34)"
   ]
  },
  {
   "cell_type": "code",
   "execution_count": null,
   "id": "explicit-serial",
   "metadata": {},
   "outputs": [],
   "source": [
    "# Step 1. Sort the data\n",
    "np.sort(x)"
   ]
  },
  {
   "cell_type": "code",
   "execution_count": null,
   "id": "horizontal-brooks",
   "metadata": {},
   "outputs": [],
   "source": [
    "# Step 2. Figure out where 55th percentile would be.\n",
    "# The Xth percentile is first value on the sorted list that is at least as large as X% of the elements "
   ]
  },
  {
   "cell_type": "code",
   "execution_count": null,
   "id": "cooperative-privacy",
   "metadata": {},
   "outputs": [],
   "source": [
    "# OR: 1 Line of Code using percentile()\n",
    "percentile(55, x)"
   ]
  },
  {
   "cell_type": "markdown",
   "id": "educated-snapshot",
   "metadata": {},
   "source": [
    "(back to slides)\n",
    "## Percentiles questions"
   ]
  },
  {
   "cell_type": "code",
   "execution_count": null,
   "id": "current-correlation",
   "metadata": {},
   "outputs": [],
   "source": [
    "s= [1, 7, 3, 9, 5]"
   ]
  },
  {
   "cell_type": "code",
   "execution_count": null,
   "id": "through-contamination",
   "metadata": {},
   "outputs": [],
   "source": [
    "#1 \n",
    "percentile(10, s) == 0"
   ]
  },
  {
   "cell_type": "code",
   "execution_count": null,
   "id": "danish-concentration",
   "metadata": {},
   "outputs": [],
   "source": [
    "# 2 \n",
    "percentile(39, s) == percentile(40, s)"
   ]
  },
  {
   "cell_type": "code",
   "execution_count": null,
   "id": "official-claim",
   "metadata": {},
   "outputs": [],
   "source": [
    "# 3\n",
    "percentile(40, s) == percentile(41, s) "
   ]
  },
  {
   "cell_type": "code",
   "execution_count": null,
   "id": "bibliographic-receiver",
   "metadata": {},
   "outputs": [],
   "source": [
    "# 4\n",
    "percentile(50, s) == 5 "
   ]
  },
  {
   "cell_type": "markdown",
   "id": "differential-bowling",
   "metadata": {},
   "source": [
    "# Estimation"
   ]
  },
  {
   "cell_type": "markdown",
   "id": "removed-count",
   "metadata": {},
   "source": [
    "### Sample Median"
   ]
  },
  {
   "cell_type": "code",
   "execution_count": 4,
   "id": "pressed-breakdown",
   "metadata": {},
   "outputs": [
    {
     "data": {
      "text/html": [
       "<table border=\"1\" class=\"dataframe\">\n",
       "    <thead>\n",
       "        <tr>\n",
       "            <th>Year Type</th> <th>Year</th> <th>Organization Group Code</th> <th>Organization Group</th> <th>Department Code</th> <th>Department</th> <th>Union Code</th> <th>Union</th> <th>Job Family Code</th> <th>Job Family</th> <th>Job Code</th> <th>Job</th> <th>Employee Identifier</th> <th>Salaries</th> <th>Overtime</th> <th>Other Salaries</th> <th>Total Salary</th> <th>Retirement</th> <th>Health/Dental</th> <th>Other Benefits</th> <th>Total Benefits</th> <th>Total Compensation</th>\n",
       "        </tr>\n",
       "    </thead>\n",
       "    <tbody>\n",
       "        <tr>\n",
       "            <td>Calendar </td> <td>2015</td> <td>2                      </td> <td>Public Works, Transportation & Commerce</td> <td>WTR            </td> <td>PUC Water Department                  </td> <td>21        </td> <td>Prof & Tech Engineers - Miscellaneous, Local 21 </td> <td>2400           </td> <td>Lab, Pharmacy & Med Techs    </td> <td>2481    </td> <td>Water Qualitytech I/II        </td> <td>21538              </td> <td>82146   </td> <td>0       </td> <td>0             </td> <td>82146       </td> <td>16942.2   </td> <td>12340.9      </td> <td>6337.73       </td> <td>35620.8       </td> <td>117767            </td>\n",
       "        </tr>\n",
       "        <tr>\n",
       "            <td>Calendar </td> <td>2015</td> <td>2                      </td> <td>Public Works, Transportation & Commerce</td> <td>DPW            </td> <td>General Services Agency - Public Works</td> <td>12        </td> <td>Carpet, Linoleum and Soft Tile Workers, Local 12</td> <td>7300           </td> <td>Journeyman Trade             </td> <td>7393    </td> <td>Soft Floor Coverer            </td> <td>5459               </td> <td>32165.8 </td> <td>973.19  </td> <td>848.96        </td> <td>33987.9     </td> <td>0         </td> <td>4587.51      </td> <td>2634.42       </td> <td>7221.93       </td> <td>41209.8           </td>\n",
       "        </tr>\n",
       "        <tr>\n",
       "            <td>Calendar </td> <td>2015</td> <td>4                      </td> <td>Community Health                       </td> <td>DPH            </td> <td>Public Health                         </td> <td>790       </td> <td>SEIU - Miscellaneous, Local 1021                </td> <td>1600           </td> <td>Payroll, Billing & Accounting</td> <td>1636    </td> <td>Health Care Billing Clerk 2   </td> <td>41541              </td> <td>71311   </td> <td>5757.98 </td> <td>0             </td> <td>77069       </td> <td>14697.6   </td> <td>12424.5      </td> <td>6370.06       </td> <td>33492.2       </td> <td>110561            </td>\n",
       "        </tr>\n",
       "        <tr>\n",
       "            <td>Calendar </td> <td>2015</td> <td>4                      </td> <td>Community Health                       </td> <td>DPH            </td> <td>Public Health                         </td> <td>351       </td> <td>Municipal Executive Association - Miscellaneous </td> <td>0900           </td> <td>Management                   </td> <td>2620    </td> <td>Food Service Mgr Administrator</td> <td>26718              </td> <td>28430.2 </td> <td>0       </td> <td>763.07        </td> <td>29193.3     </td> <td>0         </td> <td>4223.14      </td> <td>5208.51       </td> <td>9431.65       </td> <td>38625             </td>\n",
       "        </tr>\n",
       "        <tr>\n",
       "            <td>Calendar </td> <td>2015</td> <td>2                      </td> <td>Public Works, Transportation & Commerce</td> <td>MTA            </td> <td>Municipal Transportation Agency       </td> <td>790       </td> <td>SEIU - Miscellaneous, Local 1021                </td> <td>8200           </td> <td>Protection & Apprehension    </td> <td>8201    </td> <td>School Crossing Guard         </td> <td>45810              </td> <td>7948.75 </td> <td>0       </td> <td>0             </td> <td>7948.75     </td> <td>0         </td> <td>2873.17      </td> <td>616.24        </td> <td>3489.41       </td> <td>11438.2           </td>\n",
       "        </tr>\n",
       "    </tbody>\n",
       "</table>\n",
       "<p>... (42984 rows omitted)</p>"
      ],
      "text/plain": [
       "<IPython.core.display.HTML object>"
      ]
     },
     "metadata": {},
     "output_type": "display_data"
    }
   ],
   "source": [
    "sf = Table.read_table('san_francisco_2015.csv')\n",
    "sf.show(5)"
   ]
  },
  {
   "cell_type": "markdown",
   "id": "bearing-stewart",
   "metadata": {},
   "source": [
    "**Question:** What is this dataset?"
   ]
  },
  {
   "cell_type": "code",
   "execution_count": null,
   "id": "completed-transaction",
   "metadata": {},
   "outputs": [],
   "source": []
  },
  {
   "cell_type": "code",
   "execution_count": null,
   "id": "moved-liability",
   "metadata": {},
   "outputs": [],
   "source": [
    "salary_sf.group(0).barh(0)"
   ]
  },
  {
   "cell_type": "code",
   "execution_count": null,
   "id": "raising-airfare",
   "metadata": {},
   "outputs": [],
   "source": [
    "# skip"
   ]
  },
  {
   "cell_type": "code",
   "execution_count": null,
   "id": "controlled-comfort",
   "metadata": {},
   "outputs": [],
   "source": [
    "# skip"
   ]
  },
  {
   "cell_type": "code",
   "execution_count": null,
   "id": "respected-economics",
   "metadata": {},
   "outputs": [],
   "source": [
    "# skip"
   ]
  },
  {
   "cell_type": "code",
   "execution_count": null,
   "id": "korean-language",
   "metadata": {},
   "outputs": [],
   "source": [
    "# We only care about salary for now\n",
    "salary_sf = sf.select(3, 11, 21)\n",
    "salary_sf"
   ]
  },
  {
   "cell_type": "markdown",
   "id": "quiet-modification",
   "metadata": {},
   "source": [
    "**Question:** Who is making the most money?"
   ]
  },
  {
   "cell_type": "code",
   "execution_count": null,
   "id": "latin-bangladesh",
   "metadata": {},
   "outputs": [],
   "source": []
  },
  {
   "cell_type": "code",
   "execution_count": null,
   "id": "private-governor",
   "metadata": {},
   "outputs": [],
   "source": []
  },
  {
   "cell_type": "markdown",
   "id": "atmospheric-equilibrium",
   "metadata": {},
   "source": [
    "**Question:** Who is making the least money?"
   ]
  },
  {
   "cell_type": "code",
   "execution_count": null,
   "id": "satisfactory-distance",
   "metadata": {},
   "outputs": [],
   "source": []
  },
  {
   "cell_type": "markdown",
   "id": "collect-jimmy",
   "metadata": {},
   "source": [
    "**Question:** What is the typical salary? Should we compute the mean or median for this?"
   ]
  },
  {
   "cell_type": "code",
   "execution_count": null,
   "id": "accepting-sequence",
   "metadata": {},
   "outputs": [],
   "source": []
  },
  {
   "cell_type": "markdown",
   "id": "iraqi-continent",
   "metadata": {},
   "source": [
    "How can we compute the median with what we covered today?\n",
    "<details>\n",
    "<summary>Solution</summary>\n",
    "  percentile(50, sf.column('Total Compensation'))\n",
    "</details>  "
   ]
  },
  {
   "cell_type": "code",
   "execution_count": null,
   "id": "adolescent-valley",
   "metadata": {},
   "outputs": [],
   "source": [
    "pop_median = ...\n",
    "pop_median"
   ]
  },
  {
   "cell_type": "code",
   "execution_count": 14,
   "id": "annoying-commissioner",
   "metadata": {},
   "outputs": [
    {
     "name": "stderr",
     "output_type": "stream",
     "text": [
      "/opt/conda/lib/python3.8/site-packages/datascience/tables.py:5206: UserWarning: FixedFormatter should only be used together with FixedLocator\n",
      "  axis.set_xticklabels(ticks, rotation='vertical')\n"
     ]
    },
    {
     "data": {
      "image/png": "[encoded data removed]",
      "text/plain": [
       "<Figure size 432x288 with 1 Axes>"
      ]
     },
     "metadata": {},
     "output_type": "display_data"
    }
   ],
   "source": [
    "sf_bins = np.arange(0, 700000, 25000)\n",
    "sf.hist('Total Compensation', bins=sf_bins)\n",
    "plots.title('Population Distribution');"
   ]
  },
  {
   "cell_type": "markdown",
   "id": "monetary-theme",
   "metadata": {},
   "source": [
    "### Estimating Salaries\n",
    "Say we dont have salaries. What would we do to compute the 50% percentile of salaries?"
   ]
  },
  {
   "cell_type": "code",
   "execution_count": null,
   "id": "structural-taxation",
   "metadata": {},
   "outputs": [],
   "source": [
    "# skip"
   ]
  },
  {
   "cell_type": "code",
   "execution_count": null,
   "id": "contemporary-assist",
   "metadata": {},
   "outputs": [],
   "source": [
    "# skip"
   ]
  },
  {
   "cell_type": "code",
   "execution_count": 6,
   "id": "solid-mexico",
   "metadata": {},
   "outputs": [
    {
     "data": {
      "text/plain": [
       "42989"
      ]
     },
     "execution_count": 6,
     "metadata": {},
     "output_type": "execute_result"
    }
   ],
   "source": [
    "# skip\n",
    "sf.num_rows"
   ]
  },
  {
   "cell_type": "code",
   "execution_count": 7,
   "id": "timely-surrey",
   "metadata": {},
   "outputs": [
    {
     "data": {
      "text/html": [
       "<table border=\"1\" class=\"dataframe\">\n",
       "    <thead>\n",
       "        <tr>\n",
       "            <th>Year Type</th> <th>Year</th> <th>Organization Group Code</th> <th>Organization Group</th> <th>Department Code</th> <th>Department</th> <th>Union Code</th> <th>Union</th> <th>Job Family Code</th> <th>Job Family</th> <th>Job Code</th> <th>Job</th> <th>Employee Identifier</th> <th>Salaries</th> <th>Overtime</th> <th>Other Salaries</th> <th>Total Salary</th> <th>Retirement</th> <th>Health/Dental</th> <th>Other Benefits</th> <th>Total Benefits</th> <th>Total Compensation</th>\n",
       "        </tr>\n",
       "    </thead>\n",
       "    <tbody>\n",
       "        <tr>\n",
       "            <td>Calendar </td> <td>2015</td> <td>2                      </td> <td>Public Works, Transportation & Commerce</td> <td>DPW            </td> <td>General Services Agency - Public Works</td> <td>21        </td> <td>Prof & Tech Engineers - Miscellaneous, Local 21</td> <td>5200           </td> <td>Professional Engineering</td> <td>5203    </td> <td>Asst Engr                    </td> <td>1340               </td> <td>100554  </td> <td>0       </td> <td>0             </td> <td>100554      </td> <td>20724.8   </td> <td>12424.5      </td> <td>8129.77       </td> <td>41279.1       </td> <td>141833            </td>\n",
       "        </tr>\n",
       "        <tr>\n",
       "            <td>Calendar </td> <td>2015</td> <td>2                      </td> <td>Public Works, Transportation & Commerce</td> <td>MTA            </td> <td>Municipal Transportation Agency       </td> <td>21        </td> <td>Prof & Tech Engineers - Miscellaneous, Local 21</td> <td>1000           </td> <td>Information Systems     </td> <td>1091    </td> <td>IT Operations Support Admin I</td> <td>49325              </td> <td>61428   </td> <td>2036.6  </td> <td>932.3         </td> <td>64396.9     </td> <td>12853.6   </td> <td>12424.5      </td> <td>5263.76       </td> <td>30541.9       </td> <td>94938.8           </td>\n",
       "        </tr>\n",
       "        <tr>\n",
       "            <td>Calendar </td> <td>2015</td> <td>4                      </td> <td>Community Health                       </td> <td>DPH            </td> <td>Public Health                         </td> <td>250       </td> <td>SEIU - Health Workers, Local 1021              </td> <td>2700           </td> <td>Housekeeping & Laundry  </td> <td>2736    </td> <td>Porter                       </td> <td>45350              </td> <td>22136.8 </td> <td>0       </td> <td>3193.02       </td> <td>25329.8     </td> <td>5449.99   </td> <td>4895.13      </td> <td>1997.46       </td> <td>12342.6       </td> <td>37672.3           </td>\n",
       "        </tr>\n",
       "        <tr>\n",
       "            <td>Calendar </td> <td>2015</td> <td>4                      </td> <td>Community Health                       </td> <td>DPH            </td> <td>Public Health                         </td> <td>790       </td> <td>SEIU - Miscellaneous, Local 1021               </td> <td>2500           </td> <td>Med Therapy & Auxiliary </td> <td>2574    </td> <td>Clinical Psychologist        </td> <td>5291               </td> <td>48255.8 </td> <td>0       </td> <td>40            </td> <td>48295.8     </td> <td>9086.3    </td> <td>6731.93      </td> <td>3905.64       </td> <td>19723.9       </td> <td>68019.7           </td>\n",
       "        </tr>\n",
       "        <tr>\n",
       "            <td>Calendar </td> <td>2015</td> <td>4                      </td> <td>Community Health                       </td> <td>DPH            </td> <td>Public Health                         </td> <td>250       </td> <td>SEIU - Health Workers, Local 1021              </td> <td>2600           </td> <td>Dietary & Food          </td> <td>2604    </td> <td>Food Service Worker          </td> <td>635                </td> <td>10183.8 </td> <td>72.33   </td> <td>270.4         </td> <td>10526.5     </td> <td>0         </td> <td>3153.91      </td> <td>815.17        </td> <td>3969.08       </td> <td>14495.6           </td>\n",
       "        </tr>\n",
       "    </tbody>\n",
       "</table>\n",
       "<p>... (3995 rows omitted)</p>"
      ],
      "text/plain": [
       "<IPython.core.display.HTML object>"
      ]
     },
     "metadata": {},
     "output_type": "display_data"
    }
   ],
   "source": [
    "our_sample = sf.sample(4000, with_replacement=False)\n",
    "our_sample.show(5)"
   ]
  },
  {
   "cell_type": "code",
   "execution_count": 8,
   "id": "three-agent",
   "metadata": {},
   "outputs": [
    {
     "data": {
      "text/plain": [
       "98639.08"
      ]
     },
     "execution_count": 8,
     "metadata": {},
     "output_type": "execute_result"
    }
   ],
   "source": [
    "estimate_median = percentile(50, our_sample.column('Total Compensation'))\n",
    "estimate_median"
   ]
  },
  {
   "cell_type": "code",
   "execution_count": 9,
   "id": "contrary-elephant",
   "metadata": {},
   "outputs": [
    {
     "data": {
      "text/plain": [
       "98174.9"
      ]
     },
     "execution_count": 9,
     "metadata": {},
     "output_type": "execute_result"
    }
   ],
   "source": [
    "pop_median = percentile(50, sf.column('Total Compensation'))\n",
    "pop_median"
   ]
  },
  {
   "cell_type": "code",
   "execution_count": 12,
   "id": "wrapped-pavilion",
   "metadata": {},
   "outputs": [
    {
     "data": {
      "text/plain": [
       "464.18000000000757"
      ]
     },
     "execution_count": 12,
     "metadata": {},
     "output_type": "execute_result"
    }
   ],
   "source": [
    "error = abs(estimate_median - pop_median)\n",
    "error"
   ]
  },
  {
   "cell_type": "code",
   "execution_count": 15,
   "id": "similar-fight",
   "metadata": {},
   "outputs": [
    {
     "data": {
      "image/png": "[encoded data removed]",
      "text/plain": [
       "<Figure size 432x288 with 1 Axes>"
      ]
     },
     "metadata": {},
     "output_type": "display_data"
    }
   ],
   "source": [
    "our_sample.hist('Total Compensation', bins=sf_bins)\n",
    "plots.title('Sample Distribution');"
   ]
  },
  {
   "cell_type": "markdown",
   "id": "tired-tenant",
   "metadata": {},
   "source": [
    "**Question:** How far off is our estimate from the true median?"
   ]
  },
  {
   "cell_type": "markdown",
   "id": "driving-mention",
   "metadata": {},
   "source": [
    "**Question:** How far off is our estimate from the true median"
   ]
  },
  {
   "cell_type": "code",
   "execution_count": null,
   "id": "greatest-lesson",
   "metadata": {},
   "outputs": [],
   "source": [
    "pop_median, estimate_median, abs(pop_median - estimate_median)"
   ]
  },
  {
   "cell_type": "markdown",
   "id": "strange-danish",
   "metadata": {},
   "source": [
    "## Variability of the Estimate\n",
    "\n",
    "Let's implement the following function:\n",
    "\n",
    "<details>\n",
    "<summary>Solution</summary>\n",
    "  our_sample = sf.sample(samp_size, with_replacement=False)\n",
    "  return percentile(50, our_sample.column('Total Compensation'))\n",
    "</details>\n"
   ]
  },
  {
   "cell_type": "code",
   "execution_count": 19,
   "id": "dramatic-paper",
   "metadata": {},
   "outputs": [
    {
     "data": {
      "text/plain": [
       "100958.48"
      ]
     },
     "execution_count": 19,
     "metadata": {},
     "output_type": "execute_result"
    }
   ],
   "source": [
    "def generate_sample_median(samp_size):\n",
    "    \"\"\"\n",
    "    Given a sample size\n",
    "    Returns the median of a random sample of samp_size from the sf table\"\"\"\n",
    "    # Question: sample with or without replacement?\n",
    "    random_sample = sf.sample(samp_size, with_replacement=False)\n",
    "    sample_median = percentile(50, random_sample.column('Total Compensation'))\n",
    "    return sample_median\n",
    "    \n",
    "\n",
    "sample_median = generate_sample_median(300)\n",
    "sample_median"
   ]
  },
  {
   "cell_type": "markdown",
   "id": "committed-little",
   "metadata": {},
   "source": [
    "**Question:** What is our error?\n",
    "\n",
    "\n",
    "<details>\n",
    "<summary>Solution</summary>\n",
    "  error = sample_median - pop_median\n",
    "</details>\n"
   ]
  },
  {
   "cell_type": "code",
   "execution_count": 20,
   "id": "naughty-socket",
   "metadata": {},
   "outputs": [
    {
     "data": {
      "text/plain": [
       "2783.5800000000017"
      ]
     },
     "execution_count": 20,
     "metadata": {},
     "output_type": "execute_result"
    }
   ],
   "source": [
    "error = sample_median - pop_median\n",
    "error"
   ]
  },
  {
   "cell_type": "markdown",
   "id": "electronic-selection",
   "metadata": {},
   "source": [
    "(back to slides)\n",
    "# Quantifying Uncertainty\n",
    "\n",
    "Lets take 1k estimates where each sample has 300 individuals\n"
   ]
  },
  {
   "cell_type": "code",
   "execution_count": 21,
   "id": "german-vehicle",
   "metadata": {
    "tags": []
   },
   "outputs": [
    {
     "data": {
      "text/plain": [
       "array([103718.59,  96872.22, 105268.49,  90725.  , 104598.64, 100395.91,\n",
       "       100972.56, 107400.74, 105501.27,  96958.15, 101324.11, 109134.39,\n",
       "       103586.29,  95579.42,  99834.39, 100388.14,  99038.1 , 100086.76,\n",
       "       100883.2 ,  91873.64, 101849.38,  99781.15,  91893.07,  97084.57,\n",
       "        89482.98, 104525.74,  99590.6 , 101663.35,  94138.38,  98112.82,\n",
       "        98413.5 ,  94906.24,  99928.97,  93123.7 ,  97408.76,  92034.08,\n",
       "        91668.38, 101893.84, 100896.6 ,  98813.64,  97585.67,  94445.94,\n",
       "        94261.31,  98299.51,  99939.96,  99897.83,  99770.04, 102135.5 ,\n",
       "        92494.75,  95963.87,  92777.93,  94966.65,  94668.72,  97004.45,\n",
       "        99075.16,  96388.52, 105132.01,  95810.81,  88282.12, 100106.45,\n",
       "       101698.27,  97789.21,  95189.7 ,  99942.88, 108427.59, 101304.96,\n",
       "        95631.8 ,  93791.57,  88151.7 ,  87599.94, 101942.56,  96952.33,\n",
       "       103602.16,  99029.6 , 100891.4 ,  98637.79,  98156.4 , 102054.98,\n",
       "        97843.96,  98892.54,  85859.05,  91656.64,  93080.99,  91755.12,\n",
       "       105386.36,  97563.01,  99044.36, 105856.69,  88344.88, 101271.44,\n",
       "        94049.28,  94753.14,  98704.91,  94999.84,  89424.9 ,  96819.82,\n",
       "       102493.72, 101474.67,  97898.22,  88055.39,  98216.55,  95180.87,\n",
       "        92473.14, 107780.33,  95905.46,  94035.88, 100637.15,  98695.04,\n",
       "       107555.94,  96338.36,  98270.52, 109247.35, 106215.57,  91186.16,\n",
       "       101750.71, 100535.8 ,  94539.13, 103075.68,  99704.02,  93791.57,\n",
       "        91442.05,  95508.31,  97100.15,  93093.19, 100344.05, 101127.35,\n",
       "       104618.98,  92805.35,  96388.52, 105530.59, 100752.18,  91788.35,\n",
       "       106275.32, 102285.81, 101708.13,  99569.  , 100550.03,  87362.96,\n",
       "        99755.05,  95894.69,  94274.52,  92960.95,  92725.6 ,  95297.67,\n",
       "       102681.54,  93060.57,  98179.64, 107164.6 ,  98032.15,  93099.86,\n",
       "        90366.37, 100963.46, 105568.49,  90839.17,  96704.26, 102330.38,\n",
       "       105376.54,  95616.54, 100507.43, 100351.56,  96183.3 ,  97424.85,\n",
       "        90487.51,  97100.15, 105644.56,  92094.81,  95104.34, 103816.55,\n",
       "        99216.71, 100815.64,  92080.79,  99386.48, 102330.34,  98710.97,\n",
       "        94279.5 ,  95810.81,  88912.87, 101965.05,  90122.09,  96432.79,\n",
       "        99038.1 , 100837.23,  98340.6 ,  87334.51,  98457.88,  96942.25,\n",
       "        89253.87,  98104.97,  97452.13, 102492.04,  87339.65,  94774.85,\n",
       "        99969.42,  97055.69, 106536.6 , 100058.53,  97774.34,  97057.52,\n",
       "        94808.05,  95273.9 ,  94580.95,  97201.06,  93016.82,  99822.94,\n",
       "       105106.36,  91950.16,  99820.74,  97623.03,  90491.68,  92885.73,\n",
       "        99648.05, 107117.87,  97574.86,  95098.61, 106666.95, 103408.53,\n",
       "       104024.32,  99849.68,  93041.45, 105438.5 ,  93642.47,  93807.02,\n",
       "        94961.88,  95248.93,  84373.66, 100000.84,  95904.07, 101284.69,\n",
       "       103569.12,  97515.39,  95085.06,  94629.22, 102014.2 , 102572.97,\n",
       "        95664.31,  93778.57,  96378.19, 102238.67, 102804.05, 103297.27,\n",
       "        94312.95,  97034.88,  92973.65,  98884.71, 104720.66,  93851.97,\n",
       "       105685.91,  93164.29,  95558.  ,  97689.6 ,  94750.51,  92436.6 ,\n",
       "        99280.76,  96430.34,  92885.43,  96156.13,  98954.07,  99251.9 ,\n",
       "        93546.5 ,  97415.32,  96952.33,  99045.63,  97130.27,  99334.21,\n",
       "        94779.52, 101293.85, 105722.7 ,  95098.61,  93206.11, 104977.55,\n",
       "       106012.4 ,  95840.01,  99153.48, 104813.45, 110092.96,  97353.85,\n",
       "        91523.56,  98149.14, 104591.63, 105586.66, 100431.39, 102772.94,\n",
       "        95558.96,  97746.  ,  94866.91, 106181.02,  99032.6 ,  93871.1 ,\n",
       "        98405.35, 106178.7 ,  99559.67,  93495.25, 100320.56, 100896.6 ,\n",
       "        99535.59, 102072.76,  97168.57,  96056.71,  99296.43,  92689.91,\n",
       "       100314.07,  97455.64,  97168.57, 102879.84,  97041.97,  93132.41,\n",
       "        99144.71, 100308.86, 101932.34,  97876.58,  97168.57,  95469.65,\n",
       "        99226.  ,  94873.06,  99658.59,  95877.57,  96654.65, 107818.08,\n",
       "        96409.53,  99263.52,  97620.51,  96382.51,  94883.73,  93708.02,\n",
       "       101132.18,  99953.11,  99066.3 ,  98112.82,  96491.18, 101295.17,\n",
       "        93413.76, 106332.23,  99126.91, 100563.63, 104487.64,  96930.1 ,\n",
       "       100963.46, 104139.63,  99648.05,  91705.47,  92958.59,  99228.08,\n",
       "        94487.97,  94267.51,  93956.77,  91842.66,  95845.12,  96075.  ,\n",
       "        93121.66,  97408.76, 100637.24,  98486.49,  99614.15,  98208.29,\n",
       "       100277.06, 102483.15, 101271.44,  94898.91,  95840.01,  92293.56,\n",
       "        96913.75,  99159.98,  93080.99,  95390.85,  98499.69,  96445.29,\n",
       "       101921.05,  94365.55, 102376.07,  93830.11,  94813.94,  98129.42,\n",
       "        94501.82,  96209.66, 102133.62,  96022.97, 103845.93,  92901.43,\n",
       "       102062.16, 106689.18,  98329.63,  92442.33,  96891.61,  97779.82,\n",
       "        98438.71, 107024.01, 107047.66,  95534.46,  97589.58, 105029.93,\n",
       "        96558.72, 104973.55,  92694.97,  92268.77,  94595.17, 103641.24,\n",
       "        94116.5 , 109246.  ,  95058.13,  93305.71,  98761.48,  99953.11,\n",
       "        99110.2 , 103990.91,  91840.2 , 104355.97,  93704.  ,  97174.55,\n",
       "        96112.92,  98884.47,  91268.28,  94352.75,  97576.47,  86927.21,\n",
       "        93872.59, 101245.58, 104191.9 ,  96014.68,  93754.13,  92760.41,\n",
       "       100049.83, 102004.59,  95597.3 , 105442.62,  96473.18, 100393.37,\n",
       "       101763.56,  97906.63,  98287.43,  94362.56,  94151.33,  96251.19,\n",
       "        96714.09,  89130.76,  98964.77,  96183.67, 101472.33,  99677.15,\n",
       "       102766.62, 109667.7 , 107258.26,  96001.96,  95040.16,  99941.24,\n",
       "        88022.23,  96464.77, 100222.71, 103053.19, 104169.51,  99012.01,\n",
       "       101049.26, 102022.61,  96930.1 ,  98008.45,  95152.79,  97774.34,\n",
       "        93869.74, 102252.55,  90820.94,  92759.99, 102958.99,  96716.87,\n",
       "       101002.69, 100335.24, 101059.87,  94798.26, 101790.74, 103796.83,\n",
       "        98648.08, 100355.71,  94919.61, 100498.5 ,  98070.46,  95905.46,\n",
       "        99282.42,  98983.14,  98391.8 , 105688.84,  92034.08,  90638.26,\n",
       "        96324.92, 107343.91,  97898.22,  94367.48, 100416.52,  93665.53,\n",
       "       101442.57,  99664.98,  91050.4 ,  98707.88, 100550.03,  94231.84,\n",
       "        99296.43,  98796.21,  96631.58, 101671.41,  93282.03,  99185.83,\n",
       "        95511.41, 100398.39,  96074.6 , 106927.88,  92358.58, 106462.14,\n",
       "        95431.67, 101671.41,  96339.86,  98978.43, 107705.15,  97764.4 ,\n",
       "        95534.46,  97138.37,  96399.17,  95743.87, 100084.82,  98239.6 ,\n",
       "        95558.  ,  88784.28, 103737.59,  99955.73,  88240.24,  92805.35,\n",
       "        98456.81,  90607.94,  85677.47,  95928.93,  92746.41,  99731.95,\n",
       "       102875.08,  95573.93, 109555.94,  98866.84,  99499.49,  96337.65,\n",
       "        96759.81,  99649.27, 103582.71,  92759.87,  98457.88, 104370.85,\n",
       "       102238.65,  89007.91, 102247.62,  98516.87, 101790.74, 102522.46,\n",
       "        93444.34,  99892.12, 101853.57,  99993.36,  89806.11, 100177.7 ,\n",
       "        93071.21, 107320.63, 101777.47, 100451.73,  93267.4 , 100868.65,\n",
       "        96357.49,  99153.48,  96403.01, 103359.01, 100222.08,  93931.05,\n",
       "       101010.36,  97254.2 ,  94520.6 ,  92577.45,  98438.71,  94725.76,\n",
       "        94725.76, 101903.06,  92830.64,  96607.88,  95431.67,  93778.57,\n",
       "        90299.2 ,  93992.5 , 108418.75, 101590.82,  92968.75,  94264.52,\n",
       "        96952.33,  93689.29,  92358.58,  95557.2 ,  92983.11, 100268.29,\n",
       "        99563.82,  99601.17,  97132.55, 103797.92,  92760.4 ,  94961.88,\n",
       "       101178.31,  97084.57,  95126.35,  98545.23,  95649.83,  88041.57,\n",
       "        94387.24,  89310.18, 103924.04, 101951.23,  98325.47, 101094.95,\n",
       "       101289.04,  86256.09,  96001.96,  96337.65, 103607.85, 100351.56,\n",
       "        94096.15,  97313.36,  91388.94,  93572.76, 101527.49,  95390.85,\n",
       "       100161.92,  95897.73, 100498.5 , 108031.93,  93633.77,  98002.18,\n",
       "        94059.1 ,  94798.26, 102107.42, 101601.22,  95639.36,  94483.05,\n",
       "       101515.34, 100899.97, 100947.97,  92105.21,  93221.22,  95828.39,\n",
       "       105742.93,  96779.35,  88679.12, 104669.22,  90112.19,  99569.  ,\n",
       "        94574.84, 100168.5 , 101348.01, 102057.91,  88364.06,  95746.8 ,\n",
       "        93448.72,  94197.45,  96502.26,  96315.75,  89432.44, 101175.98,\n",
       "        98788.75, 100752.18,  94746.87,  93206.52,  98132.17,  98214.26,\n",
       "        90927.73,  95477.7 ,  89896.08,  98346.64,  98499.69,  98213.41,\n",
       "       100488.39,  95511.41,  92792.83,  97705.05,  97823.85,  93473.49,\n",
       "        99925.31,  98368.93, 100257.51, 101709.22,  92739.55,  95487.88,\n",
       "       100084.82, 105522.17, 106401.64,  89729.85,  87604.17, 108186.68,\n",
       "        98282.11,  98008.45,  98575.42,  93605.3 , 100891.99,  96429.91,\n",
       "        95596.01,  96299.86,  93382.79,  97174.55,  93665.53,  95069.9 ,\n",
       "        99693.17, 101531.3 , 101574.79, 108315.37,  94585.97,  94387.24,\n",
       "        87005.81,  97452.74,  95615.16,  91546.98,  98213.41, 101663.35,\n",
       "        99673.96,  95098.61, 103802.62,  92713.62,  96783.14,  98116.25,\n",
       "        95250.58, 100665.36,  93642.47,  91127.84, 103416.08,  98196.02,\n",
       "        93282.03, 102864.34, 110786.  ,  93641.01,  96765.21, 104503.79,\n",
       "       105491.75,  93093.84,  92629.47,  97394.22,  99568.35,  99185.83,\n",
       "       100847.13,  98002.18,  98846.84,  92007.95,  97452.51,  93609.92,\n",
       "        93402.66,  96739.54,  99368.78, 102988.95,  91894.74, 100766.63,\n",
       "        94773.08,  96951.21,  96980.56,  98229.78,  98796.19,  99649.27,\n",
       "       100011.55,  99441.07,  98765.03, 106144.95, 103935.4 , 102196.24,\n",
       "        95195.48,  94530.43, 107022.52,  98983.14, 106296.84,  92780.58,\n",
       "        91842.13,  93810.52,  94796.8 ,  90920.1 ,  99306.69, 102958.48,\n",
       "        95882.24,  98878.52, 101819.73, 107219.48,  94966.65,  96502.26,\n",
       "       101220.86, 110336.64,  98677.74, 102592.87,  95995.6 , 100896.6 ,\n",
       "        94238.28,  94481.16,  94515.79,  93322.24, 102139.71,  98318.37,\n",
       "       108366.95,  94844.55,  92839.22, 100703.17,  98357.51,  99873.39,\n",
       "        94445.33, 102935.61,  99658.59,  94274.52,  90806.3 ,  94809.53,\n",
       "       107676.78, 103083.29,  91585.01, 100739.87,  98675.67,  95477.7 ,\n",
       "        96047.87, 101035.75, 102988.95, 104610.51,  98573.4 ,  85213.87,\n",
       "        94215.31,  95395.68, 106606.05,  99201.05,  91823.55, 103356.81,\n",
       "       102402.34,  90205.73,  97380.11,  98503.07,  92411.11,  92739.81,\n",
       "        99073.1 ,  96410.93,  97952.78,  97313.36,  99511.73, 100674.8 ,\n",
       "       104095.64, 100021.24,  95325.97, 100792.3 ,  98441.98, 101122.03,\n",
       "        94919.61,  94362.56,  99969.42,  97370.35,  96338.36,  94754.1 ,\n",
       "        92494.75, 106749.44,  91952.02,  90848.26,  95886.83, 103816.55,\n",
       "       103399.36,  94484.31,  92244.69,  93833.4 ,  96578.86, 103238.58,\n",
       "       107195.7 ,  91349.49, 102294.76, 100086.76, 102285.4 ,  93392.06,\n",
       "       102436.7 , 104487.64, 103333.62,  98169.48,  97577.69,  94751.63,\n",
       "        92246.63,  94387.24,  94059.1 , 104312.12,  91009.55,  96613.23,\n",
       "       100702.64,  94506.65,  99026.12,  99046.1 ,  95557.14,  94716.09,\n",
       "        98897.11,  98156.4 , 100233.95,  98899.11,  98640.81,  92571.86,\n",
       "        96918.32,  99933.65,  94896.55,  99094.32, 105745.24, 103067.44,\n",
       "        98170.35,  97276.55, 104142.39, 103331.07,  93653.01, 100388.14,\n",
       "        94772.38, 100796.45, 110841.47,  96490.62,  97947.18,  95297.67,\n",
       "        93438.35,  89293.44,  96972.72,  94664.54,  93127.23,  97405.84,\n",
       "        95089.05, 101545.6 ,  95269.91,  92810.92,  88426.31,  94118.85,\n",
       "        97501.45, 103308.36,  95665.66,  97181.49,  97764.4 ,  96421.68,\n",
       "       101174.75, 103609.58, 102967.71,  96193.89,  99963.34,  99076.72,\n",
       "        98919.54,  97782.97,  93364.85, 102397.03,  92930.43, 106040.58,\n",
       "        96817.78,  95293.12,  95068.16,  98991.48,  90299.86,  92691.74,\n",
       "        99869.54, 101607.7 ,  98867.74, 102650.65,  93365.14,  98368.93,\n",
       "        86849.09, 103269.91, 102330.41,  93153.83,  97127.22,  98177.24,\n",
       "        92244.69,  98866.84,  99627.93, 114361.02, 102077.48,  99535.8 ,\n",
       "        97777.31, 100970.33,  98640.72,  93400.36,  89729.61,  92805.4 ,\n",
       "        92174.84,  95801.88,  93914.29,  99477.4 ,  96739.54,  99901.06,\n",
       "        99153.48, 103097.88,  94580.95, 101607.7 , 103303.89, 100891.96,\n",
       "        94898.86, 101483.76,  96114.14,  99153.48,  88353.18,  94482.62,\n",
       "        92411.11, 100013.46,  96654.65,  92760.4 ,  92700.78, 101220.86,\n",
       "        92194.07, 104126.21,  92561.59,  98112.82, 100231.95, 103445.01,\n",
       "       102304.92, 100894.31, 100102.6 ,  99073.1 ,  87318.74, 100911.69,\n",
       "       102224.29,  96900.45,  95340.78,  97661.93])"
      ]
     },
     "execution_count": 21,
     "metadata": {},
     "output_type": "execute_result"
    }
   ],
   "source": [
    "sample_medians = make_array()\n",
    "\n",
    "for i in np.arange(1000):\n",
    "    new_median = generate_sample_median(300)\n",
    "    sample_medians = np.append(sample_medians, new_median)\n",
    "sample_medians"
   ]
  },
  {
   "cell_type": "markdown",
   "id": "turkish-antique",
   "metadata": {},
   "source": [
    "Let's plot the medians"
   ]
  },
  {
   "cell_type": "code",
   "execution_count": 22,
   "id": "prepared-rough",
   "metadata": {},
   "outputs": [
    {
     "name": "stderr",
     "output_type": "stream",
     "text": [
      "/opt/conda/lib/python3.8/site-packages/datascience/tables.py:5206: UserWarning: FixedFormatter should only be used together with FixedLocator\n",
      "  axis.set_xticklabels(ticks, rotation='vertical')\n"
     ]
    },
    {
     "data": {
      "image/png": "[encoded data removed]",
      "text/plain": [
       "<Figure size 432x288 with 1 Axes>"
      ]
     },
     "metadata": {},
     "output_type": "display_data"
    }
   ],
   "source": [
    "med_bins = np.arange(90000, 125001, 2500)\n",
    "Table().with_column(\n",
    "    'Sample Medians', sample_medians\n",
    ").hist(bins = med_bins)\n",
    "\n",
    "plots.scatter(pop_median, -1e-6, color=\"red\");"
   ]
  },
  {
   "cell_type": "markdown",
   "id": "photographic-compact",
   "metadata": {},
   "source": [
    "Lets plot the errors"
   ]
  },
  {
   "cell_type": "code",
   "execution_count": 23,
   "id": "sustainable-remark",
   "metadata": {},
   "outputs": [
    {
     "data": {
      "image/png": "[encoded data removed]",
      "text/plain": [
       "<Figure size 432x288 with 1 Axes>"
      ]
     },
     "metadata": {},
     "output_type": "display_data"
    }
   ],
   "source": [
    "err_bins = np.arange(-15000, 12501, 2500)\n",
    "Table().with_column(\n",
    "    'Errors', sample_medians - pop_median\n",
    ").hist(bins = err_bins)\n",
    "\n",
    "plots.scatter(0, -1e-6, color=\"red\");"
   ]
  },
  {
   "cell_type": "markdown",
   "id": "unique-citizenship",
   "metadata": {},
   "source": [
    "(back to slides)\n",
    "# Bootstrap"
   ]
  },
  {
   "cell_type": "code",
   "execution_count": 25,
   "id": "charitable-preference",
   "metadata": {},
   "outputs": [],
   "source": [
    "our_sample = sf.sample(300, with_replacement=False)"
   ]
  },
  {
   "cell_type": "code",
   "execution_count": 35,
   "id": "systematic-amplifier",
   "metadata": {},
   "outputs": [],
   "source": [
    "# Take a bootstrap (re)sample of size 300, WITH replacement\n",
    "\n",
    "# Sample from our sample\n",
    "boot_sample = our_sample.sample(with_replacement=True)\n",
    "#boot_sample"
   ]
  },
  {
   "cell_type": "markdown",
   "id": "bottom-authentication",
   "metadata": {},
   "source": [
    "Let's compare the median from our sample with the median of the boostrapped sample"
   ]
  },
  {
   "cell_type": "code",
   "execution_count": 36,
   "id": "sorted-address",
   "metadata": {},
   "outputs": [
    {
     "data": {
      "text/plain": [
       "300"
      ]
     },
     "execution_count": 36,
     "metadata": {},
     "output_type": "execute_result"
    }
   ],
   "source": [
    "boot_sample.num_rows"
   ]
  },
  {
   "cell_type": "code",
   "execution_count": 30,
   "id": "editorial-france",
   "metadata": {},
   "outputs": [],
   "source": [
    "our_sample_median = percentile(50, our_sample.column('Total Compensation'))\n",
    "boot_sample_median = percentile(50, boot_sample.column('Total Compensation'))"
   ]
  },
  {
   "cell_type": "code",
   "execution_count": 31,
   "id": "mysterious-breakdown",
   "metadata": {},
   "outputs": [
    {
     "data": {
      "text/plain": [
       "(103956.26, 103956.26)"
      ]
     },
     "execution_count": 31,
     "metadata": {},
     "output_type": "execute_result"
    }
   ],
   "source": [
    "our_sample_median, boot_sample_median"
   ]
  },
  {
   "cell_type": "code",
   "execution_count": 37,
   "id": "natural-chaos",
   "metadata": {},
   "outputs": [
    {
     "name": "stdout",
     "output_type": "stream",
     "text": [
      "Population Median =        98174.9\n",
      "Our Sample Median =        103956.26\n",
      "Bootstrap Sample Median =  106369.39\n"
     ]
    },
    {
     "data": {
      "image/png": "[encoded data removed]",
      "text/plain": [
       "<Figure size 432x288 with 1 Axes>"
      ]
     },
     "metadata": {},
     "output_type": "display_data"
    }
   ],
   "source": [
    "# Show the bootstrap sample \n",
    "boot_sample.hist('Total Compensation', bins=sf_bins)\n",
    "plots.title('1 Bootstrap sample');\n",
    "\n",
    "print(\"Population Median =       \", pop_median)\n",
    "print(\"Our Sample Median =       \", our_sample_median)\n",
    "print(\"Bootstrap Sample Median = \", \n",
    "      percentile(50,boot_sample.column('Total Compensation')))"
   ]
  },
  {
   "cell_type": "markdown",
   "id": "comic-sandwich",
   "metadata": {},
   "source": [
    "### Multiple Bootstraps\n",
    "Let's take 1k bootstraps. Lets start by implementing the following function\n",
    "\n",
    "<details>\n",
    "<summary>Solution</summary>\n",
    "   single_sample = our_sample.sample()\n",
    "   return percentile(50, single_sample.column('Total Compensation'))\n",
    "</details>  "
   ]
  },
  {
   "cell_type": "code",
   "execution_count": 38,
   "id": "numeric-milwaukee",
   "metadata": {},
   "outputs": [],
   "source": [
    "def one_bootstrap_median():\n",
    "    single_sample = our_sample.sample(with_replacement=True)\n",
    "    return percentile(50, single_sample.column(\"Total Compensation\"))"
   ]
  },
  {
   "cell_type": "markdown",
   "id": "satisfied-mineral",
   "metadata": {},
   "source": [
    "Now let's keep track of 1k bootstrapped median"
   ]
  },
  {
   "cell_type": "code",
   "execution_count": 40,
   "id": "artificial-proceeding",
   "metadata": {},
   "outputs": [
    {
     "data": {
      "text/plain": [
       "99928.95"
      ]
     },
     "execution_count": 40,
     "metadata": {},
     "output_type": "execute_result"
    }
   ],
   "source": [
    "one_bootstrap_median()"
   ]
  },
  {
   "cell_type": "code",
   "execution_count": 41,
   "id": "respective-battlefield",
   "metadata": {},
   "outputs": [],
   "source": [
    "# Bootstrap our sample 1000 times\n",
    "bootstrap_medians = make_array()\n",
    "for i in np.arange(1000):\n",
    "    new_median = one_bootstrap_median()\n",
    "    bootstrap_medians = np.append(bootstrap_medians, new_median)"
   ]
  },
  {
   "cell_type": "code",
   "execution_count": 43,
   "id": "amended-douglas",
   "metadata": {},
   "outputs": [
    {
     "data": {
      "text/plain": [
       "1000"
      ]
     },
     "execution_count": 43,
     "metadata": {},
     "output_type": "execute_result"
    }
   ],
   "source": [
    "len(bootstrap_medians)"
   ]
  },
  {
   "cell_type": "markdown",
   "id": "fantastic-deadline",
   "metadata": {},
   "source": [
    "Let's visualize these bootstrapped medians"
   ]
  },
  {
   "cell_type": "code",
   "execution_count": 44,
   "id": "planned-survivor",
   "metadata": {
    "scrolled": true
   },
   "outputs": [
    {
     "name": "stderr",
     "output_type": "stream",
     "text": [
      "/opt/conda/lib/python3.8/site-packages/datascience/tables.py:5206: UserWarning: FixedFormatter should only be used together with FixedLocator\n",
      "  axis.set_xticklabels(ticks, rotation='vertical')\n"
     ]
    },
    {
     "data": {
      "image/png": "[encoded data removed]",
      "text/plain": [
       "<Figure size 432x288 with 1 Axes>"
      ]
     },
     "metadata": {},
     "output_type": "display_data"
    }
   ],
   "source": [
    "Table().with_column(\n",
    "    'Bootstrap Medians', bootstrap_medians\n",
    ").hist('Bootstrap Medians', bins=med_bins)\n",
    "\n",
    "plots.scatter(pop_median, 0, color=\"red\");\n",
    "plots.scatter(our_sample_median, 0, color=\"blue\");\n",
    "plots.title('Bootstrap Medians (1K Bootstraps from our Sample)');"
   ]
  },
  {
   "cell_type": "code",
   "execution_count": 45,
   "id": "collected-nation",
   "metadata": {},
   "outputs": [
    {
     "data": {
      "text/plain": [
       "103956.26"
      ]
     },
     "execution_count": 45,
     "metadata": {},
     "output_type": "execute_result"
    }
   ],
   "source": [
    "percentile(50, bootstrap_medians)"
   ]
  },
  {
   "cell_type": "code",
   "execution_count": 46,
   "id": "wooden-vocabulary",
   "metadata": {},
   "outputs": [
    {
     "data": {
      "text/plain": [
       "(93992.5, 111233.71)"
      ]
     },
     "execution_count": 46,
     "metadata": {},
     "output_type": "execute_result"
    }
   ],
   "source": [
    "percentile(2.5, bootstrap_medians), percentile(97.5, bootstrap_medians)"
   ]
  },
  {
   "cell_type": "markdown",
   "id": "vocational-jefferson",
   "metadata": {},
   "source": [
    "# 95% Confidence Interval"
   ]
  },
  {
   "cell_type": "markdown",
   "id": "known-bonus",
   "metadata": {},
   "source": [
    "**Question**: How could we make an interval based on the middle 95% of bootstrap samples?\n",
    "\n",
    "- *Hint 1:* Remember we stored the bootstrapped medians in an array called `bootstrap_medians`\n",
    "- *Hint 2:* What did we learn about in the begining of this lecture?\n",
    "\n",
    "\n",
    "<details>\n",
    "<summary>Solution</summary>\n",
    "  left = percentile(2.5, bootstrap_medians)\n",
    "right = percentile(97.5, bootstrap_medians)\n",
    "</details>  "
   ]
  },
  {
   "cell_type": "code",
   "execution_count": 47,
   "id": "beginning-masters",
   "metadata": {},
   "outputs": [],
   "source": [
    "# Make an interval based on the middle 95% of bootstrap samples\n",
    "\n",
    "left = percentile(2.5, bootstrap_medians)\n",
    "right = percentile(97.5, bootstrap_medians)"
   ]
  },
  {
   "cell_type": "code",
   "execution_count": 50,
   "id": "waiting-garage",
   "metadata": {},
   "outputs": [
    {
     "data": {
      "image/png": "[encoded data removed]",
      "text/plain": [
       "<Figure size 432x288 with 1 Axes>"
      ]
     },
     "metadata": {},
     "output_type": "display_data"
    }
   ],
   "source": [
    "Table().with_column(\n",
    "    'Bootstrap Medians', bootstrap_medians\n",
    ").hist('Bootstrap Medians', bins=med_bins)\n",
    "\n",
    "plots.plot([left, right], [0,0], color=\"gold\",lw=50, zorder=1);\n",
    "plots.scatter(pop_median, 0, color=\"red\", zorder=2);\n",
    "plots.scatter(our_sample_median, 0, color=\"blue\", zorder=2);\n",
    "plots.title('Bootstrap Medians (1K Bootstraps from our Sample)');"
   ]
  },
  {
   "cell_type": "code",
   "execution_count": 51,
   "id": "separated-california",
   "metadata": {},
   "outputs": [
    {
     "data": {
      "text/plain": [
       "98174.9"
      ]
     },
     "execution_count": 51,
     "metadata": {},
     "output_type": "execute_result"
    }
   ],
   "source": [
    "pop_median"
   ]
  },
  {
   "cell_type": "markdown",
   "id": "registered-redhead",
   "metadata": {},
   "source": [
    "## Another Example: Mean Maternal Age"
   ]
  },
  {
   "cell_type": "code",
   "execution_count": null,
   "id": "hungarian-concrete",
   "metadata": {},
   "outputs": [],
   "source": [
    "# This time we have a sample, but no population data!\n",
    "births = Table.read_table('baby.csv')\n",
    "births.show(5)"
   ]
  },
  {
   "cell_type": "markdown",
   "id": "accessible-peoples",
   "metadata": {},
   "source": [
    "How can we see a distribution of maternal ages?\n",
    "\n",
    "<details>\n",
    "<summary>Solution</summary>\n",
    "  births.hist('Maternal Age')\n",
    "</details>  "
   ]
  },
  {
   "cell_type": "markdown",
   "id": "brutal-syndicate",
   "metadata": {},
   "source": [
    "What is the mean age?"
   ]
  },
  {
   "cell_type": "code",
   "execution_count": null,
   "id": "analyzed-philosophy",
   "metadata": {},
   "outputs": [],
   "source": [
    "mean_age = ...\n",
    "mean_age"
   ]
  },
  {
   "cell_type": "markdown",
   "id": "specialized-compensation",
   "metadata": {},
   "source": [
    "Now let's use bootstraping to find samples means\n",
    "\n",
    "<details>\n",
    "<summary>Solution</summary>\n",
    "  np.mean(births.sample().column('Maternal Age'))\n",
    "</details>  "
   ]
  },
  {
   "cell_type": "code",
   "execution_count": null,
   "id": "efficient-injection",
   "metadata": {},
   "outputs": [],
   "source": [
    "def one_bootstrap_mean():\n",
    "    return ..."
   ]
  },
  {
   "cell_type": "markdown",
   "id": "lesbian-pleasure",
   "metadata": {},
   "source": [
    "Let's compute 1k bootstrapped samples"
   ]
  },
  {
   "cell_type": "code",
   "execution_count": null,
   "id": "animal-nothing",
   "metadata": {},
   "outputs": [],
   "source": [
    "bootstrap_means = make_array()\n",
    "\n",
    "for i in np.arange(1000):\n",
    "    new_mean = one_bootstrap_mean()\n",
    "    bootstrap_means = np.append(bootstrap_means, new_mean)\n",
    "    \n",
    "left = percentile(2.5, bootstrap_means)\n",
    "right = percentile(97.5, bootstrap_means)"
   ]
  },
  {
   "cell_type": "code",
   "execution_count": null,
   "id": "acute-hands",
   "metadata": {},
   "outputs": [],
   "source": [
    "Table().with_column('Bootstrap means', bootstrap_means).hist()\n",
    "\n",
    "plots.plot([left,right], [0,0], color=\"gold\", lw=3, zorder=1);\n",
    "plots.scatter(mean_age,0,color=\"blue\", zorder=2);\n",
    "plots.title('Bootstrap Means (1K Bootstraps from our Sample)');"
   ]
  }
 ],
 "metadata": {
  "kernelspec": {
   "display_name": "Python 3",
   "language": "python",
   "name": "python3"
  },
  "language_info": {
   "codemirror_mode": {
    "name": "ipython",
    "version": 3
   },
   "file_extension": ".py",
   "mimetype": "text/x-python",
   "name": "python",
   "nbconvert_exporter": "python",
   "pygments_lexer": "ipython3",
   "version": "3.8.8"
  }
 },
 "nbformat": 4,
 "nbformat_minor": 5
}
