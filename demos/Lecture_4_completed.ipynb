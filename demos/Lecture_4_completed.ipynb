{
 "cells": [
  {
   "cell_type": "code",
   "execution_count": 1,
   "metadata": {},
   "outputs": [],
   "source": [
    "from datascience import *\n",
    "import numpy as np\n",
    "\n",
    "%matplotlib inline\n",
    "import matplotlib.pyplot as plots\n",
    "plots.style.use('fivethirtyeight')"
   ]
  },
  {
   "cell_type": "markdown",
   "metadata": {},
   "source": [
    "# Table Questions"
   ]
  },
  {
   "cell_type": "markdown",
   "metadata": {},
   "source": [
    "**Question 1:** Given a file callled `nba_salaries.csv`, how can we load it into a `Table`?"
   ]
  },
  {
   "cell_type": "code",
   "execution_count": 3,
   "metadata": {},
   "outputs": [
    {
     "data": {
      "text/html": [
       "<table border=\"1\" class=\"dataframe\">\n",
       "    <thead>\n",
       "        <tr>\n",
       "            <th>PLAYER</th> <th>POSITION</th> <th>TEAM</th> <th>'15-'16 SALARY</th>\n",
       "        </tr>\n",
       "    </thead>\n",
       "    <tbody>\n",
       "        <tr>\n",
       "            <td>Paul Millsap    </td> <td>PF      </td> <td>Atlanta Hawks</td> <td>18.6717       </td>\n",
       "        </tr>\n",
       "        <tr>\n",
       "            <td>Al Horford      </td> <td>C       </td> <td>Atlanta Hawks</td> <td>12            </td>\n",
       "        </tr>\n",
       "        <tr>\n",
       "            <td>Tiago Splitter  </td> <td>C       </td> <td>Atlanta Hawks</td> <td>9.75625       </td>\n",
       "        </tr>\n",
       "        <tr>\n",
       "            <td>Jeff Teague     </td> <td>PG      </td> <td>Atlanta Hawks</td> <td>8             </td>\n",
       "        </tr>\n",
       "        <tr>\n",
       "            <td>Kyle Korver     </td> <td>SG      </td> <td>Atlanta Hawks</td> <td>5.74648       </td>\n",
       "        </tr>\n",
       "        <tr>\n",
       "            <td>Thabo Sefolosha </td> <td>SF      </td> <td>Atlanta Hawks</td> <td>4             </td>\n",
       "        </tr>\n",
       "        <tr>\n",
       "            <td>Mike Scott      </td> <td>PF      </td> <td>Atlanta Hawks</td> <td>3.33333       </td>\n",
       "        </tr>\n",
       "        <tr>\n",
       "            <td>Kent Bazemore   </td> <td>SF      </td> <td>Atlanta Hawks</td> <td>2             </td>\n",
       "        </tr>\n",
       "        <tr>\n",
       "            <td>Dennis Schroder </td> <td>PG      </td> <td>Atlanta Hawks</td> <td>1.7634        </td>\n",
       "        </tr>\n",
       "        <tr>\n",
       "            <td>Tim Hardaway Jr.</td> <td>SG      </td> <td>Atlanta Hawks</td> <td>1.30452       </td>\n",
       "        </tr>\n",
       "    </tbody>\n",
       "</table>\n",
       "<p>... (407 rows omitted)</p>"
      ],
      "text/plain": [
       "PLAYER           | POSITION | TEAM          | '15-'16 SALARY\n",
       "Paul Millsap     | PF       | Atlanta Hawks | 18.6717\n",
       "Al Horford       | C        | Atlanta Hawks | 12\n",
       "Tiago Splitter   | C        | Atlanta Hawks | 9.75625\n",
       "Jeff Teague      | PG       | Atlanta Hawks | 8\n",
       "Kyle Korver      | SG       | Atlanta Hawks | 5.74648\n",
       "Thabo Sefolosha  | SF       | Atlanta Hawks | 4\n",
       "Mike Scott       | PF       | Atlanta Hawks | 3.33333\n",
       "Kent Bazemore    | SF       | Atlanta Hawks | 2\n",
       "Dennis Schroder  | PG       | Atlanta Hawks | 1.7634\n",
       "Tim Hardaway Jr. | SG       | Atlanta Hawks | 1.30452\n",
       "... (407 rows omitted)"
      ]
     },
     "execution_count": 3,
     "metadata": {},
     "output_type": "execute_result"
    }
   ],
   "source": [
    "nba = Table.read_table(\"nba_salaries.csv\")\n",
    "nba"
   ]
  },
  {
   "cell_type": "markdown",
   "metadata": {},
   "source": [
    "**Question 2:** What are the columns in our table?"
   ]
  },
  {
   "cell_type": "code",
   "execution_count": 7,
   "metadata": {},
   "outputs": [
    {
     "data": {
      "text/plain": [
       "('PLAYER', 'POSITION', 'TEAM', \"'15-'16 SALARY\")"
      ]
     },
     "execution_count": 7,
     "metadata": {},
     "output_type": "execute_result"
    }
   ],
   "source": [
    "nba.labels"
   ]
  },
  {
   "cell_type": "markdown",
   "metadata": {},
   "source": [
    "**Question 3**: Find the names of all centers (C) who make more than $15M/year\n",
    "\n",
    "*Hint:* break this into two steps"
   ]
  },
  {
   "cell_type": "code",
   "execution_count": 9,
   "metadata": {},
   "outputs": [
    {
     "data": {
      "text/html": [
       "<table border=\"1\" class=\"dataframe\">\n",
       "    <thead>\n",
       "        <tr>\n",
       "            <th>PLAYER</th> <th>POSITION</th> <th>TEAM</th> <th>'15-'16 SALARY</th>\n",
       "        </tr>\n",
       "    </thead>\n",
       "    <tbody>\n",
       "        <tr>\n",
       "            <td>Al Horford        </td> <td>C       </td> <td>Atlanta Hawks    </td> <td>12            </td>\n",
       "        </tr>\n",
       "        <tr>\n",
       "            <td>Tiago Splitter    </td> <td>C       </td> <td>Atlanta Hawks    </td> <td>9.75625       </td>\n",
       "        </tr>\n",
       "        <tr>\n",
       "            <td>Walter Tavares    </td> <td>C       </td> <td>Atlanta Hawks    </td> <td>1             </td>\n",
       "        </tr>\n",
       "        <tr>\n",
       "            <td>Tyler Zeller      </td> <td>C       </td> <td>Boston Celtics   </td> <td>2.61698       </td>\n",
       "        </tr>\n",
       "        <tr>\n",
       "            <td>Jared Sullinger   </td> <td>C       </td> <td>Boston Celtics   </td> <td>2.56926       </td>\n",
       "        </tr>\n",
       "        <tr>\n",
       "            <td>Kelly Olynyk      </td> <td>C       </td> <td>Boston Celtics   </td> <td>2.16516       </td>\n",
       "        </tr>\n",
       "        <tr>\n",
       "            <td>Andrea Bargnani   </td> <td>C       </td> <td>Brooklyn Nets    </td> <td>1.3629        </td>\n",
       "        </tr>\n",
       "        <tr>\n",
       "            <td>Al Jefferson      </td> <td>C       </td> <td>Charlotte Hornets</td> <td>13.5          </td>\n",
       "        </tr>\n",
       "        <tr>\n",
       "            <td>Cody Zeller       </td> <td>C       </td> <td>Charlotte Hornets</td> <td>4.2042        </td>\n",
       "        </tr>\n",
       "        <tr>\n",
       "            <td>Frank Kaminsky III</td> <td>C       </td> <td>Charlotte Hornets</td> <td>2.61252       </td>\n",
       "        </tr>\n",
       "    </tbody>\n",
       "</table>\n",
       "<p>... (59 rows omitted)</p>"
      ],
      "text/plain": [
       "PLAYER             | POSITION | TEAM              | '15-'16 SALARY\n",
       "Al Horford         | C        | Atlanta Hawks     | 12\n",
       "Tiago Splitter     | C        | Atlanta Hawks     | 9.75625\n",
       "Walter Tavares     | C        | Atlanta Hawks     | 1\n",
       "Tyler Zeller       | C        | Boston Celtics    | 2.61698\n",
       "Jared Sullinger    | C        | Boston Celtics    | 2.56926\n",
       "Kelly Olynyk       | C        | Boston Celtics    | 2.16516\n",
       "Andrea Bargnani    | C        | Brooklyn Nets     | 1.3629\n",
       "Al Jefferson       | C        | Charlotte Hornets | 13.5\n",
       "Cody Zeller        | C        | Charlotte Hornets | 4.2042\n",
       "Frank Kaminsky III | C        | Charlotte Hornets | 2.61252\n",
       "... (59 rows omitted)"
      ]
     },
     "execution_count": 9,
     "metadata": {},
     "output_type": "execute_result"
    }
   ],
   "source": [
    "# all the centers\n",
    "nba.where(1, \"C\")"
   ]
  },
  {
   "cell_type": "code",
   "execution_count": 11,
   "metadata": {},
   "outputs": [
    {
     "data": {
      "text/html": [
       "<table border=\"1\" class=\"dataframe\">\n",
       "    <thead>\n",
       "        <tr>\n",
       "            <th>PLAYER</th> <th>POSITION</th> <th>TEAM</th> <th>'15-'16 SALARY</th>\n",
       "        </tr>\n",
       "    </thead>\n",
       "    <tbody>\n",
       "        <tr>\n",
       "            <td>Al Horford        </td> <td>C       </td> <td>Atlanta Hawks    </td> <td>12            </td>\n",
       "        </tr>\n",
       "        <tr>\n",
       "            <td>Tiago Splitter    </td> <td>C       </td> <td>Atlanta Hawks    </td> <td>9.75625       </td>\n",
       "        </tr>\n",
       "        <tr>\n",
       "            <td>Walter Tavares    </td> <td>C       </td> <td>Atlanta Hawks    </td> <td>1             </td>\n",
       "        </tr>\n",
       "        <tr>\n",
       "            <td>Tyler Zeller      </td> <td>C       </td> <td>Boston Celtics   </td> <td>2.61698       </td>\n",
       "        </tr>\n",
       "        <tr>\n",
       "            <td>Jared Sullinger   </td> <td>C       </td> <td>Boston Celtics   </td> <td>2.56926       </td>\n",
       "        </tr>\n",
       "        <tr>\n",
       "            <td>Kelly Olynyk      </td> <td>C       </td> <td>Boston Celtics   </td> <td>2.16516       </td>\n",
       "        </tr>\n",
       "        <tr>\n",
       "            <td>Andrea Bargnani   </td> <td>C       </td> <td>Brooklyn Nets    </td> <td>1.3629        </td>\n",
       "        </tr>\n",
       "        <tr>\n",
       "            <td>Al Jefferson      </td> <td>C       </td> <td>Charlotte Hornets</td> <td>13.5          </td>\n",
       "        </tr>\n",
       "        <tr>\n",
       "            <td>Cody Zeller       </td> <td>C       </td> <td>Charlotte Hornets</td> <td>4.2042        </td>\n",
       "        </tr>\n",
       "        <tr>\n",
       "            <td>Frank Kaminsky III</td> <td>C       </td> <td>Charlotte Hornets</td> <td>2.61252       </td>\n",
       "        </tr>\n",
       "    </tbody>\n",
       "</table>\n",
       "<p>... (59 rows omitted)</p>"
      ],
      "text/plain": [
       "PLAYER             | POSITION | TEAM              | '15-'16 SALARY\n",
       "Al Horford         | C        | Atlanta Hawks     | 12\n",
       "Tiago Splitter     | C        | Atlanta Hawks     | 9.75625\n",
       "Walter Tavares     | C        | Atlanta Hawks     | 1\n",
       "Tyler Zeller       | C        | Boston Celtics    | 2.61698\n",
       "Jared Sullinger    | C        | Boston Celtics    | 2.56926\n",
       "Kelly Olynyk       | C        | Boston Celtics    | 2.16516\n",
       "Andrea Bargnani    | C        | Brooklyn Nets     | 1.3629\n",
       "Al Jefferson       | C        | Charlotte Hornets | 13.5\n",
       "Cody Zeller        | C        | Charlotte Hornets | 4.2042\n",
       "Frank Kaminsky III | C        | Charlotte Hornets | 2.61252\n",
       "... (59 rows omitted)"
      ]
     },
     "execution_count": 11,
     "metadata": {},
     "output_type": "execute_result"
    }
   ],
   "source": [
    "nba.where(\"POSITION\", \"C\")"
   ]
  },
  {
   "cell_type": "code",
   "execution_count": 13,
   "metadata": {},
   "outputs": [
    {
     "data": {
      "text/plain": [
       "69"
      ]
     },
     "execution_count": 13,
     "metadata": {},
     "output_type": "execute_result"
    }
   ],
   "source": [
    "# how many centers are there\n",
    "nba_centers = nba.where(\"POSITION\", \"C\")\n",
    "nba_centers.num_rows"
   ]
  },
  {
   "cell_type": "code",
   "execution_count": 14,
   "metadata": {},
   "outputs": [
    {
     "data": {
      "text/html": [
       "<table border=\"1\" class=\"dataframe\">\n",
       "    <thead>\n",
       "        <tr>\n",
       "            <th>PLAYER</th> <th>POSITION</th> <th>TEAM</th> <th>'15-'16 SALARY</th>\n",
       "        </tr>\n",
       "    </thead>\n",
       "    <tbody>\n",
       "    </tbody>\n",
       "</table>"
      ],
      "text/plain": [
       "PLAYER | POSITION | TEAM | '15-'16 SALARY"
      ]
     },
     "execution_count": 14,
     "metadata": {},
     "output_type": "execute_result"
    }
   ],
   "source": [
    "# who make more than 15M\n",
    "nba_centers.where(3, are.above(15000000))"
   ]
  },
  {
   "cell_type": "code",
   "execution_count": 15,
   "metadata": {},
   "outputs": [
    {
     "data": {
      "text/html": [
       "<table border=\"1\" class=\"dataframe\">\n",
       "    <thead>\n",
       "        <tr>\n",
       "            <th>PLAYER</th> <th>POSITION</th> <th>TEAM</th> <th>'15-'16 SALARY</th>\n",
       "        </tr>\n",
       "    </thead>\n",
       "    <tbody>\n",
       "        <tr>\n",
       "            <td>Dwight Howard   </td> <td>C       </td> <td>Houston Rockets      </td> <td>22.3594       </td>\n",
       "        </tr>\n",
       "        <tr>\n",
       "            <td>Roy Hibbert     </td> <td>C       </td> <td>Los Angeles Lakers   </td> <td>15.5922       </td>\n",
       "        </tr>\n",
       "        <tr>\n",
       "            <td>Marc Gasol      </td> <td>C       </td> <td>Memphis Grizzlies    </td> <td>19.688        </td>\n",
       "        </tr>\n",
       "        <tr>\n",
       "            <td>Enes Kanter     </td> <td>C       </td> <td>Oklahoma City Thunder</td> <td>16.4075       </td>\n",
       "        </tr>\n",
       "        <tr>\n",
       "            <td>DeMarcus Cousins</td> <td>C       </td> <td>Sacramento Kings     </td> <td>15.852        </td>\n",
       "        </tr>\n",
       "    </tbody>\n",
       "</table>"
      ],
      "text/plain": [
       "PLAYER           | POSITION | TEAM                  | '15-'16 SALARY\n",
       "Dwight Howard    | C        | Houston Rockets       | 22.3594\n",
       "Roy Hibbert      | C        | Los Angeles Lakers    | 15.5922\n",
       "Marc Gasol       | C        | Memphis Grizzlies     | 19.688\n",
       "Enes Kanter      | C        | Oklahoma City Thunder | 16.4075\n",
       "DeMarcus Cousins | C        | Sacramento Kings      | 15.852"
      ]
     },
     "execution_count": 15,
     "metadata": {},
     "output_type": "execute_result"
    }
   ],
   "source": [
    "nba_centers.where(3, are.above(15))"
   ]
  },
  {
   "cell_type": "code",
   "execution_count": 16,
   "metadata": {},
   "outputs": [
    {
     "data": {
      "text/html": [
       "<table border=\"1\" class=\"dataframe\">\n",
       "    <thead>\n",
       "        <tr>\n",
       "            <th>PLAYER</th>\n",
       "        </tr>\n",
       "    </thead>\n",
       "    <tbody>\n",
       "        <tr>\n",
       "            <td>Dwight Howard   </td>\n",
       "        </tr>\n",
       "        <tr>\n",
       "            <td>Roy Hibbert     </td>\n",
       "        </tr>\n",
       "        <tr>\n",
       "            <td>Marc Gasol      </td>\n",
       "        </tr>\n",
       "        <tr>\n",
       "            <td>Enes Kanter     </td>\n",
       "        </tr>\n",
       "        <tr>\n",
       "            <td>DeMarcus Cousins</td>\n",
       "        </tr>\n",
       "    </tbody>\n",
       "</table>"
      ],
      "text/plain": [
       "PLAYER\n",
       "Dwight Howard\n",
       "Roy Hibbert\n",
       "Marc Gasol\n",
       "Enes Kanter\n",
       "DeMarcus Cousins"
      ]
     },
     "execution_count": 16,
     "metadata": {},
     "output_type": "execute_result"
    }
   ],
   "source": [
    "nba_centers.where(3, are.above(15)).select(\"PLAYER\")"
   ]
  },
  {
   "cell_type": "markdown",
   "metadata": {},
   "source": [
    "**Question 4**: Which player had the highest salary in 2015-16?\n",
    "\n",
    "*Hint:* how do we access an individual (row) in a Table"
   ]
  },
  {
   "cell_type": "code",
   "execution_count": 18,
   "metadata": {},
   "outputs": [
    {
     "data": {
      "text/html": [
       "<table border=\"1\" class=\"dataframe\">\n",
       "    <thead>\n",
       "        <tr>\n",
       "            <th>PLAYER</th> <th>POSITION</th> <th>TEAM</th> <th>'15-'16 SALARY</th>\n",
       "        </tr>\n",
       "    </thead>\n",
       "    <tbody>\n",
       "        <tr>\n",
       "            <td>Paul Millsap</td> <td>PF      </td> <td>Atlanta Hawks</td> <td>18.6717       </td>\n",
       "        </tr>\n",
       "    </tbody>\n",
       "</table>\n",
       "<p>... (416 rows omitted)</p>"
      ],
      "text/plain": [
       "<IPython.core.display.HTML object>"
      ]
     },
     "metadata": {},
     "output_type": "display_data"
    }
   ],
   "source": [
    "nba.show(1)"
   ]
  },
  {
   "cell_type": "code",
   "execution_count": 21,
   "metadata": {},
   "outputs": [
    {
     "data": {
      "text/html": [
       "<table border=\"1\" class=\"dataframe\">\n",
       "    <thead>\n",
       "        <tr>\n",
       "            <th>PLAYER</th> <th>POSITION</th> <th>TEAM</th> <th>'15-'16 SALARY</th>\n",
       "        </tr>\n",
       "    </thead>\n",
       "    <tbody>\n",
       "        <tr>\n",
       "            <td>Kobe Bryant    </td> <td>SF      </td> <td>Los Angeles Lakers   </td> <td>25            </td>\n",
       "        </tr>\n",
       "        <tr>\n",
       "            <td>Joe Johnson    </td> <td>SF      </td> <td>Brooklyn Nets        </td> <td>24.8949       </td>\n",
       "        </tr>\n",
       "        <tr>\n",
       "            <td>LeBron James   </td> <td>SF      </td> <td>Cleveland Cavaliers  </td> <td>22.9705       </td>\n",
       "        </tr>\n",
       "        <tr>\n",
       "            <td>Carmelo Anthony</td> <td>SF      </td> <td>New York Knicks      </td> <td>22.875        </td>\n",
       "        </tr>\n",
       "        <tr>\n",
       "            <td>Dwight Howard  </td> <td>C       </td> <td>Houston Rockets      </td> <td>22.3594       </td>\n",
       "        </tr>\n",
       "        <tr>\n",
       "            <td>Chris Bosh     </td> <td>PF      </td> <td>Miami Heat           </td> <td>22.1927       </td>\n",
       "        </tr>\n",
       "        <tr>\n",
       "            <td>Chris Paul     </td> <td>PG      </td> <td>Los Angeles Clippers </td> <td>21.4687       </td>\n",
       "        </tr>\n",
       "        <tr>\n",
       "            <td>Kevin Durant   </td> <td>SF      </td> <td>Oklahoma City Thunder</td> <td>20.1586       </td>\n",
       "        </tr>\n",
       "        <tr>\n",
       "            <td>Derrick Rose   </td> <td>PG      </td> <td>Chicago Bulls        </td> <td>20.0931       </td>\n",
       "        </tr>\n",
       "        <tr>\n",
       "            <td>Dwyane Wade    </td> <td>SG      </td> <td>Miami Heat           </td> <td>20            </td>\n",
       "        </tr>\n",
       "    </tbody>\n",
       "</table>\n",
       "<p>... (407 rows omitted)</p>"
      ],
      "text/plain": [
       "PLAYER          | POSITION | TEAM                  | '15-'16 SALARY\n",
       "Kobe Bryant     | SF       | Los Angeles Lakers    | 25\n",
       "Joe Johnson     | SF       | Brooklyn Nets         | 24.8949\n",
       "LeBron James    | SF       | Cleveland Cavaliers   | 22.9705\n",
       "Carmelo Anthony | SF       | New York Knicks       | 22.875\n",
       "Dwight Howard   | C        | Houston Rockets       | 22.3594\n",
       "Chris Bosh      | PF       | Miami Heat            | 22.1927\n",
       "Chris Paul      | PG       | Los Angeles Clippers  | 21.4687\n",
       "Kevin Durant    | SF       | Oklahoma City Thunder | 20.1586\n",
       "Derrick Rose    | PG       | Chicago Bulls         | 20.0931\n",
       "Dwyane Wade     | SG       | Miami Heat            | 20\n",
       "... (407 rows omitted)"
      ]
     },
     "execution_count": 21,
     "metadata": {},
     "output_type": "execute_result"
    }
   ],
   "source": [
    "nba.sort(\"'15-'16 SALARY\", descending=True)"
   ]
  },
  {
   "cell_type": "code",
   "execution_count": 24,
   "metadata": {},
   "outputs": [
    {
     "data": {
      "text/html": [
       "<table border=\"1\" class=\"dataframe\">\n",
       "    <thead>\n",
       "        <tr>\n",
       "            <th>PLAYER</th> <th>POSITION</th> <th>TEAM</th> <th>'15-'16 SALARY</th>\n",
       "        </tr>\n",
       "    </thead>\n",
       "    <tbody>\n",
       "        <tr>\n",
       "            <td>Kobe Bryant</td> <td>SF      </td> <td>Los Angeles Lakers</td> <td>25            </td>\n",
       "        </tr>\n",
       "    </tbody>\n",
       "</table>\n",
       "<p>... (416 rows omitted)</p>"
      ],
      "text/plain": [
       "<IPython.core.display.HTML object>"
      ]
     },
     "metadata": {},
     "output_type": "display_data"
    }
   ],
   "source": [
    "nba.sort(\"'15-'16 SALARY\", descending=True).show(1)"
   ]
  },
  {
   "cell_type": "code",
   "execution_count": 27,
   "metadata": {},
   "outputs": [
    {
     "data": {
      "text/html": [
       "<table border=\"1\" class=\"dataframe\">\n",
       "    <thead>\n",
       "        <tr>\n",
       "            <th>PLAYER</th>\n",
       "        </tr>\n",
       "    </thead>\n",
       "    <tbody>\n",
       "        <tr>\n",
       "            <td>Kobe Bryant</td>\n",
       "        </tr>\n",
       "    </tbody>\n",
       "</table>"
      ],
      "text/plain": [
       "PLAYER\n",
       "Kobe Bryant"
      ]
     },
     "execution_count": 27,
     "metadata": {},
     "output_type": "execute_result"
    }
   ],
   "source": [
    "nba.sort(\"'15-'16 SALARY\", descending=True).take(0).select(\"PLAYER\")"
   ]
  },
  {
   "cell_type": "code",
   "execution_count": 31,
   "metadata": {},
   "outputs": [
    {
     "data": {
      "text/html": [
       "<table border=\"1\" class=\"dataframe\">\n",
       "    <thead>\n",
       "        <tr>\n",
       "            <th>PLAYER</th>\n",
       "        </tr>\n",
       "    </thead>\n",
       "    <tbody>\n",
       "        <tr>\n",
       "            <td>Kobe Bryant</td>\n",
       "        </tr>\n",
       "    </tbody>\n",
       "</table>"
      ],
      "text/plain": [
       "PLAYER\n",
       "Kobe Bryant"
      ]
     },
     "execution_count": 31,
     "metadata": {},
     "output_type": "execute_result"
    }
   ],
   "source": [
    "nba.sort(\"'15-'16 SALARY\", descending=True).select(\"PLAYER\").take(0)"
   ]
  },
  {
   "cell_type": "code",
   "execution_count": null,
   "metadata": {},
   "outputs": [],
   "source": [
    "# skip"
   ]
  },
  {
   "cell_type": "code",
   "execution_count": null,
   "metadata": {},
   "outputs": [],
   "source": [
    "# skip"
   ]
  },
  {
   "cell_type": "code",
   "execution_count": null,
   "metadata": {},
   "outputs": [],
   "source": [
    "# skip"
   ]
  },
  {
   "cell_type": "markdown",
   "metadata": {},
   "source": [
    "**Question:** What type is returned by `take()`?"
   ]
  },
  {
   "cell_type": "code",
   "execution_count": 28,
   "metadata": {},
   "outputs": [
    {
     "data": {
      "text/plain": [
       "datascience.tables.Table"
      ]
     },
     "execution_count": 28,
     "metadata": {},
     "output_type": "execute_result"
    }
   ],
   "source": [
    "type(nba.sort(\"'15-'16 SALARY\", descending=True).take(0))"
   ]
  },
  {
   "cell_type": "code",
   "execution_count": 29,
   "metadata": {},
   "outputs": [
    {
     "data": {
      "text/plain": [
       "('PLAYER', 'POSITION', 'TEAM', \"'15-'16 SALARY\")"
      ]
     },
     "execution_count": 29,
     "metadata": {},
     "output_type": "execute_result"
    }
   ],
   "source": [
    "nba.labels"
   ]
  },
  {
   "cell_type": "code",
   "execution_count": 33,
   "metadata": {},
   "outputs": [
    {
     "data": {
      "text/html": [
       "<table border=\"1\" class=\"dataframe\">\n",
       "    <thead>\n",
       "        <tr>\n",
       "            <th>PLAYER</th> <th>POSITION</th> <th>TEAM</th> <th>'15-'16 SALARY</th>\n",
       "        </tr>\n",
       "    </thead>\n",
       "    <tbody>\n",
       "        <tr>\n",
       "            <td>Paul Millsap  </td> <td>PF      </td> <td>Atlanta Hawks</td> <td>18.6717       </td>\n",
       "        </tr>\n",
       "        <tr>\n",
       "            <td>Al Horford    </td> <td>C       </td> <td>Atlanta Hawks</td> <td>12            </td>\n",
       "        </tr>\n",
       "        <tr>\n",
       "            <td>Tiago Splitter</td> <td>C       </td> <td>Atlanta Hawks</td> <td>9.75625       </td>\n",
       "        </tr>\n",
       "        <tr>\n",
       "            <td>Jeff Teague   </td> <td>PG      </td> <td>Atlanta Hawks</td> <td>8             </td>\n",
       "        </tr>\n",
       "        <tr>\n",
       "            <td>Kyle Korver   </td> <td>SG      </td> <td>Atlanta Hawks</td> <td>5.74648       </td>\n",
       "        </tr>\n",
       "    </tbody>\n",
       "</table>\n",
       "<p>... (412 rows omitted)</p>"
      ],
      "text/plain": [
       "<IPython.core.display.HTML object>"
      ]
     },
     "metadata": {},
     "output_type": "display_data"
    }
   ],
   "source": [
    "nba.show(5)"
   ]
  },
  {
   "cell_type": "code",
   "execution_count": 84,
   "metadata": {},
   "outputs": [
    {
     "data": {
      "text/html": [
       "<table border=\"1\" class=\"dataframe\">\n",
       "    <thead>\n",
       "        <tr>\n",
       "            <th>PLAYER</th>\n",
       "        </tr>\n",
       "    </thead>\n",
       "    <tbody>\n",
       "        <tr>\n",
       "            <td>Kobe Bryant</td>\n",
       "        </tr>\n",
       "    </tbody>\n",
       "</table>"
      ],
      "text/plain": [
       "PLAYER\n",
       "Kobe Bryant"
      ]
     },
     "execution_count": 84,
     "metadata": {},
     "output_type": "execute_result"
    }
   ],
   "source": [
    "nba.sort(\"'15-'16 SALARY\", descending=True).take(0).select(\"PLAYER\")"
   ]
  },
  {
   "cell_type": "code",
   "execution_count": 87,
   "metadata": {
    "collapsed": true
   },
   "outputs": [
    {
     "data": {
      "text/plain": [
       "array(['Kobe Bryant', 'Joe Johnson', 'LeBron James', 'Carmelo Anthony',\n",
       "       'Dwight Howard', 'Chris Bosh', 'Chris Paul', 'Kevin Durant',\n",
       "       'Derrick Rose', 'Dwyane Wade', 'Kevin Love', 'LaMarcus Aldridge',\n",
       "       'Marc Gasol', 'Blake Griffin', 'Paul Millsap', 'Paul George',\n",
       "       'Russell Westbrook', 'Kyrie Irving', 'Jimmy Butler', 'Enes Kanter',\n",
       "       'Kawhi Leonard', 'Tobias Harris', 'DeMarcus Cousins', 'John Wall',\n",
       "       'James Harden', 'Roy Hibbert', 'Eric Gordon', 'Klay Thompson',\n",
       "       'David Lee', 'Gordon Hayward', 'Chandler Parsons', 'Goran Dragic',\n",
       "       'Khris Middleton', 'Tristan Thompson', 'Draymond Green',\n",
       "       'Danilo Gallinari', 'Reggie Jackson', 'Andrew Bogut',\n",
       "       'DeMarre Carroll', 'Al Jefferson', 'Eric Bledsoe', 'Tony Parker',\n",
       "       'Joakim Noah', 'Nicolas Batum', 'Tyson Chandler', 'Nene Hilario',\n",
       "       'Ricky Rubio', 'Robin Lopez', 'Ty Lawson', 'Rudy Gay',\n",
       "       'Serge Ibaka', 'Nikola Pekovic', 'Al Horford', 'Kemba Walker',\n",
       "       'Kyle Lowry', 'Andre Iguodala', 'Stephen Curry', 'Nikola Vucevic',\n",
       "       'Thaddeus Young', 'Kenneth Faried', 'Marcin Gortat',\n",
       "       'Tyreke Evans', 'Jrue Holiday', 'Brendan Haywood',\n",
       "       'Wilson Chandler', 'Monta Ellis', 'Luol Deng', 'Gerald Wallace',\n",
       "       'DeMar DeRozan', 'Danny Green', 'Tiago Splitter', 'Zach Randolph',\n",
       "       'Mike Conley', 'Rajon Rondo', 'Alec Burks', 'Jeff Green',\n",
       "       'Omer Asik', 'Lance Stephenson', 'Iman Shumpert', 'Kevin Garnett',\n",
       "       'Ryan Anderson', 'Brandon Jennings', 'Dirk Nowitzki',\n",
       "       'Corey Brewer', 'Trevor Ariza', 'Channing Frye', 'Al-Farouq Aminu',\n",
       "       'Jeff Teague', 'O.J. Mayo', 'Arron Afflalo', 'Markieff Morris',\n",
       "       'Ersan Ilyasova', 'Avery Bradley', 'Kosta Koufos', 'Boris Diaw',\n",
       "       'Pau Gasol', 'Jose Calderon', 'J.J. Redick', 'Kevin Martin',\n",
       "       'Anthony Davis', 'Jason Thompson', 'Marvin Williams',\n",
       "       'Rodney Stuckey', 'Louis Williams', 'Cory Joseph', 'Ed Davis',\n",
       "       'Isaiah Thomas', 'Jae Crowder', 'Greivis Vasquez', 'Aron Baynes',\n",
       "       'Carl Landry', 'Patrick Beverley', 'Michael Kidd-Gilchrist',\n",
       "       'Jarrett Jack', 'Jodie Meeks', 'Patrick Patterson',\n",
       "       'Spencer Hawes', 'Marco Belinelli', 'Gerald Henderson',\n",
       "       'Andrew Wiggins', 'Kyle Korver', 'Karl-Anthony Towns',\n",
       "       'Bradley Beal', 'Courtney Lee', 'Jamal Crawford', 'JJ Hickson',\n",
       "       'Martell Webster', 'Nikola Mirotic', 'Shaun Livingston',\n",
       "       'Josh McRoberts', 'Mirza Teletovic', 'P.J. Tucker',\n",
       "       'Brandan Wright', 'Deron Williams', 'Tim Duncan', 'Nick Young',\n",
       "       'Zaza Pachulia', 'Victor Oladipo', 'Tony Allen', 'Jabari Parker',\n",
       "       'Dion Waiters', \"D'Angelo Russell\", 'Chris Kaman',\n",
       "       'Darren Collison', 'Jonas Jerebko', 'Chase Budinger',\n",
       "       'Chris Andersen', 'Timofey Mozgov', 'Trevor Booker',\n",
       "       'Otto Porter Jr.', 'Jonas Valanciunas', 'Joel Embiid',\n",
       "       'Jahlil Okafor', 'Mike Dunleavy', 'Kyle Singler', 'Kris Humphries',\n",
       "       'C.J. Miles', 'Alexis Ajinca', 'Jared Dudley', 'Jameer Nelson',\n",
       "       'Mario Chalmers', 'Jason Smith', 'J.J. Barea', 'Damian Lillard',\n",
       "       'Cody Zeller', 'Aaron Gordon', 'Kristaps Porzingis',\n",
       "       'Vince Carter', 'Devin Harris', 'Lavoy Allen', 'Thabo Sefolosha',\n",
       "       'Jordan Hill', 'Ian Mahinmi', 'Derrick Williams', 'Alan Anderson',\n",
       "       'Raymond Felton', 'Nemanja Bjelica', 'Harrison Barnes',\n",
       "       'Marreese Speights', 'Alex Len', 'Dante Exum', \"Kyle O'Quinn\",\n",
       "       'Nick Collison', 'Mario Hezonja', 'Patty Mills', 'Terrence Ross',\n",
       "       'Matt Barnes', 'Will Barton', 'Nerlens Noel', 'Marcus Smart',\n",
       "       'Evan Turner', 'Bojan Bogdanovic', 'Willie Cauley-Stein',\n",
       "       'Quincy Pondexter', 'Paul Pierce', 'Anthony Morrow', 'Mike Scott',\n",
       "       'Drew Gooden', 'Andre Drummond', 'K.J. McDaniels', 'Ben McLemore',\n",
       "       'Randy Foye', 'Julius Randle', 'Austin Rivers', 'Emmanuel Mudiay',\n",
       "       'Meyers Leonard', 'Norris Cole', 'Jeremy Lamb', 'Brandon Bass',\n",
       "       'Jerryd Bayless', 'D.J. Augustin', 'John Henson', 'Luis Scola',\n",
       "       'Tibor Pleiss', 'Maurice Harkless', 'Kentavious Caldwell-Pope',\n",
       "       'Nik Stauskas', 'Brian Roberts', 'Kirk Hinrich', 'Udonis Haslem',\n",
       "       'Dante Cunningham', 'Stanley Johnson', 'Furkan Aldemir',\n",
       "       'Omri Casspi', 'Darrell Arthur', 'Manu Ginobili',\n",
       "       'Bismack Biyombo', 'Luke Ridnour', 'Trey Burke', 'Noah Vonleh',\n",
       "       'Tyler Zeller', 'Frank Kaminsky III', 'Jared Sullinger',\n",
       "       'C.J. McCollum', 'Elfrid Payton', 'Joel Anthony',\n",
       "       'Leandro Barbosa', 'James Johnson', 'Terrence Jones',\n",
       "       'Justise Winslow', 'Shelvin Mack', 'Michael Carter-Williams',\n",
       "       'Andrew Nicholson', 'Doug McDermott', 'Myles Turner',\n",
       "       'Donatas Motiejunas', 'Evan Fournier', 'Steven Adams',\n",
       "       'Aaron Brooks', 'Trey Lyles', 'Tony Wroten', 'Danny Granger',\n",
       "       'Beno Udrih', 'Ramon Sessions', 'Kelly Olynyk', 'Zach LaVine',\n",
       "       'Kendall Marshall', 'Jeremy Lin', 'Gary Neal', 'Devin Booker',\n",
       "       'Miles Plumlee', 'Mo Williams', 'Shabazz Muhammad', 'Joe Ingles',\n",
       "       'T.J. Warren', 'Perry Jones', 'Cameron Payne', 'Festus Ezeli',\n",
       "       'Kent Bazemore', 'DeJuan Blair', 'Giannis Antetokounmpo',\n",
       "       'Adreian Payne', 'Kelly Oubre Jr.', 'Jusuf Nurkic',\n",
       "       'Lucas Nogueira', 'Terry Rozier', 'Dennis Schroder', 'James Young',\n",
       "       'Rashad Vaughn', 'Ryan Kelly', 'Joffrey Lauvergne', 'Zoran Dragic',\n",
       "       'Tyler Ennis', 'Sam Dekker', 'Lance Thomas', 'Lou Amundson',\n",
       "       'Sergey Karasev', 'Gary Harris', 'Jerian Grant', 'Tony Snell',\n",
       "       'Bruno Caboclo', 'Delon Wright', 'Wayne Ellington', 'Shane Larkin',\n",
       "       'David West', 'Gorgui Dieng', 'Mitch McGary', 'Caron Butler',\n",
       "       'Justin Anderson', 'Mason Plumlee', 'Jordan Adams', 'Bobby Portis',\n",
       "       'Andrea Bargnani', 'Solomon Hill', 'Rodney Hood',\n",
       "       'Rondae Hollis-Jefferson', 'Alonzo Gee', 'Tim Hardaway Jr.',\n",
       "       'Nikola Jokic', 'Shabazz Napier', 'Tyus Jones', 'Sasha Kaun',\n",
       "       'JaVale McGee', 'Brandon Rush', 'Reggie Bullock', 'Clint Capela',\n",
       "       'Jarell Martin', 'Andre Roberson', 'P.J. Hairston',\n",
       "       'Boban Marjanovic', 'Earl Clark', 'Reggie Williams', 'Rudy Gobert',\n",
       "       'Jordan Mickey', 'Toney Douglas', 'Archie Goodwin', 'C.J. Wilcox',\n",
       "       'Larry Nance Jr.', 'Chris Copeland', 'Damjan Rudez', 'R.J. Hunter',\n",
       "       'Matthew Dellavedova', 'Kyle Anderson', 'Chris McCullough',\n",
       "       'Josh Huestis', 'Kevon Looney', 'Cole Aldrich', 'Wesley Johnson',\n",
       "       'Henry Walker', 'Luke Babbitt', 'Garrett Temple',\n",
       "       'Glenn Robinson III', 'Richaun Holmes', 'Jon Leuer',\n",
       "       \"E'Twaun Moore\", 'Jordan Hamilton', 'Lester Hudson',\n",
       "       'James Anderson', 'Rakeem Christmas', 'Joe Young',\n",
       "       'Walter Tavares', 'Montrezl Harrell', 'Robert Covington',\n",
       "       'Thomas Robinson', 'John Jenkins', 'Robert Sacre', 'Jerel McNeal',\n",
       "       'Chris Johnson', 'Pablo Prigioni', 'Jason Richardson',\n",
       "       'Damien Wilkins', 'Jorge Gutierrez', 'Tyler Hansbrough',\n",
       "       'Troy Daniels', 'Kendrick Perkins', 'Allen Crabbe', 'Ray McCallum',\n",
       "       'Grant Jerrett', 'Jeff Withey', 'Raul Neto', 'Jimmer Fredette',\n",
       "       'Damien Inglis', 'Markel Brown', 'JaMychal Green', 'Russ Smith',\n",
       "       'James Ennis', 'Jarnell Stokes', 'Tyler Johnson',\n",
       "       'Langston Galloway', 'Jerami Grant', 'Terrico White',\n",
       "       'Kostas Papanikolaou', 'Bryce Cotton', 'Anthony Brown',\n",
       "       'Norman Powell', 'Pat Connaughton', 'Darrun Hilliard',\n",
       "       'Jarell Eddie', 'Lamar Patterson', 'Terran Petteway',\n",
       "       'Aaron Harrison', 'Jarrid Famous', 'Greg Whittington',\n",
       "       'Josh Richardson', 'Corey Hawkins', 'Bo McCalebb', 'Luis Montero',\n",
       "       'Cliff Alexander', 'Shannon Scott', 'Ronald Roberts Jr.',\n",
       "       'Treveon Graham', 'Anderson Varejao', 'Steve Novak',\n",
       "       'JaKarr Sampson', 'Bryce Dejean-Jones', 'Jeff Ayres',\n",
       "       'Ryan Hollins', 'Lorenzo Brown', 'Sean Kilpatrick', 'Erick Green',\n",
       "       'Keith Appling', 'Elliot Williams', 'Orlando Johnson',\n",
       "       'Phil Pressey', 'Jordan McRae', 'Cory Jefferson',\n",
       "       'Thanasis Antetokounmpo'], dtype='<U24')"
      ]
     },
     "execution_count": 87,
     "metadata": {},
     "output_type": "execute_result"
    }
   ],
   "source": [
    "nba.sort(\"'15-'16 SALARY\", descending=True).column(\"PLAYER\")"
   ]
  },
  {
   "cell_type": "code",
   "execution_count": 88,
   "metadata": {},
   "outputs": [
    {
     "data": {
      "text/plain": [
       "'Kobe Bryant'"
      ]
     },
     "execution_count": 88,
     "metadata": {},
     "output_type": "execute_result"
    }
   ],
   "source": [
    "nba.sort(\"'15-'16 SALARY\", descending=True).column(\"PLAYER\").item(0)"
   ]
  },
  {
   "cell_type": "code",
   "execution_count": 89,
   "metadata": {},
   "outputs": [
    {
     "data": {
      "text/plain": [
       "'Kobe Bryant'"
      ]
     },
     "execution_count": 89,
     "metadata": {},
     "output_type": "execute_result"
    }
   ],
   "source": [
    "highest_paid_player = nba.sort(\"'15-'16 SALARY\", descending=True).column(\"PLAYER\").item(0)\n",
    "highest_paid_player"
   ]
  },
  {
   "cell_type": "code",
   "execution_count": 90,
   "metadata": {},
   "outputs": [
    {
     "data": {
      "text/html": [
       "<table border=\"1\" class=\"dataframe\">\n",
       "    <thead>\n",
       "        <tr>\n",
       "            <th>PLAYER</th> <th>POSITION</th> <th>TEAM</th> <th>'15-'16 SALARY</th>\n",
       "        </tr>\n",
       "    </thead>\n",
       "    <tbody>\n",
       "        <tr>\n",
       "            <td>Paul Millsap    </td> <td>PF      </td> <td>Atlanta Hawks</td> <td>18.6717       </td>\n",
       "        </tr>\n",
       "        <tr>\n",
       "            <td>Al Horford      </td> <td>C       </td> <td>Atlanta Hawks</td> <td>12            </td>\n",
       "        </tr>\n",
       "        <tr>\n",
       "            <td>Tiago Splitter  </td> <td>C       </td> <td>Atlanta Hawks</td> <td>9.75625       </td>\n",
       "        </tr>\n",
       "        <tr>\n",
       "            <td>Jeff Teague     </td> <td>PG      </td> <td>Atlanta Hawks</td> <td>8             </td>\n",
       "        </tr>\n",
       "        <tr>\n",
       "            <td>Kyle Korver     </td> <td>SG      </td> <td>Atlanta Hawks</td> <td>5.74648       </td>\n",
       "        </tr>\n",
       "        <tr>\n",
       "            <td>Thabo Sefolosha </td> <td>SF      </td> <td>Atlanta Hawks</td> <td>4             </td>\n",
       "        </tr>\n",
       "        <tr>\n",
       "            <td>Mike Scott      </td> <td>PF      </td> <td>Atlanta Hawks</td> <td>3.33333       </td>\n",
       "        </tr>\n",
       "        <tr>\n",
       "            <td>Kent Bazemore   </td> <td>SF      </td> <td>Atlanta Hawks</td> <td>2             </td>\n",
       "        </tr>\n",
       "        <tr>\n",
       "            <td>Dennis Schroder </td> <td>PG      </td> <td>Atlanta Hawks</td> <td>1.7634        </td>\n",
       "        </tr>\n",
       "        <tr>\n",
       "            <td>Tim Hardaway Jr.</td> <td>SG      </td> <td>Atlanta Hawks</td> <td>1.30452       </td>\n",
       "        </tr>\n",
       "    </tbody>\n",
       "</table>\n",
       "<p>... (407 rows omitted)</p>"
      ],
      "text/plain": [
       "PLAYER           | POSITION | TEAM          | '15-'16 SALARY\n",
       "Paul Millsap     | PF       | Atlanta Hawks | 18.6717\n",
       "Al Horford       | C        | Atlanta Hawks | 12\n",
       "Tiago Splitter   | C        | Atlanta Hawks | 9.75625\n",
       "Jeff Teague      | PG       | Atlanta Hawks | 8\n",
       "Kyle Korver      | SG       | Atlanta Hawks | 5.74648\n",
       "Thabo Sefolosha  | SF       | Atlanta Hawks | 4\n",
       "Mike Scott       | PF       | Atlanta Hawks | 3.33333\n",
       "Kent Bazemore    | SF       | Atlanta Hawks | 2\n",
       "Dennis Schroder  | PG       | Atlanta Hawks | 1.7634\n",
       "Tim Hardaway Jr. | SG       | Atlanta Hawks | 1.30452\n",
       "... (407 rows omitted)"
      ]
     },
     "execution_count": 90,
     "metadata": {},
     "output_type": "execute_result"
    }
   ],
   "source": [
    "nba"
   ]
  },
  {
   "cell_type": "markdown",
   "metadata": {},
   "source": [
    "# Arrays"
   ]
  },
  {
   "cell_type": "code",
   "execution_count": null,
   "metadata": {},
   "outputs": [],
   "source": [
    " # let's make an array\n",
    "  # does anyone know how to make an array from the reading?\n",
    "  # lets make the array be an array of numbers"
   ]
  },
  {
   "cell_type": "code",
   "execution_count": 34,
   "metadata": {},
   "outputs": [
    {
     "data": {
      "text/plain": [
       "array([], dtype=float64)"
      ]
     },
     "execution_count": 34,
     "metadata": {},
     "output_type": "execute_result"
    }
   ],
   "source": [
    "make_array()"
   ]
  },
  {
   "cell_type": "code",
   "execution_count": 35,
   "metadata": {},
   "outputs": [
    {
     "data": {
      "text/plain": [
       "array([5, 6, 7])"
      ]
     },
     "execution_count": 35,
     "metadata": {},
     "output_type": "execute_result"
    }
   ],
   "source": [
    "make_array(5,6,7)"
   ]
  },
  {
   "cell_type": "code",
   "execution_count": 37,
   "metadata": {},
   "outputs": [
    {
     "data": {
      "text/plain": [
       "array([5, 6, 7])"
      ]
     },
     "execution_count": 37,
     "metadata": {},
     "output_type": "execute_result"
    }
   ],
   "source": [
    "example_array = make_array(5,6,7)\n",
    "example_array"
   ]
  },
  {
   "cell_type": "markdown",
   "metadata": {},
   "source": [
    "#### lets apply different computations to the array"
   ]
  },
  {
   "cell_type": "code",
   "execution_count": 38,
   "metadata": {},
   "outputs": [
    {
     "data": {
      "text/plain": [
       "array([6, 7, 8])"
      ]
     },
     "execution_count": 38,
     "metadata": {},
     "output_type": "execute_result"
    }
   ],
   "source": [
    " # addition\n",
    "example_array + 1"
   ]
  },
  {
   "cell_type": "code",
   "execution_count": 39,
   "metadata": {},
   "outputs": [
    {
     "data": {
      "text/plain": [
       "array([22.5, 27. , 31.5])"
      ]
     },
     "execution_count": 39,
     "metadata": {},
     "output_type": "execute_result"
    }
   ],
   "source": [
    " # multiplication\n",
    "example_array * 4.5"
   ]
  },
  {
   "cell_type": "code",
   "execution_count": 40,
   "metadata": {},
   "outputs": [
    {
     "data": {
      "text/plain": [
       "array([25, 36, 49])"
      ]
     },
     "execution_count": 40,
     "metadata": {},
     "output_type": "execute_result"
    }
   ],
   "source": [
    " # square\n",
    "example_array ** 2    "
   ]
  },
  {
   "cell_type": "code",
   "execution_count": 41,
   "metadata": {},
   "outputs": [
    {
     "data": {
      "text/plain": [
       "array([5, 6, 7])"
      ]
     },
     "execution_count": 41,
     "metadata": {},
     "output_type": "execute_result"
    }
   ],
   "source": [
    "  # absolute value \n",
    "abs(example_array)"
   ]
  },
  {
   "cell_type": "code",
   "execution_count": 42,
   "metadata": {},
   "outputs": [
    {
     "data": {
      "text/plain": [
       "array([1, 5, 6])"
      ]
     },
     "execution_count": 42,
     "metadata": {},
     "output_type": "execute_result"
    }
   ],
   "source": [
    "  # absolute value \n",
    "abs(make_array(-1, -5, 6))"
   ]
  },
  {
   "cell_type": "code",
   "execution_count": 43,
   "metadata": {},
   "outputs": [
    {
     "data": {
      "text/plain": [
       "array(['string', '1'], dtype='<U21')"
      ]
     },
     "execution_count": 43,
     "metadata": {},
     "output_type": "execute_result"
    }
   ],
   "source": [
    "make_array(\"string\", 1)"
   ]
  },
  {
   "cell_type": "code",
   "execution_count": 44,
   "metadata": {},
   "outputs": [
    {
     "data": {
      "text/plain": [
       "'1'"
      ]
     },
     "execution_count": 44,
     "metadata": {},
     "output_type": "execute_result"
    }
   ],
   "source": [
    "str(1)"
   ]
  },
  {
   "cell_type": "code",
   "execution_count": 45,
   "metadata": {},
   "outputs": [
    {
     "data": {
      "text/plain": [
       "array([2. , 4.4])"
      ]
     },
     "execution_count": 45,
     "metadata": {},
     "output_type": "execute_result"
    }
   ],
   "source": [
    "make_array(2, 4.4)"
   ]
  },
  {
   "cell_type": "code",
   "execution_count": 46,
   "metadata": {},
   "outputs": [
    {
     "data": {
      "text/plain": [
       "array([ 1,  2, 34])"
      ]
     },
     "execution_count": 46,
     "metadata": {},
     "output_type": "execute_result"
    }
   ],
   "source": [
    "make_array(1,2,34)"
   ]
  },
  {
   "cell_type": "code",
   "execution_count": 47,
   "metadata": {},
   "outputs": [
    {
     "data": {
      "text/plain": [
       "array([1, 2, 3, 4])"
      ]
     },
     "execution_count": 47,
     "metadata": {},
     "output_type": "execute_result"
    }
   ],
   "source": [
    "aa = make_array(1,2,3,4)\n",
    "aa"
   ]
  },
  {
   "cell_type": "code",
   "execution_count": null,
   "metadata": {},
   "outputs": [],
   "source": [
    "# find the sum of all values in an array"
   ]
  },
  {
   "cell_type": "code",
   "execution_count": 50,
   "metadata": {},
   "outputs": [
    {
     "data": {
      "text/plain": [
       "10"
      ]
     },
     "execution_count": 50,
     "metadata": {},
     "output_type": "execute_result"
    }
   ],
   "source": [
    "sum(aa)"
   ]
  },
  {
   "cell_type": "code",
   "execution_count": null,
   "metadata": {},
   "outputs": [],
   "source": [
    "# find the maximum value in the array"
   ]
  },
  {
   "cell_type": "code",
   "execution_count": 48,
   "metadata": {},
   "outputs": [
    {
     "data": {
      "text/plain": [
       "4"
      ]
     },
     "execution_count": 48,
     "metadata": {},
     "output_type": "execute_result"
    }
   ],
   "source": [
    "max(aa)"
   ]
  },
  {
   "cell_type": "code",
   "execution_count": null,
   "metadata": {},
   "outputs": [],
   "source": [
    "# find the minimum value"
   ]
  },
  {
   "cell_type": "code",
   "execution_count": 51,
   "metadata": {},
   "outputs": [
    {
     "data": {
      "text/plain": [
       "1"
      ]
     },
     "execution_count": 51,
     "metadata": {},
     "output_type": "execute_result"
    }
   ],
   "source": [
    "min(aa)"
   ]
  },
  {
   "cell_type": "code",
   "execution_count": null,
   "metadata": {},
   "outputs": [],
   "source": [
    "# find the first item in an array\n",
    "# note to Adam (dont use index slicing)"
   ]
  },
  {
   "cell_type": "code",
   "execution_count": 52,
   "metadata": {},
   "outputs": [
    {
     "data": {
      "text/plain": [
       "array([1, 2, 3, 4])"
      ]
     },
     "execution_count": 52,
     "metadata": {},
     "output_type": "execute_result"
    }
   ],
   "source": [
    "aa"
   ]
  },
  {
   "cell_type": "code",
   "execution_count": 53,
   "metadata": {},
   "outputs": [
    {
     "ename": "AttributeError",
     "evalue": "'numpy.ndarray' object has no attribute 'select'",
     "output_type": "error",
     "traceback": [
      "\u001b[0;31m---------------------------------------------------------------------------\u001b[0m",
      "\u001b[0;31mAttributeError\u001b[0m                            Traceback (most recent call last)",
      "\u001b[0;32m<ipython-input-53-1dae0d72ee20>\u001b[0m in \u001b[0;36m<module>\u001b[0;34m\u001b[0m\n\u001b[0;32m----> 1\u001b[0;31m \u001b[0maa\u001b[0m\u001b[0;34m.\u001b[0m\u001b[0mselect\u001b[0m\u001b[0;34m(\u001b[0m\u001b[0;36m0\u001b[0m\u001b[0;34m)\u001b[0m\u001b[0;34m\u001b[0m\u001b[0;34m\u001b[0m\u001b[0m\n\u001b[0m",
      "\u001b[0;31mAttributeError\u001b[0m: 'numpy.ndarray' object has no attribute 'select'"
     ]
    }
   ],
   "source": [
    "aa.select(0)"
   ]
  },
  {
   "cell_type": "code",
   "execution_count": 54,
   "metadata": {},
   "outputs": [
    {
     "data": {
      "text/plain": [
       "1"
      ]
     },
     "execution_count": 54,
     "metadata": {},
     "output_type": "execute_result"
    }
   ],
   "source": [
    "aa.item(0)"
   ]
  },
  {
   "cell_type": "code",
   "execution_count": 55,
   "metadata": {},
   "outputs": [
    {
     "data": {
      "text/plain": [
       "array([1, 2, 3, 4])"
      ]
     },
     "execution_count": 55,
     "metadata": {},
     "output_type": "execute_result"
    }
   ],
   "source": [
    "aa"
   ]
  },
  {
   "cell_type": "code",
   "execution_count": 56,
   "metadata": {},
   "outputs": [
    {
     "data": {
      "text/plain": [
       "4"
      ]
     },
     "execution_count": 56,
     "metadata": {},
     "output_type": "execute_result"
    }
   ],
   "source": [
    "len(aa)"
   ]
  },
  {
   "cell_type": "code",
   "execution_count": 57,
   "metadata": {},
   "outputs": [
    {
     "ename": "AttributeError",
     "evalue": "'numpy.ndarray' object has no attribute 'len'",
     "output_type": "error",
     "traceback": [
      "\u001b[0;31m---------------------------------------------------------------------------\u001b[0m",
      "\u001b[0;31mAttributeError\u001b[0m                            Traceback (most recent call last)",
      "\u001b[0;32m<ipython-input-57-58a91e4c0961>\u001b[0m in \u001b[0;36m<module>\u001b[0;34m\u001b[0m\n\u001b[0;32m----> 1\u001b[0;31m \u001b[0maa\u001b[0m\u001b[0;34m.\u001b[0m\u001b[0mlen\u001b[0m\u001b[0;34m(\u001b[0m\u001b[0;34m)\u001b[0m\u001b[0;34m\u001b[0m\u001b[0;34m\u001b[0m\u001b[0m\n\u001b[0m",
      "\u001b[0;31mAttributeError\u001b[0m: 'numpy.ndarray' object has no attribute 'len'"
     ]
    }
   ],
   "source": [
    "aa.len()"
   ]
  },
  {
   "cell_type": "markdown",
   "metadata": {},
   "source": [
    "\n",
    "# Ranges"
   ]
  },
  {
   "cell_type": "code",
   "execution_count": null,
   "metadata": {},
   "outputs": [],
   "source": [
    "  #np.arrange(end), np.arrange(start, end), step"
   ]
  },
  {
   "cell_type": "code",
   "execution_count": 59,
   "metadata": {},
   "outputs": [
    {
     "data": {
      "text/plain": [
       "array([0, 1, 2, 3, 4, 5, 6, 7, 8, 9])"
      ]
     },
     "execution_count": 59,
     "metadata": {},
     "output_type": "execute_result"
    }
   ],
   "source": [
    "np.arange(10)"
   ]
  },
  {
   "cell_type": "code",
   "execution_count": 60,
   "metadata": {},
   "outputs": [
    {
     "data": {
      "text/plain": [
       "array([10, 11, 12, 13, 14, 15, 16, 17, 18, 19])"
      ]
     },
     "execution_count": 60,
     "metadata": {},
     "output_type": "execute_result"
    }
   ],
   "source": [
    "np.arange(10,20)"
   ]
  },
  {
   "cell_type": "code",
   "execution_count": 61,
   "metadata": {},
   "outputs": [
    {
     "data": {
      "text/plain": [
       "array([10, 12, 14, 16, 18])"
      ]
     },
     "execution_count": 61,
     "metadata": {},
     "output_type": "execute_result"
    }
   ],
   "source": [
    "np.arange(10,20,2)"
   ]
  },
  {
   "cell_type": "code",
   "execution_count": 62,
   "metadata": {},
   "outputs": [
    {
     "data": {
      "text/plain": [
       "array([], dtype=int64)"
      ]
     },
     "execution_count": 62,
     "metadata": {},
     "output_type": "execute_result"
    }
   ],
   "source": [
    "np.arange(10,5)"
   ]
  },
  {
   "cell_type": "code",
   "execution_count": 63,
   "metadata": {},
   "outputs": [
    {
     "data": {
      "text/plain": [
       "array([10,  9,  8,  7,  6])"
      ]
     },
     "execution_count": 63,
     "metadata": {},
     "output_type": "execute_result"
    }
   ],
   "source": [
    "np.arange(10,5,-1)"
   ]
  },
  {
   "cell_type": "markdown",
   "metadata": {},
   "source": [
    "## Array statistics using numpy\n",
    "(look at end of array's in python reference)"
   ]
  },
  {
   "cell_type": "code",
   "execution_count": null,
   "metadata": {},
   "outputs": [],
   "source": [
    "# np.mean, np.average"
   ]
  },
  {
   "cell_type": "code",
   "execution_count": 64,
   "metadata": {},
   "outputs": [
    {
     "data": {
      "text/plain": [
       "8.0"
      ]
     },
     "execution_count": 64,
     "metadata": {},
     "output_type": "execute_result"
    }
   ],
   "source": [
    "np.average(np.arange(10,5,-1))"
   ]
  },
  {
   "cell_type": "code",
   "execution_count": 65,
   "metadata": {},
   "outputs": [
    {
     "data": {
      "text/plain": [
       "8.0"
      ]
     },
     "execution_count": 65,
     "metadata": {},
     "output_type": "execute_result"
    }
   ],
   "source": [
    "np.mean(np.arange(10,5,-1))"
   ]
  },
  {
   "cell_type": "code",
   "execution_count": 66,
   "metadata": {},
   "outputs": [
    {
     "data": {
      "text/plain": [
       "True"
      ]
     },
     "execution_count": 66,
     "metadata": {},
     "output_type": "execute_result"
    }
   ],
   "source": [
    "np.mean(np.arange(10,5,-1)) ==np.average(np.arange(10,5,-1))"
   ]
  },
  {
   "cell_type": "code",
   "execution_count": 67,
   "metadata": {},
   "outputs": [
    {
     "data": {
      "text/plain": [
       "array([-10,  -9,  -8,  -7,  -6,  -5,  -4,  -3,  -2,  -1])"
      ]
     },
     "execution_count": 67,
     "metadata": {},
     "output_type": "execute_result"
    }
   ],
   "source": [
    "# absolute\n",
    "np.arange(-10, 0)"
   ]
  },
  {
   "cell_type": "code",
   "execution_count": 68,
   "metadata": {},
   "outputs": [
    {
     "data": {
      "text/plain": [
       "array([10,  9,  8,  7,  6,  5,  4,  3,  2,  1])"
      ]
     },
     "execution_count": 68,
     "metadata": {},
     "output_type": "execute_result"
    }
   ],
   "source": [
    "np.abs(np.arange(-10, 0))"
   ]
  },
  {
   "cell_type": "code",
   "execution_count": 70,
   "metadata": {},
   "outputs": [],
   "source": [
    "# make an empty array and add elements"
   ]
  },
  {
   "cell_type": "code",
   "execution_count": 72,
   "metadata": {},
   "outputs": [
    {
     "data": {
      "text/plain": [
       "array([], dtype=float64)"
      ]
     },
     "execution_count": 72,
     "metadata": {},
     "output_type": "execute_result"
    }
   ],
   "source": [
    "empty_array = make_array()\n",
    "empty_array"
   ]
  },
  {
   "cell_type": "code",
   "execution_count": 73,
   "metadata": {},
   "outputs": [
    {
     "data": {
      "text/plain": [
       "array([99.])"
      ]
     },
     "execution_count": 73,
     "metadata": {},
     "output_type": "execute_result"
    }
   ],
   "source": [
    "np.append(empty_array, 99)"
   ]
  },
  {
   "cell_type": "code",
   "execution_count": 74,
   "metadata": {},
   "outputs": [
    {
     "data": {
      "text/plain": [
       "0"
      ]
     },
     "execution_count": 74,
     "metadata": {},
     "output_type": "execute_result"
    }
   ],
   "source": [
    "len(empty_array)"
   ]
  },
  {
   "cell_type": "code",
   "execution_count": 75,
   "metadata": {},
   "outputs": [
    {
     "data": {
      "text/plain": [
       "array([99.])"
      ]
     },
     "execution_count": 75,
     "metadata": {},
     "output_type": "execute_result"
    }
   ],
   "source": [
    "updated_array  = np.append(empty_array, 99)\n",
    "updated_array"
   ]
  },
  {
   "cell_type": "code",
   "execution_count": 76,
   "metadata": {},
   "outputs": [
    {
     "data": {
      "text/plain": [
       "1"
      ]
     },
     "execution_count": 76,
     "metadata": {},
     "output_type": "execute_result"
    }
   ],
   "source": [
    "len(updated_array)"
   ]
  },
  {
   "cell_type": "code",
   "execution_count": 79,
   "metadata": {},
   "outputs": [
    {
     "ename": "IndexError",
     "evalue": "index 1 is out of bounds for axis 0 with size 1",
     "output_type": "error",
     "traceback": [
      "\u001b[0;31m---------------------------------------------------------------------------\u001b[0m",
      "\u001b[0;31mIndexError\u001b[0m                                Traceback (most recent call last)",
      "\u001b[0;32m<ipython-input-79-11f8c76970ec>\u001b[0m in \u001b[0;36m<module>\u001b[0;34m\u001b[0m\n\u001b[0;32m----> 1\u001b[0;31m \u001b[0mupdated_array\u001b[0m\u001b[0;34m.\u001b[0m\u001b[0mitem\u001b[0m\u001b[0;34m(\u001b[0m\u001b[0;36m1\u001b[0m\u001b[0;34m)\u001b[0m\u001b[0;34m\u001b[0m\u001b[0;34m\u001b[0m\u001b[0m\n\u001b[0m",
      "\u001b[0;31mIndexError\u001b[0m: index 1 is out of bounds for axis 0 with size 1"
     ]
    }
   ],
   "source": [
    "updated_array.item(1)"
   ]
  },
  {
   "cell_type": "code",
   "execution_count": 80,
   "metadata": {},
   "outputs": [
    {
     "data": {
      "text/plain": [
       "array([99.])"
      ]
     },
     "execution_count": 80,
     "metadata": {},
     "output_type": "execute_result"
    }
   ],
   "source": [
    "empty_array = np.append(empty_array, 99)\n",
    "empty_array"
   ]
  },
  {
   "cell_type": "code",
   "execution_count": 81,
   "metadata": {},
   "outputs": [
    {
     "data": {
      "text/plain": [
       "1"
      ]
     },
     "execution_count": 81,
     "metadata": {},
     "output_type": "execute_result"
    }
   ],
   "source": [
    "len(empty_array)"
   ]
  },
  {
   "cell_type": "code",
   "execution_count": 82,
   "metadata": {},
   "outputs": [
    {
     "data": {
      "text/plain": [
       "array(['99.0', 'hello'], dtype='<U32')"
      ]
     },
     "execution_count": 82,
     "metadata": {},
     "output_type": "execute_result"
    }
   ],
   "source": [
    "np.append(updated_array, \"hello\")"
   ]
  },
  {
   "cell_type": "markdown",
   "metadata": {},
   "source": [
    "(back to slides)\n",
    "# Census"
   ]
  },
  {
   "cell_type": "code",
   "execution_count": 92,
   "metadata": {},
   "outputs": [
    {
     "data": {
      "text/html": [
       "<table border=\"1\" class=\"dataframe\">\n",
       "    <thead>\n",
       "        <tr>\n",
       "            <th>SUMLEV</th> <th>REGION</th> <th>DIVISION</th> <th>STATE</th> <th>NAME</th> <th>ESTIMATESBASE2010</th> <th>POPESTIMATE2010</th> <th>POPESTIMATE2011</th> <th>POPESTIMATE2012</th> <th>POPESTIMATE2013</th> <th>POPESTIMATE2014</th> <th>POPESTIMATE2015</th> <th>NPOPCHG_2010</th> <th>NPOPCHG_2011</th> <th>NPOPCHG_2012</th> <th>NPOPCHG_2013</th> <th>NPOPCHG_2014</th> <th>NPOPCHG_2015</th> <th>PPOPCHG_2010</th> <th>PPOPCHG_2011</th> <th>PPOPCHG_2012</th> <th>PPOPCHG_2013</th> <th>PPOPCHG_2014</th> <th>PPOPCHG_2015</th> <th>NRANK_ESTBASE2010</th> <th>NRANK_POPEST2010</th> <th>NRANK_POPEST2011</th> <th>NRANK_POPEST2012</th> <th>NRANK_POPEST2013</th> <th>NRANK_POPEST2014</th> <th>NRANK_POPEST2015</th> <th>NRANK_NPCHG2010</th> <th>NRANK_NPCHG2011</th> <th>NRANK_NPCHG2012</th> <th>NRANK_NPCHG2013</th> <th>NRANK_NPCHG2014</th> <th>NRANK_NPCHG2015</th> <th>NRANK_PPCHG2010</th> <th>NRANK_PPCHG2011</th> <th>NRANK_PPCHG2012</th> <th>NRANK_PPCHG2013</th> <th>NRANK_PPCHG2014</th> <th>NRANK_PPCHG2015</th>\n",
       "        </tr>\n",
       "    </thead>\n",
       "    <tbody>\n",
       "        <tr>\n",
       "            <td>10    </td> <td>0     </td> <td>0       </td> <td>0    </td> <td>United States   </td> <td>308758105        </td> <td>309346863      </td> <td>311718857      </td> <td>314102623      </td> <td>316427395      </td> <td>318907401      </td> <td>321418820      </td> <td>588758      </td> <td>2371994     </td> <td>2383766     </td> <td>2324772     </td> <td>2480006     </td> <td>2511419     </td> <td>0.190686    </td> <td>0.766775    </td> <td>0.764717    </td> <td>0.740131    </td> <td>0.783752    </td> <td>0.787507    </td> <td>X                </td> <td>X               </td> <td>X               </td> <td>X               </td> <td>X               </td> <td>X               </td> <td>X               </td> <td>X              </td> <td>X              </td> <td>X              </td> <td>X              </td> <td>X              </td> <td>X              </td> <td>X              </td> <td>X              </td> <td>X              </td> <td>X              </td> <td>X              </td> <td>X              </td>\n",
       "        </tr>\n",
       "        <tr>\n",
       "            <td>20    </td> <td>1     </td> <td>0       </td> <td>0    </td> <td>Northeast Region</td> <td>55318348         </td> <td>55387174       </td> <td>55638038       </td> <td>55835056       </td> <td>56019353       </td> <td>56171281       </td> <td>56283891       </td> <td>68826       </td> <td>250864      </td> <td>197018      </td> <td>184297      </td> <td>151928      </td> <td>112610      </td> <td>0.124418    </td> <td>0.452928    </td> <td>0.354107    </td> <td>0.330074    </td> <td>0.271206    </td> <td>0.200476    </td> <td>4                </td> <td>4               </td> <td>4               </td> <td>4               </td> <td>4               </td> <td>4               </td> <td>4               </td> <td>3              </td> <td>3              </td> <td>3              </td> <td>4              </td> <td>4              </td> <td>4              </td> <td>3              </td> <td>3              </td> <td>3              </td> <td>4              </td> <td>4              </td> <td>4              </td>\n",
       "        </tr>\n",
       "        <tr>\n",
       "            <td>20    </td> <td>2     </td> <td>0       </td> <td>0    </td> <td>Midwest Region  </td> <td>66929897         </td> <td>66977505       </td> <td>67156488       </td> <td>67340231       </td> <td>67565788       </td> <td>67762069       </td> <td>67907403       </td> <td>47608       </td> <td>178983      </td> <td>183743      </td> <td>225557      </td> <td>196281      </td> <td>145334      </td> <td>0.0711311   </td> <td>0.267229    </td> <td>0.273604    </td> <td>0.334951    </td> <td>0.290504    </td> <td>0.214477    </td> <td>3                </td> <td>3               </td> <td>3               </td> <td>3               </td> <td>3               </td> <td>3               </td> <td>3               </td> <td>4              </td> <td>4              </td> <td>4              </td> <td>3              </td> <td>3              </td> <td>3              </td> <td>4              </td> <td>4              </td> <td>4              </td> <td>3              </td> <td>3              </td> <td>3              </td>\n",
       "        </tr>\n",
       "        <tr>\n",
       "            <td>20    </td> <td>3     </td> <td>0       </td> <td>0    </td> <td>South Region    </td> <td>114562953        </td> <td>114862858      </td> <td>116080267      </td> <td>117331340      </td> <td>118487418      </td> <td>119795010      </td> <td>121182847      </td> <td>299905      </td> <td>1217409     </td> <td>1251073     </td> <td>1156078     </td> <td>1307592     </td> <td>1387837     </td> <td>0.261782    </td> <td>1.05988     </td> <td>1.07777     </td> <td>0.98531     </td> <td>1.10357     </td> <td>1.15851     </td> <td>1                </td> <td>1               </td> <td>1               </td> <td>1               </td> <td>1               </td> <td>1               </td> <td>1               </td> <td>1              </td> <td>1              </td> <td>1              </td> <td>1              </td> <td>1              </td> <td>1              </td> <td>1              </td> <td>1              </td> <td>1              </td> <td>2              </td> <td>2              </td> <td>1              </td>\n",
       "        </tr>\n",
       "        <tr>\n",
       "            <td>20    </td> <td>4     </td> <td>0       </td> <td>0    </td> <td>West Region     </td> <td>71946907         </td> <td>72119326       </td> <td>72844064       </td> <td>73595996       </td> <td>74354836       </td> <td>75179041       </td> <td>76044679       </td> <td>172419      </td> <td>724738      </td> <td>751932      </td> <td>758840      </td> <td>824205      </td> <td>865638      </td> <td>0.239648    </td> <td>1.00492     </td> <td>1.03225     </td> <td>1.03109     </td> <td>1.10848     </td> <td>1.15144     </td> <td>2                </td> <td>2               </td> <td>2               </td> <td>2               </td> <td>2               </td> <td>2               </td> <td>2               </td> <td>2              </td> <td>2              </td> <td>2              </td> <td>2              </td> <td>2              </td> <td>2              </td> <td>2              </td> <td>2              </td> <td>2              </td> <td>1              </td> <td>1              </td> <td>2              </td>\n",
       "        </tr>\n",
       "        <tr>\n",
       "            <td>40    </td> <td>3     </td> <td>6       </td> <td>1    </td> <td>Alabama         </td> <td>4780127          </td> <td>4785161        </td> <td>4801108        </td> <td>4816089        </td> <td>4830533        </td> <td>4846411        </td> <td>4858979        </td> <td>5034        </td> <td>15947       </td> <td>14981       </td> <td>14444       </td> <td>15878       </td> <td>12568       </td> <td>0.105311    </td> <td>0.333259    </td> <td>0.312032    </td> <td>0.299911    </td> <td>0.328701    </td> <td>0.259326    </td> <td>23               </td> <td>23              </td> <td>23              </td> <td>23              </td> <td>23              </td> <td>23              </td> <td>24              </td> <td>30             </td> <td>27             </td> <td>27             </td> <td>31             </td> <td>28             </td> <td>29             </td> <td>38             </td> <td>39             </td> <td>38             </td> <td>37             </td> <td>33             </td> <td>35             </td>\n",
       "        </tr>\n",
       "        <tr>\n",
       "            <td>40    </td> <td>4     </td> <td>9       </td> <td>2    </td> <td>Alaska          </td> <td>710249           </td> <td>714021         </td> <td>722720         </td> <td>731228         </td> <td>737442         </td> <td>737046         </td> <td>738432         </td> <td>3772        </td> <td>8699        </td> <td>8508        </td> <td>6214        </td> <td>-396        </td> <td>1386        </td> <td>0.531081    </td> <td>1.21831     </td> <td>1.17722     </td> <td>0.849803    </td> <td>-0.0536991  </td> <td>0.188048    </td> <td>47               </td> <td>47              </td> <td>47              </td> <td>47              </td> <td>47              </td> <td>48              </td> <td>48              </td> <td>33             </td> <td>39             </td> <td>41             </td> <td>42             </td> <td>47             </td> <td>44             </td> <td>2              </td> <td>7              </td> <td>11             </td> <td>21             </td> <td>46             </td> <td>40             </td>\n",
       "        </tr>\n",
       "        <tr>\n",
       "            <td>40    </td> <td>4     </td> <td>8       </td> <td>4    </td> <td>Arizona         </td> <td>6392307          </td> <td>6408208        </td> <td>6468732        </td> <td>6553262        </td> <td>6630799        </td> <td>6728783        </td> <td>6828065        </td> <td>15901       </td> <td>60524       </td> <td>84530       </td> <td>77537       </td> <td>97984       </td> <td>99282       </td> <td>0.248752    </td> <td>0.944476    </td> <td>1.30675     </td> <td>1.18318     </td> <td>1.47771     </td> <td>1.47548     </td> <td>16               </td> <td>16              </td> <td>16              </td> <td>15              </td> <td>15              </td> <td>15              </td> <td>14              </td> <td>11             </td> <td>10             </td> <td>6              </td> <td>7              </td> <td>5              </td> <td>8              </td> <td>16             </td> <td>16             </td> <td>8              </td> <td>9              </td> <td>7              </td> <td>9              </td>\n",
       "        </tr>\n",
       "        <tr>\n",
       "            <td>40    </td> <td>3     </td> <td>7       </td> <td>5    </td> <td>Arkansas        </td> <td>2915958          </td> <td>2922394        </td> <td>2938538        </td> <td>2949499        </td> <td>2957957        </td> <td>2966835        </td> <td>2978204        </td> <td>6436        </td> <td>16144       </td> <td>10961       </td> <td>8458        </td> <td>8878        </td> <td>11369       </td> <td>0.220716    </td> <td>0.552424    </td> <td>0.373009    </td> <td>0.286761    </td> <td>0.30014     </td> <td>0.383203    </td> <td>32               </td> <td>32              </td> <td>32              </td> <td>32              </td> <td>32              </td> <td>32              </td> <td>33              </td> <td>25             </td> <td>26             </td> <td>36             </td> <td>39             </td> <td>37             </td> <td>33             </td> <td>20             </td> <td>32             </td> <td>32             </td> <td>39             </td> <td>35             </td> <td>29             </td>\n",
       "        </tr>\n",
       "        <tr>\n",
       "            <td>40    </td> <td>4     </td> <td>9       </td> <td>6    </td> <td>California      </td> <td>37254503         </td> <td>37334079       </td> <td>37700034       </td> <td>38056055       </td> <td>38414128       </td> <td>38792291       </td> <td>39144818       </td> <td>79576       </td> <td>365955      </td> <td>356021      </td> <td>358073      </td> <td>378163      </td> <td>352527      </td> <td>0.213601    </td> <td>0.980217    </td> <td>0.944352    </td> <td>0.940909    </td> <td>0.984437    </td> <td>0.908755    </td> <td>1                </td> <td>1               </td> <td>1               </td> <td>1               </td> <td>1               </td> <td>1               </td> <td>1               </td> <td>2              </td> <td>2              </td> <td>2              </td> <td>2              </td> <td>2              </td> <td>3              </td> <td>21             </td> <td>12             </td> <td>19             </td> <td>16             </td> <td>15             </td> <td>17             </td>\n",
       "        </tr>\n",
       "    </tbody>\n",
       "</table>\n",
       "<p>... (47 rows omitted)</p>"
      ],
      "text/plain": [
       "SUMLEV | REGION | DIVISION | STATE | NAME             | ESTIMATESBASE2010 | POPESTIMATE2010 | POPESTIMATE2011 | POPESTIMATE2012 | POPESTIMATE2013 | POPESTIMATE2014 | POPESTIMATE2015 | NPOPCHG_2010 | NPOPCHG_2011 | NPOPCHG_2012 | NPOPCHG_2013 | NPOPCHG_2014 | NPOPCHG_2015 | PPOPCHG_2010 | PPOPCHG_2011 | PPOPCHG_2012 | PPOPCHG_2013 | PPOPCHG_2014 | PPOPCHG_2015 | NRANK_ESTBASE2010 | NRANK_POPEST2010 | NRANK_POPEST2011 | NRANK_POPEST2012 | NRANK_POPEST2013 | NRANK_POPEST2014 | NRANK_POPEST2015 | NRANK_NPCHG2010 | NRANK_NPCHG2011 | NRANK_NPCHG2012 | NRANK_NPCHG2013 | NRANK_NPCHG2014 | NRANK_NPCHG2015 | NRANK_PPCHG2010 | NRANK_PPCHG2011 | NRANK_PPCHG2012 | NRANK_PPCHG2013 | NRANK_PPCHG2014 | NRANK_PPCHG2015\n",
       "10     | 0      | 0        | 0     | United States    | 308758105         | 309346863       | 311718857       | 314102623       | 316427395       | 318907401       | 321418820       | 588758       | 2371994      | 2383766      | 2324772      | 2480006      | 2511419      | 0.190686     | 0.766775     | 0.764717     | 0.740131     | 0.783752     | 0.787507     | X                 | X                | X                | X                | X                | X                | X                | X               | X               | X               | X               | X               | X               | X               | X               | X               | X               | X               | X\n",
       "20     | 1      | 0        | 0     | Northeast Region | 55318348          | 55387174        | 55638038        | 55835056        | 56019353        | 56171281        | 56283891        | 68826        | 250864       | 197018       | 184297       | 151928       | 112610       | 0.124418     | 0.452928     | 0.354107     | 0.330074     | 0.271206     | 0.200476     | 4                 | 4                | 4                | 4                | 4                | 4                | 4                | 3               | 3               | 3               | 4               | 4               | 4               | 3               | 3               | 3               | 4               | 4               | 4\n",
       "20     | 2      | 0        | 0     | Midwest Region   | 66929897          | 66977505        | 67156488        | 67340231        | 67565788        | 67762069        | 67907403        | 47608        | 178983       | 183743       | 225557       | 196281       | 145334       | 0.0711311    | 0.267229     | 0.273604     | 0.334951     | 0.290504     | 0.214477     | 3                 | 3                | 3                | 3                | 3                | 3                | 3                | 4               | 4               | 4               | 3               | 3               | 3               | 4               | 4               | 4               | 3               | 3               | 3\n",
       "20     | 3      | 0        | 0     | South Region     | 114562953         | 114862858       | 116080267       | 117331340       | 118487418       | 119795010       | 121182847       | 299905       | 1217409      | 1251073      | 1156078      | 1307592      | 1387837      | 0.261782     | 1.05988      | 1.07777      | 0.98531      | 1.10357      | 1.15851      | 1                 | 1                | 1                | 1                | 1                | 1                | 1                | 1               | 1               | 1               | 1               | 1               | 1               | 1               | 1               | 1               | 2               | 2               | 1\n",
       "20     | 4      | 0        | 0     | West Region      | 71946907          | 72119326        | 72844064        | 73595996        | 74354836        | 75179041        | 76044679        | 172419       | 724738       | 751932       | 758840       | 824205       | 865638       | 0.239648     | 1.00492      | 1.03225      | 1.03109      | 1.10848      | 1.15144      | 2                 | 2                | 2                | 2                | 2                | 2                | 2                | 2               | 2               | 2               | 2               | 2               | 2               | 2               | 2               | 2               | 1               | 1               | 2\n",
       "40     | 3      | 6        | 1     | Alabama          | 4780127           | 4785161         | 4801108         | 4816089         | 4830533         | 4846411         | 4858979         | 5034         | 15947        | 14981        | 14444        | 15878        | 12568        | 0.105311     | 0.333259     | 0.312032     | 0.299911     | 0.328701     | 0.259326     | 23                | 23               | 23               | 23               | 23               | 23               | 24               | 30              | 27              | 27              | 31              | 28              | 29              | 38              | 39              | 38              | 37              | 33              | 35\n",
       "40     | 4      | 9        | 2     | Alaska           | 710249            | 714021          | 722720          | 731228          | 737442          | 737046          | 738432          | 3772         | 8699         | 8508         | 6214         | -396         | 1386         | 0.531081     | 1.21831      | 1.17722      | 0.849803     | -0.0536991   | 0.188048     | 47                | 47               | 47               | 47               | 47               | 48               | 48               | 33              | 39              | 41              | 42              | 47              | 44              | 2               | 7               | 11              | 21              | 46              | 40\n",
       "40     | 4      | 8        | 4     | Arizona          | 6392307           | 6408208         | 6468732         | 6553262         | 6630799         | 6728783         | 6828065         | 15901        | 60524        | 84530        | 77537        | 97984        | 99282        | 0.248752     | 0.944476     | 1.30675      | 1.18318      | 1.47771      | 1.47548      | 16                | 16               | 16               | 15               | 15               | 15               | 14               | 11              | 10              | 6               | 7               | 5               | 8               | 16              | 16              | 8               | 9               | 7               | 9\n",
       "40     | 3      | 7        | 5     | Arkansas         | 2915958           | 2922394         | 2938538         | 2949499         | 2957957         | 2966835         | 2978204         | 6436         | 16144        | 10961        | 8458         | 8878         | 11369        | 0.220716     | 0.552424     | 0.373009     | 0.286761     | 0.30014      | 0.383203     | 32                | 32               | 32               | 32               | 32               | 32               | 33               | 25              | 26              | 36              | 39              | 37              | 33              | 20              | 32              | 32              | 39              | 35              | 29\n",
       "40     | 4      | 9        | 6     | California       | 37254503          | 37334079        | 37700034        | 38056055        | 38414128        | 38792291        | 39144818        | 79576        | 365955       | 356021       | 358073       | 378163       | 352527       | 0.213601     | 0.980217     | 0.944352     | 0.940909     | 0.984437     | 0.908755     | 1                 | 1                | 1                | 1                | 1                | 1                | 1                | 2               | 2               | 2               | 2               | 2               | 3               | 21              | 12              | 19              | 16              | 15              | 17\n",
       "... (47 rows omitted)"
      ]
     },
     "execution_count": 92,
     "metadata": {},
     "output_type": "execute_result"
    }
   ],
   "source": [
    "data_url = \"https://www2.census.gov/programs-surveys/popest/datasets/2010-2015/national/totals/nst-est2015-popchg2010_2015.csv\"\n",
    "census = Table.read_table(data_url)\n",
    "census"
   ]
  },
  {
   "cell_type": "code",
   "execution_count": 93,
   "metadata": {},
   "outputs": [
    {
     "data": {
      "text/plain": [
       "(57, 43)"
      ]
     },
     "execution_count": 93,
     "metadata": {},
     "output_type": "execute_result"
    }
   ],
   "source": [
    "census.num_rows, census.num_columns"
   ]
  },
  {
   "cell_type": "markdown",
   "metadata": {},
   "source": [
    "### Difference between `select()` and `column()`"
   ]
  },
  {
   "cell_type": "code",
   "execution_count": 94,
   "metadata": {},
   "outputs": [
    {
     "data": {
      "text/plain": [
       "array([10, 20, 20, 20, 20, 40, 40, 40, 40, 40, 40, 40, 40, 40, 40, 40, 40,\n",
       "       40, 40, 40, 40, 40, 40, 40, 40, 40, 40, 40, 40, 40, 40, 40, 40, 40,\n",
       "       40, 40, 40, 40, 40, 40, 40, 40, 40, 40, 40, 40, 40, 40, 40, 40, 40,\n",
       "       40, 40, 40, 40, 40, 40])"
      ]
     },
     "execution_count": 94,
     "metadata": {},
     "output_type": "execute_result"
    }
   ],
   "source": [
    "census.column(0)"
   ]
  },
  {
   "cell_type": "code",
   "execution_count": 95,
   "metadata": {},
   "outputs": [
    {
     "data": {
      "text/html": [
       "<table border=\"1\" class=\"dataframe\">\n",
       "    <thead>\n",
       "        <tr>\n",
       "            <th>SUMLEV</th>\n",
       "        </tr>\n",
       "    </thead>\n",
       "    <tbody>\n",
       "        <tr>\n",
       "            <td>10    </td>\n",
       "        </tr>\n",
       "        <tr>\n",
       "            <td>20    </td>\n",
       "        </tr>\n",
       "        <tr>\n",
       "            <td>20    </td>\n",
       "        </tr>\n",
       "        <tr>\n",
       "            <td>20    </td>\n",
       "        </tr>\n",
       "        <tr>\n",
       "            <td>20    </td>\n",
       "        </tr>\n",
       "        <tr>\n",
       "            <td>40    </td>\n",
       "        </tr>\n",
       "        <tr>\n",
       "            <td>40    </td>\n",
       "        </tr>\n",
       "        <tr>\n",
       "            <td>40    </td>\n",
       "        </tr>\n",
       "        <tr>\n",
       "            <td>40    </td>\n",
       "        </tr>\n",
       "        <tr>\n",
       "            <td>40    </td>\n",
       "        </tr>\n",
       "    </tbody>\n",
       "</table>\n",
       "<p>... (47 rows omitted)</p>"
      ],
      "text/plain": [
       "SUMLEV\n",
       "10\n",
       "20\n",
       "20\n",
       "20\n",
       "20\n",
       "40\n",
       "40\n",
       "40\n",
       "40\n",
       "40\n",
       "... (47 rows omitted)"
      ]
     },
     "execution_count": 95,
     "metadata": {},
     "output_type": "execute_result"
    }
   ],
   "source": [
    "census.select(0)"
   ]
  },
  {
   "cell_type": "markdown",
   "metadata": {},
   "source": [
    "**Question:** What's the difference between these two?"
   ]
  },
  {
   "cell_type": "code",
   "execution_count": null,
   "metadata": {},
   "outputs": [],
   "source": []
  },
  {
   "cell_type": "markdown",
   "metadata": {},
   "source": [
    "### Explore data"
   ]
  },
  {
   "cell_type": "code",
   "execution_count": 96,
   "metadata": {},
   "outputs": [
    {
     "data": {
      "text/html": [
       "<table border=\"1\" class=\"dataframe\">\n",
       "    <thead>\n",
       "        <tr>\n",
       "            <th>SUMLEV</th> <th>REGION</th> <th>DIVISION</th> <th>STATE</th> <th>NAME</th> <th>ESTIMATESBASE2010</th> <th>POPESTIMATE2010</th> <th>POPESTIMATE2011</th> <th>POPESTIMATE2012</th> <th>POPESTIMATE2013</th> <th>POPESTIMATE2014</th> <th>POPESTIMATE2015</th> <th>NPOPCHG_2010</th> <th>NPOPCHG_2011</th> <th>NPOPCHG_2012</th> <th>NPOPCHG_2013</th> <th>NPOPCHG_2014</th> <th>NPOPCHG_2015</th> <th>PPOPCHG_2010</th> <th>PPOPCHG_2011</th> <th>PPOPCHG_2012</th> <th>PPOPCHG_2013</th> <th>PPOPCHG_2014</th> <th>PPOPCHG_2015</th> <th>NRANK_ESTBASE2010</th> <th>NRANK_POPEST2010</th> <th>NRANK_POPEST2011</th> <th>NRANK_POPEST2012</th> <th>NRANK_POPEST2013</th> <th>NRANK_POPEST2014</th> <th>NRANK_POPEST2015</th> <th>NRANK_NPCHG2010</th> <th>NRANK_NPCHG2011</th> <th>NRANK_NPCHG2012</th> <th>NRANK_NPCHG2013</th> <th>NRANK_NPCHG2014</th> <th>NRANK_NPCHG2015</th> <th>NRANK_PPCHG2010</th> <th>NRANK_PPCHG2011</th> <th>NRANK_PPCHG2012</th> <th>NRANK_PPCHG2013</th> <th>NRANK_PPCHG2014</th> <th>NRANK_PPCHG2015</th>\n",
       "        </tr>\n",
       "    </thead>\n",
       "    <tbody>\n",
       "        <tr>\n",
       "            <td>10    </td> <td>0     </td> <td>0       </td> <td>0    </td> <td>United States   </td> <td>308758105        </td> <td>309346863      </td> <td>311718857      </td> <td>314102623      </td> <td>316427395      </td> <td>318907401      </td> <td>321418820      </td> <td>588758      </td> <td>2371994     </td> <td>2383766     </td> <td>2324772     </td> <td>2480006     </td> <td>2511419     </td> <td>0.190686    </td> <td>0.766775    </td> <td>0.764717    </td> <td>0.740131    </td> <td>0.783752    </td> <td>0.787507    </td> <td>X                </td> <td>X               </td> <td>X               </td> <td>X               </td> <td>X               </td> <td>X               </td> <td>X               </td> <td>X              </td> <td>X              </td> <td>X              </td> <td>X              </td> <td>X              </td> <td>X              </td> <td>X              </td> <td>X              </td> <td>X              </td> <td>X              </td> <td>X              </td> <td>X              </td>\n",
       "        </tr>\n",
       "        <tr>\n",
       "            <td>20    </td> <td>1     </td> <td>0       </td> <td>0    </td> <td>Northeast Region</td> <td>55318348         </td> <td>55387174       </td> <td>55638038       </td> <td>55835056       </td> <td>56019353       </td> <td>56171281       </td> <td>56283891       </td> <td>68826       </td> <td>250864      </td> <td>197018      </td> <td>184297      </td> <td>151928      </td> <td>112610      </td> <td>0.124418    </td> <td>0.452928    </td> <td>0.354107    </td> <td>0.330074    </td> <td>0.271206    </td> <td>0.200476    </td> <td>4                </td> <td>4               </td> <td>4               </td> <td>4               </td> <td>4               </td> <td>4               </td> <td>4               </td> <td>3              </td> <td>3              </td> <td>3              </td> <td>4              </td> <td>4              </td> <td>4              </td> <td>3              </td> <td>3              </td> <td>3              </td> <td>4              </td> <td>4              </td> <td>4              </td>\n",
       "        </tr>\n",
       "        <tr>\n",
       "            <td>20    </td> <td>2     </td> <td>0       </td> <td>0    </td> <td>Midwest Region  </td> <td>66929897         </td> <td>66977505       </td> <td>67156488       </td> <td>67340231       </td> <td>67565788       </td> <td>67762069       </td> <td>67907403       </td> <td>47608       </td> <td>178983      </td> <td>183743      </td> <td>225557      </td> <td>196281      </td> <td>145334      </td> <td>0.0711311   </td> <td>0.267229    </td> <td>0.273604    </td> <td>0.334951    </td> <td>0.290504    </td> <td>0.214477    </td> <td>3                </td> <td>3               </td> <td>3               </td> <td>3               </td> <td>3               </td> <td>3               </td> <td>3               </td> <td>4              </td> <td>4              </td> <td>4              </td> <td>3              </td> <td>3              </td> <td>3              </td> <td>4              </td> <td>4              </td> <td>4              </td> <td>3              </td> <td>3              </td> <td>3              </td>\n",
       "        </tr>\n",
       "        <tr>\n",
       "            <td>20    </td> <td>3     </td> <td>0       </td> <td>0    </td> <td>South Region    </td> <td>114562953        </td> <td>114862858      </td> <td>116080267      </td> <td>117331340      </td> <td>118487418      </td> <td>119795010      </td> <td>121182847      </td> <td>299905      </td> <td>1217409     </td> <td>1251073     </td> <td>1156078     </td> <td>1307592     </td> <td>1387837     </td> <td>0.261782    </td> <td>1.05988     </td> <td>1.07777     </td> <td>0.98531     </td> <td>1.10357     </td> <td>1.15851     </td> <td>1                </td> <td>1               </td> <td>1               </td> <td>1               </td> <td>1               </td> <td>1               </td> <td>1               </td> <td>1              </td> <td>1              </td> <td>1              </td> <td>1              </td> <td>1              </td> <td>1              </td> <td>1              </td> <td>1              </td> <td>1              </td> <td>2              </td> <td>2              </td> <td>1              </td>\n",
       "        </tr>\n",
       "        <tr>\n",
       "            <td>20    </td> <td>4     </td> <td>0       </td> <td>0    </td> <td>West Region     </td> <td>71946907         </td> <td>72119326       </td> <td>72844064       </td> <td>73595996       </td> <td>74354836       </td> <td>75179041       </td> <td>76044679       </td> <td>172419      </td> <td>724738      </td> <td>751932      </td> <td>758840      </td> <td>824205      </td> <td>865638      </td> <td>0.239648    </td> <td>1.00492     </td> <td>1.03225     </td> <td>1.03109     </td> <td>1.10848     </td> <td>1.15144     </td> <td>2                </td> <td>2               </td> <td>2               </td> <td>2               </td> <td>2               </td> <td>2               </td> <td>2               </td> <td>2              </td> <td>2              </td> <td>2              </td> <td>2              </td> <td>2              </td> <td>2              </td> <td>2              </td> <td>2              </td> <td>2              </td> <td>1              </td> <td>1              </td> <td>2              </td>\n",
       "        </tr>\n",
       "    </tbody>\n",
       "</table>\n",
       "<p>... (52 rows omitted)</p>"
      ],
      "text/plain": [
       "<IPython.core.display.HTML object>"
      ]
     },
     "metadata": {},
     "output_type": "display_data"
    },
    {
     "data": {
      "text/plain": [
       "(43, 57)"
      ]
     },
     "execution_count": 96,
     "metadata": {},
     "output_type": "execute_result"
    }
   ],
   "source": [
    "census.show(5)\n",
    "census.num_columns, census.num_rows"
   ]
  },
  {
   "cell_type": "markdown",
   "metadata": {},
   "source": [
    "## Exploring the Table\n",
    "If we look at [this documentation](https://www2.census.gov/programs-surveys/popest/datasets/2010-2015/national/totals/nst-est2015-popchg2010-2015.pdf), we can see a description of the table"
   ]
  },
  {
   "cell_type": "code",
   "execution_count": null,
   "metadata": {},
   "outputs": [],
   "source": [
    "# Lets explore a few of the columns"
   ]
  },
  {
   "cell_type": "code",
   "execution_count": 97,
   "metadata": {},
   "outputs": [
    {
     "data": {
      "text/html": [
       "<table border=\"1\" class=\"dataframe\">\n",
       "    <thead>\n",
       "        <tr>\n",
       "            <th>REGION</th>\n",
       "        </tr>\n",
       "    </thead>\n",
       "    <tbody>\n",
       "        <tr>\n",
       "            <td>0     </td>\n",
       "        </tr>\n",
       "        <tr>\n",
       "            <td>1     </td>\n",
       "        </tr>\n",
       "        <tr>\n",
       "            <td>2     </td>\n",
       "        </tr>\n",
       "        <tr>\n",
       "            <td>3     </td>\n",
       "        </tr>\n",
       "        <tr>\n",
       "            <td>4     </td>\n",
       "        </tr>\n",
       "        <tr>\n",
       "            <td>3     </td>\n",
       "        </tr>\n",
       "        <tr>\n",
       "            <td>4     </td>\n",
       "        </tr>\n",
       "        <tr>\n",
       "            <td>4     </td>\n",
       "        </tr>\n",
       "        <tr>\n",
       "            <td>3     </td>\n",
       "        </tr>\n",
       "        <tr>\n",
       "            <td>4     </td>\n",
       "        </tr>\n",
       "    </tbody>\n",
       "</table>\n",
       "<p>... (47 rows omitted)</p>"
      ],
      "text/plain": [
       "REGION\n",
       "0\n",
       "1\n",
       "2\n",
       "3\n",
       "4\n",
       "3\n",
       "4\n",
       "4\n",
       "3\n",
       "4\n",
       "... (47 rows omitted)"
      ]
     },
     "execution_count": 97,
     "metadata": {},
     "output_type": "execute_result"
    }
   ],
   "source": [
    " # \"REGION\"\n",
    "# Categorical or Numerical?\n",
    "census.select(\"REGION\")"
   ]
  },
  {
   "cell_type": "code",
   "execution_count": 98,
   "metadata": {},
   "outputs": [
    {
     "data": {
      "text/html": [
       "<table border=\"1\" class=\"dataframe\">\n",
       "    <thead>\n",
       "        <tr>\n",
       "            <th>DIVISION</th>\n",
       "        </tr>\n",
       "    </thead>\n",
       "    <tbody>\n",
       "        <tr>\n",
       "            <td>0       </td>\n",
       "        </tr>\n",
       "        <tr>\n",
       "            <td>0       </td>\n",
       "        </tr>\n",
       "        <tr>\n",
       "            <td>0       </td>\n",
       "        </tr>\n",
       "        <tr>\n",
       "            <td>0       </td>\n",
       "        </tr>\n",
       "        <tr>\n",
       "            <td>0       </td>\n",
       "        </tr>\n",
       "        <tr>\n",
       "            <td>6       </td>\n",
       "        </tr>\n",
       "        <tr>\n",
       "            <td>9       </td>\n",
       "        </tr>\n",
       "        <tr>\n",
       "            <td>8       </td>\n",
       "        </tr>\n",
       "        <tr>\n",
       "            <td>7       </td>\n",
       "        </tr>\n",
       "        <tr>\n",
       "            <td>9       </td>\n",
       "        </tr>\n",
       "    </tbody>\n",
       "</table>\n",
       "<p>... (47 rows omitted)</p>"
      ],
      "text/plain": [
       "DIVISION\n",
       "0\n",
       "0\n",
       "0\n",
       "0\n",
       "0\n",
       "6\n",
       "9\n",
       "8\n",
       "7\n",
       "9\n",
       "... (47 rows omitted)"
      ]
     },
     "execution_count": 98,
     "metadata": {},
     "output_type": "execute_result"
    }
   ],
   "source": [
    " # DIVISION\n",
    "    # Categorical or Numerical?\n",
    "census.select(\"DIVISION\")"
   ]
  },
  {
   "cell_type": "code",
   "execution_count": 99,
   "metadata": {},
   "outputs": [
    {
     "data": {
      "text/html": [
       "<table border=\"1\" class=\"dataframe\">\n",
       "    <thead>\n",
       "        <tr>\n",
       "            <th>STATE</th>\n",
       "        </tr>\n",
       "    </thead>\n",
       "    <tbody>\n",
       "        <tr>\n",
       "            <td>0    </td>\n",
       "        </tr>\n",
       "        <tr>\n",
       "            <td>0    </td>\n",
       "        </tr>\n",
       "        <tr>\n",
       "            <td>0    </td>\n",
       "        </tr>\n",
       "        <tr>\n",
       "            <td>0    </td>\n",
       "        </tr>\n",
       "        <tr>\n",
       "            <td>0    </td>\n",
       "        </tr>\n",
       "        <tr>\n",
       "            <td>1    </td>\n",
       "        </tr>\n",
       "        <tr>\n",
       "            <td>2    </td>\n",
       "        </tr>\n",
       "        <tr>\n",
       "            <td>4    </td>\n",
       "        </tr>\n",
       "        <tr>\n",
       "            <td>5    </td>\n",
       "        </tr>\n",
       "        <tr>\n",
       "            <td>6    </td>\n",
       "        </tr>\n",
       "    </tbody>\n",
       "</table>\n",
       "<p>... (47 rows omitted)</p>"
      ],
      "text/plain": [
       "STATE\n",
       "0\n",
       "0\n",
       "0\n",
       "0\n",
       "0\n",
       "1\n",
       "2\n",
       "4\n",
       "5\n",
       "6\n",
       "... (47 rows omitted)"
      ]
     },
     "execution_count": 99,
     "metadata": {},
     "output_type": "execute_result"
    }
   ],
   "source": [
    " # STATE\n",
    "    # Categorical or Numerical?\n",
    "census.select(\"STATE\")"
   ]
  },
  {
   "cell_type": "code",
   "execution_count": 101,
   "metadata": {},
   "outputs": [
    {
     "data": {
      "text/html": [
       "<table border=\"1\" class=\"dataframe\">\n",
       "    <thead>\n",
       "        <tr>\n",
       "            <th>NAME</th>\n",
       "        </tr>\n",
       "    </thead>\n",
       "    <tbody>\n",
       "        <tr>\n",
       "            <td>United States   </td>\n",
       "        </tr>\n",
       "        <tr>\n",
       "            <td>Northeast Region</td>\n",
       "        </tr>\n",
       "        <tr>\n",
       "            <td>Midwest Region  </td>\n",
       "        </tr>\n",
       "        <tr>\n",
       "            <td>South Region    </td>\n",
       "        </tr>\n",
       "        <tr>\n",
       "            <td>West Region     </td>\n",
       "        </tr>\n",
       "        <tr>\n",
       "            <td>Alabama         </td>\n",
       "        </tr>\n",
       "        <tr>\n",
       "            <td>Alaska          </td>\n",
       "        </tr>\n",
       "        <tr>\n",
       "            <td>Arizona         </td>\n",
       "        </tr>\n",
       "        <tr>\n",
       "            <td>Arkansas        </td>\n",
       "        </tr>\n",
       "        <tr>\n",
       "            <td>California      </td>\n",
       "        </tr>\n",
       "    </tbody>\n",
       "</table>\n",
       "<p>... (47 rows omitted)</p>"
      ],
      "text/plain": [
       "NAME\n",
       "United States\n",
       "Northeast Region\n",
       "Midwest Region\n",
       "South Region\n",
       "West Region\n",
       "Alabama\n",
       "Alaska\n",
       "Arizona\n",
       "Arkansas\n",
       "California\n",
       "... (47 rows omitted)"
      ]
     },
     "execution_count": 101,
     "metadata": {},
     "output_type": "execute_result"
    }
   ],
   "source": [
    " # NAME\n",
    "    # Categorical or Numerical?\n",
    "census.select(\"NAME\")"
   ]
  },
  {
   "cell_type": "code",
   "execution_count": 103,
   "metadata": {},
   "outputs": [
    {
     "data": {
      "text/html": [
       "<table border=\"1\" class=\"dataframe\">\n",
       "    <thead>\n",
       "        <tr>\n",
       "            <th>ESTIMATESBASE2010</th>\n",
       "        </tr>\n",
       "    </thead>\n",
       "    <tbody>\n",
       "        <tr>\n",
       "            <td>308758105        </td>\n",
       "        </tr>\n",
       "        <tr>\n",
       "            <td>55318348         </td>\n",
       "        </tr>\n",
       "        <tr>\n",
       "            <td>66929897         </td>\n",
       "        </tr>\n",
       "        <tr>\n",
       "            <td>114562953        </td>\n",
       "        </tr>\n",
       "        <tr>\n",
       "            <td>71946907         </td>\n",
       "        </tr>\n",
       "        <tr>\n",
       "            <td>4780127          </td>\n",
       "        </tr>\n",
       "        <tr>\n",
       "            <td>710249           </td>\n",
       "        </tr>\n",
       "        <tr>\n",
       "            <td>6392307          </td>\n",
       "        </tr>\n",
       "        <tr>\n",
       "            <td>2915958          </td>\n",
       "        </tr>\n",
       "        <tr>\n",
       "            <td>37254503         </td>\n",
       "        </tr>\n",
       "    </tbody>\n",
       "</table>\n",
       "<p>... (47 rows omitted)</p>"
      ],
      "text/plain": [
       "ESTIMATESBASE2010\n",
       "308758105\n",
       "55318348\n",
       "66929897\n",
       "114562953\n",
       "71946907\n",
       "4780127\n",
       "710249\n",
       "6392307\n",
       "2915958\n",
       "37254503\n",
       "... (47 rows omitted)"
      ]
     },
     "execution_count": 103,
     "metadata": {},
     "output_type": "execute_result"
    }
   ],
   "source": [
    "census.select(\"ESTIMATESBASE2010\")"
   ]
  },
  {
   "cell_type": "markdown",
   "metadata": {},
   "source": [
    "## Selecting a few columns of interest\n",
    "\n",
    "Lets look at the \"NAME\", \"STATE\", \"REGION\", \"2013 Estimate\", \"2014 Estimate\""
   ]
  },
  {
   "cell_type": "code",
   "execution_count": 105,
   "metadata": {},
   "outputs": [],
   "source": [
    "partial_census = census.select(\"NAME\", \"STATE\", \"REGION\", \"POPESTIMATE2013\", \"POPESTIMATE2014\")"
   ]
  },
  {
   "cell_type": "code",
   "execution_count": 106,
   "metadata": {},
   "outputs": [
    {
     "data": {
      "text/html": [
       "<table border=\"1\" class=\"dataframe\">\n",
       "    <thead>\n",
       "        <tr>\n",
       "            <th>NAME</th> <th>STATE</th> <th>REGION</th> <th>POPESTIMATE2013</th> <th>POPESTIMATE2014</th>\n",
       "        </tr>\n",
       "    </thead>\n",
       "    <tbody>\n",
       "        <tr>\n",
       "            <td>United States   </td> <td>0    </td> <td>0     </td> <td>316427395      </td> <td>318907401      </td>\n",
       "        </tr>\n",
       "        <tr>\n",
       "            <td>Northeast Region</td> <td>0    </td> <td>1     </td> <td>56019353       </td> <td>56171281       </td>\n",
       "        </tr>\n",
       "        <tr>\n",
       "            <td>Midwest Region  </td> <td>0    </td> <td>2     </td> <td>67565788       </td> <td>67762069       </td>\n",
       "        </tr>\n",
       "        <tr>\n",
       "            <td>South Region    </td> <td>0    </td> <td>3     </td> <td>118487418      </td> <td>119795010      </td>\n",
       "        </tr>\n",
       "        <tr>\n",
       "            <td>West Region     </td> <td>0    </td> <td>4     </td> <td>74354836       </td> <td>75179041       </td>\n",
       "        </tr>\n",
       "        <tr>\n",
       "            <td>Alabama         </td> <td>1    </td> <td>3     </td> <td>4830533        </td> <td>4846411        </td>\n",
       "        </tr>\n",
       "        <tr>\n",
       "            <td>Alaska          </td> <td>2    </td> <td>4     </td> <td>737442         </td> <td>737046         </td>\n",
       "        </tr>\n",
       "        <tr>\n",
       "            <td>Arizona         </td> <td>4    </td> <td>4     </td> <td>6630799        </td> <td>6728783        </td>\n",
       "        </tr>\n",
       "        <tr>\n",
       "            <td>Arkansas        </td> <td>5    </td> <td>3     </td> <td>2957957        </td> <td>2966835        </td>\n",
       "        </tr>\n",
       "        <tr>\n",
       "            <td>California      </td> <td>6    </td> <td>4     </td> <td>38414128       </td> <td>38792291       </td>\n",
       "        </tr>\n",
       "    </tbody>\n",
       "</table>\n",
       "<p>... (47 rows omitted)</p>"
      ],
      "text/plain": [
       "NAME             | STATE | REGION | POPESTIMATE2013 | POPESTIMATE2014\n",
       "United States    | 0     | 0      | 316427395       | 318907401\n",
       "Northeast Region | 0     | 1      | 56019353        | 56171281\n",
       "Midwest Region   | 0     | 2      | 67565788        | 67762069\n",
       "South Region     | 0     | 3      | 118487418       | 119795010\n",
       "West Region      | 0     | 4      | 74354836        | 75179041\n",
       "Alabama          | 1     | 3      | 4830533         | 4846411\n",
       "Alaska           | 2     | 4      | 737442          | 737046\n",
       "Arizona          | 4     | 4      | 6630799         | 6728783\n",
       "Arkansas         | 5     | 3      | 2957957         | 2966835\n",
       "California       | 6     | 4      | 38414128        | 38792291\n",
       "... (47 rows omitted)"
      ]
     },
     "execution_count": 106,
     "metadata": {},
     "output_type": "execute_result"
    }
   ],
   "source": [
    "# Relabel columns\n",
    "partial_census"
   ]
  },
  {
   "cell_type": "markdown",
   "metadata": {},
   "source": [
    "# Column Arithmetic \n",
    "\n",
    "Difference between 13 and 13 estimate"
   ]
  },
  {
   "cell_type": "code",
   "execution_count": null,
   "metadata": {},
   "outputs": [],
   "source": [
    "change = ...\n",
    "change"
   ]
  },
  {
   "cell_type": "markdown",
   "metadata": {},
   "source": [
    "## Make new table with change"
   ]
  },
  {
   "cell_type": "code",
   "execution_count": null,
   "metadata": {},
   "outputs": [],
   "source": [
    "\n",
    "# Hint, use with_columns"
   ]
  },
  {
   "cell_type": "markdown",
   "metadata": {},
   "source": [
    "### Reformatter"
   ]
  },
  {
   "cell_type": "code",
   "execution_count": null,
   "metadata": {},
   "outputs": [],
   "source": [
    "## Reformat these changes\n",
    "# NumberFormatter, PercentFormatter\n",
    "# set_format"
   ]
  },
  {
   "cell_type": "markdown",
   "metadata": {},
   "source": [
    "### Interpretting these changes\n",
    "\n",
    "**Are these changes meaningful?**"
   ]
  },
  {
   "cell_type": "code",
   "execution_count": null,
   "metadata": {},
   "outputs": [],
   "source": [
    " # Convert changes to percentages"
   ]
  },
  {
   "cell_type": "code",
   "execution_count": null,
   "metadata": {},
   "outputs": [],
   "source": [
    "# Let's look at larger ranges in time, we might see more changes then"
   ]
  },
  {
   "cell_type": "markdown",
   "metadata": {},
   "source": [
    "# Analyzing the results/table"
   ]
  },
  {
   "cell_type": "code",
   "execution_count": null,
   "metadata": {},
   "outputs": [],
   "source": [
    "# find the regiion with the largest total change"
   ]
  },
  {
   "cell_type": "code",
   "execution_count": null,
   "metadata": {},
   "outputs": [],
   "source": [
    "# demonstrate rows"
   ]
  },
  {
   "cell_type": "code",
   "execution_count": null,
   "metadata": {},
   "outputs": [],
   "source": [
    "# find the regiion with the largest percentage change"
   ]
  },
  {
   "cell_type": "code",
   "execution_count": null,
   "metadata": {},
   "outputs": [],
   "source": [
    "# add anual growth based on total growth"
   ]
  }
 ],
 "metadata": {
  "kernelspec": {
   "display_name": "Python 3",
   "language": "python",
   "name": "python3"
  },
  "language_info": {
   "codemirror_mode": {
    "name": "ipython",
    "version": 3
   },
   "file_extension": ".py",
   "mimetype": "text/x-python",
   "name": "python",
   "nbconvert_exporter": "python",
   "pygments_lexer": "ipython3",
   "version": "3.8.8"
  }
 },
 "nbformat": 4,
 "nbformat_minor": 4
}
