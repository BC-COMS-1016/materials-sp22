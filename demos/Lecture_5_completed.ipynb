{
 "cells": [
  {
   "cell_type": "code",
   "execution_count": 1,
   "metadata": {},
   "outputs": [],
   "source": [
    "from datascience import *\n",
    "import numpy as np\n",
    "\n",
    "%matplotlib inline\n",
    "import matplotlib.pyplot as plots\n",
    "plots.style.use('fivethirtyeight')"
   ]
  },
  {
   "cell_type": "markdown",
   "metadata": {},
   "source": [
    "## Census ##"
   ]
  },
  {
   "cell_type": "code",
   "execution_count": 3,
   "metadata": {},
   "outputs": [
    {
     "data": {
      "text/html": [
       "<table border=\"1\" class=\"dataframe\">\n",
       "    <thead>\n",
       "        <tr>\n",
       "            <th>SEX</th> <th>AGE</th> <th>CENSUS2010POP</th> <th>ESTIMATESBASE2010</th> <th>POPESTIMATE2010</th> <th>POPESTIMATE2011</th> <th>POPESTIMATE2012</th> <th>POPESTIMATE2013</th> <th>POPESTIMATE2014</th>\n",
       "        </tr>\n",
       "    </thead>\n",
       "    <tbody>\n",
       "        <tr>\n",
       "            <td>0   </td> <td>0   </td> <td>3944153      </td> <td>3944160          </td> <td>3951330        </td> <td>3963071        </td> <td>3926665        </td> <td>3945610        </td> <td>3948350        </td>\n",
       "        </tr>\n",
       "        <tr>\n",
       "            <td>0   </td> <td>1   </td> <td>3978070      </td> <td>3978090          </td> <td>3957888        </td> <td>3966510        </td> <td>3978006        </td> <td>3943077        </td> <td>3962123        </td>\n",
       "        </tr>\n",
       "        <tr>\n",
       "            <td>0   </td> <td>2   </td> <td>4096929      </td> <td>4096939          </td> <td>4090862        </td> <td>3971573        </td> <td>3979952        </td> <td>3992690        </td> <td>3957772        </td>\n",
       "        </tr>\n",
       "        <tr>\n",
       "            <td>0   </td> <td>3   </td> <td>4119040      </td> <td>4119051          </td> <td>4111920        </td> <td>4102501        </td> <td>3983049        </td> <td>3992425        </td> <td>4005190        </td>\n",
       "        </tr>\n",
       "        <tr>\n",
       "            <td>0   </td> <td>4   </td> <td>4063170      </td> <td>4063186          </td> <td>4077552        </td> <td>4122303        </td> <td>4112638        </td> <td>3994047        </td> <td>4003448        </td>\n",
       "        </tr>\n",
       "        <tr>\n",
       "            <td>0   </td> <td>5   </td> <td>4056858      </td> <td>4056872          </td> <td>4064653        </td> <td>4087713        </td> <td>4132210        </td> <td>4123408        </td> <td>4004858        </td>\n",
       "        </tr>\n",
       "        <tr>\n",
       "            <td>0   </td> <td>6   </td> <td>4066381      </td> <td>4066412          </td> <td>4073013        </td> <td>4074979        </td> <td>4097780        </td> <td>4143094        </td> <td>4134352        </td>\n",
       "        </tr>\n",
       "        <tr>\n",
       "            <td>0   </td> <td>7   </td> <td>4030579      </td> <td>4030594          </td> <td>4043047        </td> <td>4083240        </td> <td>4084964        </td> <td>4108615        </td> <td>4154000        </td>\n",
       "        </tr>\n",
       "        <tr>\n",
       "            <td>0   </td> <td>8   </td> <td>4046486      </td> <td>4046497          </td> <td>4025604        </td> <td>4053206        </td> <td>4093213        </td> <td>4095827        </td> <td>4119524        </td>\n",
       "        </tr>\n",
       "        <tr>\n",
       "            <td>0   </td> <td>9   </td> <td>4148353      </td> <td>4148369          </td> <td>4125415        </td> <td>4035769        </td> <td>4063193        </td> <td>4104133        </td> <td>4106832        </td>\n",
       "        </tr>\n",
       "    </tbody>\n",
       "</table>\n",
       "<p>... (296 rows omitted)</p>"
      ],
      "text/plain": [
       "SEX  | AGE  | CENSUS2010POP | ESTIMATESBASE2010 | POPESTIMATE2010 | POPESTIMATE2011 | POPESTIMATE2012 | POPESTIMATE2013 | POPESTIMATE2014\n",
       "0    | 0    | 3944153       | 3944160           | 3951330         | 3963071         | 3926665         | 3945610         | 3948350\n",
       "0    | 1    | 3978070       | 3978090           | 3957888         | 3966510         | 3978006         | 3943077         | 3962123\n",
       "0    | 2    | 4096929       | 4096939           | 4090862         | 3971573         | 3979952         | 3992690         | 3957772\n",
       "0    | 3    | 4119040       | 4119051           | 4111920         | 4102501         | 3983049         | 3992425         | 4005190\n",
       "0    | 4    | 4063170       | 4063186           | 4077552         | 4122303         | 4112638         | 3994047         | 4003448\n",
       "0    | 5    | 4056858       | 4056872           | 4064653         | 4087713         | 4132210         | 4123408         | 4004858\n",
       "0    | 6    | 4066381       | 4066412           | 4073013         | 4074979         | 4097780         | 4143094         | 4134352\n",
       "0    | 7    | 4030579       | 4030594           | 4043047         | 4083240         | 4084964         | 4108615         | 4154000\n",
       "0    | 8    | 4046486       | 4046497           | 4025604         | 4053206         | 4093213         | 4095827         | 4119524\n",
       "0    | 9    | 4148353       | 4148369           | 4125415         | 4035769         | 4063193         | 4104133         | 4106832\n",
       "... (296 rows omitted)"
      ]
     },
     "execution_count": 3,
     "metadata": {},
     "output_type": "execute_result"
    }
   ],
   "source": [
    "census_filename = \"nc-est2014-agesex-res.csv\"\n",
    "full = Table.read_table(census_filename) # load in the census table\n",
    "full"
   ]
  },
  {
   "cell_type": "code",
   "execution_count": 4,
   "metadata": {},
   "outputs": [
    {
     "data": {
      "text/html": [
       "<table border=\"1\" class=\"dataframe\">\n",
       "    <thead>\n",
       "        <tr>\n",
       "            <th>SEX</th> <th>AGE</th> <th>POPESTIMATE2010</th> <th>POPESTIMATE2014</th>\n",
       "        </tr>\n",
       "    </thead>\n",
       "    <tbody>\n",
       "        <tr>\n",
       "            <td>0   </td> <td>0   </td> <td>3951330        </td> <td>3948350        </td>\n",
       "        </tr>\n",
       "        <tr>\n",
       "            <td>0   </td> <td>1   </td> <td>3957888        </td> <td>3962123        </td>\n",
       "        </tr>\n",
       "        <tr>\n",
       "            <td>0   </td> <td>2   </td> <td>4090862        </td> <td>3957772        </td>\n",
       "        </tr>\n",
       "        <tr>\n",
       "            <td>0   </td> <td>3   </td> <td>4111920        </td> <td>4005190        </td>\n",
       "        </tr>\n",
       "        <tr>\n",
       "            <td>0   </td> <td>4   </td> <td>4077552        </td> <td>4003448        </td>\n",
       "        </tr>\n",
       "        <tr>\n",
       "            <td>0   </td> <td>5   </td> <td>4064653        </td> <td>4004858        </td>\n",
       "        </tr>\n",
       "        <tr>\n",
       "            <td>0   </td> <td>6   </td> <td>4073013        </td> <td>4134352        </td>\n",
       "        </tr>\n",
       "        <tr>\n",
       "            <td>0   </td> <td>7   </td> <td>4043047        </td> <td>4154000        </td>\n",
       "        </tr>\n",
       "        <tr>\n",
       "            <td>0   </td> <td>8   </td> <td>4025604        </td> <td>4119524        </td>\n",
       "        </tr>\n",
       "        <tr>\n",
       "            <td>0   </td> <td>9   </td> <td>4125415        </td> <td>4106832        </td>\n",
       "        </tr>\n",
       "    </tbody>\n",
       "</table>\n",
       "<p>... (296 rows omitted)</p>"
      ],
      "text/plain": [
       "SEX  | AGE  | POPESTIMATE2010 | POPESTIMATE2014\n",
       "0    | 0    | 3951330         | 3948350\n",
       "0    | 1    | 3957888         | 3962123\n",
       "0    | 2    | 4090862         | 3957772\n",
       "0    | 3    | 4111920         | 4005190\n",
       "0    | 4    | 4077552         | 4003448\n",
       "0    | 5    | 4064653         | 4004858\n",
       "0    | 6    | 4073013         | 4134352\n",
       "0    | 7    | 4043047         | 4154000\n",
       "0    | 8    | 4025604         | 4119524\n",
       "0    | 9    | 4125415         | 4106832\n",
       "... (296 rows omitted)"
      ]
     },
     "execution_count": 4,
     "metadata": {},
     "output_type": "execute_result"
    }
   ],
   "source": [
    "# Keep only the columns we care about\n",
    "# sex, age, estimate from 2010, estimate from 2014\n",
    "partial = full.select(\"SEX\", \"AGE\", \"POPESTIMATE2010\", \"POPESTIMATE2014\")\n",
    "partial"
   ]
  },
  {
   "cell_type": "code",
   "execution_count": 6,
   "metadata": {},
   "outputs": [
    {
     "ename": "ValueError",
     "evalue": "Invalid labels. Column labels must already exist in table in order to be replaced.",
     "output_type": "error",
     "traceback": [
      "\u001b[0;31m---------------------------------------------------------------------------\u001b[0m",
      "\u001b[0;31mValueError\u001b[0m                                Traceback (most recent call last)",
      "\u001b[0;32m<ipython-input-6-d031333ac1ca>\u001b[0m in \u001b[0;36m<module>\u001b[0;34m\u001b[0m\n\u001b[1;32m      1\u001b[0m \u001b[0;31m# Make things easier to read by changing the names of the estimate labels\u001b[0m\u001b[0;34m\u001b[0m\u001b[0;34m\u001b[0m\u001b[0;34m\u001b[0m\u001b[0m\n\u001b[0;32m----> 2\u001b[0;31m \u001b[0msimple\u001b[0m \u001b[0;34m=\u001b[0m \u001b[0mpartial\u001b[0m\u001b[0;34m.\u001b[0m\u001b[0mrelabel\u001b[0m\u001b[0;34m(\u001b[0m\u001b[0;34m\"POPESTIMATE2010\"\u001b[0m\u001b[0;34m,\u001b[0m \u001b[0;34m\"2010\"\u001b[0m\u001b[0;34m)\u001b[0m\u001b[0;34m.\u001b[0m\u001b[0mrelabel\u001b[0m\u001b[0;34m(\u001b[0m\u001b[0;34m\"POPESTIMATE2014\"\u001b[0m\u001b[0;34m,\u001b[0m \u001b[0;34m\"2014\"\u001b[0m\u001b[0;34m)\u001b[0m\u001b[0;34m\u001b[0m\u001b[0;34m\u001b[0m\u001b[0m\n\u001b[0m\u001b[1;32m      3\u001b[0m \u001b[0msimple\u001b[0m\u001b[0;34m\u001b[0m\u001b[0;34m\u001b[0m\u001b[0m\n",
      "\u001b[0;32m/opt/conda/lib/python3.8/site-packages/datascience/tables.py\u001b[0m in \u001b[0;36mrelabel\u001b[0;34m(self, column_label, new_label)\u001b[0m\n\u001b[1;32m    982\u001b[0m         \u001b[0;32mfor\u001b[0m \u001b[0mlabel\u001b[0m \u001b[0;32min\u001b[0m \u001b[0mcolumn_label\u001b[0m\u001b[0;34m:\u001b[0m\u001b[0;34m\u001b[0m\u001b[0;34m\u001b[0m\u001b[0m\n\u001b[1;32m    983\u001b[0m             \u001b[0;32mif\u001b[0m \u001b[0;32mnot\u001b[0m \u001b[0;34m(\u001b[0m\u001b[0mlabel\u001b[0m \u001b[0;32min\u001b[0m \u001b[0mself\u001b[0m\u001b[0;34m.\u001b[0m\u001b[0mlabels\u001b[0m\u001b[0;34m)\u001b[0m\u001b[0;34m:\u001b[0m\u001b[0;34m\u001b[0m\u001b[0;34m\u001b[0m\u001b[0m\n\u001b[0;32m--> 984\u001b[0;31m                 raise ValueError('Invalid labels. Column labels must '\n\u001b[0m\u001b[1;32m    985\u001b[0m                 'already exist in table in order to be replaced.')\n\u001b[1;32m    986\u001b[0m         \u001b[0mrewrite\u001b[0m \u001b[0;34m=\u001b[0m \u001b[0;32mlambda\u001b[0m \u001b[0ms\u001b[0m\u001b[0;34m:\u001b[0m \u001b[0mold_to_new\u001b[0m\u001b[0;34m[\u001b[0m\u001b[0ms\u001b[0m\u001b[0;34m]\u001b[0m \u001b[0;32mif\u001b[0m \u001b[0ms\u001b[0m \u001b[0;32min\u001b[0m \u001b[0mold_to_new\u001b[0m \u001b[0;32melse\u001b[0m \u001b[0ms\u001b[0m\u001b[0;34m\u001b[0m\u001b[0;34m\u001b[0m\u001b[0m\n",
      "\u001b[0;31mValueError\u001b[0m: Invalid labels. Column labels must already exist in table in order to be replaced."
     ]
    }
   ],
   "source": [
    "# Make things easier to read by changing the names of the estimate labels\n",
    "simple = partial.relabel(\"POPESTIMATE2010\", \"2010\").relabel(\"POPESTIMATE2014\", \"2014\")\n",
    "simple"
   ]
  },
  {
   "cell_type": "code",
   "execution_count": 8,
   "metadata": {},
   "outputs": [
    {
     "data": {
      "text/html": [
       "<table border=\"1\" class=\"dataframe\">\n",
       "    <thead>\n",
       "        <tr>\n",
       "            <th>SEX</th> <th>AGE</th> <th>estimate2010</th> <th>2014</th>\n",
       "        </tr>\n",
       "    </thead>\n",
       "    <tbody>\n",
       "        <tr>\n",
       "            <td>0   </td> <td>0   </td> <td>3951330     </td> <td>3948350</td>\n",
       "        </tr>\n",
       "        <tr>\n",
       "            <td>0   </td> <td>1   </td> <td>3957888     </td> <td>3962123</td>\n",
       "        </tr>\n",
       "        <tr>\n",
       "            <td>0   </td> <td>2   </td> <td>4090862     </td> <td>3957772</td>\n",
       "        </tr>\n",
       "        <tr>\n",
       "            <td>0   </td> <td>3   </td> <td>4111920     </td> <td>4005190</td>\n",
       "        </tr>\n",
       "        <tr>\n",
       "            <td>0   </td> <td>4   </td> <td>4077552     </td> <td>4003448</td>\n",
       "        </tr>\n",
       "        <tr>\n",
       "            <td>0   </td> <td>5   </td> <td>4064653     </td> <td>4004858</td>\n",
       "        </tr>\n",
       "        <tr>\n",
       "            <td>0   </td> <td>6   </td> <td>4073013     </td> <td>4134352</td>\n",
       "        </tr>\n",
       "        <tr>\n",
       "            <td>0   </td> <td>7   </td> <td>4043047     </td> <td>4154000</td>\n",
       "        </tr>\n",
       "        <tr>\n",
       "            <td>0   </td> <td>8   </td> <td>4025604     </td> <td>4119524</td>\n",
       "        </tr>\n",
       "        <tr>\n",
       "            <td>0   </td> <td>9   </td> <td>4125415     </td> <td>4106832</td>\n",
       "        </tr>\n",
       "    </tbody>\n",
       "</table>\n",
       "<p>... (296 rows omitted)</p>"
      ],
      "text/plain": [
       "SEX  | AGE  | estimate2010 | 2014\n",
       "0    | 0    | 3951330      | 3948350\n",
       "0    | 1    | 3957888      | 3962123\n",
       "0    | 2    | 4090862      | 3957772\n",
       "0    | 3    | 4111920      | 4005190\n",
       "0    | 4    | 4077552      | 4003448\n",
       "0    | 5    | 4064653      | 4004858\n",
       "0    | 6    | 4073013      | 4134352\n",
       "0    | 7    | 4043047      | 4154000\n",
       "0    | 8    | 4025604      | 4119524\n",
       "0    | 9    | 4125415      | 4106832\n",
       "... (296 rows omitted)"
      ]
     },
     "execution_count": 8,
     "metadata": {},
     "output_type": "execute_result"
    }
   ],
   "source": [
    "partial.relabeled(\"2010\", \"estimate2010\")"
   ]
  },
  {
   "cell_type": "code",
   "execution_count": 11,
   "metadata": {},
   "outputs": [
    {
     "data": {
      "text/html": [
       "<table border=\"1\" class=\"dataframe\">\n",
       "    <thead>\n",
       "        <tr>\n",
       "            <th>SEX</th> <th>AGE</th> <th>2010</th> <th>2014</th>\n",
       "        </tr>\n",
       "    </thead>\n",
       "    <tbody>\n",
       "        <tr>\n",
       "            <td>0   </td> <td>0   </td> <td>3951330</td> <td>3948350</td>\n",
       "        </tr>\n",
       "        <tr>\n",
       "            <td>0   </td> <td>1   </td> <td>3957888</td> <td>3962123</td>\n",
       "        </tr>\n",
       "        <tr>\n",
       "            <td>0   </td> <td>2   </td> <td>4090862</td> <td>3957772</td>\n",
       "        </tr>\n",
       "        <tr>\n",
       "            <td>0   </td> <td>3   </td> <td>4111920</td> <td>4005190</td>\n",
       "        </tr>\n",
       "        <tr>\n",
       "            <td>0   </td> <td>4   </td> <td>4077552</td> <td>4003448</td>\n",
       "        </tr>\n",
       "        <tr>\n",
       "            <td>0   </td> <td>5   </td> <td>4064653</td> <td>4004858</td>\n",
       "        </tr>\n",
       "        <tr>\n",
       "            <td>0   </td> <td>6   </td> <td>4073013</td> <td>4134352</td>\n",
       "        </tr>\n",
       "        <tr>\n",
       "            <td>0   </td> <td>7   </td> <td>4043047</td> <td>4154000</td>\n",
       "        </tr>\n",
       "        <tr>\n",
       "            <td>0   </td> <td>8   </td> <td>4025604</td> <td>4119524</td>\n",
       "        </tr>\n",
       "        <tr>\n",
       "            <td>0   </td> <td>9   </td> <td>4125415</td> <td>4106832</td>\n",
       "        </tr>\n",
       "    </tbody>\n",
       "</table>\n",
       "<p>... (296 rows omitted)</p>"
      ],
      "text/plain": [
       "SEX  | AGE  | 2010    | 2014\n",
       "0    | 0    | 3951330 | 3948350\n",
       "0    | 1    | 3957888 | 3962123\n",
       "0    | 2    | 4090862 | 3957772\n",
       "0    | 3    | 4111920 | 4005190\n",
       "0    | 4    | 4077552 | 4003448\n",
       "0    | 5    | 4064653 | 4004858\n",
       "0    | 6    | 4073013 | 4134352\n",
       "0    | 7    | 4043047 | 4154000\n",
       "0    | 8    | 4025604 | 4119524\n",
       "0    | 9    | 4125415 | 4106832\n",
       "... (296 rows omitted)"
      ]
     },
     "execution_count": 11,
     "metadata": {},
     "output_type": "execute_result"
    }
   ],
   "source": [
    "simple"
   ]
  },
  {
   "cell_type": "code",
   "execution_count": 12,
   "metadata": {},
   "outputs": [
    {
     "data": {
      "text/html": [
       "<table border=\"1\" class=\"dataframe\">\n",
       "    <thead>\n",
       "        <tr>\n",
       "            <th>SEX</th> <th>AGE</th> <th>2010</th> <th>2014</th>\n",
       "        </tr>\n",
       "    </thead>\n",
       "    <tbody>\n",
       "        <tr>\n",
       "            <td>0   </td> <td>0   </td> <td>3951330</td> <td>3948350</td>\n",
       "        </tr>\n",
       "        <tr>\n",
       "            <td>1   </td> <td>0   </td> <td>2018420</td> <td>2017857</td>\n",
       "        </tr>\n",
       "        <tr>\n",
       "            <td>2   </td> <td>0   </td> <td>1932910</td> <td>1930493</td>\n",
       "        </tr>\n",
       "        <tr>\n",
       "            <td>0   </td> <td>1   </td> <td>3957888</td> <td>3962123</td>\n",
       "        </tr>\n",
       "        <tr>\n",
       "            <td>1   </td> <td>1   </td> <td>2020332</td> <td>2023253</td>\n",
       "        </tr>\n",
       "        <tr>\n",
       "            <td>2   </td> <td>1   </td> <td>1937556</td> <td>1938870</td>\n",
       "        </tr>\n",
       "        <tr>\n",
       "            <td>0   </td> <td>2   </td> <td>4090862</td> <td>3957772</td>\n",
       "        </tr>\n",
       "        <tr>\n",
       "            <td>1   </td> <td>2   </td> <td>2088685</td> <td>2022502</td>\n",
       "        </tr>\n",
       "        <tr>\n",
       "            <td>2   </td> <td>2   </td> <td>2002177</td> <td>1935270</td>\n",
       "        </tr>\n",
       "        <tr>\n",
       "            <td>0   </td> <td>3   </td> <td>4111920</td> <td>4005190</td>\n",
       "        </tr>\n",
       "    </tbody>\n",
       "</table>\n",
       "<p>... (296 rows omitted)</p>"
      ],
      "text/plain": [
       "SEX  | AGE  | 2010    | 2014\n",
       "0    | 0    | 3951330 | 3948350\n",
       "1    | 0    | 2018420 | 2017857\n",
       "2    | 0    | 1932910 | 1930493\n",
       "0    | 1    | 3957888 | 3962123\n",
       "1    | 1    | 2020332 | 2023253\n",
       "2    | 1    | 1937556 | 1938870\n",
       "0    | 2    | 4090862 | 3957772\n",
       "1    | 2    | 2088685 | 2022502\n",
       "2    | 2    | 2002177 | 1935270\n",
       "0    | 3    | 4111920 | 4005190\n",
       "... (296 rows omitted)"
      ]
     },
     "execution_count": 12,
     "metadata": {},
     "output_type": "execute_result"
    }
   ],
   "source": [
    "# Sort by age\n",
    "simple.sort(\"AGE\")"
   ]
  },
  {
   "cell_type": "code",
   "execution_count": 14,
   "metadata": {},
   "outputs": [
    {
     "data": {
      "text/html": [
       "<table border=\"1\" class=\"dataframe\">\n",
       "    <thead>\n",
       "        <tr>\n",
       "            <th>SEX</th> <th>AGE</th> <th>2010</th> <th>2014</th>\n",
       "        </tr>\n",
       "    </thead>\n",
       "    <tbody>\n",
       "        <tr>\n",
       "            <td>0   </td> <td>999 </td> <td>309347057</td> <td>318857056</td>\n",
       "        </tr>\n",
       "        <tr>\n",
       "            <td>1   </td> <td>999 </td> <td>152089484</td> <td>156936487</td>\n",
       "        </tr>\n",
       "        <tr>\n",
       "            <td>2   </td> <td>999 </td> <td>157257573</td> <td>161920569</td>\n",
       "        </tr>\n",
       "        <tr>\n",
       "            <td>0   </td> <td>100 </td> <td>54409    </td> <td>72197    </td>\n",
       "        </tr>\n",
       "        <tr>\n",
       "            <td>1   </td> <td>100 </td> <td>9351     </td> <td>13729    </td>\n",
       "        </tr>\n",
       "        <tr>\n",
       "            <td>2   </td> <td>100 </td> <td>45058    </td> <td>58468    </td>\n",
       "        </tr>\n",
       "        <tr>\n",
       "            <td>0   </td> <td>99  </td> <td>32178    </td> <td>41828    </td>\n",
       "        </tr>\n",
       "        <tr>\n",
       "            <td>1   </td> <td>99  </td> <td>6104     </td> <td>9037     </td>\n",
       "        </tr>\n",
       "        <tr>\n",
       "            <td>2   </td> <td>99  </td> <td>26074    </td> <td>32791    </td>\n",
       "        </tr>\n",
       "        <tr>\n",
       "            <td>0   </td> <td>98  </td> <td>47037    </td> <td>60185    </td>\n",
       "        </tr>\n",
       "    </tbody>\n",
       "</table>\n",
       "<p>... (296 rows omitted)</p>"
      ],
      "text/plain": [
       "SEX  | AGE  | 2010      | 2014\n",
       "0    | 999  | 309347057 | 318857056\n",
       "1    | 999  | 152089484 | 156936487\n",
       "2    | 999  | 157257573 | 161920569\n",
       "0    | 100  | 54409     | 72197\n",
       "1    | 100  | 9351      | 13729\n",
       "2    | 100  | 45058     | 58468\n",
       "0    | 99   | 32178     | 41828\n",
       "1    | 99   | 6104      | 9037\n",
       "2    | 99   | 26074     | 32791\n",
       "0    | 98   | 47037     | 60185\n",
       "... (296 rows omitted)"
      ]
     },
     "execution_count": 14,
     "metadata": {},
     "output_type": "execute_result"
    }
   ],
   "source": [
    "# Sort by age (another way)\n",
    "simple.sort(\"AGE\", descending=True)"
   ]
  },
  {
   "cell_type": "code",
   "execution_count": 23,
   "metadata": {},
   "outputs": [
    {
     "data": {
      "text/plain": [
       "102"
      ]
     },
     "execution_count": 23,
     "metadata": {},
     "output_type": "execute_result"
    }
   ],
   "source": [
    "# get the 2010 estimates where sex is 1\n",
    "simple.where(\"SEX\", 2).sort(\"AGE\", descending=True).num_rows"
   ]
  },
  {
   "cell_type": "code",
   "execution_count": 22,
   "metadata": {},
   "outputs": [
    {
     "data": {
      "text/plain": [
       "101"
      ]
     },
     "execution_count": 22,
     "metadata": {},
     "output_type": "execute_result"
    }
   ],
   "source": [
    "simple.where(\"SEX\", 2).where(\"AGE\", are.below(101)).num_rows"
   ]
  },
  {
   "cell_type": "code",
   "execution_count": 24,
   "metadata": {},
   "outputs": [
    {
     "data": {
      "text/html": [
       "<table border=\"1\" class=\"dataframe\">\n",
       "    <thead>\n",
       "        <tr>\n",
       "            <th>SEX</th> <th>AGE</th> <th>2010</th> <th>2014</th>\n",
       "        </tr>\n",
       "    </thead>\n",
       "    <tbody>\n",
       "        <tr>\n",
       "            <td>2   </td> <td>100 </td> <td>45058 </td> <td>58468 </td>\n",
       "        </tr>\n",
       "        <tr>\n",
       "            <td>2   </td> <td>99  </td> <td>26074 </td> <td>32791 </td>\n",
       "        </tr>\n",
       "        <tr>\n",
       "            <td>2   </td> <td>98  </td> <td>37533 </td> <td>46536 </td>\n",
       "        </tr>\n",
       "        <tr>\n",
       "            <td>2   </td> <td>97  </td> <td>54118 </td> <td>63252 </td>\n",
       "        </tr>\n",
       "        <tr>\n",
       "            <td>2   </td> <td>96  </td> <td>75139 </td> <td>89949 </td>\n",
       "        </tr>\n",
       "        <tr>\n",
       "            <td>2   </td> <td>95  </td> <td>99341 </td> <td>114300</td>\n",
       "        </tr>\n",
       "        <tr>\n",
       "            <td>2   </td> <td>94  </td> <td>126947</td> <td>156525</td>\n",
       "        </tr>\n",
       "        <tr>\n",
       "            <td>2   </td> <td>93  </td> <td>158881</td> <td>200353</td>\n",
       "        </tr>\n",
       "        <tr>\n",
       "            <td>2   </td> <td>92  </td> <td>205379</td> <td>244659</td>\n",
       "        </tr>\n",
       "        <tr>\n",
       "            <td>2   </td> <td>91  </td> <td>240152</td> <td>288866</td>\n",
       "        </tr>\n",
       "    </tbody>\n",
       "</table>\n",
       "<p>... (91 rows omitted)</p>"
      ],
      "text/plain": [
       "SEX  | AGE  | 2010   | 2014\n",
       "2    | 100  | 45058  | 58468\n",
       "2    | 99   | 26074  | 32791\n",
       "2    | 98   | 37533  | 46536\n",
       "2    | 97   | 54118  | 63252\n",
       "2    | 96   | 75139  | 89949\n",
       "2    | 95   | 99341  | 114300\n",
       "2    | 94   | 126947 | 156525\n",
       "2    | 93   | 158881 | 200353\n",
       "2    | 92   | 205379 | 244659\n",
       "2    | 91   | 240152 | 288866\n",
       "... (91 rows omitted)"
      ]
     },
     "execution_count": 24,
     "metadata": {},
     "output_type": "execute_result"
    }
   ],
   "source": [
    "simple.where(\"SEX\", 2).where(\"AGE\", are.below(101)).sort(\"AGE\", descending=True)"
   ]
  },
  {
   "cell_type": "code",
   "execution_count": 27,
   "metadata": {},
   "outputs": [
    {
     "data": {
      "text/plain": [
       "157257573"
      ]
     },
     "execution_count": 27,
     "metadata": {},
     "output_type": "execute_result"
    }
   ],
   "source": [
    "# find the sum of 2010 pop estimate of sex 1\n",
    "pop_2010_estimate_sum = sum(simple.where(\"SEX\", 2).where(\"AGE\", are.below(101)).column(\"2010\"))\n",
    "pop_2010_estimate_sum"
   ]
  },
  {
   "cell_type": "code",
   "execution_count": 36,
   "metadata": {},
   "outputs": [],
   "source": [
    "# take the 2010 estimate for age 999 and gender 2 and assign it to a name\n",
    "nnn_2010_estimate = simple.sort(\"AGE\", descending=True).take(2).column(\"2010\").item(0)"
   ]
  },
  {
   "cell_type": "code",
   "execution_count": 37,
   "metadata": {},
   "outputs": [
    {
     "data": {
      "text/plain": [
       "True"
      ]
     },
     "execution_count": 37,
     "metadata": {},
     "output_type": "execute_result"
    }
   ],
   "source": [
    "pop_2010_estimate_sum == nnn_2010_estimate "
   ]
  },
  {
   "cell_type": "code",
   "execution_count": 38,
   "metadata": {},
   "outputs": [
    {
     "data": {
      "text/plain": [
       "False"
      ]
     },
     "execution_count": 38,
     "metadata": {},
     "output_type": "execute_result"
    }
   ],
   "source": [
    "pop_2010_estimate_sum == 1"
   ]
  },
  {
   "cell_type": "code",
   "execution_count": 15,
   "metadata": {
    "collapsed": true,
    "jupyter": {
     "outputs_hidden": true
    }
   },
   "outputs": [
    {
     "data": {
      "text/plain": [
       "array([  3951330,   3957888,   4090862,   4111920,   4077552,   4064653,\n",
       "         4073013,   4043047,   4025604,   4125415,   4187063,   4115511,\n",
       "         4113280,   4119666,   4145614,   4231003,   4313252,   4376368,\n",
       "         4491005,   4571385,   4568470,   4387914,   4286987,   4217221,\n",
       "         4243589,   4289424,   4160810,   4237010,   4247540,   4210285,\n",
       "         4304244,   4042507,   3967603,   3933570,   3822188,   3948318,\n",
       "         3830202,   3896776,   4080229,   4324460,   4387483,   4163470,\n",
       "         4082733,   4093841,   4178501,   4438551,   4529712,   4535464,\n",
       "         4534669,   4599102,   4646251,   4498994,   4480630,   4439422,\n",
       "         4288475,   4259012,   4093161,   3946548,   3802467,   3694276,\n",
       "         3616733,   3520121,   3495073,   3652174,   2706063,   2678532,\n",
       "         2621346,   2693709,   2359819,   2167833,   2062581,   1953614,\n",
       "         1883821,   1750309,   1685999,   1631879,   1481683,   1449173,\n",
       "         1402184,   1354913,   1319725,   1212603,   1158352,   1081442,\n",
       "          987026,    915015,    821550,    721195,    636657,    546193,\n",
       "          448323,    344443,    288841,    219063,    170775,    131077,\n",
       "           97161,     68893,     47037,     32178,     54409, 309347057,\n",
       "         2018420,   2020332,   2088685,   2101272,   2084312,   2076573,\n",
       "         2079410,   2063139,   2054462,   2107037,   2142168,   2104797,\n",
       "         2103650,   2104949,   2122913,   2170442,   2215032,   2252838,\n",
       "         2305733,   2334906,   2331846,   2241095,   2188228,   2151095,\n",
       "         2161380,   2177171,   2102375,   2135214,   2135020,   2112348,\n",
       "         2167540,   2026467,   1986185,   1963676,   1908761,   1974660,\n",
       "         1907447,   1934572,   2028088,   2148755,   2189556,   2073925,\n",
       "         2031830,   2031012,   2074606,   2201934,   2238804,   2237972,\n",
       "         2235326,   2262482,   2290902,   2209830,   2197222,   2170965,\n",
       "         2091677,   2075250,   1984480,   1910028,   1838703,   1779504,\n",
       "         1742232,   1691413,   1679074,   1753914,   1291843,   1272693,\n",
       "         1239805,   1270148,   1105702,   1006786,    954076,    903263,\n",
       "          862528,    794646,    758831,    725664,    653551,    630867,\n",
       "          602774,    573884,    549215,    496069,    462807,    423000,\n",
       "          375687,    337662,    295395,    253620,    216220,    180461,\n",
       "          141398,    104291,     83462,     60182,     43828,     31736,\n",
       "           22022,     14775,      9504,      6104,      9351, 152089484,\n",
       "         1932910,   1937556,   2002177,   2010648,   1993240,   1988080,\n",
       "         1993603,   1979908,   1971142,   2018378,   2044895,   2010714,\n",
       "         2009630,   2014717,   2022701,   2060561,   2098220,   2123530,\n",
       "         2185272,   2236479,   2236624,   2146819,   2098759,   2066126,\n",
       "         2082209,   2112253,   2058435,   2101796,   2112520,   2097937,\n",
       "         2136704,   2016040,   1981418,   1969894,   1913427,   1973658,\n",
       "         1922755,   1962204,   2052141,   2175705,   2197927,   2089545,\n",
       "         2050903,   2062829,   2103895,   2236617,   2290908,   2297492,\n",
       "         2299343,   2336620,   2355349,   2289164,   2283408,   2268457,\n",
       "         2196798,   2183762,   2108681,   2036520,   1963764,   1914772,\n",
       "         1874501,   1828708,   1815999,   1898260,   1414220,   1405839,\n",
       "         1381541,   1423561,   1254117,   1161047,   1108505,   1050351,\n",
       "         1021293,    955663,    927168,    906215,    828132,    818306,\n",
       "          799410,    781029,    770510,    716534,    695545,    658442,\n",
       "          611339,    577353,    526155,    467575,    420437,    365732,\n",
       "          306925,    240152,    205379,    158881,    126947,     99341,\n",
       "           75139,     54118,     37533,     26074,     45058, 157257573])"
      ]
     },
     "execution_count": 15,
     "metadata": {},
     "output_type": "execute_result"
    }
   ],
   "source": [
    "# lets check if 999 means the total population\n",
    "simple.column(\"2010\")\n"
   ]
  },
  {
   "cell_type": "markdown",
   "metadata": {},
   "source": [
    "# Column Arithmetic \n",
    "\n",
    "Difference between 14 estimate and 10 estimate"
   ]
  },
  {
   "cell_type": "code",
   "execution_count": 39,
   "metadata": {},
   "outputs": [
    {
     "data": {
      "text/html": [
       "<table border=\"1\" class=\"dataframe\">\n",
       "    <thead>\n",
       "        <tr>\n",
       "            <th>SEX</th> <th>AGE</th> <th>2010</th> <th>2014</th>\n",
       "        </tr>\n",
       "    </thead>\n",
       "    <tbody>\n",
       "        <tr>\n",
       "            <td>0   </td> <td>0   </td> <td>3951330</td> <td>3948350</td>\n",
       "        </tr>\n",
       "        <tr>\n",
       "            <td>0   </td> <td>1   </td> <td>3957888</td> <td>3962123</td>\n",
       "        </tr>\n",
       "        <tr>\n",
       "            <td>0   </td> <td>2   </td> <td>4090862</td> <td>3957772</td>\n",
       "        </tr>\n",
       "        <tr>\n",
       "            <td>0   </td> <td>3   </td> <td>4111920</td> <td>4005190</td>\n",
       "        </tr>\n",
       "        <tr>\n",
       "            <td>0   </td> <td>4   </td> <td>4077552</td> <td>4003448</td>\n",
       "        </tr>\n",
       "        <tr>\n",
       "            <td>0   </td> <td>5   </td> <td>4064653</td> <td>4004858</td>\n",
       "        </tr>\n",
       "        <tr>\n",
       "            <td>0   </td> <td>6   </td> <td>4073013</td> <td>4134352</td>\n",
       "        </tr>\n",
       "        <tr>\n",
       "            <td>0   </td> <td>7   </td> <td>4043047</td> <td>4154000</td>\n",
       "        </tr>\n",
       "        <tr>\n",
       "            <td>0   </td> <td>8   </td> <td>4025604</td> <td>4119524</td>\n",
       "        </tr>\n",
       "        <tr>\n",
       "            <td>0   </td> <td>9   </td> <td>4125415</td> <td>4106832</td>\n",
       "        </tr>\n",
       "    </tbody>\n",
       "</table>\n",
       "<p>... (296 rows omitted)</p>"
      ],
      "text/plain": [
       "SEX  | AGE  | 2010    | 2014\n",
       "0    | 0    | 3951330 | 3948350\n",
       "0    | 1    | 3957888 | 3962123\n",
       "0    | 2    | 4090862 | 3957772\n",
       "0    | 3    | 4111920 | 4005190\n",
       "0    | 4    | 4077552 | 4003448\n",
       "0    | 5    | 4064653 | 4004858\n",
       "0    | 6    | 4073013 | 4134352\n",
       "0    | 7    | 4043047 | 4154000\n",
       "0    | 8    | 4025604 | 4119524\n",
       "0    | 9    | 4125415 | 4106832\n",
       "... (296 rows omitted)"
      ]
     },
     "execution_count": 39,
     "metadata": {},
     "output_type": "execute_result"
    }
   ],
   "source": [
    "simple\n"
   ]
  },
  {
   "cell_type": "code",
   "execution_count": 41,
   "metadata": {},
   "outputs": [
    {
     "data": {
      "text/plain": [
       "(array([1, 2, 3]), array([4, 5, 6]))"
      ]
     },
     "execution_count": 41,
     "metadata": {},
     "output_type": "execute_result"
    }
   ],
   "source": [
    "aa = make_array(1,2,3)\n",
    "bb = make_array(4,5,6)\n",
    "aa, bb"
   ]
  },
  {
   "cell_type": "code",
   "execution_count": null,
   "metadata": {},
   "outputs": [],
   "source": []
  },
  {
   "cell_type": "code",
   "execution_count": 43,
   "metadata": {},
   "outputs": [
    {
     "data": {
      "text/plain": [
       "array([-3, -3, -3])"
      ]
     },
     "execution_count": 43,
     "metadata": {},
     "output_type": "execute_result"
    }
   ],
   "source": [
    "aa - bb"
   ]
  },
  {
   "cell_type": "code",
   "execution_count": 44,
   "metadata": {},
   "outputs": [
    {
     "data": {
      "text/plain": [
       "array([ 4, 10, 18])"
      ]
     },
     "execution_count": 44,
     "metadata": {},
     "output_type": "execute_result"
    }
   ],
   "source": [
    "aa * bb"
   ]
  },
  {
   "cell_type": "code",
   "execution_count": 47,
   "metadata": {},
   "outputs": [],
   "source": [
    "estimates_2010 = simple.column(\"2010\")"
   ]
  },
  {
   "cell_type": "code",
   "execution_count": 48,
   "metadata": {},
   "outputs": [
    {
     "data": {
      "text/html": [
       "<table border=\"1\" class=\"dataframe\">\n",
       "    <thead>\n",
       "        <tr>\n",
       "            <th>2014</th>\n",
       "        </tr>\n",
       "    </thead>\n",
       "    <tbody>\n",
       "        <tr>\n",
       "            <td>3948350</td>\n",
       "        </tr>\n",
       "        <tr>\n",
       "            <td>3962123</td>\n",
       "        </tr>\n",
       "        <tr>\n",
       "            <td>3957772</td>\n",
       "        </tr>\n",
       "        <tr>\n",
       "            <td>4005190</td>\n",
       "        </tr>\n",
       "        <tr>\n",
       "            <td>4003448</td>\n",
       "        </tr>\n",
       "        <tr>\n",
       "            <td>4004858</td>\n",
       "        </tr>\n",
       "        <tr>\n",
       "            <td>4134352</td>\n",
       "        </tr>\n",
       "        <tr>\n",
       "            <td>4154000</td>\n",
       "        </tr>\n",
       "        <tr>\n",
       "            <td>4119524</td>\n",
       "        </tr>\n",
       "        <tr>\n",
       "            <td>4106832</td>\n",
       "        </tr>\n",
       "    </tbody>\n",
       "</table>\n",
       "<p>... (296 rows omitted)</p>"
      ],
      "text/plain": [
       "2014\n",
       "3948350\n",
       "3962123\n",
       "3957772\n",
       "4005190\n",
       "4003448\n",
       "4004858\n",
       "4134352\n",
       "4154000\n",
       "4119524\n",
       "4106832\n",
       "... (296 rows omitted)"
      ]
     },
     "execution_count": 48,
     "metadata": {},
     "output_type": "execute_result"
    }
   ],
   "source": [
    "estimates_2014 = simple.select(\"2014\")\n",
    "estimates_2014"
   ]
  },
  {
   "cell_type": "code",
   "execution_count": 49,
   "metadata": {},
   "outputs": [
    {
     "name": "stderr",
     "output_type": "stream",
     "text": [
      "/opt/conda/lib/python3.8/site-packages/datascience/tables.py:222: FutureWarning: Implicit column method lookup is deprecated.\n",
      "  warnings.warn(\"Implicit column method lookup is deprecated.\", FutureWarning)\n"
     ]
    },
    {
     "ename": "ValueError",
     "evalue": "invalid __array_struct__",
     "output_type": "error",
     "traceback": [
      "\u001b[0;31m---------------------------------------------------------------------------\u001b[0m",
      "\u001b[0;31mValueError\u001b[0m                                Traceback (most recent call last)",
      "\u001b[0;32m<ipython-input-49-a64625d22c9f>\u001b[0m in \u001b[0;36m<module>\u001b[0;34m\u001b[0m\n\u001b[0;32m----> 1\u001b[0;31m \u001b[0mestimates_2014\u001b[0m \u001b[0;34m-\u001b[0m \u001b[0mestimates_2010\u001b[0m\u001b[0;34m\u001b[0m\u001b[0;34m\u001b[0m\u001b[0m\n\u001b[0m",
      "\u001b[0;31mValueError\u001b[0m: invalid __array_struct__"
     ]
    }
   ],
   "source": [
    "estimates_2014 - estimates_2010"
   ]
  },
  {
   "cell_type": "code",
   "execution_count": 51,
   "metadata": {},
   "outputs": [
    {
     "data": {
      "text/plain": [
       "(datascience.tables.Table, numpy.ndarray)"
      ]
     },
     "execution_count": 51,
     "metadata": {},
     "output_type": "execute_result"
    }
   ],
   "source": [
    "type(estimates_2014), type(estimates_2010)"
   ]
  },
  {
   "cell_type": "code",
   "execution_count": 53,
   "metadata": {},
   "outputs": [
    {
     "data": {
      "text/plain": [
       "array([  3948350,   3962123,   3957772,   4005190,   4003448,   4004858,\n",
       "         4134352,   4154000,   4119524,   4106832,   4115254,   4085636,\n",
       "         4068790,   4169346,   4232480,   4163723,   4167234,   4184706,\n",
       "         4225590,   4326394,   4418887,   4489746,   4612322,   4698584,\n",
       "         4692635,   4509594,   4406472,   4332545,   4351851,   4387476,\n",
       "         4250780,   4318706,   4320072,   4276113,   4362895,   4094039,\n",
       "         4014413,   3974190,   3859181,   3979827,   3856888,   3917413,\n",
       "         4095929,   4332491,   4388762,   4161450,   4076237,   4082150,\n",
       "         4158996,   4409209,   4491431,   4488666,   4480175,   4535748,\n",
       "         4574789,   4421625,   4395471,   4347179,   4191757,   4155417,\n",
       "         3985367,   3834428,   3685822,   3572379,   3488136,   3384449,\n",
       "         3347776,   3485502,   2572527,   2535012,   2466485,   2519748,\n",
       "         2194234,   2002191,   1890366,   1774697,   1694648,   1557239,\n",
       "         1481505,   1414235,   1264072,   1216009,   1153634,   1090465,\n",
       "         1036186,    924969,    855696,    770685,    675487,    599834,\n",
       "          512845,    426946,    354532,    286333,    218655,    157124,\n",
       "          121184,     83731,     60185,     41828,     72197, 318857056,\n",
       "         2017857,   2023253,   2022502,   2048618,   2043498,   2043467,\n",
       "         2110328,   2122240,   2105122,   2097272,   2099874,   2083687,\n",
       "         2075243,   2128187,   2164228,   2128424,   2130938,   2138809,\n",
       "         2165062,   2220790,   2269570,   2310734,   2367842,   2399883,\n",
       "         2391398,   2295836,   2240026,   2200429,   2207185,   2217913,\n",
       "         2140108,   2169725,   2165840,   2140697,   2192455,   2047326,\n",
       "         2004990,   1979035,   1922571,   1985914,   1916261,   1939916,\n",
       "         2031325,   2147656,   2184235,   2067223,   2022698,   2019306,\n",
       "         2058243,   2179993,   2211607,   2205405,   2198124,   2219617,\n",
       "         2242828,   2158258,   2140722,   2110149,   2027959,   2006900,\n",
       "         1914009,   1837080,   1763504,   1701827,   1661474,   1607688,\n",
       "         1589127,   1653257,   1211480,   1187554,   1149247,   1169356,\n",
       "         1010896,    913008,    857432,    803434,    758378,    689822,\n",
       "          649209,    610723,    540032,    511090,    476976,    442449,\n",
       "          411265,    359264,    322934,    283305,    240316,    205684,\n",
       "          170350,    138080,    109873,     85980,     62130,     42824,\n",
       "           31235,     20479,     13649,      9037,     13729, 156936487,\n",
       "         1930493,   1938870,   1935270,   1956572,   1959950,   1961391,\n",
       "         2024024,   2031760,   2014402,   2009560,   2015380,   2001949,\n",
       "         1993547,   2041159,   2068252,   2035299,   2036296,   2045897,\n",
       "         2060528,   2105604,   2149317,   2179012,   2244480,   2298701,\n",
       "         2301237,   2213758,   2166446,   2132116,   2144666,   2169563,\n",
       "         2110672,   2148981,   2154232,   2135416,   2170440,   2046713,\n",
       "         2009423,   1995155,   1936610,   1993913,   1940627,   1977497,\n",
       "         2064604,   2184835,   2204527,   2094227,   2053539,   2062844,\n",
       "         2100753,   2229216,   2279824,   2283261,   2282051,   2316131,\n",
       "         2331961,   2263367,   2254749,   2237030,   2163798,   2148517,\n",
       "         2071358,   1997348,   1922318,   1870552,   1826662,   1776761,\n",
       "         1758649,   1832245,   1361047,   1347458,   1317238,   1350392,\n",
       "         1183338,   1089183,   1032934,    971263,    936270,    867417,\n",
       "          832296,    803512,    724040,    704919,    676658,    648016,\n",
       "          624921,    565705,    532762,    487380,    435171,    394150,\n",
       "          342495,    288866,    244659,    200353,    156525,    114300,\n",
       "           89949,     63252,     46536,     32791,     58468, 161920569])"
      ]
     },
     "execution_count": 53,
     "metadata": {},
     "output_type": "execute_result"
    }
   ],
   "source": [
    "# get the 2014 estimate as an array\n",
    "estimates_2014 = simple.column(\"2014\")\n",
    "estimates_2014"
   ]
  },
  {
   "cell_type": "code",
   "execution_count": 54,
   "metadata": {},
   "outputs": [
    {
     "data": {
      "text/plain": [
       "array([  -2980,    4235, -133090, -106730,  -74104,  -59795,   61339,\n",
       "        110953,   93920,  -18583,  -71809,  -29875,  -44490,   49680,\n",
       "         86866,  -67280, -146018, -191662, -265415, -244991, -149583,\n",
       "        101832,  325335,  481363,  449046,  220170,  245662,   95535,\n",
       "        104311,  177191,  -53464,  276199,  352469,  342543,  540707,\n",
       "        145721,  184211,   77414, -221048, -344633, -530595, -246057,\n",
       "         13196,  238650,  210261, -277101, -453475, -453314, -375673,\n",
       "       -189893, -154820,  -10328,    -455,   96326,  286314,  162613,\n",
       "        302310,  400631,  389290,  461141,  368634,  314307,  190749,\n",
       "        -79795,  782073,  705917,  726430,  791793,  212708,  367179,\n",
       "        403904,  566134,  310413,  251882,  204367,  142818,  212965,\n",
       "        108066,   79321,   59322,  -55653,    3406,   -4718,    9023,\n",
       "         49160,    9954,   34146,   49490,   38830,   53641,   64522,\n",
       "         82503,   65691,   67270,   47880,   26047,   24023,   14838,\n",
       "         13148,    9650,   17788, 9509999,    -563,    2921,  -66183,\n",
       "        -52654,  -40814,  -33106,   30918,   59101,   50660,   -9765,\n",
       "        -42294,  -21110,  -28407,   23238,   41315,  -42018,  -84094,\n",
       "       -114029, -140671, -114116,  -62276,   69639,  179614,  248788,\n",
       "        230018,  118665,  137651,   65215,   72165,  105565,  -27432,\n",
       "        143258,  179655,  177021,  283694,   72666,   97543,   44463,\n",
       "       -105517, -162841, -273295, -134009,    -505,  116644,  109629,\n",
       "       -134711, -216106, -218666, -177083,  -82489,  -79295,   -4425,\n",
       "           902,   48652,  151151,   83008,  156242,  200121,  189256,\n",
       "        227396,  171777,  145667,   84430,  -52087,  369631,  334995,\n",
       "        349322,  383109,  105778,  180768,  195171,  266093,  148368,\n",
       "        118362,   98601,   77770,  104827,   58955,   46435,   36839,\n",
       "         -9183,   15021,   14169,   19449,   35578,   21602,   27539,\n",
       "         29685,   24096,   25223,   28952,   33789,   26411,   25798,\n",
       "         18302,   11088,    9213,    5704,    4145,    2933,    4378,\n",
       "       4847003,   -2417,    1314,  -66907,  -54076,  -33290,  -26689,\n",
       "         30421,   51852,   43260,   -8818,  -29515,   -8765,  -16083,\n",
       "         26442,   45551,  -25262,  -61924,  -77633, -124744, -130875,\n",
       "        -87307,   32193,  145721,  232575,  219028,  101505,  108011,\n",
       "         30320,   32146,   71626,  -26032,  132941,  172814,  165522,\n",
       "        257013,   73055,   86668,   32951, -115531, -181792, -257300,\n",
       "       -112048,   13701,  122006,  100632, -142390, -237369, -234648,\n",
       "       -198590, -107404,  -75525,   -5903,   -1357,   47674,  135163,\n",
       "         79605,  146068,  200510,  200034,  233745,  196857,  168640,\n",
       "        106319,  -27708,  412442,  370922,  377108,  408684,  106930,\n",
       "        186411,  208733,  300041,  162045,  133520,  105766,   65048,\n",
       "        108138,   49111,   32886,   22483,  -46470,  -11615,  -18887,\n",
       "        -10426,   13582,  -11648,    6607,   19805,   14734,   28418,\n",
       "         35570,   48714,   39280,   41472,   29578,   14959,   14810,\n",
       "          9134,    9003,    6717,   13410, 4662996])"
      ]
     },
     "execution_count": 54,
     "metadata": {},
     "output_type": "execute_result"
    }
   ],
   "source": [
    "estimates_2014 - estimates_2010"
   ]
  },
  {
   "cell_type": "code",
   "execution_count": 56,
   "metadata": {},
   "outputs": [
    {
     "ename": "TypeError",
     "evalue": "unsupported operand type(s) for -: 'Table' and 'Table'",
     "output_type": "error",
     "traceback": [
      "\u001b[0;31m---------------------------------------------------------------------------\u001b[0m",
      "\u001b[0;31mTypeError\u001b[0m                                 Traceback (most recent call last)",
      "\u001b[0;32m<ipython-input-56-c4d7e8683bc2>\u001b[0m in \u001b[0;36m<module>\u001b[0;34m\u001b[0m\n\u001b[0;32m----> 1\u001b[0;31m \u001b[0msimple\u001b[0m\u001b[0;34m.\u001b[0m\u001b[0mselect\u001b[0m\u001b[0;34m(\u001b[0m\u001b[0;34m\"2014\"\u001b[0m\u001b[0;34m)\u001b[0m \u001b[0;34m-\u001b[0m \u001b[0msimple\u001b[0m\u001b[0;34m.\u001b[0m\u001b[0mselect\u001b[0m\u001b[0;34m(\u001b[0m\u001b[0;34m\"2010\"\u001b[0m\u001b[0;34m)\u001b[0m\u001b[0;34m\u001b[0m\u001b[0;34m\u001b[0m\u001b[0m\n\u001b[0m",
      "\u001b[0;31mTypeError\u001b[0m: unsupported operand type(s) for -: 'Table' and 'Table'"
     ]
    }
   ],
   "source": [
    "#no arithmatic between tables, need to first extract the columns\n",
    "# as arrays\n",
    "# H/T Kate!\n",
    "simple.select(\"2014\") - simple.select(\"2010\")"
   ]
  },
  {
   "cell_type": "code",
   "execution_count": 57,
   "metadata": {},
   "outputs": [
    {
     "data": {
      "text/plain": [
       "array([  -2980,    4235, -133090, -106730,  -74104,  -59795,   61339,\n",
       "        110953,   93920,  -18583,  -71809,  -29875,  -44490,   49680,\n",
       "         86866,  -67280, -146018, -191662, -265415, -244991, -149583,\n",
       "        101832,  325335,  481363,  449046,  220170,  245662,   95535,\n",
       "        104311,  177191,  -53464,  276199,  352469,  342543,  540707,\n",
       "        145721,  184211,   77414, -221048, -344633, -530595, -246057,\n",
       "         13196,  238650,  210261, -277101, -453475, -453314, -375673,\n",
       "       -189893, -154820,  -10328,    -455,   96326,  286314,  162613,\n",
       "        302310,  400631,  389290,  461141,  368634,  314307,  190749,\n",
       "        -79795,  782073,  705917,  726430,  791793,  212708,  367179,\n",
       "        403904,  566134,  310413,  251882,  204367,  142818,  212965,\n",
       "        108066,   79321,   59322,  -55653,    3406,   -4718,    9023,\n",
       "         49160,    9954,   34146,   49490,   38830,   53641,   64522,\n",
       "         82503,   65691,   67270,   47880,   26047,   24023,   14838,\n",
       "         13148,    9650,   17788, 9509999,    -563,    2921,  -66183,\n",
       "        -52654,  -40814,  -33106,   30918,   59101,   50660,   -9765,\n",
       "        -42294,  -21110,  -28407,   23238,   41315,  -42018,  -84094,\n",
       "       -114029, -140671, -114116,  -62276,   69639,  179614,  248788,\n",
       "        230018,  118665,  137651,   65215,   72165,  105565,  -27432,\n",
       "        143258,  179655,  177021,  283694,   72666,   97543,   44463,\n",
       "       -105517, -162841, -273295, -134009,    -505,  116644,  109629,\n",
       "       -134711, -216106, -218666, -177083,  -82489,  -79295,   -4425,\n",
       "           902,   48652,  151151,   83008,  156242,  200121,  189256,\n",
       "        227396,  171777,  145667,   84430,  -52087,  369631,  334995,\n",
       "        349322,  383109,  105778,  180768,  195171,  266093,  148368,\n",
       "        118362,   98601,   77770,  104827,   58955,   46435,   36839,\n",
       "         -9183,   15021,   14169,   19449,   35578,   21602,   27539,\n",
       "         29685,   24096,   25223,   28952,   33789,   26411,   25798,\n",
       "         18302,   11088,    9213,    5704,    4145,    2933,    4378,\n",
       "       4847003,   -2417,    1314,  -66907,  -54076,  -33290,  -26689,\n",
       "         30421,   51852,   43260,   -8818,  -29515,   -8765,  -16083,\n",
       "         26442,   45551,  -25262,  -61924,  -77633, -124744, -130875,\n",
       "        -87307,   32193,  145721,  232575,  219028,  101505,  108011,\n",
       "         30320,   32146,   71626,  -26032,  132941,  172814,  165522,\n",
       "        257013,   73055,   86668,   32951, -115531, -181792, -257300,\n",
       "       -112048,   13701,  122006,  100632, -142390, -237369, -234648,\n",
       "       -198590, -107404,  -75525,   -5903,   -1357,   47674,  135163,\n",
       "         79605,  146068,  200510,  200034,  233745,  196857,  168640,\n",
       "        106319,  -27708,  412442,  370922,  377108,  408684,  106930,\n",
       "        186411,  208733,  300041,  162045,  133520,  105766,   65048,\n",
       "        108138,   49111,   32886,   22483,  -46470,  -11615,  -18887,\n",
       "        -10426,   13582,  -11648,    6607,   19805,   14734,   28418,\n",
       "         35570,   48714,   39280,   41472,   29578,   14959,   14810,\n",
       "          9134,    9003,    6717,   13410, 4662996])"
      ]
     },
     "execution_count": 57,
     "metadata": {},
     "output_type": "execute_result"
    }
   ],
   "source": [
    "difference_in_estimates_14_10 = estimates_2014 - estimates_2010\n",
    "difference_in_estimates_14_10"
   ]
  },
  {
   "cell_type": "markdown",
   "metadata": {},
   "source": [
    "## Make new table with change"
   ]
  },
  {
   "cell_type": "code",
   "execution_count": 58,
   "metadata": {},
   "outputs": [
    {
     "data": {
      "text/html": [
       "<table border=\"1\" class=\"dataframe\">\n",
       "    <thead>\n",
       "        <tr>\n",
       "            <th>SEX</th> <th>AGE</th> <th>2010</th> <th>2014</th>\n",
       "        </tr>\n",
       "    </thead>\n",
       "    <tbody>\n",
       "        <tr>\n",
       "            <td>0   </td> <td>0   </td> <td>3951330</td> <td>3948350</td>\n",
       "        </tr>\n",
       "        <tr>\n",
       "            <td>0   </td> <td>1   </td> <td>3957888</td> <td>3962123</td>\n",
       "        </tr>\n",
       "        <tr>\n",
       "            <td>0   </td> <td>2   </td> <td>4090862</td> <td>3957772</td>\n",
       "        </tr>\n",
       "        <tr>\n",
       "            <td>0   </td> <td>3   </td> <td>4111920</td> <td>4005190</td>\n",
       "        </tr>\n",
       "        <tr>\n",
       "            <td>0   </td> <td>4   </td> <td>4077552</td> <td>4003448</td>\n",
       "        </tr>\n",
       "        <tr>\n",
       "            <td>0   </td> <td>5   </td> <td>4064653</td> <td>4004858</td>\n",
       "        </tr>\n",
       "        <tr>\n",
       "            <td>0   </td> <td>6   </td> <td>4073013</td> <td>4134352</td>\n",
       "        </tr>\n",
       "        <tr>\n",
       "            <td>0   </td> <td>7   </td> <td>4043047</td> <td>4154000</td>\n",
       "        </tr>\n",
       "        <tr>\n",
       "            <td>0   </td> <td>8   </td> <td>4025604</td> <td>4119524</td>\n",
       "        </tr>\n",
       "        <tr>\n",
       "            <td>0   </td> <td>9   </td> <td>4125415</td> <td>4106832</td>\n",
       "        </tr>\n",
       "    </tbody>\n",
       "</table>\n",
       "<p>... (296 rows omitted)</p>"
      ],
      "text/plain": [
       "SEX  | AGE  | 2010    | 2014\n",
       "0    | 0    | 3951330 | 3948350\n",
       "0    | 1    | 3957888 | 3962123\n",
       "0    | 2    | 4090862 | 3957772\n",
       "0    | 3    | 4111920 | 4005190\n",
       "0    | 4    | 4077552 | 4003448\n",
       "0    | 5    | 4064653 | 4004858\n",
       "0    | 6    | 4073013 | 4134352\n",
       "0    | 7    | 4043047 | 4154000\n",
       "0    | 8    | 4025604 | 4119524\n",
       "0    | 9    | 4125415 | 4106832\n",
       "... (296 rows omitted)"
      ]
     },
     "execution_count": 58,
     "metadata": {},
     "output_type": "execute_result"
    }
   ],
   "source": [
    "# store the difference in array assigned to the name `changed`\n",
    "simple"
   ]
  },
  {
   "cell_type": "markdown",
   "metadata": {},
   "source": [
    "#### addthe change as a column to a table"
   ]
  },
  {
   "cell_type": "code",
   "execution_count": 59,
   "metadata": {},
   "outputs": [
    {
     "data": {
      "text/html": [
       "<table border=\"1\" class=\"dataframe\">\n",
       "    <thead>\n",
       "        <tr>\n",
       "            <th>SEX</th> <th>AGE</th> <th>2010</th> <th>2014</th> <th>change</th>\n",
       "        </tr>\n",
       "    </thead>\n",
       "    <tbody>\n",
       "        <tr>\n",
       "            <td>0   </td> <td>0   </td> <td>3951330</td> <td>3948350</td> <td>-2980  </td>\n",
       "        </tr>\n",
       "        <tr>\n",
       "            <td>0   </td> <td>1   </td> <td>3957888</td> <td>3962123</td> <td>4235   </td>\n",
       "        </tr>\n",
       "        <tr>\n",
       "            <td>0   </td> <td>2   </td> <td>4090862</td> <td>3957772</td> <td>-133090</td>\n",
       "        </tr>\n",
       "        <tr>\n",
       "            <td>0   </td> <td>3   </td> <td>4111920</td> <td>4005190</td> <td>-106730</td>\n",
       "        </tr>\n",
       "        <tr>\n",
       "            <td>0   </td> <td>4   </td> <td>4077552</td> <td>4003448</td> <td>-74104 </td>\n",
       "        </tr>\n",
       "        <tr>\n",
       "            <td>0   </td> <td>5   </td> <td>4064653</td> <td>4004858</td> <td>-59795 </td>\n",
       "        </tr>\n",
       "        <tr>\n",
       "            <td>0   </td> <td>6   </td> <td>4073013</td> <td>4134352</td> <td>61339  </td>\n",
       "        </tr>\n",
       "        <tr>\n",
       "            <td>0   </td> <td>7   </td> <td>4043047</td> <td>4154000</td> <td>110953 </td>\n",
       "        </tr>\n",
       "        <tr>\n",
       "            <td>0   </td> <td>8   </td> <td>4025604</td> <td>4119524</td> <td>93920  </td>\n",
       "        </tr>\n",
       "        <tr>\n",
       "            <td>0   </td> <td>9   </td> <td>4125415</td> <td>4106832</td> <td>-18583 </td>\n",
       "        </tr>\n",
       "    </tbody>\n",
       "</table>\n",
       "<p>... (296 rows omitted)</p>"
      ],
      "text/plain": [
       "SEX  | AGE  | 2010    | 2014    | change\n",
       "0    | 0    | 3951330 | 3948350 | -2980\n",
       "0    | 1    | 3957888 | 3962123 | 4235\n",
       "0    | 2    | 4090862 | 3957772 | -133090\n",
       "0    | 3    | 4111920 | 4005190 | -106730\n",
       "0    | 4    | 4077552 | 4003448 | -74104\n",
       "0    | 5    | 4064653 | 4004858 | -59795\n",
       "0    | 6    | 4073013 | 4134352 | 61339\n",
       "0    | 7    | 4043047 | 4154000 | 110953\n",
       "0    | 8    | 4025604 | 4119524 | 93920\n",
       "0    | 9    | 4125415 | 4106832 | -18583\n",
       "... (296 rows omitted)"
      ]
     },
     "execution_count": 59,
     "metadata": {},
     "output_type": "execute_result"
    }
   ],
   "source": [
    "partial_census_change = simple.with_columns(\"change\", difference_in_estimates_14_10)\n",
    "\n",
    "partial_census_change"
   ]
  },
  {
   "cell_type": "markdown",
   "metadata": {},
   "source": [
    "### Reformatter"
   ]
  },
  {
   "cell_type": "code",
   "execution_count": 60,
   "metadata": {},
   "outputs": [
    {
     "data": {
      "text/html": [
       "<table border=\"1\" class=\"dataframe\">\n",
       "    <thead>\n",
       "        <tr>\n",
       "            <th>SEX</th> <th>AGE</th> <th>2010</th> <th>2014</th> <th>change</th>\n",
       "        </tr>\n",
       "    </thead>\n",
       "    <tbody>\n",
       "        <tr>\n",
       "            <td>0   </td> <td>0   </td> <td>3,951,330</td> <td>3948350</td> <td>-2980  </td>\n",
       "        </tr>\n",
       "        <tr>\n",
       "            <td>0   </td> <td>1   </td> <td>3,957,888</td> <td>3962123</td> <td>4235   </td>\n",
       "        </tr>\n",
       "        <tr>\n",
       "            <td>0   </td> <td>2   </td> <td>4,090,862</td> <td>3957772</td> <td>-133090</td>\n",
       "        </tr>\n",
       "        <tr>\n",
       "            <td>0   </td> <td>3   </td> <td>4,111,920</td> <td>4005190</td> <td>-106730</td>\n",
       "        </tr>\n",
       "        <tr>\n",
       "            <td>0   </td> <td>4   </td> <td>4,077,552</td> <td>4003448</td> <td>-74104 </td>\n",
       "        </tr>\n",
       "        <tr>\n",
       "            <td>0   </td> <td>5   </td> <td>4,064,653</td> <td>4004858</td> <td>-59795 </td>\n",
       "        </tr>\n",
       "        <tr>\n",
       "            <td>0   </td> <td>6   </td> <td>4,073,013</td> <td>4134352</td> <td>61339  </td>\n",
       "        </tr>\n",
       "        <tr>\n",
       "            <td>0   </td> <td>7   </td> <td>4,043,047</td> <td>4154000</td> <td>110953 </td>\n",
       "        </tr>\n",
       "        <tr>\n",
       "            <td>0   </td> <td>8   </td> <td>4,025,604</td> <td>4119524</td> <td>93920  </td>\n",
       "        </tr>\n",
       "        <tr>\n",
       "            <td>0   </td> <td>9   </td> <td>4,125,415</td> <td>4106832</td> <td>-18583 </td>\n",
       "        </tr>\n",
       "    </tbody>\n",
       "</table>\n",
       "<p>... (296 rows omitted)</p>"
      ],
      "text/plain": [
       "SEX  | AGE  | 2010      | 2014    | change\n",
       "0    | 0    | 3,951,330 | 3948350 | -2980\n",
       "0    | 1    | 3,957,888 | 3962123 | 4235\n",
       "0    | 2    | 4,090,862 | 3957772 | -133090\n",
       "0    | 3    | 4,111,920 | 4005190 | -106730\n",
       "0    | 4    | 4,077,552 | 4003448 | -74104\n",
       "0    | 5    | 4,064,653 | 4004858 | -59795\n",
       "0    | 6    | 4,073,013 | 4134352 | 61339\n",
       "0    | 7    | 4,043,047 | 4154000 | 110953\n",
       "0    | 8    | 4,025,604 | 4119524 | 93920\n",
       "0    | 9    | 4,125,415 | 4106832 | -18583\n",
       "... (296 rows omitted)"
      ]
     },
     "execution_count": 60,
     "metadata": {},
     "output_type": "execute_result"
    }
   ],
   "source": [
    "## Reformat these changes\n",
    "# NumberFormatter, PercentFormatter\n",
    "# set_format\n",
    "partial_census_change.set_format(\"2010\", NumberFormatter)\n",
    "\n"
   ]
  },
  {
   "cell_type": "code",
   "execution_count": 61,
   "metadata": {},
   "outputs": [
    {
     "data": {
      "text/html": [
       "<table border=\"1\" class=\"dataframe\">\n",
       "    <thead>\n",
       "        <tr>\n",
       "            <th>SEX</th> <th>AGE</th> <th>2010</th> <th>2014</th> <th>change</th>\n",
       "        </tr>\n",
       "    </thead>\n",
       "    <tbody>\n",
       "        <tr>\n",
       "            <td>0   </td> <td>0   </td> <td>3,951,330</td> <td>3948350</td> <td>-2980  </td>\n",
       "        </tr>\n",
       "        <tr>\n",
       "            <td>0   </td> <td>1   </td> <td>3,957,888</td> <td>3962123</td> <td>4235   </td>\n",
       "        </tr>\n",
       "        <tr>\n",
       "            <td>0   </td> <td>2   </td> <td>4,090,862</td> <td>3957772</td> <td>-133090</td>\n",
       "        </tr>\n",
       "        <tr>\n",
       "            <td>0   </td> <td>3   </td> <td>4,111,920</td> <td>4005190</td> <td>-106730</td>\n",
       "        </tr>\n",
       "        <tr>\n",
       "            <td>0   </td> <td>4   </td> <td>4,077,552</td> <td>4003448</td> <td>-74104 </td>\n",
       "        </tr>\n",
       "        <tr>\n",
       "            <td>0   </td> <td>5   </td> <td>4,064,653</td> <td>4004858</td> <td>-59795 </td>\n",
       "        </tr>\n",
       "        <tr>\n",
       "            <td>0   </td> <td>6   </td> <td>4,073,013</td> <td>4134352</td> <td>61339  </td>\n",
       "        </tr>\n",
       "        <tr>\n",
       "            <td>0   </td> <td>7   </td> <td>4,043,047</td> <td>4154000</td> <td>110953 </td>\n",
       "        </tr>\n",
       "        <tr>\n",
       "            <td>0   </td> <td>8   </td> <td>4,025,604</td> <td>4119524</td> <td>93920  </td>\n",
       "        </tr>\n",
       "        <tr>\n",
       "            <td>0   </td> <td>9   </td> <td>4,125,415</td> <td>4106832</td> <td>-18583 </td>\n",
       "        </tr>\n",
       "    </tbody>\n",
       "</table>\n",
       "<p>... (296 rows omitted)</p>"
      ],
      "text/plain": [
       "SEX  | AGE  | 2010      | 2014    | change\n",
       "0    | 0    | 3,951,330 | 3948350 | -2980\n",
       "0    | 1    | 3,957,888 | 3962123 | 4235\n",
       "0    | 2    | 4,090,862 | 3957772 | -133090\n",
       "0    | 3    | 4,111,920 | 4005190 | -106730\n",
       "0    | 4    | 4,077,552 | 4003448 | -74104\n",
       "0    | 5    | 4,064,653 | 4004858 | -59795\n",
       "0    | 6    | 4,073,013 | 4134352 | 61339\n",
       "0    | 7    | 4,043,047 | 4154000 | 110953\n",
       "0    | 8    | 4,025,604 | 4119524 | 93920\n",
       "0    | 9    | 4,125,415 | 4106832 | -18583\n",
       "... (296 rows omitted)"
      ]
     },
     "execution_count": 61,
     "metadata": {},
     "output_type": "execute_result"
    }
   ],
   "source": [
    "partial_census_change"
   ]
  },
  {
   "cell_type": "code",
   "execution_count": 62,
   "metadata": {},
   "outputs": [
    {
     "data": {
      "text/html": [
       "<table border=\"1\" class=\"dataframe\">\n",
       "    <thead>\n",
       "        <tr>\n",
       "            <th>SEX</th> <th>AGE</th> <th>2010</th> <th>2014</th> <th>change</th>\n",
       "        </tr>\n",
       "    </thead>\n",
       "    <tbody>\n",
       "        <tr>\n",
       "            <td>0   </td> <td>0   </td> <td>3,951,330</td> <td>3,948,350</td> <td>-2980  </td>\n",
       "        </tr>\n",
       "        <tr>\n",
       "            <td>0   </td> <td>1   </td> <td>3,957,888</td> <td>3,962,123</td> <td>4235   </td>\n",
       "        </tr>\n",
       "        <tr>\n",
       "            <td>0   </td> <td>2   </td> <td>4,090,862</td> <td>3,957,772</td> <td>-133090</td>\n",
       "        </tr>\n",
       "        <tr>\n",
       "            <td>0   </td> <td>3   </td> <td>4,111,920</td> <td>4,005,190</td> <td>-106730</td>\n",
       "        </tr>\n",
       "        <tr>\n",
       "            <td>0   </td> <td>4   </td> <td>4,077,552</td> <td>4,003,448</td> <td>-74104 </td>\n",
       "        </tr>\n",
       "        <tr>\n",
       "            <td>0   </td> <td>5   </td> <td>4,064,653</td> <td>4,004,858</td> <td>-59795 </td>\n",
       "        </tr>\n",
       "        <tr>\n",
       "            <td>0   </td> <td>6   </td> <td>4,073,013</td> <td>4,134,352</td> <td>61339  </td>\n",
       "        </tr>\n",
       "        <tr>\n",
       "            <td>0   </td> <td>7   </td> <td>4,043,047</td> <td>4,154,000</td> <td>110953 </td>\n",
       "        </tr>\n",
       "        <tr>\n",
       "            <td>0   </td> <td>8   </td> <td>4,025,604</td> <td>4,119,524</td> <td>93920  </td>\n",
       "        </tr>\n",
       "        <tr>\n",
       "            <td>0   </td> <td>9   </td> <td>4,125,415</td> <td>4,106,832</td> <td>-18583 </td>\n",
       "        </tr>\n",
       "    </tbody>\n",
       "</table>\n",
       "<p>... (296 rows omitted)</p>"
      ],
      "text/plain": [
       "SEX  | AGE  | 2010      | 2014      | change\n",
       "0    | 0    | 3,951,330 | 3,948,350 | -2980\n",
       "0    | 1    | 3,957,888 | 3,962,123 | 4235\n",
       "0    | 2    | 4,090,862 | 3,957,772 | -133090\n",
       "0    | 3    | 4,111,920 | 4,005,190 | -106730\n",
       "0    | 4    | 4,077,552 | 4,003,448 | -74104\n",
       "0    | 5    | 4,064,653 | 4,004,858 | -59795\n",
       "0    | 6    | 4,073,013 | 4,134,352 | 61339\n",
       "0    | 7    | 4,043,047 | 4,154,000 | 110953\n",
       "0    | 8    | 4,025,604 | 4,119,524 | 93920\n",
       "0    | 9    | 4,125,415 | 4,106,832 | -18583\n",
       "... (296 rows omitted)"
      ]
     },
     "execution_count": 62,
     "metadata": {},
     "output_type": "execute_result"
    }
   ],
   "source": [
    "partial_census_change.set_format(\"2014\", NumberFormatter)"
   ]
  },
  {
   "cell_type": "code",
   "execution_count": 63,
   "metadata": {},
   "outputs": [
    {
     "data": {
      "text/html": [
       "<table border=\"1\" class=\"dataframe\">\n",
       "    <thead>\n",
       "        <tr>\n",
       "            <th>SEX</th> <th>AGE</th> <th>2010</th> <th>2014</th> <th>change</th>\n",
       "        </tr>\n",
       "    </thead>\n",
       "    <tbody>\n",
       "        <tr>\n",
       "            <td>0   </td> <td>0   </td> <td>3,951,330</td> <td>394835000.00%</td> <td>-2980  </td>\n",
       "        </tr>\n",
       "        <tr>\n",
       "            <td>0   </td> <td>1   </td> <td>3,957,888</td> <td>396212300.00%</td> <td>4235   </td>\n",
       "        </tr>\n",
       "        <tr>\n",
       "            <td>0   </td> <td>2   </td> <td>4,090,862</td> <td>395777200.00%</td> <td>-133090</td>\n",
       "        </tr>\n",
       "        <tr>\n",
       "            <td>0   </td> <td>3   </td> <td>4,111,920</td> <td>400519000.00%</td> <td>-106730</td>\n",
       "        </tr>\n",
       "        <tr>\n",
       "            <td>0   </td> <td>4   </td> <td>4,077,552</td> <td>400344800.00%</td> <td>-74104 </td>\n",
       "        </tr>\n",
       "        <tr>\n",
       "            <td>0   </td> <td>5   </td> <td>4,064,653</td> <td>400485800.00%</td> <td>-59795 </td>\n",
       "        </tr>\n",
       "        <tr>\n",
       "            <td>0   </td> <td>6   </td> <td>4,073,013</td> <td>413435200.00%</td> <td>61339  </td>\n",
       "        </tr>\n",
       "        <tr>\n",
       "            <td>0   </td> <td>7   </td> <td>4,043,047</td> <td>415400000.00%</td> <td>110953 </td>\n",
       "        </tr>\n",
       "        <tr>\n",
       "            <td>0   </td> <td>8   </td> <td>4,025,604</td> <td>411952400.00%</td> <td>93920  </td>\n",
       "        </tr>\n",
       "        <tr>\n",
       "            <td>0   </td> <td>9   </td> <td>4,125,415</td> <td>410683200.00%</td> <td>-18583 </td>\n",
       "        </tr>\n",
       "    </tbody>\n",
       "</table>\n",
       "<p>... (296 rows omitted)</p>"
      ],
      "text/plain": [
       "SEX  | AGE  | 2010      | 2014          | change\n",
       "0    | 0    | 3,951,330 | 394835000.00% | -2980\n",
       "0    | 1    | 3,957,888 | 396212300.00% | 4235\n",
       "0    | 2    | 4,090,862 | 395777200.00% | -133090\n",
       "0    | 3    | 4,111,920 | 400519000.00% | -106730\n",
       "0    | 4    | 4,077,552 | 400344800.00% | -74104\n",
       "0    | 5    | 4,064,653 | 400485800.00% | -59795\n",
       "0    | 6    | 4,073,013 | 413435200.00% | 61339\n",
       "0    | 7    | 4,043,047 | 415400000.00% | 110953\n",
       "0    | 8    | 4,025,604 | 411952400.00% | 93920\n",
       "0    | 9    | 4,125,415 | 410683200.00% | -18583\n",
       "... (296 rows omitted)"
      ]
     },
     "execution_count": 63,
     "metadata": {},
     "output_type": "execute_result"
    }
   ],
   "source": [
    "partial_census_change.set_format(\"2014\", PercentFormatter)"
   ]
  },
  {
   "cell_type": "code",
   "execution_count": 64,
   "metadata": {},
   "outputs": [
    {
     "data": {
      "text/html": [
       "<table border=\"1\" class=\"dataframe\">\n",
       "    <thead>\n",
       "        <tr>\n",
       "            <th>SEX</th> <th>AGE</th> <th>2010</th> <th>2014</th> <th>change</th>\n",
       "        </tr>\n",
       "    </thead>\n",
       "    <tbody>\n",
       "        <tr>\n",
       "            <td>0   </td> <td>0   </td> <td>3,951,330</td> <td>3,948,350</td> <td>-2980  </td>\n",
       "        </tr>\n",
       "        <tr>\n",
       "            <td>0   </td> <td>1   </td> <td>3,957,888</td> <td>3,962,123</td> <td>4235   </td>\n",
       "        </tr>\n",
       "        <tr>\n",
       "            <td>0   </td> <td>2   </td> <td>4,090,862</td> <td>3,957,772</td> <td>-133090</td>\n",
       "        </tr>\n",
       "        <tr>\n",
       "            <td>0   </td> <td>3   </td> <td>4,111,920</td> <td>4,005,190</td> <td>-106730</td>\n",
       "        </tr>\n",
       "        <tr>\n",
       "            <td>0   </td> <td>4   </td> <td>4,077,552</td> <td>4,003,448</td> <td>-74104 </td>\n",
       "        </tr>\n",
       "        <tr>\n",
       "            <td>0   </td> <td>5   </td> <td>4,064,653</td> <td>4,004,858</td> <td>-59795 </td>\n",
       "        </tr>\n",
       "        <tr>\n",
       "            <td>0   </td> <td>6   </td> <td>4,073,013</td> <td>4,134,352</td> <td>61339  </td>\n",
       "        </tr>\n",
       "        <tr>\n",
       "            <td>0   </td> <td>7   </td> <td>4,043,047</td> <td>4,154,000</td> <td>110953 </td>\n",
       "        </tr>\n",
       "        <tr>\n",
       "            <td>0   </td> <td>8   </td> <td>4,025,604</td> <td>4,119,524</td> <td>93920  </td>\n",
       "        </tr>\n",
       "        <tr>\n",
       "            <td>0   </td> <td>9   </td> <td>4,125,415</td> <td>4,106,832</td> <td>-18583 </td>\n",
       "        </tr>\n",
       "    </tbody>\n",
       "</table>\n",
       "<p>... (296 rows omitted)</p>"
      ],
      "text/plain": [
       "SEX  | AGE  | 2010      | 2014      | change\n",
       "0    | 0    | 3,951,330 | 3,948,350 | -2980\n",
       "0    | 1    | 3,957,888 | 3,962,123 | 4235\n",
       "0    | 2    | 4,090,862 | 3,957,772 | -133090\n",
       "0    | 3    | 4,111,920 | 4,005,190 | -106730\n",
       "0    | 4    | 4,077,552 | 4,003,448 | -74104\n",
       "0    | 5    | 4,064,653 | 4,004,858 | -59795\n",
       "0    | 6    | 4,073,013 | 4,134,352 | 61339\n",
       "0    | 7    | 4,043,047 | 4,154,000 | 110953\n",
       "0    | 8    | 4,025,604 | 4,119,524 | 93920\n",
       "0    | 9    | 4,125,415 | 4,106,832 | -18583\n",
       "... (296 rows omitted)"
      ]
     },
     "execution_count": 64,
     "metadata": {},
     "output_type": "execute_result"
    }
   ],
   "source": [
    "partial_census_change.set_format(\"2014\", NumberFormatter)"
   ]
  },
  {
   "cell_type": "markdown",
   "metadata": {},
   "source": [
    "### Interpretting these changes\n",
    "\n",
    "**Are these changes meaningful?**"
   ]
  },
  {
   "cell_type": "code",
   "execution_count": 65,
   "metadata": {},
   "outputs": [
    {
     "data": {
      "text/plain": [
       "100.0"
      ]
     },
     "execution_count": 65,
     "metadata": {},
     "output_type": "execute_result"
    }
   ],
   "source": [
    " # Convert changes to percentages\n",
    "    # a = 5\n",
    "    # b = 10\n",
    "    # change = second - first\n",
    "    # change/initial \n",
    "#partial_census_change_clean \n",
    "a = 5\n",
    "b= 10\n",
    "(b - a) / a * 100"
   ]
  },
  {
   "cell_type": "code",
   "execution_count": 66,
   "metadata": {},
   "outputs": [
    {
     "data": {
      "text/plain": [
       "100.0"
      ]
     },
     "execution_count": 66,
     "metadata": {},
     "output_type": "execute_result"
    }
   ],
   "source": [
    "a = 2\n",
    "b= 4\n",
    "(b - a) / a * 100"
   ]
  },
  {
   "cell_type": "code",
   "execution_count": null,
   "metadata": {},
   "outputs": [],
   "source": []
  },
  {
   "cell_type": "markdown",
   "metadata": {},
   "source": [
    "#### Let's add the eprcent change to the table"
   ]
  },
  {
   "cell_type": "code",
   "execution_count": 69,
   "metadata": {},
   "outputs": [],
   "source": [
    "# change\n",
    "change = partial_census_change.column(\"change\")"
   ]
  },
  {
   "cell_type": "code",
   "execution_count": 71,
   "metadata": {},
   "outputs": [],
   "source": [
    "initial = partial_census_change.column(\"2010\")"
   ]
  },
  {
   "cell_type": "code",
   "execution_count": 73,
   "metadata": {},
   "outputs": [],
   "source": [
    "percent_change = change / initial"
   ]
  },
  {
   "cell_type": "code",
   "execution_count": 74,
   "metadata": {},
   "outputs": [],
   "source": [
    "tbl_with_percent_change = partial_census_change.with_column(\"percent change\", percent_change)"
   ]
  },
  {
   "cell_type": "code",
   "execution_count": 76,
   "metadata": {},
   "outputs": [
    {
     "data": {
      "text/html": [
       "<table border=\"1\" class=\"dataframe\">\n",
       "    <thead>\n",
       "        <tr>\n",
       "            <th>SEX</th> <th>AGE</th> <th>2010</th> <th>2014</th> <th>change</th> <th>percent change</th>\n",
       "        </tr>\n",
       "    </thead>\n",
       "    <tbody>\n",
       "        <tr>\n",
       "            <td>0   </td> <td>0   </td> <td>3,951,330</td> <td>3,948,350</td> <td>-2980  </td> <td>-0.08%        </td>\n",
       "        </tr>\n",
       "        <tr>\n",
       "            <td>0   </td> <td>1   </td> <td>3,957,888</td> <td>3,962,123</td> <td>4235   </td> <td>0.11%         </td>\n",
       "        </tr>\n",
       "        <tr>\n",
       "            <td>0   </td> <td>2   </td> <td>4,090,862</td> <td>3,957,772</td> <td>-133090</td> <td>-3.25%        </td>\n",
       "        </tr>\n",
       "        <tr>\n",
       "            <td>0   </td> <td>3   </td> <td>4,111,920</td> <td>4,005,190</td> <td>-106730</td> <td>-2.60%        </td>\n",
       "        </tr>\n",
       "        <tr>\n",
       "            <td>0   </td> <td>4   </td> <td>4,077,552</td> <td>4,003,448</td> <td>-74104 </td> <td>-1.82%        </td>\n",
       "        </tr>\n",
       "        <tr>\n",
       "            <td>0   </td> <td>5   </td> <td>4,064,653</td> <td>4,004,858</td> <td>-59795 </td> <td>-1.47%        </td>\n",
       "        </tr>\n",
       "        <tr>\n",
       "            <td>0   </td> <td>6   </td> <td>4,073,013</td> <td>4,134,352</td> <td>61339  </td> <td>1.51%         </td>\n",
       "        </tr>\n",
       "        <tr>\n",
       "            <td>0   </td> <td>7   </td> <td>4,043,047</td> <td>4,154,000</td> <td>110953 </td> <td>2.74%         </td>\n",
       "        </tr>\n",
       "        <tr>\n",
       "            <td>0   </td> <td>8   </td> <td>4,025,604</td> <td>4,119,524</td> <td>93920  </td> <td>2.33%         </td>\n",
       "        </tr>\n",
       "        <tr>\n",
       "            <td>0   </td> <td>9   </td> <td>4,125,415</td> <td>4,106,832</td> <td>-18583 </td> <td>-0.45%        </td>\n",
       "        </tr>\n",
       "    </tbody>\n",
       "</table>\n",
       "<p>... (296 rows omitted)</p>"
      ],
      "text/plain": [
       "SEX  | AGE  | 2010      | 2014      | change  | percent change\n",
       "0    | 0    | 3,951,330 | 3,948,350 | -2980   | -0.08%\n",
       "0    | 1    | 3,957,888 | 3,962,123 | 4235    | 0.11%\n",
       "0    | 2    | 4,090,862 | 3,957,772 | -133090 | -3.25%\n",
       "0    | 3    | 4,111,920 | 4,005,190 | -106730 | -2.60%\n",
       "0    | 4    | 4,077,552 | 4,003,448 | -74104  | -1.82%\n",
       "0    | 5    | 4,064,653 | 4,004,858 | -59795  | -1.47%\n",
       "0    | 6    | 4,073,013 | 4,134,352 | 61339   | 1.51%\n",
       "0    | 7    | 4,043,047 | 4,154,000 | 110953  | 2.74%\n",
       "0    | 8    | 4,025,604 | 4,119,524 | 93920   | 2.33%\n",
       "0    | 9    | 4,125,415 | 4,106,832 | -18583  | -0.45%\n",
       "... (296 rows omitted)"
      ]
     },
     "execution_count": 76,
     "metadata": {},
     "output_type": "execute_result"
    }
   ],
   "source": [
    "tbl_with_percent_change.set_format(\"percent change\", PercentFormatter)"
   ]
  },
  {
   "cell_type": "code",
   "execution_count": 78,
   "metadata": {},
   "outputs": [
    {
     "data": {
      "text/html": [
       "<table border=\"1\" class=\"dataframe\">\n",
       "    <thead>\n",
       "        <tr>\n",
       "            <th>SEX</th> <th>AGE</th> <th>2010</th> <th>2014</th> <th>change</th>\n",
       "        </tr>\n",
       "    </thead>\n",
       "    <tbody>\n",
       "        <tr>\n",
       "            <td>0   </td> <td>0   </td> <td>3,951,330</td> <td>3,948,350</td> <td>-2980  </td>\n",
       "        </tr>\n",
       "        <tr>\n",
       "            <td>0   </td> <td>1   </td> <td>3,957,888</td> <td>3,962,123</td> <td>4235   </td>\n",
       "        </tr>\n",
       "        <tr>\n",
       "            <td>0   </td> <td>2   </td> <td>4,090,862</td> <td>3,957,772</td> <td>-133090</td>\n",
       "        </tr>\n",
       "        <tr>\n",
       "            <td>0   </td> <td>3   </td> <td>4,111,920</td> <td>4,005,190</td> <td>-106730</td>\n",
       "        </tr>\n",
       "        <tr>\n",
       "            <td>0   </td> <td>4   </td> <td>4,077,552</td> <td>4,003,448</td> <td>-74104 </td>\n",
       "        </tr>\n",
       "        <tr>\n",
       "            <td>0   </td> <td>5   </td> <td>4,064,653</td> <td>4,004,858</td> <td>-59795 </td>\n",
       "        </tr>\n",
       "        <tr>\n",
       "            <td>0   </td> <td>6   </td> <td>4,073,013</td> <td>4,134,352</td> <td>61339  </td>\n",
       "        </tr>\n",
       "        <tr>\n",
       "            <td>0   </td> <td>7   </td> <td>4,043,047</td> <td>4,154,000</td> <td>110953 </td>\n",
       "        </tr>\n",
       "        <tr>\n",
       "            <td>0   </td> <td>8   </td> <td>4,025,604</td> <td>4,119,524</td> <td>93920  </td>\n",
       "        </tr>\n",
       "        <tr>\n",
       "            <td>0   </td> <td>9   </td> <td>4,125,415</td> <td>4,106,832</td> <td>-18583 </td>\n",
       "        </tr>\n",
       "    </tbody>\n",
       "</table>\n",
       "<p>... (296 rows omitted)</p>"
      ],
      "text/plain": [
       "SEX  | AGE  | 2010      | 2014      | change\n",
       "0    | 0    | 3,951,330 | 3,948,350 | -2980\n",
       "0    | 1    | 3,957,888 | 3,962,123 | 4235\n",
       "0    | 2    | 4,090,862 | 3,957,772 | -133090\n",
       "0    | 3    | 4,111,920 | 4,005,190 | -106730\n",
       "0    | 4    | 4,077,552 | 4,003,448 | -74104\n",
       "0    | 5    | 4,064,653 | 4,004,858 | -59795\n",
       "0    | 6    | 4,073,013 | 4,134,352 | 61339\n",
       "0    | 7    | 4,043,047 | 4,154,000 | 110953\n",
       "0    | 8    | 4,025,604 | 4,119,524 | 93920\n",
       "0    | 9    | 4,125,415 | 4,106,832 | -18583\n",
       "... (296 rows omitted)"
      ]
     },
     "execution_count": 78,
     "metadata": {},
     "output_type": "execute_result"
    }
   ],
   "source": [
    "partial_census_change"
   ]
  },
  {
   "cell_type": "markdown",
   "metadata": {},
   "source": [
    "# Analyzing the results/table"
   ]
  },
  {
   "cell_type": "code",
   "execution_count": null,
   "metadata": {},
   "outputs": [],
   "source": []
  },
  {
   "cell_type": "code",
   "execution_count": null,
   "metadata": {},
   "outputs": [],
   "source": [
    "# find the regiion with the largest percentage change\n",
    "# ignoring gender"
   ]
  },
  {
   "cell_type": "code",
   "execution_count": 80,
   "metadata": {},
   "outputs": [
    {
     "data": {
      "text/html": [
       "<table border=\"1\" class=\"dataframe\">\n",
       "    <thead>\n",
       "        <tr>\n",
       "            <th>SEX</th> <th>AGE</th> <th>2010</th> <th>2014</th> <th>change</th> <th>percent change</th>\n",
       "        </tr>\n",
       "    </thead>\n",
       "    <tbody>\n",
       "        <tr>\n",
       "            <td>0   </td> <td>40  </td> <td>4,387,483</td> <td>3,856,888</td> <td>-530595</td> <td>-12.09%       </td>\n",
       "        </tr>\n",
       "        <tr>\n",
       "            <td>0   </td> <td>46  </td> <td>4,529,712</td> <td>4,076,237</td> <td>-453475</td> <td>-10.01%       </td>\n",
       "        </tr>\n",
       "        <tr>\n",
       "            <td>0   </td> <td>47  </td> <td>4,535,464</td> <td>4,082,150</td> <td>-453314</td> <td>-9.99%        </td>\n",
       "        </tr>\n",
       "        <tr>\n",
       "            <td>0   </td> <td>48  </td> <td>4,534,669</td> <td>4,158,996</td> <td>-375673</td> <td>-8.28%        </td>\n",
       "        </tr>\n",
       "        <tr>\n",
       "            <td>0   </td> <td>39  </td> <td>4,324,460</td> <td>3,979,827</td> <td>-344633</td> <td>-7.97%        </td>\n",
       "        </tr>\n",
       "        <tr>\n",
       "            <td>0   </td> <td>45  </td> <td>4,438,551</td> <td>4,161,450</td> <td>-277101</td> <td>-6.24%        </td>\n",
       "        </tr>\n",
       "        <tr>\n",
       "            <td>0   </td> <td>18  </td> <td>4,491,005</td> <td>4,225,590</td> <td>-265415</td> <td>-5.91%        </td>\n",
       "        </tr>\n",
       "        <tr>\n",
       "            <td>0   </td> <td>41  </td> <td>4,163,470</td> <td>3,917,413</td> <td>-246057</td> <td>-5.91%        </td>\n",
       "        </tr>\n",
       "        <tr>\n",
       "            <td>0   </td> <td>38  </td> <td>4,080,229</td> <td>3,859,181</td> <td>-221048</td> <td>-5.42%        </td>\n",
       "        </tr>\n",
       "        <tr>\n",
       "            <td>0   </td> <td>19  </td> <td>4,571,385</td> <td>4,326,394</td> <td>-244991</td> <td>-5.36%        </td>\n",
       "        </tr>\n",
       "    </tbody>\n",
       "</table>\n",
       "<p>... (92 rows omitted)</p>"
      ],
      "text/plain": [
       "SEX  | AGE  | 2010      | 2014      | change  | percent change\n",
       "0    | 40   | 4,387,483 | 3,856,888 | -530595 | -12.09%\n",
       "0    | 46   | 4,529,712 | 4,076,237 | -453475 | -10.01%\n",
       "0    | 47   | 4,535,464 | 4,082,150 | -453314 | -9.99%\n",
       "0    | 48   | 4,534,669 | 4,158,996 | -375673 | -8.28%\n",
       "0    | 39   | 4,324,460 | 3,979,827 | -344633 | -7.97%\n",
       "0    | 45   | 4,438,551 | 4,161,450 | -277101 | -6.24%\n",
       "0    | 18   | 4,491,005 | 4,225,590 | -265415 | -5.91%\n",
       "0    | 41   | 4,163,470 | 3,917,413 | -246057 | -5.91%\n",
       "0    | 38   | 4,080,229 | 3,859,181 | -221048 | -5.42%\n",
       "0    | 19   | 4,571,385 | 4,326,394 | -244991 | -5.36%\n",
       "... (92 rows omitted)"
      ]
     },
     "execution_count": 80,
     "metadata": {},
     "output_type": "execute_result"
    }
   ],
   "source": [
    "tbl_with_percent_change.where(\"SEX\", 0).sort(\"percent change\")"
   ]
  },
  {
   "cell_type": "code",
   "execution_count": 81,
   "metadata": {},
   "outputs": [
    {
     "data": {
      "text/html": [
       "<table border=\"1\" class=\"dataframe\">\n",
       "    <thead>\n",
       "        <tr>\n",
       "            <th>SEX</th> <th>AGE</th> <th>2010</th> <th>2014</th> <th>change</th> <th>percent change</th>\n",
       "        </tr>\n",
       "    </thead>\n",
       "    <tbody>\n",
       "        <tr>\n",
       "            <td>0   </td> <td>100 </td> <td>54,409   </td> <td>72,197   </td> <td>17788 </td> <td>32.69%        </td>\n",
       "        </tr>\n",
       "        <tr>\n",
       "            <td>0   </td> <td>93  </td> <td>219,063  </td> <td>286,333  </td> <td>67270 </td> <td>30.71%        </td>\n",
       "        </tr>\n",
       "        <tr>\n",
       "            <td>0   </td> <td>99  </td> <td>32,178   </td> <td>41,828   </td> <td>9650  </td> <td>29.99%        </td>\n",
       "        </tr>\n",
       "        <tr>\n",
       "            <td>0   </td> <td>67  </td> <td>2,693,709</td> <td>3,485,502</td> <td>791793</td> <td>29.39%        </td>\n",
       "        </tr>\n",
       "        <tr>\n",
       "            <td>0   </td> <td>71  </td> <td>1,953,614</td> <td>2,519,748</td> <td>566134</td> <td>28.98%        </td>\n",
       "        </tr>\n",
       "        <tr>\n",
       "            <td>0   </td> <td>64  </td> <td>2,706,063</td> <td>3,488,136</td> <td>782073</td> <td>28.90%        </td>\n",
       "        </tr>\n",
       "        <tr>\n",
       "            <td>0   </td> <td>94  </td> <td>170,775  </td> <td>218,655  </td> <td>47880 </td> <td>28.04%        </td>\n",
       "        </tr>\n",
       "        <tr>\n",
       "            <td>0   </td> <td>98  </td> <td>47,037   </td> <td>60,185   </td> <td>13148 </td> <td>27.95%        </td>\n",
       "        </tr>\n",
       "        <tr>\n",
       "            <td>0   </td> <td>66  </td> <td>2,621,346</td> <td>3,347,776</td> <td>726430</td> <td>27.71%        </td>\n",
       "        </tr>\n",
       "        <tr>\n",
       "            <td>0   </td> <td>65  </td> <td>2,678,532</td> <td>3,384,449</td> <td>705917</td> <td>26.35%        </td>\n",
       "        </tr>\n",
       "    </tbody>\n",
       "</table>\n",
       "<p>... (92 rows omitted)</p>"
      ],
      "text/plain": [
       "SEX  | AGE  | 2010      | 2014      | change | percent change\n",
       "0    | 100  | 54,409    | 72,197    | 17788  | 32.69%\n",
       "0    | 93   | 219,063   | 286,333   | 67270  | 30.71%\n",
       "0    | 99   | 32,178    | 41,828    | 9650   | 29.99%\n",
       "0    | 67   | 2,693,709 | 3,485,502 | 791793 | 29.39%\n",
       "0    | 71   | 1,953,614 | 2,519,748 | 566134 | 28.98%\n",
       "0    | 64   | 2,706,063 | 3,488,136 | 782073 | 28.90%\n",
       "0    | 94   | 170,775   | 218,655   | 47880  | 28.04%\n",
       "0    | 98   | 47,037    | 60,185    | 13148  | 27.95%\n",
       "0    | 66   | 2,621,346 | 3,347,776 | 726430 | 27.71%\n",
       "0    | 65   | 2,678,532 | 3,384,449 | 705917 | 26.35%\n",
       "... (92 rows omitted)"
      ]
     },
     "execution_count": 81,
     "metadata": {},
     "output_type": "execute_result"
    }
   ],
   "source": [
    "tbl_with_percent_change.where(\"SEX\", 0).sort(\"percent change\", descending=True)"
   ]
  },
  {
   "cell_type": "code",
   "execution_count": 82,
   "metadata": {},
   "outputs": [
    {
     "data": {
      "text/html": [
       "<table border=\"1\" class=\"dataframe\">\n",
       "    <thead>\n",
       "        <tr>\n",
       "            <th>SEX</th> <th>AGE</th> <th>2010</th> <th>2014</th> <th>change</th> <th>percent change</th>\n",
       "        </tr>\n",
       "    </thead>\n",
       "    <tbody>\n",
       "        <tr>\n",
       "            <td>0   </td> <td>999 </td> <td>309,347,057</td> <td>318,857,056</td> <td>9509999</td> <td>3.07%         </td>\n",
       "        </tr>\n",
       "        <tr>\n",
       "            <td>0   </td> <td>67  </td> <td>2,693,709  </td> <td>3,485,502  </td> <td>791793 </td> <td>29.39%        </td>\n",
       "        </tr>\n",
       "        <tr>\n",
       "            <td>0   </td> <td>64  </td> <td>2,706,063  </td> <td>3,488,136  </td> <td>782073 </td> <td>28.90%        </td>\n",
       "        </tr>\n",
       "        <tr>\n",
       "            <td>0   </td> <td>66  </td> <td>2,621,346  </td> <td>3,347,776  </td> <td>726430 </td> <td>27.71%        </td>\n",
       "        </tr>\n",
       "        <tr>\n",
       "            <td>0   </td> <td>65  </td> <td>2,678,532  </td> <td>3,384,449  </td> <td>705917 </td> <td>26.35%        </td>\n",
       "        </tr>\n",
       "        <tr>\n",
       "            <td>0   </td> <td>71  </td> <td>1,953,614  </td> <td>2,519,748  </td> <td>566134 </td> <td>28.98%        </td>\n",
       "        </tr>\n",
       "        <tr>\n",
       "            <td>0   </td> <td>34  </td> <td>3,822,188  </td> <td>4,362,895  </td> <td>540707 </td> <td>14.15%        </td>\n",
       "        </tr>\n",
       "        <tr>\n",
       "            <td>0   </td> <td>23  </td> <td>4,217,221  </td> <td>4,698,584  </td> <td>481363 </td> <td>11.41%        </td>\n",
       "        </tr>\n",
       "        <tr>\n",
       "            <td>0   </td> <td>59  </td> <td>3,694,276  </td> <td>4,155,417  </td> <td>461141 </td> <td>12.48%        </td>\n",
       "        </tr>\n",
       "        <tr>\n",
       "            <td>0   </td> <td>24  </td> <td>4,243,589  </td> <td>4,692,635  </td> <td>449046 </td> <td>10.58%        </td>\n",
       "        </tr>\n",
       "    </tbody>\n",
       "</table>\n",
       "<p>... (92 rows omitted)</p>"
      ],
      "text/plain": [
       "SEX  | AGE  | 2010        | 2014        | change  | percent change\n",
       "0    | 999  | 309,347,057 | 318,857,056 | 9509999 | 3.07%\n",
       "0    | 67   | 2,693,709   | 3,485,502   | 791793  | 29.39%\n",
       "0    | 64   | 2,706,063   | 3,488,136   | 782073  | 28.90%\n",
       "0    | 66   | 2,621,346   | 3,347,776   | 726430  | 27.71%\n",
       "0    | 65   | 2,678,532   | 3,384,449   | 705917  | 26.35%\n",
       "0    | 71   | 1,953,614   | 2,519,748   | 566134  | 28.98%\n",
       "0    | 34   | 3,822,188   | 4,362,895   | 540707  | 14.15%\n",
       "0    | 23   | 4,217,221   | 4,698,584   | 481363  | 11.41%\n",
       "0    | 59   | 3,694,276   | 4,155,417   | 461141  | 12.48%\n",
       "0    | 24   | 4,243,589   | 4,692,635   | 449046  | 10.58%\n",
       "... (92 rows omitted)"
      ]
     },
     "execution_count": 82,
     "metadata": {},
     "output_type": "execute_result"
    }
   ],
   "source": [
    "tbl_with_percent_change.where(\"SEX\", 0).sort(\"change\", descending=True)"
   ]
  },
  {
   "cell_type": "code",
   "execution_count": null,
   "metadata": {},
   "outputs": [],
   "source": [
    "# add anual growth based on total growth"
   ]
  },
  {
   "cell_type": "markdown",
   "metadata": {},
   "source": [
    "(back to slides)\n",
    "## Line Plots ##"
   ]
  },
  {
   "cell_type": "code",
   "execution_count": 83,
   "metadata": {},
   "outputs": [
    {
     "data": {
      "text/html": [
       "<table border=\"1\" class=\"dataframe\">\n",
       "    <thead>\n",
       "        <tr>\n",
       "            <th>SEX</th> <th>AGE</th> <th>2010</th> <th>2014</th>\n",
       "        </tr>\n",
       "    </thead>\n",
       "    <tbody>\n",
       "        <tr>\n",
       "            <td>0   </td> <td>0   </td> <td>3951330</td> <td>3948350</td>\n",
       "        </tr>\n",
       "        <tr>\n",
       "            <td>0   </td> <td>1   </td> <td>3957888</td> <td>3962123</td>\n",
       "        </tr>\n",
       "        <tr>\n",
       "            <td>0   </td> <td>2   </td> <td>4090862</td> <td>3957772</td>\n",
       "        </tr>\n",
       "        <tr>\n",
       "            <td>0   </td> <td>3   </td> <td>4111920</td> <td>4005190</td>\n",
       "        </tr>\n",
       "        <tr>\n",
       "            <td>0   </td> <td>4   </td> <td>4077552</td> <td>4003448</td>\n",
       "        </tr>\n",
       "        <tr>\n",
       "            <td>0   </td> <td>5   </td> <td>4064653</td> <td>4004858</td>\n",
       "        </tr>\n",
       "        <tr>\n",
       "            <td>0   </td> <td>6   </td> <td>4073013</td> <td>4134352</td>\n",
       "        </tr>\n",
       "        <tr>\n",
       "            <td>0   </td> <td>7   </td> <td>4043047</td> <td>4154000</td>\n",
       "        </tr>\n",
       "        <tr>\n",
       "            <td>0   </td> <td>8   </td> <td>4025604</td> <td>4119524</td>\n",
       "        </tr>\n",
       "        <tr>\n",
       "            <td>0   </td> <td>9   </td> <td>4125415</td> <td>4106832</td>\n",
       "        </tr>\n",
       "    </tbody>\n",
       "</table>\n",
       "<p>... (296 rows omitted)</p>"
      ],
      "text/plain": [
       "SEX  | AGE  | 2010    | 2014\n",
       "0    | 0    | 3951330 | 3948350\n",
       "0    | 1    | 3957888 | 3962123\n",
       "0    | 2    | 4090862 | 3957772\n",
       "0    | 3    | 4111920 | 4005190\n",
       "0    | 4    | 4077552 | 4003448\n",
       "0    | 5    | 4064653 | 4004858\n",
       "0    | 6    | 4073013 | 4134352\n",
       "0    | 7    | 4043047 | 4154000\n",
       "0    | 8    | 4025604 | 4119524\n",
       "0    | 9    | 4125415 | 4106832\n",
       "... (296 rows omitted)"
      ]
     },
     "execution_count": 83,
     "metadata": {},
     "output_type": "execute_result"
    }
   ],
   "source": [
    "simple"
   ]
  },
  {
   "cell_type": "code",
   "execution_count": 85,
   "metadata": {},
   "outputs": [
    {
     "data": {
      "text/plain": [
       "303"
      ]
     },
     "execution_count": 85,
     "metadata": {},
     "output_type": "execute_result"
    }
   ],
   "source": [
    "# Remove the age totals\n",
    "\n",
    "no_999 = simple.where(\"AGE\", are.below(101)) #\n",
    "no_999 = simple.where(\"AGE\", are.not_equal_to(999))\n",
    "no_999.num_rows"
   ]
  },
  {
   "cell_type": "code",
   "execution_count": null,
   "metadata": {},
   "outputs": [],
   "source": [
    "# Look at the largest age and include everything below it"
   ]
  },
  {
   "cell_type": "code",
   "execution_count": 86,
   "metadata": {},
   "outputs": [
    {
     "data": {
      "text/html": [
       "<table border=\"1\" class=\"dataframe\">\n",
       "    <thead>\n",
       "        <tr>\n",
       "            <th>AGE</th> <th>2010</th> <th>2014</th>\n",
       "        </tr>\n",
       "    </thead>\n",
       "    <tbody>\n",
       "        <tr>\n",
       "            <td>0   </td> <td>3951330</td> <td>3948350</td>\n",
       "        </tr>\n",
       "        <tr>\n",
       "            <td>1   </td> <td>3957888</td> <td>3962123</td>\n",
       "        </tr>\n",
       "        <tr>\n",
       "            <td>2   </td> <td>4090862</td> <td>3957772</td>\n",
       "        </tr>\n",
       "        <tr>\n",
       "            <td>3   </td> <td>4111920</td> <td>4005190</td>\n",
       "        </tr>\n",
       "        <tr>\n",
       "            <td>4   </td> <td>4077552</td> <td>4003448</td>\n",
       "        </tr>\n",
       "        <tr>\n",
       "            <td>5   </td> <td>4064653</td> <td>4004858</td>\n",
       "        </tr>\n",
       "        <tr>\n",
       "            <td>6   </td> <td>4073013</td> <td>4134352</td>\n",
       "        </tr>\n",
       "        <tr>\n",
       "            <td>7   </td> <td>4043047</td> <td>4154000</td>\n",
       "        </tr>\n",
       "        <tr>\n",
       "            <td>8   </td> <td>4025604</td> <td>4119524</td>\n",
       "        </tr>\n",
       "        <tr>\n",
       "            <td>9   </td> <td>4125415</td> <td>4106832</td>\n",
       "        </tr>\n",
       "    </tbody>\n",
       "</table>\n",
       "<p>... (91 rows omitted)</p>"
      ],
      "text/plain": [
       "AGE  | 2010    | 2014\n",
       "0    | 3951330 | 3948350\n",
       "1    | 3957888 | 3962123\n",
       "2    | 4090862 | 3957772\n",
       "3    | 4111920 | 4005190\n",
       "4    | 4077552 | 4003448\n",
       "5    | 4064653 | 4004858\n",
       "6    | 4073013 | 4134352\n",
       "7    | 4043047 | 4154000\n",
       "8    | 4025604 | 4119524\n",
       "9    | 4125415 | 4106832\n",
       "... (91 rows omitted)"
      ]
     },
     "execution_count": 86,
     "metadata": {},
     "output_type": "execute_result"
    }
   ],
   "source": [
    "# Remove male and female (keep only combined)\n",
    "everyone = no_999.where('SEX', 0).drop('SEX')\n",
    "everyone"
   ]
  },
  {
   "cell_type": "code",
   "execution_count": 87,
   "metadata": {},
   "outputs": [
    {
     "data": {
      "image/png": "[encoded data removed]",
      "text/plain": [
       "<Figure size 432x432 with 1 Axes>"
      ]
     },
     "metadata": {},
     "output_type": "display_data"
    }
   ],
   "source": [
    "# Lets plot the number of ages during 2010\n",
    "# Make Age the X-axis and 2010 the y-axis\n",
    "everyone.plot('AGE', '2010')"
   ]
  },
  {
   "cell_type": "code",
   "execution_count": null,
   "metadata": {},
   "outputs": [],
   "source": [
    "# ^^ That plot should be labeled! Here are 3 ways to label it:"
   ]
  },
  {
   "cell_type": "code",
   "execution_count": 88,
   "metadata": {},
   "outputs": [
    {
     "data": {
      "image/png": "[encoded data removed]",
      "text/plain": [
       "<Figure size 432x432 with 1 Axes>"
      ]
     },
     "metadata": {},
     "output_type": "display_data"
    }
   ],
   "source": [
    "# add a python comment\n",
    "# US Population in 2010, x-axis is age, y-axis is the number of people with that age\n",
    "everyone.plot('AGE', '2010')"
   ]
  },
  {
   "cell_type": "code",
   "execution_count": 91,
   "metadata": {},
   "outputs": [
    {
     "name": "stdout",
     "output_type": "stream",
     "text": [
      "US Population in 2010\n",
      "x-axis is age, y-axis is the number of people with that age\n"
     ]
    },
    {
     "data": {
      "image/png": "[encoded data removed]",
      "text/plain": [
       "<Figure size 432x432 with 1 Axes>"
      ]
     },
     "metadata": {},
     "output_type": "display_data"
    }
   ],
   "source": [
    "# print out what the tables is\n",
    "print(\"US Population in 2010\")\n",
    "print(\"x-axis is age, y-axis is the number of people with that age\")\n",
    "everyone.plot('AGE', '2010')"
   ]
  },
  {
   "cell_type": "code",
   "execution_count": 92,
   "metadata": {},
   "outputs": [
    {
     "data": {
      "image/png": "[encoded data removed]",
      "text/plain": [
       "<Figure size 432x432 with 1 Axes>"
      ]
     },
     "metadata": {},
     "output_type": "display_data"
    }
   ],
   "source": [
    "# Add a title to plots\n",
    "everyone.plot('AGE', '2010')\n",
    "plots.title('US Population');    # <--- OPTIONAL; not needed for COMS1016"
   ]
  },
  {
   "cell_type": "code",
   "execution_count": 94,
   "metadata": {},
   "outputs": [
    {
     "data": {
      "text/html": [
       "<table border=\"1\" class=\"dataframe\">\n",
       "    <thead>\n",
       "        <tr>\n",
       "            <th>AGE</th> <th>2010</th> <th>2014</th>\n",
       "        </tr>\n",
       "    </thead>\n",
       "    <tbody>\n",
       "        <tr>\n",
       "            <td>0   </td> <td>3951330</td> <td>3948350</td>\n",
       "        </tr>\n",
       "        <tr>\n",
       "            <td>1   </td> <td>3957888</td> <td>3962123</td>\n",
       "        </tr>\n",
       "        <tr>\n",
       "            <td>2   </td> <td>4090862</td> <td>3957772</td>\n",
       "        </tr>\n",
       "        <tr>\n",
       "            <td>3   </td> <td>4111920</td> <td>4005190</td>\n",
       "        </tr>\n",
       "        <tr>\n",
       "            <td>4   </td> <td>4077552</td> <td>4003448</td>\n",
       "        </tr>\n",
       "        <tr>\n",
       "            <td>5   </td> <td>4064653</td> <td>4004858</td>\n",
       "        </tr>\n",
       "        <tr>\n",
       "            <td>6   </td> <td>4073013</td> <td>4134352</td>\n",
       "        </tr>\n",
       "        <tr>\n",
       "            <td>7   </td> <td>4043047</td> <td>4154000</td>\n",
       "        </tr>\n",
       "        <tr>\n",
       "            <td>8   </td> <td>4025604</td> <td>4119524</td>\n",
       "        </tr>\n",
       "        <tr>\n",
       "            <td>9   </td> <td>4125415</td> <td>4106832</td>\n",
       "        </tr>\n",
       "    </tbody>\n",
       "</table>\n",
       "<p>... (91 rows omitted)</p>"
      ],
      "text/plain": [
       "AGE  | 2010    | 2014\n",
       "0    | 3951330 | 3948350\n",
       "1    | 3957888 | 3962123\n",
       "2    | 4090862 | 3957772\n",
       "3    | 4111920 | 4005190\n",
       "4    | 4077552 | 4003448\n",
       "5    | 4064653 | 4004858\n",
       "6    | 4073013 | 4134352\n",
       "7    | 4043047 | 4154000\n",
       "8    | 4025604 | 4119524\n",
       "9    | 4125415 | 4106832\n",
       "... (91 rows omitted)"
      ]
     },
     "execution_count": 94,
     "metadata": {},
     "output_type": "execute_result"
    }
   ],
   "source": [
    "everyone"
   ]
  },
  {
   "cell_type": "code",
   "execution_count": 95,
   "metadata": {},
   "outputs": [
    {
     "data": {
      "image/png": "[encoded data removed]",
      "text/plain": [
       "<Figure size 432x432 with 1 Axes>"
      ]
     },
     "metadata": {},
     "output_type": "display_data"
    }
   ],
   "source": [
    "# Age distribution for two different years\n",
    "# hint just plot AGE\n",
    "everyone.plot('AGE')"
   ]
  },
  {
   "cell_type": "markdown",
   "metadata": {},
   "source": [
    "## Males and Females in 2014 ##\n"
   ]
  },
  {
   "cell_type": "code",
   "execution_count": 105,
   "metadata": {},
   "outputs": [],
   "source": [
    "# Let's compare male and female counts per age\n",
    "# no_999 \"SEX\" codes males as 1 and females as 2\n",
    "# Get rid of SEX column\n",
    "males = no_999.where(\"SEX\", 1).drop(\"SEX\")\n",
    "females = no_999.where(\"SEX\", 2).drop(\"SEX\")"
   ]
  },
  {
   "cell_type": "code",
   "execution_count": 106,
   "metadata": {},
   "outputs": [
    {
     "data": {
      "text/html": [
       "<table border=\"1\" class=\"dataframe\">\n",
       "    <thead>\n",
       "        <tr>\n",
       "            <th>AGE</th> <th>2010</th> <th>2014</th>\n",
       "        </tr>\n",
       "    </thead>\n",
       "    <tbody>\n",
       "        <tr>\n",
       "            <td>0   </td> <td>2018420</td> <td>2017857</td>\n",
       "        </tr>\n",
       "        <tr>\n",
       "            <td>1   </td> <td>2020332</td> <td>2023253</td>\n",
       "        </tr>\n",
       "        <tr>\n",
       "            <td>2   </td> <td>2088685</td> <td>2022502</td>\n",
       "        </tr>\n",
       "        <tr>\n",
       "            <td>3   </td> <td>2101272</td> <td>2048618</td>\n",
       "        </tr>\n",
       "        <tr>\n",
       "            <td>4   </td> <td>2084312</td> <td>2043498</td>\n",
       "        </tr>\n",
       "        <tr>\n",
       "            <td>5   </td> <td>2076573</td> <td>2043467</td>\n",
       "        </tr>\n",
       "        <tr>\n",
       "            <td>6   </td> <td>2079410</td> <td>2110328</td>\n",
       "        </tr>\n",
       "        <tr>\n",
       "            <td>7   </td> <td>2063139</td> <td>2122240</td>\n",
       "        </tr>\n",
       "        <tr>\n",
       "            <td>8   </td> <td>2054462</td> <td>2105122</td>\n",
       "        </tr>\n",
       "        <tr>\n",
       "            <td>9   </td> <td>2107037</td> <td>2097272</td>\n",
       "        </tr>\n",
       "    </tbody>\n",
       "</table>\n",
       "<p>... (91 rows omitted)</p>"
      ],
      "text/plain": [
       "AGE  | 2010    | 2014\n",
       "0    | 2018420 | 2017857\n",
       "1    | 2020332 | 2023253\n",
       "2    | 2088685 | 2022502\n",
       "3    | 2101272 | 2048618\n",
       "4    | 2084312 | 2043498\n",
       "5    | 2076573 | 2043467\n",
       "6    | 2079410 | 2110328\n",
       "7    | 2063139 | 2122240\n",
       "8    | 2054462 | 2105122\n",
       "9    | 2107037 | 2097272\n",
       "... (91 rows omitted)"
      ]
     },
     "execution_count": 106,
     "metadata": {},
     "output_type": "execute_result"
    }
   ],
   "source": [
    "males"
   ]
  },
  {
   "cell_type": "code",
   "execution_count": 107,
   "metadata": {},
   "outputs": [
    {
     "data": {
      "text/html": [
       "<table border=\"1\" class=\"dataframe\">\n",
       "    <thead>\n",
       "        <tr>\n",
       "            <th>Age</th> <th>Males</th> <th>Females</th>\n",
       "        </tr>\n",
       "    </thead>\n",
       "    <tbody>\n",
       "        <tr>\n",
       "            <td>0   </td> <td>2017857</td> <td>1930493</td>\n",
       "        </tr>\n",
       "        <tr>\n",
       "            <td>1   </td> <td>2023253</td> <td>1938870</td>\n",
       "        </tr>\n",
       "        <tr>\n",
       "            <td>2   </td> <td>2022502</td> <td>1935270</td>\n",
       "        </tr>\n",
       "        <tr>\n",
       "            <td>3   </td> <td>2048618</td> <td>1956572</td>\n",
       "        </tr>\n",
       "        <tr>\n",
       "            <td>4   </td> <td>2043498</td> <td>1959950</td>\n",
       "        </tr>\n",
       "        <tr>\n",
       "            <td>5   </td> <td>2043467</td> <td>1961391</td>\n",
       "        </tr>\n",
       "        <tr>\n",
       "            <td>6   </td> <td>2110328</td> <td>2024024</td>\n",
       "        </tr>\n",
       "        <tr>\n",
       "            <td>7   </td> <td>2122240</td> <td>2031760</td>\n",
       "        </tr>\n",
       "        <tr>\n",
       "            <td>8   </td> <td>2105122</td> <td>2014402</td>\n",
       "        </tr>\n",
       "        <tr>\n",
       "            <td>9   </td> <td>2097272</td> <td>2009560</td>\n",
       "        </tr>\n",
       "    </tbody>\n",
       "</table>\n",
       "<p>... (91 rows omitted)</p>"
      ],
      "text/plain": [
       "Age  | Males   | Females\n",
       "0    | 2017857 | 1930493\n",
       "1    | 2023253 | 1938870\n",
       "2    | 2022502 | 1935270\n",
       "3    | 2048618 | 1956572\n",
       "4    | 2043498 | 1959950\n",
       "5    | 2043467 | 1961391\n",
       "6    | 2110328 | 2024024\n",
       "7    | 2122240 | 2031760\n",
       "8    | 2105122 | 2014402\n",
       "9    | 2097272 | 2009560\n",
       "... (91 rows omitted)"
      ]
     },
     "execution_count": 107,
     "metadata": {},
     "output_type": "execute_result"
    }
   ],
   "source": [
    "# Make a new Table pop_2014 where the columns are:\n",
    "# Age\n",
    "# Males: number of males in 2014\n",
    "# Females: number of females in 2014\n",
    "pop_2014 = Table().with_columns(\n",
    "    'Age', males.column(\"AGE\"), #,\n",
    "    'Males', males.column(\"2014\"), #,,\n",
    "    'Females', females.column(\"2014\") #,\n",
    ")\n",
    "pop_2014"
   ]
  },
  {
   "cell_type": "code",
   "execution_count": 108,
   "metadata": {
    "scrolled": true
   },
   "outputs": [
    {
     "data": {
      "text/html": [
       "<table border=\"1\" class=\"dataframe\">\n",
       "    <thead>\n",
       "        <tr>\n",
       "            <th>Age</th> <th>Males</th> <th>Females</th>\n",
       "        </tr>\n",
       "    </thead>\n",
       "    <tbody>\n",
       "        <tr>\n",
       "            <td>100 </td> <td>13729 </td> <td>58468  </td>\n",
       "        </tr>\n",
       "        <tr>\n",
       "            <td>99  </td> <td>9037  </td> <td>32791  </td>\n",
       "        </tr>\n",
       "        <tr>\n",
       "            <td>98  </td> <td>13649 </td> <td>46536  </td>\n",
       "        </tr>\n",
       "        <tr>\n",
       "            <td>97  </td> <td>20479 </td> <td>63252  </td>\n",
       "        </tr>\n",
       "        <tr>\n",
       "            <td>96  </td> <td>31235 </td> <td>89949  </td>\n",
       "        </tr>\n",
       "        <tr>\n",
       "            <td>95  </td> <td>42824 </td> <td>114300 </td>\n",
       "        </tr>\n",
       "        <tr>\n",
       "            <td>94  </td> <td>62130 </td> <td>156525 </td>\n",
       "        </tr>\n",
       "        <tr>\n",
       "            <td>93  </td> <td>85980 </td> <td>200353 </td>\n",
       "        </tr>\n",
       "        <tr>\n",
       "            <td>92  </td> <td>109873</td> <td>244659 </td>\n",
       "        </tr>\n",
       "        <tr>\n",
       "            <td>91  </td> <td>138080</td> <td>288866 </td>\n",
       "        </tr>\n",
       "    </tbody>\n",
       "</table>\n",
       "<p>... (91 rows omitted)</p>"
      ],
      "text/plain": [
       "Age  | Males  | Females\n",
       "100  | 13729  | 58468\n",
       "99   | 9037   | 32791\n",
       "98   | 13649  | 46536\n",
       "97   | 20479  | 63252\n",
       "96   | 31235  | 89949\n",
       "95   | 42824  | 114300\n",
       "94   | 62130  | 156525\n",
       "93   | 85980  | 200353\n",
       "92   | 109873 | 244659\n",
       "91   | 138080 | 288866\n",
       "... (91 rows omitted)"
      ]
     },
     "execution_count": 108,
     "metadata": {},
     "output_type": "execute_result"
    }
   ],
   "source": [
    "pop_2014.sort(\"Age\", descending=True)"
   ]
  },
  {
   "cell_type": "code",
   "execution_count": 109,
   "metadata": {},
   "outputs": [
    {
     "data": {
      "image/png": "[encoded data removed]",
      "text/plain": [
       "<Figure size 432x432 with 1 Axes>"
      ]
     },
     "metadata": {},
     "output_type": "display_data"
    }
   ],
   "source": [
    "pop_2014.plot('Age')"
   ]
  },
  {
   "cell_type": "code",
   "execution_count": null,
   "metadata": {},
   "outputs": [],
   "source": [
    "# Calculate the percent female for each age\n",
    "total = pop_2014.column('Males') + pop_2014.column('Females')\n",
    "pct_female = pop_2014.column('Females') / total * 100\n",
    "pct_female"
   ]
  },
  {
   "cell_type": "code",
   "execution_count": null,
   "metadata": {},
   "outputs": [],
   "source": [
    "# Round it to 3 so that it's easier to read\n",
    "pct_female = np.round(pct_female, 3)\n",
    "pct_female"
   ]
  },
  {
   "cell_type": "code",
   "execution_count": null,
   "metadata": {},
   "outputs": [],
   "source": [
    "# Add female percent to our table.\n",
    "# Ad a column names percent female\n",
    "pop_2014 = ...\n",
    "pop_2014"
   ]
  },
  {
   "cell_type": "code",
   "execution_count": null,
   "metadata": {},
   "outputs": [],
   "source": [
    "pop_2014.plot('Age', 'Percent female')"
   ]
  },
  {
   "cell_type": "code",
   "execution_count": null,
   "metadata": {},
   "outputs": [],
   "source": [
    "# ^^ Look at the y-axis! Trend is not as dramatic as you might think\n",
    "pop_2014.plot('Age', 'Percent female')\n",
    "plots.ylim(0, 100);  # Optional for COMS1016"
   ]
  },
  {
   "cell_type": "markdown",
   "metadata": {},
   "source": [
    "## Scatter Plots ##"
   ]
  },
  {
   "cell_type": "code",
   "execution_count": null,
   "metadata": {},
   "outputs": [],
   "source": [
    "# Actors and their highest grossing movies\n",
    "# Read in the table called 'actors.csv'\n",
    "\n",
    "actors = ...\n",
    "actors"
   ]
  },
  {
   "cell_type": "code",
   "execution_count": null,
   "metadata": {},
   "outputs": [],
   "source": [
    "actors.scatter('Number of Movies', 'Total Gross')"
   ]
  },
  {
   "cell_type": "code",
   "execution_count": null,
   "metadata": {},
   "outputs": [],
   "source": [
    "actors.scatter('Number of Movies', 'Average per Movie')"
   ]
  },
  {
   "cell_type": "code",
   "execution_count": null,
   "metadata": {},
   "outputs": [],
   "source": [
    "actors.where('Average per Movie', are.above(400))"
   ]
  },
  {
   "cell_type": "markdown",
   "metadata": {},
   "source": [
    "## Bar Charts ##"
   ]
  },
  {
   "cell_type": "code",
   "execution_count": null,
   "metadata": {},
   "outputs": [],
   "source": [
    "# Highest grossing movies as of 2017\n",
    "# Read in table called 'top_movies_2017.csv'\n",
    "top_movies = ...\n",
    "top_movies"
   ]
  },
  {
   "cell_type": "code",
   "execution_count": null,
   "metadata": {},
   "outputs": [],
   "source": [
    "top10_adjusted = top_movies.take(np.arange(10))\n",
    "top10_adjusted"
   ]
  },
  {
   "cell_type": "code",
   "execution_count": null,
   "metadata": {},
   "outputs": [],
   "source": [
    "# Convert Gross (Adjusted) to millions of dollars for readability\n",
    "millions = ...\n",
    "top10_adjusted = top10_adjusted.with_column('Millions', millions)\n",
    "top10_adjusted"
   ]
  },
  {
   "cell_type": "code",
   "execution_count": null,
   "metadata": {},
   "outputs": [],
   "source": [
    "# A line plot doesn't make sense here: don't do this!\n",
    "top10_adjusted.plot('Year', 'Millions')\n",
    "\n",
    "# Why not?"
   ]
  },
  {
   "cell_type": "code",
   "execution_count": null,
   "metadata": {},
   "outputs": [],
   "source": [
    "top10_adjusted.barh('Title', 'Millions')"
   ]
  },
  {
   "cell_type": "code",
   "execution_count": null,
   "metadata": {},
   "outputs": [],
   "source": []
  }
 ],
 "metadata": {
  "kernelspec": {
   "display_name": "Python 3",
   "language": "python",
   "name": "python3"
  },
  "language_info": {
   "codemirror_mode": {
    "name": "ipython",
    "version": 3
   },
   "file_extension": ".py",
   "mimetype": "text/x-python",
   "name": "python",
   "nbconvert_exporter": "python",
   "pygments_lexer": "ipython3",
   "version": "3.8.8"
  }
 },
 "nbformat": 4,
 "nbformat_minor": 4
}
