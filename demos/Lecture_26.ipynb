{
 "cells": [
  {
   "cell_type": "code",
   "execution_count": null,
   "id": "uniform-dimension",
   "metadata": {},
   "outputs": [],
   "source": [
    "from datascience import *\n",
    "import numpy as np\n",
    "\n",
    "import matplotlib.pyplot as plots\n",
    "from mpl_toolkits.mplot3d import Axes3D\n",
    "plots.style.use('fivethirtyeight')\n",
    "%matplotlib inline"
   ]
  },
  {
   "cell_type": "code",
   "execution_count": null,
   "id": "hindu-switzerland",
   "metadata": {},
   "outputs": [],
   "source": [
    "ckd = Table.read_table('ckd.csv').relabeled('Blood Glucose Random', 'Glucose')\n",
    "ckd.show(3)"
   ]
  },
  {
   "cell_type": "markdown",
   "id": "acute-hardwood",
   "metadata": {},
   "source": [
    "## Randomization"
   ]
  },
  {
   "cell_type": "code",
   "execution_count": null,
   "id": "realistic-couple",
   "metadata": {},
   "outputs": [],
   "source": [
    "ckd.shuffle().show(3)"
   ]
  },
  {
   "cell_type": "markdown",
   "id": "absolute-episode",
   "metadata": {},
   "source": [
    "If we run the line above will we get the same three rows each time?\n",
    "\n",
    "*Lets try it*"
   ]
  },
  {
   "cell_type": "code",
   "execution_count": null,
   "id": "final-sunset",
   "metadata": {},
   "outputs": [],
   "source": [
    "# skip"
   ]
  },
  {
   "cell_type": "code",
   "execution_count": null,
   "id": "cloudy-pittsburgh",
   "metadata": {},
   "outputs": [],
   "source": [
    "# skip"
   ]
  },
  {
   "cell_type": "markdown",
   "id": "martial-vietnam",
   "metadata": {},
   "source": [
    "**Question:** Why might this be an issue for our final projects?"
   ]
  },
  {
   "cell_type": "code",
   "execution_count": null,
   "id": "single-timeline",
   "metadata": {},
   "outputs": [],
   "source": [
    "# skip"
   ]
  },
  {
   "cell_type": "code",
   "execution_count": null,
   "id": "fifteen-lunch",
   "metadata": {},
   "outputs": [],
   "source": [
    "# skip"
   ]
  },
  {
   "cell_type": "code",
   "execution_count": null,
   "id": "nervous-aircraft",
   "metadata": {},
   "outputs": [],
   "source": [
    "# skip"
   ]
  },
  {
   "cell_type": "code",
   "execution_count": null,
   "id": "ruled-lawyer",
   "metadata": {},
   "outputs": [],
   "source": [
    "# skip"
   ]
  },
  {
   "cell_type": "markdown",
   "id": "fitting-nomination",
   "metadata": {},
   "source": [
    "## Getting consistent random results"
   ]
  },
  {
   "cell_type": "code",
   "execution_count": null,
   "id": "cardiovascular-drinking",
   "metadata": {},
   "outputs": [],
   "source": [
    "import random"
   ]
  },
  {
   "cell_type": "code",
   "execution_count": null,
   "id": "occupational-hormone",
   "metadata": {},
   "outputs": [],
   "source": [
    "random.seed(123), np.random.seed(123)\n",
    "ckd = Table.read_table('ckd.csv').relabeled('Blood Glucose Random', 'Glucose')\n",
    "ckd.shuffle().show(3)"
   ]
  },
  {
   "cell_type": "code",
   "execution_count": null,
   "id": "bored-yukon",
   "metadata": {},
   "outputs": [],
   "source": [
    "ckd = Table.read_table('ckd.csv').relabeled('Blood Glucose Random', 'Glucose')\n",
    "ckd.shuffle().show(3)"
   ]
  },
  {
   "cell_type": "code",
   "execution_count": null,
   "id": "hollow-fishing",
   "metadata": {},
   "outputs": [],
   "source": []
  }
 ],
 "metadata": {
  "kernelspec": {
   "display_name": "Python 3",
   "language": "python",
   "name": "python3"
  },
  "language_info": {
   "codemirror_mode": {
    "name": "ipython",
    "version": 3
   },
   "file_extension": ".py",
   "mimetype": "text/x-python",
   "name": "python",
   "nbconvert_exporter": "python",
   "pygments_lexer": "ipython3",
   "version": "3.8.8"
  }
 },
 "nbformat": 4,
 "nbformat_minor": 5
}
