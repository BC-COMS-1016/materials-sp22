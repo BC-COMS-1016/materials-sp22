{
 "cells": [
  {
   "cell_type": "code",
   "execution_count": 2,
   "metadata": {},
   "outputs": [],
   "source": [
    "# modules for research report\n",
    "from datascience import *\n",
    "import numpy as np\n",
    "import random\n",
    "%matplotlib inline\n",
    "import matplotlib.pyplot as plots\n",
    "plots.style.use('fivethirtyeight')"
   ]
  },
  {
   "cell_type": "markdown",
   "metadata": {},
   "source": [
    "# 2016 Global Ecological Footprint\n",
    "\n",
    "This dataset was originally published on [Kaggle.com](https://www.kaggle.com/footprintnetwork/ecological-footprint). It has been\n",
    "cleaned for your convenience: all missing values have been removed, and low-quality observations and variables have been filtered\n",
    "out. A brief descriptive summary of the dataset, originally posted on the dataset's Kaggle landing page, is provided below.\n",
    "**You\n",
    "may not copy any public analyses of this dataset. Doing so will result in an automatic F in the course.**\n",
    "\n",
    "### Summary\n",
    "\n",
    "> The ecological footprint measures the ecological assets that a given population requires to produce the natural resources it\n",
    " consumes (including plant-based food and fiber products, livestock and fish products, timber and other forest products, space for\n",
    " urban infrastructure) and to absorb its waste, especially carbon emissions. The footprint tracks the use of six categories of\n",
    " productive surface areas: cropland, grazing land, fishing grounds, built-up (or urban) land, forest area, and carbon demand on land.\n",
    "\n",
    "> A nation’s biocapacity represents the productivity of its ecological assets, including cropland, grazing land, forest land, fishing\n",
    " grounds, and built-up land. These areas, especially if left unharvested, can also absorb much of the waste we generate, especially\n",
    " our carbon emissions.\n",
    " \n",
    "> Both the ecological footprint and biocapacity are expressed in global hectares — globally comparable, standardized hectares with\n",
    " world average productivity.\n",
    "\n",
    "> If a population’s ecological footprint exceeds the region’s biocapacity, that region runs an ecological deficit. Its demand for the\n",
    " goods and services that its land and seas can provide — fruits and vegetables, meat, fish, wood, cotton for clothing, and carbon dioxide\n",
    " absorption — exceeds what the region’s ecosystems can renew. A region in ecological deficit meets demand by importing, liquidating its\n",
    " own ecological assets (such as overfishing), and/or emitting carbon dioxide into the atmosphere. If a region’s biocapacity exceeds its\n",
    " ecological footprint, it has an ecological reserve.\n",
    " \n",
    "> The ecological footprint measure was conceived by Mathis Wackernagel and William Rees at the University of British Columbia. Ecological\n",
    " footprint data was provided by the Global Footprint Network.\n",
    " \n",
    "### Data Description\n",
    "\n",
    "This dataset consists of two tables stored in the `data` folder:\n",
    "1. `ecological-info` provides information on a countries' ecological footprint.\n",
    "2. `economic-info` contains a limited amount of economic and geographical data for all countries listed in `ecological-info`.\n",
    "\n",
    "A description of each table's variables is provided below:\n",
    "\n",
    "`ecological-info`:\n",
    "* `Country`: country name\n",
    "* `Grazing Footprint`: grazing footprint in standardized hectares\n",
    "* `Cropland Footprint`: cropland footprint in standardized hectares\n",
    "* `Forest Footprint`: forest footprint in standardized hectares\n",
    "* `Fish Footprint`: fishing footprint in standardized hectares\n",
    "* `Carbon Footprint`: carbon footprint in standardized hectares\n",
    "* `Total Ecological Footprint`: total ecological footprint, standardized\n",
    "* `Grazing Land`: grazing land in standardized hectares\n",
    "* `Cropland Land`: cropland land in standardized hectares\n",
    "* `Forest Land`: forest land standardized hectares\n",
    "* `Fishing Water`: fishing water in standardized hectares\n",
    "* `Urban Land`: urban land in standardized hectares\n",
    "* `Total Biocapacity`: total biocapacity in standardized hectares\n",
    "* `Biocapacity Deficit or Reserve`: difference between total biocapacity and total ecological footprint\n",
    "* `Earths Required`: The number of planet Earths required if the average human consumed as much the average citizen of this country\n",
    "\n",
    "`econ-info`:\n",
    "* `Country`: country name\n",
    "* `Region`: country region\n",
    "* `Continent`: continent where country is located\n",
    "* `Log Population (millions)`: log transformed population in millions (2016)\n",
    "* `HDI`: Human development index (HDI)\n",
    "* `HDI Rating`: Binarized HDI (\"High or Very High\": HDI > 0.7; \"Medium or Low\": HDI < 0.7)\n",
    "* `Log GDP per Capita`: log transformed gross domestic product per capita, in USD\n",
    "\n",
    "### Inspiration\n",
    "\n",
    "A variety of exploratory analyses, hypothesis tests, and predictions problems can tackled with this data. Here are a few ideas to get\n",
    "you started:\n",
    "1. Which regions' countries run the highet biocapacity deficits?\n",
    "2. Is there a relationship beteen a country's human development index and biocapacity?\n",
    "3. Is the average number of earths required by Western world significantly higher than the average required by the rest?\n",
    "4. Is there a clear relationship between a countries carbon footprint and its GDP per capita?\n",
    "\n",
    "If you'd like to read more on the topic of ecology, check out the following articles:\n",
    "1. [Climate change to slow global economic growth, new study finds](https://www.cnbc.com/2019/08/20/climate-change-to-slow-global-economic-growth-new-study-finds.html) by Thomas Frank, CNBC\n",
    "2. [What 1,000 CEOs really think about climate change and inequality](https://hbr.org/2019/09/what-1000-ceos-really-think-about-climate-change-and-inequality) by Andrew Winston\n",
    "3. [California just got bipartisan support to extend its cap and trade program to 2030](https://www.vox.com/energy-and-environment/2017/7/15/15955756/california-climate-brown-ab398-cap-and-trade) by Ruairí Arrieta-Kenna\n",
    "\n",
    "Don't forget to review the Final Project Guidelines *(will link when live)* for a complete list of requirements.\n",
    "\n",
    "### Loading the Data\n",
    "\n",
    "The tables are loaded in the code cells below. Take some time to explore them!"
   ]
  },
  {
   "cell_type": "code",
   "execution_count": 3,
   "metadata": {},
   "outputs": [
    {
     "data": {
      "text/html": [
       "<table border=\"1\" class=\"dataframe\">\n",
       "    <thead>\n",
       "        <tr>\n",
       "            <th>Country</th> <th>Region</th> <th>HDI</th> <th>Continent</th> <th>HDI Rating</th> <th>Log Population (millions)</th> <th>Log GDP per Capita</th>\n",
       "        </tr>\n",
       "    </thead>\n",
       "    <tbody>\n",
       "        <tr>\n",
       "            <td>Moldova     </td> <td>Northern/Eastern Europe </td> <td>0.68</td> <td>Europe   </td> <td>Medium or Low    </td> <td>1.25562                  </td> <td>7.58631           </td>\n",
       "        </tr>\n",
       "        <tr>\n",
       "            <td>Gabon       </td> <td>Africa                  </td> <td>0.67</td> <td>Africa   </td> <td>Medium or Low    </td> <td>0.48858                  </td> <td>9.39174           </td>\n",
       "        </tr>\n",
       "        <tr>\n",
       "            <td>Kyrgyzstan  </td> <td>Middle East/Central Asia</td> <td>0.65</td> <td>Asia     </td> <td>Medium or Low    </td> <td>1.69928                  </td> <td>7.01784           </td>\n",
       "        </tr>\n",
       "        <tr>\n",
       "            <td>Bangladesh  </td> <td>Asia-Pacific            </td> <td>0.56</td> <td>Asia     </td> <td>Medium or Low    </td> <td>5.04149                  </td> <td>6.75402           </td>\n",
       "        </tr>\n",
       "        <tr>\n",
       "            <td>Romania     </td> <td>European Union          </td> <td>0.79</td> <td>Europe   </td> <td>High or Very High</td> <td>3.08007                  </td> <td>9.12847           </td>\n",
       "        </tr>\n",
       "        <tr>\n",
       "            <td>Afghanistan </td> <td>Middle East/Central Asia</td> <td>0.46</td> <td>Asia     </td> <td>Medium or Low    </td> <td>3.39518                  </td> <td>6.42107           </td>\n",
       "        </tr>\n",
       "        <tr>\n",
       "            <td>Slovakia    </td> <td>European Union          </td> <td>0.84</td> <td>Europe   </td> <td>High or Very High</td> <td>1.69562                  </td> <td>9.80384           </td>\n",
       "        </tr>\n",
       "        <tr>\n",
       "            <td>Morocco     </td> <td>Africa                  </td> <td>0.62</td> <td>Africa   </td> <td>Medium or Low    </td> <td>3.48186                  </td> <td>8.05498           </td>\n",
       "        </tr>\n",
       "        <tr>\n",
       "            <td>South Africa</td> <td>Africa                  </td> <td>0.66</td> <td>Africa   </td> <td>Medium or Low    </td> <td>3.95872                  </td> <td>8.99837           </td>\n",
       "        </tr>\n",
       "        <tr>\n",
       "            <td>Lithuania   </td> <td>European Union          </td> <td>0.83</td> <td>Europe   </td> <td>High or Very High</td> <td>1.10856                  </td> <td>9.57316           </td>\n",
       "        </tr>\n",
       "    </tbody>\n",
       "</table>\n",
       "<p>... (90 rows omitted)</p>"
      ],
      "text/plain": [
       "Country      | Region                   | HDI  | Continent | HDI Rating        | Log Population (millions) | Log GDP per Capita\n",
       "Moldova      | Northern/Eastern Europe  | 0.68 | Europe    | Medium or Low     | 1.25562                   | 7.58631\n",
       "Gabon        | Africa                   | 0.67 | Africa    | Medium or Low     | 0.48858                   | 9.39174\n",
       "Kyrgyzstan   | Middle East/Central Asia | 0.65 | Asia      | Medium or Low     | 1.69928                   | 7.01784\n",
       "Bangladesh   | Asia-Pacific             | 0.56 | Asia      | Medium or Low     | 5.04149                   | 6.75402\n",
       "Romania      | European Union           | 0.79 | Europe    | High or Very High | 3.08007                   | 9.12847\n",
       "Afghanistan  | Middle East/Central Asia | 0.46 | Asia      | Medium or Low     | 3.39518                   | 6.42107\n",
       "Slovakia     | European Union           | 0.84 | Europe    | High or Very High | 1.69562                   | 9.80384\n",
       "Morocco      | Africa                   | 0.62 | Africa    | Medium or Low     | 3.48186                   | 8.05498\n",
       "South Africa | Africa                   | 0.66 | Africa    | Medium or Low     | 3.95872                   | 8.99837\n",
       "Lithuania    | European Union           | 0.83 | Europe    | High or Very High | 1.10856                   | 9.57316\n",
       "... (90 rows omitted)"
      ]
     },
     "execution_count": 3,
     "metadata": {},
     "output_type": "execute_result"
    }
   ],
   "source": [
    "# load the economic data\n",
    "economic_data = Table.read_table('data/economic-info')\n",
    "economic_data"
   ]
  },
  {
   "cell_type": "code",
   "execution_count": 4,
   "metadata": {},
   "outputs": [
    {
     "data": {
      "text/html": [
       "<table border=\"1\" class=\"dataframe\">\n",
       "    <thead>\n",
       "        <tr>\n",
       "            <th>Country</th> <th>Cropland Footprint</th> <th>Grazing Footprint</th> <th>Forest Footprint</th> <th>Carbon Footprint</th> <th>Fish Footprint</th> <th>Total Ecological Footprint</th> <th>Cropland</th> <th>Grazing Land</th> <th>Forest Land</th> <th>Fishing Water</th> <th>Urban Land</th> <th>Total Biocapacity</th> <th>Biocapacity Deficit or Reserve</th> <th>Earths Required</th>\n",
       "        </tr>\n",
       "    </thead>\n",
       "    <tbody>\n",
       "        <tr>\n",
       "            <td>Moldova     </td> <td>0.43              </td> <td>0.08             </td> <td>0.15            </td> <td>1.03            </td> <td>0.06          </td> <td>1.78                      </td> <td>0.59    </td> <td>0.07        </td> <td>0.1        </td> <td>0.01         </td> <td>0.03      </td> <td>0.8              </td> <td>-0.98                         </td> <td>1.03           </td>\n",
       "        </tr>\n",
       "        <tr>\n",
       "            <td>Gabon       </td> <td>0.53              </td> <td>0.13             </td> <td>0.79            </td> <td>0.43            </td> <td>0.11          </td> <td>2.02                      </td> <td>0.25    </td> <td>3.6         </td> <td>19.5       </td> <td>2.93         </td> <td>0.03      </td> <td>26.31            </td> <td>24.29                         </td> <td>1.16           </td>\n",
       "        </tr>\n",
       "        <tr>\n",
       "            <td>Kyrgyzstan  </td> <td>0.59              </td> <td>0.18             </td> <td>0.09            </td> <td>0.95            </td> <td>0.01          </td> <td>1.91                      </td> <td>0.47    </td> <td>0.63        </td> <td>0.06       </td> <td>0.05         </td> <td>0.08      </td> <td>1.3              </td> <td>-0.61                         </td> <td>1.1            </td>\n",
       "        </tr>\n",
       "        <tr>\n",
       "            <td>Bangladesh  </td> <td>0.29              </td> <td>0                </td> <td>0.08            </td> <td>0.26            </td> <td>0.02          </td> <td>0.72                      </td> <td>0.25    </td> <td>0           </td> <td>0          </td> <td>0.05         </td> <td>0.07      </td> <td>0.38             </td> <td>-0.35                         </td> <td>0.42           </td>\n",
       "        </tr>\n",
       "        <tr>\n",
       "            <td>Romania     </td> <td>0.72              </td> <td>0.05             </td> <td>0.33            </td> <td>1.46            </td> <td>0.03          </td> <td>2.71                      </td> <td>0.87    </td> <td>0.11        </td> <td>1.14       </td> <td>0.08         </td> <td>0.12      </td> <td>2.32             </td> <td>-0.39                         </td> <td>1.56           </td>\n",
       "        </tr>\n",
       "        <tr>\n",
       "            <td>Afghanistan </td> <td>0.3               </td> <td>0.2              </td> <td>0.08            </td> <td>0.18            </td> <td>0             </td> <td>0.79                      </td> <td>0.24    </td> <td>0.2         </td> <td>0.02       </td> <td>0            </td> <td>0.04      </td> <td>0.5              </td> <td>-0.3                          </td> <td>0.46           </td>\n",
       "        </tr>\n",
       "        <tr>\n",
       "            <td>Slovakia    </td> <td>0.31              </td> <td>0.08             </td> <td>0.72            </td> <td>2.82            </td> <td>0.03          </td> <td>4.06                      </td> <td>0.71    </td> <td>0.06        </td> <td>1.85       </td> <td>0            </td> <td>0.09      </td> <td>2.71             </td> <td>-1.35                         </td> <td>2.35           </td>\n",
       "        </tr>\n",
       "        <tr>\n",
       "            <td>Morocco     </td> <td>0.6               </td> <td>0.17             </td> <td>0.14            </td> <td>0.67            </td> <td>0.06          </td> <td>1.68                      </td> <td>0.34    </td> <td>0.17        </td> <td>0.1        </td> <td>0.07         </td> <td>0.03      </td> <td>0.71             </td> <td>-0.96                         </td> <td>0.97           </td>\n",
       "        </tr>\n",
       "        <tr>\n",
       "            <td>South Africa</td> <td>0.44              </td> <td>0.11             </td> <td>0.29            </td> <td>2.34            </td> <td>0.08          </td> <td>3.31                      </td> <td>0.35    </td> <td>0.58        </td> <td>0.02       </td> <td>0.17         </td> <td>0.04      </td> <td>1.15             </td> <td>-2.16                         </td> <td>1.91           </td>\n",
       "        </tr>\n",
       "        <tr>\n",
       "            <td>Lithuania   </td> <td>1.89              </td> <td>0.21             </td> <td>1.28            </td> <td>2.15            </td> <td>0.16          </td> <td>5.83                      </td> <td>3.03    </td> <td>0.11        </td> <td>2.09       </td> <td>0.3          </td> <td>0.15      </td> <td>5.67             </td> <td>-0.17                         </td> <td>3.37           </td>\n",
       "        </tr>\n",
       "    </tbody>\n",
       "</table>\n",
       "<p>... (90 rows omitted)</p>"
      ],
      "text/plain": [
       "Country      | Cropland Footprint | Grazing Footprint | Forest Footprint | Carbon Footprint | Fish Footprint | Total Ecological Footprint | Cropland | Grazing Land | Forest Land | Fishing Water | Urban Land | Total Biocapacity | Biocapacity Deficit or Reserve | Earths Required\n",
       "Moldova      | 0.43               | 0.08              | 0.15             | 1.03             | 0.06           | 1.78                       | 0.59     | 0.07         | 0.1         | 0.01          | 0.03       | 0.8               | -0.98                          | 1.03\n",
       "Gabon        | 0.53               | 0.13              | 0.79             | 0.43             | 0.11           | 2.02                       | 0.25     | 3.6          | 19.5        | 2.93          | 0.03       | 26.31             | 24.29                          | 1.16\n",
       "Kyrgyzstan   | 0.59               | 0.18              | 0.09             | 0.95             | 0.01           | 1.91                       | 0.47     | 0.63         | 0.06        | 0.05          | 0.08       | 1.3               | -0.61                          | 1.1\n",
       "Bangladesh   | 0.29               | 0                 | 0.08             | 0.26             | 0.02           | 0.72                       | 0.25     | 0            | 0           | 0.05          | 0.07       | 0.38              | -0.35                          | 0.42\n",
       "Romania      | 0.72               | 0.05              | 0.33             | 1.46             | 0.03           | 2.71                       | 0.87     | 0.11         | 1.14        | 0.08          | 0.12       | 2.32              | -0.39                          | 1.56\n",
       "Afghanistan  | 0.3                | 0.2               | 0.08             | 0.18             | 0              | 0.79                       | 0.24     | 0.2          | 0.02        | 0             | 0.04       | 0.5               | -0.3                           | 0.46\n",
       "Slovakia     | 0.31               | 0.08              | 0.72             | 2.82             | 0.03           | 4.06                       | 0.71     | 0.06         | 1.85        | 0             | 0.09       | 2.71              | -1.35                          | 2.35\n",
       "Morocco      | 0.6                | 0.17              | 0.14             | 0.67             | 0.06           | 1.68                       | 0.34     | 0.17         | 0.1         | 0.07          | 0.03       | 0.71              | -0.96                          | 0.97\n",
       "South Africa | 0.44               | 0.11              | 0.29             | 2.34             | 0.08           | 3.31                       | 0.35     | 0.58         | 0.02        | 0.17          | 0.04       | 1.15              | -2.16                          | 1.91\n",
       "Lithuania    | 1.89               | 0.21              | 1.28             | 2.15             | 0.16           | 5.83                       | 3.03     | 0.11         | 2.09        | 0.3           | 0.15       | 5.67              | -0.17                          | 3.37\n",
       "... (90 rows omitted)"
      ]
     },
     "execution_count": 4,
     "metadata": {},
     "output_type": "execute_result"
    }
   ],
   "source": [
    "# load the ecological data\n",
    "ecological_data  = Table.read_table('data/ecological-info')\n",
    "ecological_data"
   ]
  },
  {
   "cell_type": "markdown",
   "metadata": {},
   "source": [
    "## Introduction"
   ]
  },
  {
   "cell_type": "markdown",
   "metadata": {},
   "source": [
    "We have analyzed the 2016 Global Ecological Footprint Data for our final project. This dataset, which provides ecological information on a\n",
    "random sample of 100 countries from across the world, was originally published on Kaggle.com, and was provided by The Global Footprint\n",
    "Network. The dataset is divided into two tables: `ecological-info` and `economic-info`.\n",
    "\n",
    "The `ecological-info` table provides information on each countries ecological footprint and biocapacity. A country's ecological footprint\n",
    "measures the ecological resources that its population requires to maintain its consumption levels. For example, it is impacted by livestock\n",
    "and fish consumption, agricultural activities, and CO2 emissions. On the other hand, a nation's biocapacity quantifies the productivity\n",
    "of its ecological assets. These assets include cropland, grazing land, fishing grounds, etc. By comparing and contrasting a country's\n",
    "ecological footprint and biocapacity, we can evaluate whether it is \"living above its means\". That is, whether a country can meet\n",
    "its population's consumption requirements given its natural resources. The `ecological-info` table therefore contains variables detailing\n",
    "each country's ecological footprint and biocapacity in terms of a variety of sectors, like croplands and forests. These values are \n",
    "standardized, and expressed in global hectares.  It also contains variables describing the countries' consumption levels. In particular,\n",
    "the 'Earths Required' feature indicates the number of planet Earths that would be required if every human being consumed as much as the\n",
    "average person from a particular country. This table also contains the 'Biocapacity Deficit or Reserve' variable, describing whether\n",
    "a countries natural resource needs are met by its biocapacity.\n",
    "\n",
    "The other table contained in this dataset, `economic-info`, provides relevant economic and geographic information on each country in\n",
    "the `ecological-info` table. In particular, it provides these countries populations (in log-millions), their Human Development Index,\n",
    "and their log-GDP per Capita in USD."
   ]
  },
  {
   "cell_type": "markdown",
   "metadata": {},
   "source": [
    "## Hypothesis Testing and Prediction Questions\n",
    "\n",
    "*Please bold your hypothesis testing and prediction questions.*"
   ]
  },
  {
   "cell_type": "markdown",
   "metadata": {},
   "source": [
    "By combining the information contained in both tables of this dataset, we may study the relationships between the ecological, economic,\n",
    "and geographic characteristics of countries from across the world. We are interested in identifying the factors that may be\n",
    "associated a country's ecological footprint.\n",
    "\n",
    "**In particular, we are interested in determining whether the average number of Earths that required would be required to satisfy the\n",
    "consumption levels among countries with 'High' and 'Very High' levels on the HDI index scale is significantly different from that of\n",
    "countries with 'Medium' or 'Low' levels on the HDI scale.** For this hypothesis testing question, the null hypothesis is that there is no\n",
    "relationship between these two variables. Our alternative hypothesis is that countries with higher HDI scores also possess populations\n",
    "that over-consume the planet's natural resources.\n",
    "\n",
    "**Relatedly, we wish to determine whether a country's 'Log GDP per Capita' can be used to predict its 'Biocapacity Deficit or Reserve'.**\n",
    "We employ a linear regression model to accomplish this task, and determine whether there is a linear association between these two\n",
    "variables."
   ]
  },
  {
   "cell_type": "markdown",
   "metadata": {},
   "source": [
    "## Exploratory Data Analysis"
   ]
  },
  {
   "cell_type": "markdown",
   "metadata": {},
   "source": [
    "Next, we explore the 2016 Ecological Footprint Data for interesting patterns related to our hypothesis testing and prediction questions."
   ]
  },
  {
   "cell_type": "markdown",
   "metadata": {},
   "source": [
    "**Table Requiring a Join Operation:**\n",
    "\n",
    "First, we join the data in `ecological-info` and `economic-info` to create the `full_data` table. We then use this new table to\n",
    "investigate whether our instinct regarding the association between a country's HDI score and the number of Earths required if\n",
    "all humans consumed at the rate of its average citizen seems correct. Indeed, this is the case among our randomly sampled countries.\n",
    "We will determine whether this difference is significant in the *Hypothesis Testing* Section."
   ]
  },
  {
   "cell_type": "code",
   "execution_count": null,
   "metadata": {},
   "outputs": [],
   "source": [
    "# join the tables\n",
    "full_data = ecological_data.join('Country', economic_data)\n",
    "\n",
    "# create the desired table\n",
    "mean_earths_required = full_data.select('HDI Rating', 'Earths Required').group('HDI Rating', np.average)\n",
    "mean_earths_required.relabel('Earths Required average', 'Average Earths Required')"
   ]
  },
  {
   "cell_type": "markdown",
   "metadata": {},
   "source": [
    "**Aggregated Data Table:**\n",
    "\n",
    "Because we will perform an A/B test to answer our hypothesis question, we must verify that there are a similar number of countries with low\n",
    "and high HDI ratings. Otherwise, the results of our testing procedure might not be valid. Thus, we generate a pivot table of summarizing the\n",
    "countries HDI Ratings and geographic location. Although not directly related to our hypothesis testing question, the inclusion of geographic\n",
    "information in this exploratory analysis might provide additional insight into potential biases when it comes time to interpret the\n",
    "results of our test.\n",
    "\n",
    "The resulting table's values indicate that there a roughly equal number of countries in each 'HDI Rating' category. However, these countries\n",
    "are not evenly split within each continent."
   ]
  },
  {
   "cell_type": "code",
   "execution_count": null,
   "metadata": {},
   "outputs": [],
   "source": [
    "economic_data.pivot('HDI Rating', 'Continent')"
   ]
  },
  {
   "cell_type": "markdown",
   "metadata": {},
   "source": [
    "**Quantitative Plot:** \n",
    "\n",
    "Next, we explore the data related to our prediction problem. We therefore create a scatter plot to illustrate the relationship between\n",
    "the countries' average wealth and its trade-off between ecological production and consumption. Based on this visualization, there doesn't\n",
    "appear to be a strong linear association between our posited explanatory variable, 'Log GDP per Capita', and the predictor,\n",
    "'Biocapacity Deficit or Reserve'. Our linear model is unlikely to perform well."
   ]
  },
  {
   "cell_type": "code",
   "execution_count": null,
   "metadata": {},
   "outputs": [],
   "source": [
    "full_data.scatter('Log GDP per Capita', 'Biocapacity Deficit or Reserve')\n",
    "plots.title('Relationship between Biocapacity Deficit \\nor Reserves and Log GDP per Capita');"
   ]
  },
  {
   "cell_type": "markdown",
   "metadata": {},
   "source": [
    "**Qualitative Plot:**\n",
    "\n",
    "Before beginning our statistical analyses, we should make sure that the randomly sampled countries are an accurate representation\n",
    "of the world's countries. We verify this by counting the number of countries from each continent. Because this is random sample, we\n",
    "expect the proportions of countries from each continent in our sample to be similar to the true proportion of countries per continent.\n",
    "Based on the generated bar plot, this doesn't appear to be the case: there are no countries from the Australian continent in our\n",
    "sample. We will take this issue into account when interpreting the results of our hypothesis testing and prediction\n",
    "procedures."
   ]
  },
  {
   "cell_type": "code",
   "execution_count": null,
   "metadata": {},
   "outputs": [],
   "source": [
    "economic_data.group('Continent').barh('Continent')\n",
    "plots.title(\"Distribution of Countries' Across Continents\");"
   ]
  },
  {
   "cell_type": "markdown",
   "metadata": {},
   "source": [
    "## Hypothesis Testing"
   ]
  },
  {
   "cell_type": "markdown",
   "metadata": {},
   "source": [
    "Next, we perform a hypothesis testing procedure to determine whether there is an association between a country's HDI classification\n",
    "and the number of Earths required to satisfy the natural resource needs of the world population if everyone consumed as much as\n",
    "the country's average citizen. The null hypothesis is that there is no such association, and our alternative hypothesis is\n",
    "that countries with an HDI classification of 'High or Very High' possess a population that consumes more natural resources, on\n",
    "average, than countries with a lower HDI classification.\n",
    "\n",
    "This testing procedure corresponds to an A/B test. Our test statistic will be the difference in average Earths required between\n",
    "countries with 'High or Very High' and 'Medium or Low' HDI ratings. Larger values of the test statistic will favor the alternative\n",
    "hypothesis. We employ a significance cutoff of 5%.\n",
    "\n",
    "*Do not copy code from demo notebooks or homeworks! You may split portions of your code into distinct cells.*"
   ]
  },
  {
   "cell_type": "code",
   "execution_count": null,
   "metadata": {},
   "outputs": [],
   "source": [
    "# set the random seed so that results are reproducible\n",
    "random.seed(1231)\n",
    "\n",
    "# the following function computes the test statistic for a given sample\n",
    "def difference_of_means(table, label, group_label):\n",
    "    \"\"\"Takes: name of table, column label of numerical variable,\n",
    "    column label of group-label variable\n",
    "    Returns: Difference of means of the two groups\"\"\"\n",
    "    \n",
    "    #table with the two relevant columns\n",
    "    reduced = table.select(label, group_label)  \n",
    "    \n",
    "    # table containing group means\n",
    "    means_table = reduced.group(group_label, np.average)\n",
    "    # array of group means\n",
    "    means = means_table.column(1)\n",
    "    \n",
    "    return means.item(0) - means.item(1)\n",
    "\n",
    "# we use the above function to compute the observed test statistic\n",
    "observed_test_stat = difference_of_means(full_data, 'Earths Required', 'HDI Rating')\n",
    "\n",
    "\n",
    "# we define a function to permute the HDI rating labels\n",
    "def one_simulated_difference(table, label, group_label):\n",
    "    \"\"\"Takes: name of table, column label of numerical variable,\n",
    "    column label of group-label variable\n",
    "    Returns: Difference of means of the two groups after shuffling labels\"\"\"\n",
    "    \n",
    "    # array of shuffled labels\n",
    "    shuffled_labels = table.sample(with_replacement = False).column(group_label)\n",
    "    \n",
    "    # table of numerical variable and shuffled labels\n",
    "    shuffled_table = table.select(label).with_column(\n",
    "        'Shuffled Label', shuffled_labels\n",
    "    )\n",
    "    \n",
    "    return difference_of_means(shuffled_table, label, 'Shuffled Label')\n",
    "\n",
    "\n",
    "# we now perform the A/B testing procedure by simulating the test statistic's distribution under the null\n",
    "repititons = 1000\n",
    "differences  = make_array()\n",
    "\n",
    "for i in np.arange(repititons):\n",
    "    new_difference = one_simulated_difference(full_data, 'Earths Required', 'HDI Rating')\n",
    "    differences = np.append(differences, new_difference)\n",
    "\n",
    "# finally, we visualize our results, and then compute the p-value\n",
    "Table().with_column('Difference of Mean Earths Required', differences).hist()\n",
    "plots.title('Distribution Difference of Mean Earths Required between \\n High and Low HDI Countries Under the Null');"
   ]
  },
  {
   "cell_type": "code",
   "execution_count": null,
   "metadata": {},
   "outputs": [],
   "source": [
    "p_value = np.count_nonzero(observed_test_stat <= differences) / repititons\n",
    "p_value"
   ]
  },
  {
   "cell_type": "markdown",
   "metadata": {},
   "source": [
    "Given that our observed test statistic is equal to about 1.9, we have ample evidence that the countries ranked higher on the\n",
    "HDI scale tend to have populations that consume more natural resources, on average, than countries with lower HDI values.\n",
    "That is, our data is inconsistent with the null hypothesis. However, since there aren't any countries from the Australian\n",
    "continent, it is not clear whether these results hold for all the world's countries."
   ]
  },
  {
   "cell_type": "markdown",
   "metadata": {},
   "source": [
    "## Prediction"
   ]
  },
  {
   "cell_type": "markdown",
   "metadata": {},
   "source": [
    "Next, we'll fit a linear regression to our ecological footprint data to determine if countries' 'Biocapacity Deficit or\n",
    "Reserve' can be accurately predicted based on their 'Log GDP per Capita'. First, we fit the linear regression model\n",
    "using the methods taught in class, and then we evaluate whether our model accurately reflects reality by studying our\n",
    "prediction's residuals. Given the results of our exploratory data analysis, we do not expect the linear regression to perform\n",
    "well: the two variables under study aren't highly correlated."
   ]
  },
  {
   "cell_type": "code",
   "execution_count": null,
   "metadata": {},
   "outputs": [],
   "source": [
    "# define the functions needed to fit the linear regression\n",
    "def standard_units(array_of_num):\n",
    "    \"\"\"Converts a numeric array to standard units.\"\"\"\n",
    "    standardized_array = (array_of_num - np.mean(array_of_num)) / np.std(array_of_num)\n",
    "    return standardized_array\n",
    "\n",
    "def correlation(tbl, var1, var2):\n",
    "    \"\"\"Computes the correlation coefficient of two variables\"\"\"\n",
    "    r = np.mean(standard_units(tbl.column(var1)) * standard_units(tbl.column(var2)))\n",
    "    return r\n",
    "\n",
    "def slope(tbl, x, y):\n",
    "    \"\"\"Compute the slope of the regression line. x is the independent variable, y the depenent variable.\"\"\"\n",
    "    r = correlation(tbl, x, y)\n",
    "    m = r * np.std(tbl.column(y)) / np.std(tbl.column(x))\n",
    "    return m\n",
    "\n",
    "def intercept(tbl, x, y):\n",
    "    \"\"\"Compute the intercept of the regression line. x is the independent variable, y the depenent variable.\"\"\"\n",
    "    b = np.mean(tbl.column(y)) - slope(tbl, x, y) * np.mean(tbl.column(x))\n",
    "    return b\n",
    "\n",
    "def linear_fit(tbl, x, y):\n",
    "    m = slope(tbl, x, y)\n",
    "    b = intercept(tbl, x, y)\n",
    "    return m * tbl.column(x) + b\n",
    "\n",
    "correlation(full_data, 'Log GDP per Capita', 'Biocapacity Deficit or Reserve')"
   ]
  },
  {
   "cell_type": "code",
   "execution_count": null,
   "metadata": {},
   "outputs": [],
   "source": [
    "# fit the linear regression, store results in table\n",
    "linear_regression_results = Table().with_columns(\n",
    "    'Log GDP per Capita', full_data.column('Log GDP per Capita'),\n",
    "    'Biocapacity Deficit or Reserve', full_data.column('Biocapacity Deficit or Reserve'),\n",
    "    'Fitted Values', linear_fit(full_data, 'Log GDP per Capita', 'Biocapacity Deficit or Reserve')\n",
    ")\n",
    "\n",
    "# plot the fitted results agains the true Biocapacity Deficit and Rerserves\n",
    "linear_regression_results.scatter('Log GDP per Capita')"
   ]
  },
  {
   "cell_type": "code",
   "execution_count": null,
   "metadata": {},
   "outputs": [],
   "source": [
    "# compute the residuals of our linear regression model\n",
    "linear_regression_results = linear_regression_results.with_column(\n",
    "    'Residuals', linear_regression_results.column(1) - linear_regression_results.column(2)\n",
    ")\n",
    "linear_regression_results.scatter('Log GDP per Capita', 'Residuals')"
   ]
  },
  {
   "cell_type": "markdown",
   "metadata": {},
   "source": [
    "As we suspected, the linear relationship between Log GDP per Capita and Biocapacity Deficit or Reserve is very weak, and so\n",
    "our linear model performs quite poorly. These variables are very weakly, negatively correlated (r = -0.223). Further, the\n",
    "scatter plots of the fitted values and of the residuals illustrate the non-linear relationship between these two variables.\n",
    "As the log GDP per capita of the countries in our sample increase, the values of Biocapacity Deficit or Reserve begin to fluctuate\n",
    "erratically about zero. A more complex model is needed to accurately explain the variation in a countries Biocapacity Reserve\n",
    "or Deficit."
   ]
  },
  {
   "cell_type": "markdown",
   "metadata": {},
   "source": [
    "## Conclusion"
   ]
  },
  {
   "cell_type": "markdown",
   "metadata": {},
   "source": [
    "In this research report, we attempted to identify the ecological and economic factors associated with a country's ecological\n",
    "footprint. Using an A/B testing procedure, we showed that countries' HDI measures are associated with their populations'\n",
    "natural resource consumption levels. On average, the citizens of country's who have a 'High or Very High' rating on the HDI scale\n",
    "consume more than citizens from countries with lower HDI values. We also attempted to explain the variation of a country's\n",
    "biocapacity deficity or reserve through a linear relationship with its GDP. However, we found that this model to be overly\n",
    "simplistic; these two variables do not have a linear relationship. A more complex model is required to explain the variation in\n",
    "a nation's biocapacity deficit or reserve.\n",
    "\n",
    "Although we were provided a clean dataset, we noticed during our exploratory data analysis that countries from the Australian\n",
    "continent were excluded from the sample. If this were not due to chance alone, than their lack of representation in our data\n",
    "could severely bias our findings. To remedy this issue, we suggest collecting a new dataset in which these countries are\n",
    "included, and re-running the analyses in this notebook"
   ]
  }
 ],
 "metadata": {
  "kernelspec": {
   "display_name": "Python 3",
   "language": "python",
   "name": "python3"
  },
  "language_info": {
   "codemirror_mode": {
    "name": "ipython",
    "version": 3
   },
   "file_extension": ".py",
   "mimetype": "text/x-python",
   "name": "python",
   "nbconvert_exporter": "python",
   "pygments_lexer": "ipython3",
   "version": "3.8.8"
  }
 },
 "nbformat": 4,
 "nbformat_minor": 4
}
